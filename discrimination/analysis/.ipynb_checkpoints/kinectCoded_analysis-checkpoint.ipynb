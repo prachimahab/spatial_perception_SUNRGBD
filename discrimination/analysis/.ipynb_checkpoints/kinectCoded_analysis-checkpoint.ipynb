{
 "cells": [
  {
   "cell_type": "code",
   "execution_count": 3,
   "metadata": {},
   "outputs": [],
   "source": [
    "import os \n",
    "import pandas as pd\n",
    "import numpy as np\n",
    "import math\n",
    "import matplotlib.pyplot as plt\n",
    "import scipy \n",
    "import scipy.stats as stats\n",
    "from scipy.stats import sem \n",
    "from mpl_toolkits.mplot3d import Axes3D # <--- This is important for 3d plotting \n",
    "from sklearn.linear_model import LinearRegression"
   ]
  },
  {
   "cell_type": "code",
   "execution_count": 6,
   "metadata": {},
   "outputs": [],
   "source": [
    "_dir = '/Users/prachimahableshwarkar/Documents/GW/Depth_MTurk/depth_discrimination'\n",
    "# _dir = '/Users/pmahableshwarkar/Documents/Depth_Project/depth_discrimination'\n",
    "# raw_dir = _dir + '/data/finalVEMatched/raw/'\n",
    "zs_dir = _dir + '/data/finalDiscrimMatched/z_scored_RT/'\n",
    "\n",
    "# final_data = pd.read_csv (raw_dir + '/raw_discrim.csv')\n",
    "zscored_data = pd.read_csv (zs_dir + 'final_discrim.csv')"
   ]
  },
  {
   "cell_type": "code",
   "execution_count": 7,
   "metadata": {},
   "outputs": [
    {
     "data": {
      "text/plain": [
       "Index(['Unnamed: 0', 'subjID', 'workerId', 'experimentName', 'versionName',\n",
       "       'sequenceName', 'url', 'selected_row', 'windowWidth', 'windowHeight',\n",
       "       'screenWidth', 'screenHeight', 'startDate', 'z_scored_RT', 'cleaned_RT',\n",
       "       'startTime', 'trial', 'stimulus_0', 'stimulus_1', 'depth_difference',\n",
       "       'kinect_answer', 'duration', 'actual_depth_0', 'actual_depth_1',\n",
       "       'discrim_choice', 'trial_RT', 'log_fixation', 'log_sceneDuration1',\n",
       "       'log_mask1', 'log_sceneDuration2', 'log_mask2', 'experimentTime',\n",
       "       'totalTime', 'age', 'gender'],\n",
       "      dtype='object')"
      ]
     },
     "execution_count": 7,
     "metadata": {},
     "output_type": "execute_result"
    }
   ],
   "source": [
    "zscored_data.columns"
   ]
  },
  {
   "cell_type": "code",
   "execution_count": 8,
   "metadata": {},
   "outputs": [],
   "source": [
    "def get_RT(df):\n",
    "    \"\"\"\n",
    "    args:\n",
    "        df  \n",
    "    returns:\n",
    "        array of RTs, avg RT and std   \n",
    "    \"\"\"\n",
    "    list_RTs = []\n",
    "    for idx, row in df.iterrows():   \n",
    "        stimulus_duration = row['log_sceneDuration2']\n",
    "        RT = row[\"trial_RT\"] - stimulus_duration\n",
    "        list_RTs.append(RT)\n",
    "    \n",
    "    if len(list_RTs) < 2:\n",
    "        return list_RTs\n",
    "    else:\n",
    "        list_RTs = np.array(list_RTs)\n",
    "        return list_RTs, np.mean(list_RTs) ,np.std(list_RTs), stats.sem(list_RTs)\n",
    "    \n",
    "    \n",
    "def get_zsRT(df):\n",
    "    \"\"\"\n",
    "    args:\n",
    "        df  \n",
    "    returns:\n",
    "        array of RTs, avg RT and std   \n",
    "    \"\"\"\n",
    "    list_zsRTs = []\n",
    "    for idx, row in df.iterrows():   \n",
    "        zsRT = row[\"z_scored_RT\"]\n",
    "        list_zsRTs.append(zsRT)\n",
    "    \n",
    "    list_zsRTs = np.array(list_zsRTs)\n",
    "    return list_zsRTs, np.mean(list_zsRTs) ,np.std(list_zsRTs), stats.sem(list_zsRTs)\n",
    "    \n",
    "def get_accuracy(df):\n",
    "    \"\"\"\n",
    "    args:\n",
    "        df  \n",
    "    returns:\n",
    "        proportion of correct responses, count of correct responses, count of total trials  \n",
    "    \"\"\"\n",
    "    count_correct = 0\n",
    "    count_incorrect = 0\n",
    "    count_total = 0\n",
    "    count_missed = 0\n",
    "    for idx, row in df.iterrows():\n",
    "        choice = row[\"discrim_choice\"]\n",
    "        if choice == 2.0:\n",
    "            count_missed += 1\n",
    "        else:    \n",
    "            count_total += 1\n",
    "            depth0 = row[\"actual_depth_0\"]\n",
    "            depth1 = row[\"actual_depth_1\"]\n",
    "            if depth0 < depth1:\n",
    "                correct_choice = 0\n",
    "            if depth0 > depth1:\n",
    "                correct_choice = 1\n",
    "            if depth0 == depth1:\n",
    "                # case where depths are equal \n",
    "                correct_choice = None\n",
    "            if choice == correct_choice:\n",
    "                count_correct += 1\n",
    "    if count_total == 0:\n",
    "        return count_correct\n",
    "    else:\n",
    "#         standardError = (0.5*(1-0.5))/count_total\n",
    "        p = count_correct/count_total\n",
    "        standardError = np.sqrt((p*(1-p))/count_total)\n",
    "    \n",
    "\n",
    "    return count_correct/count_total, count_correct, count_total, count_missed, standardError"
   ]
  },
  {
   "cell_type": "code",
   "execution_count": null,
   "metadata": {},
   "outputs": [],
   "source": []
  },
  {
   "cell_type": "code",
   "execution_count": 9,
   "metadata": {},
   "outputs": [],
   "source": [
    "def individual_discrimination_stats(df):\n",
    "    '''\n",
    "    Individual discrimination performance and RT \n",
    "    '''\n",
    "    all_stim0 = [elem for elem in df.stimulus_0.unique() if type(elem) == str]\n",
    "\n",
    "    stimuli_stats = {}\n",
    "    for stim0 in all_stim0:\n",
    "        stim0_df = df.loc[df['stimulus_0'] == stim0]\n",
    "        other_stim = stim0_df.stimulus_1.unique()[0]\n",
    "        stim1_df = df.loc[df['stimulus_1'] == stim0]\n",
    "        # df for a specific discrimination trial (collapsed on stim presentation order)\n",
    "        stim_df = pd.concat([stim0_df, stim1_df], ignore_index=True)\n",
    "        stim_125_df = stim_df[stim_df['duration'] == 125.0]\n",
    "        stim_250_df = stim_df[stim_df['duration'] == 250.0]\n",
    "        stim_1000_df = stim_df[stim_df['duration'] == 1000.0] \n",
    "                \n",
    "        stim_depthdiff = stim_df['depth_difference'][0]\n",
    "        \n",
    "        stim0_depth = stim_df['actual_depth_0'][0]\n",
    "        stim1_depth = stim_df['actual_depth_1'][0]\n",
    "        stim_depthbin = np.mean(np.array([stim0_depth,stim1_depth]))\n",
    "        \n",
    "        kinect_answer = stim0_df.kinect_answer.unique()[0]\n",
    "        \n",
    "\n",
    "        try:\n",
    "            stim_acc_125 = get_accuracy(stim_125_df)\n",
    "            stim_acc_250 = get_accuracy(stim_250_df)\n",
    "            stim_acc_1000 = get_accuracy(stim_1000_df)\n",
    "\n",
    "            stim_RT_125 = get_RT(stim_125_df)\n",
    "            stim_RT_250 = get_RT(stim_250_df)\n",
    "            stim_RT_1000 = get_RT(stim_1000_df)\n",
    "            \n",
    "            stim_zsRT_125 = get_zsRT(stim_125_df)\n",
    "            stim_zsRT_250 = get_zsRT(stim_250_df)\n",
    "            stim_zsRT_1000 = get_zsRT(stim_1000_df)\n",
    "\n",
    "            stimuli_stats[stim0] = {'stimulus_1': other_stim,\n",
    "                                    'accuracy_125': stim_acc_125,\n",
    "                                    'RT_125': stim_RT_125,\n",
    "                                    'zsRT_125': stim_zsRT_125,\n",
    "                                    'accuracy_250': stim_acc_250,\n",
    "                                    'RT_250': stim_RT_250,\n",
    "                                    'zsRT_250': stim_zsRT_250,\n",
    "                                    'accuracy_1000': stim_acc_1000,\n",
    "                                    'RT_1000': stim_RT_1000,\n",
    "                                    'zsRT_1000': stim_zsRT_1000,\n",
    "                                    'avg_depth': stim_depthbin,\n",
    "                                    'depthdifference': stim_depthdiff, \n",
    "                                    'kinect_answer': kinect_answer}\n",
    "        except:\n",
    "            pass\n",
    "    \n",
    "    return stimuli_stats"
   ]
  },
  {
   "cell_type": "code",
   "execution_count": 10,
   "metadata": {},
   "outputs": [],
   "source": [
    "all_discrim_performance = individual_discrimination_stats(zscored_data)\n"
   ]
  },
  {
   "cell_type": "code",
   "execution_count": 13,
   "metadata": {},
   "outputs": [
    {
     "data": {
      "text/plain": [
       "156"
      ]
     },
     "execution_count": 13,
     "metadata": {},
     "output_type": "execute_result"
    }
   ],
   "source": [
    "len(all_discrim_performance)"
   ]
  },
  {
   "cell_type": "markdown",
   "metadata": {},
   "source": [
    "### Prep accuracy data for plotting"
   ]
  },
  {
   "cell_type": "code",
   "execution_count": 14,
   "metadata": {},
   "outputs": [],
   "source": [
    "final_stim = [key for key in all_discrim_performance]\n"
   ]
  },
  {
   "cell_type": "code",
   "execution_count": 15,
   "metadata": {},
   "outputs": [
    {
     "data": {
      "text/plain": [
       "(1.4945, 0.31499999999999995, 0.3223684210526316, 0.03790978055308842, 49)"
      ]
     },
     "execution_count": 15,
     "metadata": {},
     "output_type": "execute_result"
    }
   ],
   "source": [
    "# x = average depth of the targets \n",
    "final_x_125 = [all_discrim_performance[key]['avg_depth'] for key in all_discrim_performance]\n",
    "# y = depth difference of the targets\n",
    "final_y_125 = [all_discrim_performance[key]['depthdifference'] for key in all_discrim_performance]\n",
    "# z = proportion correct \n",
    "final_z_125 = [all_discrim_performance[key]['accuracy_125'][0] for key in all_discrim_performance]\n",
    "\n",
    "ste_125 = [all_discrim_performance[elem]['accuracy_125'][-1] for elem in all_discrim_performance]\n",
    "\n",
    "count_correct_125 = [all_discrim_performance[key]['accuracy_125'][1] for key in all_discrim_performance]\n",
    "count_total_125 = [all_discrim_performance[key]['accuracy_125'][2] for key in all_discrim_performance]\n",
    "\n",
    "\n",
    "final_x_125[0], final_y_125[0], final_z_125[0], ste_125[0], count_correct_125[0]"
   ]
  },
  {
   "cell_type": "code",
   "execution_count": 16,
   "metadata": {},
   "outputs": [
    {
     "data": {
      "text/plain": [
       "(1.4945, 0.31499999999999995, 0.5789473684210527, 0.040046626855404326, 88)"
      ]
     },
     "execution_count": 16,
     "metadata": {},
     "output_type": "execute_result"
    }
   ],
   "source": [
    "# x = average depth of the targets \n",
    "final_x_250 = [all_discrim_performance[key]['avg_depth'] for key in all_discrim_performance]\n",
    "# y = depth difference of the targets\n",
    "final_y_250 = [all_discrim_performance[key]['depthdifference'] for key in all_discrim_performance]\n",
    "# z = proportion correct \n",
    "final_z_250 = [all_discrim_performance[key]['accuracy_250'][0] for key in all_discrim_performance]\n",
    "\n",
    "ste_250 = [all_discrim_performance[elem]['accuracy_250'][-1] for elem in all_discrim_performance]\n",
    "\n",
    "count_correct_250 = [all_discrim_performance[key]['accuracy_250'][1] for key in all_discrim_performance]\n",
    "count_total_250 = [all_discrim_performance[key]['accuracy_250'][2] for key in all_discrim_performance]\n",
    "\n",
    "\n",
    "final_x_250[0], final_y_250[0], final_z_250[0], ste_250[0], count_correct_250[0]"
   ]
  },
  {
   "cell_type": "code",
   "execution_count": null,
   "metadata": {},
   "outputs": [],
   "source": []
  },
  {
   "cell_type": "code",
   "execution_count": 17,
   "metadata": {},
   "outputs": [
    {
     "data": {
      "text/plain": [
       "(1.4945, 0.31499999999999995, 0.6474358974358975, 0.03825208693378967, 101)"
      ]
     },
     "execution_count": 17,
     "metadata": {},
     "output_type": "execute_result"
    }
   ],
   "source": [
    "# x = average depth of the targets \n",
    "final_x_1000 = [all_discrim_performance[key]['avg_depth'] for key in all_discrim_performance]\n",
    "# y = depth difference of the targets\n",
    "final_y_1000 = [all_discrim_performance[key]['depthdifference'] for key in all_discrim_performance]\n",
    "# z = proportion correct \n",
    "final_z_1000 = [all_discrim_performance[key]['accuracy_1000'][0] for key in all_discrim_performance]\n",
    "\n",
    "ste_1000 = [all_discrim_performance[elem]['accuracy_1000'][-1] for elem in all_discrim_performance]\n",
    "\n",
    "count_correct_1000 = [all_discrim_performance[key]['accuracy_1000'][1] for key in all_discrim_performance]\n",
    "count_total_1000 = [all_discrim_performance[key]['accuracy_1000'][2] for key in all_discrim_performance]\n",
    "\n",
    "\n",
    "final_x_1000[0], final_y_1000[0], final_z_1000[0], ste_1000[0], count_correct_1000[0]"
   ]
  },
  {
   "cell_type": "markdown",
   "metadata": {},
   "source": [
    "https://jakevdp.github.io/PythonDataScienceHandbook/04.12-three-dimensional-plotting.html"
   ]
  },
  {
   "cell_type": "code",
   "execution_count": 18,
   "metadata": {},
   "outputs": [
    {
     "data": {
      "text/plain": [
       "(0.5466688148395225, 0.6061560556694102, 0.632956586012514)"
      ]
     },
     "execution_count": 18,
     "metadata": {},
     "output_type": "execute_result"
    }
   ],
   "source": [
    "# average accuracy per duration\n",
    "\n",
    "np.mean(np.array(final_z_125)), np.mean(np.array(final_z_250)), np.mean(np.array(final_z_1000))"
   ]
  },
  {
   "cell_type": "code",
   "execution_count": 19,
   "metadata": {},
   "outputs": [
    {
     "data": {
      "text/plain": [
       "0.546485260770975"
      ]
     },
     "execution_count": 19,
     "metadata": {},
     "output_type": "execute_result"
    }
   ],
   "source": [
    "np.sum(np.array(count_correct_125))/np.sum(np.array(count_total_125))"
   ]
  },
  {
   "cell_type": "markdown",
   "metadata": {},
   "source": [
    "https://docs.scipy.org/doc/scipy/reference/generated/scipy.stats.binom_test.html\n",
    "\n",
    "compare list of participant accuracy to 0.5 - t-test"
   ]
  },
  {
   "cell_type": "code",
   "execution_count": 14,
   "metadata": {},
   "outputs": [
    {
     "data": {
      "text/plain": [
       "5.263256415222673e-47"
      ]
     },
     "execution_count": 14,
     "metadata": {},
     "output_type": "execute_result"
    }
   ],
   "source": [
    "stats.binom_test(np.sum(np.array(count_correct_125)), n=np.sum(np.array(count_total_125)), p=0.5, alternative='greater')"
   ]
  },
  {
   "cell_type": "code",
   "execution_count": 15,
   "metadata": {},
   "outputs": [
    {
     "data": {
      "text/plain": [
       "5.86534079332525e-237"
      ]
     },
     "execution_count": 15,
     "metadata": {},
     "output_type": "execute_result"
    }
   ],
   "source": [
    "stats.binom_test(np.sum(np.array(count_correct_250)), n=np.sum(np.array(count_total_250)), p=0.5, alternative='greater')"
   ]
  },
  {
   "cell_type": "code",
   "execution_count": 16,
   "metadata": {},
   "outputs": [
    {
     "data": {
      "text/plain": [
       "0.0"
      ]
     },
     "execution_count": 16,
     "metadata": {},
     "output_type": "execute_result"
    }
   ],
   "source": [
    "stats.binom_test(np.sum(np.array(count_correct_1000)), n=np.sum(np.array(count_total_1000)), p=0.5, alternative='greater')"
   ]
  },
  {
   "cell_type": "code",
   "execution_count": 20,
   "metadata": {},
   "outputs": [],
   "source": [
    "def get_super(x):\n",
    "    normal = \"ABCDEFGHIJKLMNOPQRSTUVWXYZabcdefghijklmnopqrstuvwxyz0123456789+-=()\"\n",
    "    super_s = \"ᴬᴮᶜᴰᴱᶠᴳᴴᴵᴶᴷᴸᴹᴺᴼᴾQᴿˢᵀᵁⱽᵂˣʸᶻᵃᵇᶜᵈᵉᶠᵍʰᶦʲᵏˡᵐⁿᵒᵖ۹ʳˢᵗᵘᵛʷˣʸᶻ⁰¹²³⁴⁵⁶⁷⁸⁹⁺⁻⁼⁽⁾\"\n",
    "    res = x.maketrans(''.join(normal), ''.join(super_s))\n",
    "    return x.translate(res)"
   ]
  },
  {
   "cell_type": "code",
   "execution_count": 21,
   "metadata": {},
   "outputs": [
    {
     "data": {
      "text/plain": [
       "(0.28429204315021883, 0.0003222117937424972)"
      ]
     },
     "execution_count": 21,
     "metadata": {},
     "output_type": "execute_result"
    }
   ],
   "source": [
    "stats.pearsonr(final_y_125, final_z_125)"
   ]
  },
  {
   "cell_type": "code",
   "execution_count": 32,
   "metadata": {},
   "outputs": [
    {
     "name": "stdout",
     "output_type": "stream",
     "text": [
      "m: [0.17765936]\n",
      "b: 0.4298147014122647\n",
      "R-squared:  0.08082196579852607\n"
     ]
    },
    {
     "data": {
      "image/png": "[encoded data removed]",
      "text/plain": [
       "<Figure size 720x720 with 1 Axes>"
      ]
     },
     "metadata": {
      "needs_background": "light"
     },
     "output_type": "display_data"
    }
   ],
   "source": [
    "from sklearn.linear_model import LinearRegression\n",
    "\n",
    "fig, ax = plt.subplots(figsize=[10,10])\n",
    "right_side = ax.spines['right']\n",
    "right_side.set_visible(False)\n",
    "top = ax.spines['top']\n",
    "top.set_visible(False)\n",
    "\n",
    "for axis in ['bottom','left']:\n",
    "    ax.spines[axis].set_linewidth(2.3)\n",
    "\n",
    "\n",
    "#run regression\n",
    "X_125 = np.array(final_y_125).reshape(-1,1)\n",
    "y_125 = final_z_125\n",
    "reg_125 = LinearRegression().fit(X_125, y_125)\n",
    "\n",
    "#Generated Predictions\n",
    "y_predicted_125 = reg_125.predict(X_125)\n",
    "#Plot Our Actual and Predicted Values\n",
    "plt.errorbar(X_125, y_125, elinewidth=1, ecolor='gray', fmt='or', mfc='darkgreen', mec='darkgreen', capsize=3, yerr = np.array(ste_125));\n",
    "\n",
    "plt.plot(X_125, y_125, 'o', color='darkgreen', alpha = 0.3);\n",
    "plt.plot(X_125,y_predicted_125,color='darkgreen', label = 'm = ' + str(round(reg_125.coef_[0], 3))\n",
    "         + '     r' + get_super('2')+  ' = '+ str(round(float(reg_125.score(X_125, y_125)**2), 3)))\n",
    "\n",
    "plt.xlabel(\"Kinect Distance Difference (m)\", fontsize = 22)\n",
    "plt.ylabel(\"Proportion Correct\", fontsize = 22)\n",
    "\n",
    "# plt.plot([0.2, 1.25], [0.5,0.5], '--', color='black')\n",
    "\n",
    "dash_pattern = [8, 5]\n",
    "plt.plot([0.2, 1.25], [0.5,0.5], color='black', linestyle='--', dashes=dash_pattern, linewidth=2)\n",
    "\n",
    "\n",
    "plt.ylim([0,1])\n",
    "\n",
    "\n",
    "legend = plt.legend(loc = 4, fontsize=22, labelspacing=1, frameon=False)\n",
    "\n",
    "\n",
    "plt.title('125ms', fontsize=28)\n",
    "\n",
    "plt.xticks(np.arange(0.2,1.3, 0.2), fontsize=18)\n",
    "plt.yticks(np.arange(0,1.2, 0.2), fontsize=18)\n",
    "\n",
    "#get coefficients and y intercept\n",
    "print(\"m: {0}\".format(reg_125.coef_))\n",
    "print(\"b: {0}\".format(reg_125.intercept_))\n",
    "\n",
    "#Returns the coefficient of determination R^2 of the prediction.\n",
    "print(\"R-squared: \", reg_125.score(X_125, y_125))\n",
    "\n",
    "residuals_125 = y_125 - y_predicted_125\n",
    "\n",
    "d = '/Users/prachimahableshwarkar/Documents/GW/Depth_MTurk/spatial_perception_SUNRGBD/figures-presentations/figures/'\n",
    "plt.savefig(d + 'kinectDepthDiff_PC_125.png', dpi=300)"
   ]
  },
  {
   "cell_type": "code",
   "execution_count": 24,
   "metadata": {},
   "outputs": [
    {
     "data": {
      "text/plain": [
       "(0.23133421119861877, 0.0036649581777854737)"
      ]
     },
     "execution_count": 24,
     "metadata": {},
     "output_type": "execute_result"
    }
   ],
   "source": [
    "stats.pearsonr(final_y_250, final_z_250)"
   ]
  },
  {
   "cell_type": "code",
   "execution_count": 25,
   "metadata": {},
   "outputs": [
    {
     "name": "stdout",
     "output_type": "stream",
     "text": [
      "m: [0.15487163]\n",
      "b: 0.5042903976534031\n",
      "R-squared:  0.05351551727088711\n"
     ]
    },
    {
     "data": {
      "image/png": "[encoded data removed]",
      "text/plain": [
       "<Figure size 576x576 with 1 Axes>"
      ]
     },
     "metadata": {
      "needs_background": "light"
     },
     "output_type": "display_data"
    }
   ],
   "source": [
    "from sklearn.linear_model import LinearRegression\n",
    "\n",
    "fig, ax = plt.subplots(figsize=[8,8])\n",
    "right_side = ax.spines['right']\n",
    "right_side.set_visible(False)\n",
    "top = ax.spines['top']\n",
    "top.set_visible(False)\n",
    "\n",
    "for axis in ['bottom','left']:\n",
    "    ax.spines[axis].set_linewidth(2.3)\n",
    "\n",
    "\n",
    "#run regression\n",
    "X_250 = np.array(final_y_250).reshape(-1,1)\n",
    "y_250 = final_z_250\n",
    "reg_250 = LinearRegression().fit(X_250, y_250)\n",
    "\n",
    "#Generated Predictions\n",
    "y_predicted_250 = reg_250.predict(X_250)\n",
    "#Plot Our Actual and Predicted Values\n",
    "plt.errorbar(X_250, y_250, elinewidth=1, ecolor='gray', fmt='or', mfc='white', mec='chocolate', capsize=3, alpha = 0.3, yerr = np.array(ste_250));\n",
    "\n",
    "plt.plot(X_250, y_250, 'o', color='chocolate', alpha = 0.3);\n",
    "plt.plot(X_250,y_predicted_250,color='chocolate', label = 'm = ' + str(round(reg_250.coef_[0], 3))\n",
    "         + '     r-squared ='+ str(round(float(reg_250.score(X_250, y_250)**2), 3)))\n",
    "\n",
    "plt.xlabel(\"Depth Difference (m)\", fontsize = 22)\n",
    "plt.ylabel(\"Proportion Correct\", fontsize = 22)\n",
    "\n",
    "# plt.plot([0.2, 1.25], [0.5,0.5], '--', color='black')\n",
    "\n",
    "dash_pattern = [8, 5]\n",
    "plt.plot([0.2, 1.25], [0.5,0.5], color='black', linestyle='--', dashes=dash_pattern, linewidth=2)\n",
    "\n",
    "\n",
    "plt.ylim([0,1])\n",
    "plt.title('250 ms', fontsize=28)\n",
    "\n",
    "\n",
    "legend = plt.legend(loc = 4, fontsize=15, labelspacing=1, frameon=False)\n",
    "\n",
    "\n",
    "plt.xticks(np.arange(0.2,1.3, 0.2), fontsize=15)\n",
    "plt.yticks(np.arange(0,1.2, 0.2), fontsize=15)\n",
    "\n",
    "\n",
    "\n",
    "#get coefficients and y intercept\n",
    "print(\"m: {0}\".format(reg_250.coef_))\n",
    "print(\"b: {0}\".format(reg_250.intercept_))\n",
    "\n",
    "#Returns the coefficient of determination R^2 of the prediction.\n",
    "print(\"R-squared: \", reg_250.score(X_250, y_250))\n",
    "\n",
    "residuals_250 = y_250 - y_predicted_250\n"
   ]
  },
  {
   "cell_type": "code",
   "execution_count": 23,
   "metadata": {},
   "outputs": [
    {
     "data": {
      "text/plain": [
       "(0.2716023643310843, 0.0006041754392579866)"
      ]
     },
     "execution_count": 23,
     "metadata": {},
     "output_type": "execute_result"
    }
   ],
   "source": [
    "stats.pearsonr(final_y_1000, final_z_1000)"
   ]
  },
  {
   "cell_type": "code",
   "execution_count": 24,
   "metadata": {},
   "outputs": [
    {
     "name": "stdout",
     "output_type": "stream",
     "text": [
      "m: [0.20256224]\n",
      "b: 0.49972278629979117\n",
      "R-squared:  0.07376784431023486\n"
     ]
    },
    {
     "data": {
      "image/png": "[encoded data removed]",
      "text/plain": [
       "<Figure size 576x576 with 1 Axes>"
      ]
     },
     "metadata": {
      "needs_background": "light"
     },
     "output_type": "display_data"
    }
   ],
   "source": [
    "from sklearn.linear_model import LinearRegression\n",
    "\n",
    "fig, ax = plt.subplots(figsize=[8,8])\n",
    "right_side = ax.spines['right']\n",
    "right_side.set_visible(False)\n",
    "top = ax.spines['top']\n",
    "top.set_visible(False)\n",
    "\n",
    "for axis in ['bottom','left']:\n",
    "    ax.spines[axis].set_linewidth(2.3)\n",
    "\n",
    "\n",
    "#run regression\n",
    "X_1000 = np.array(final_y_1000).reshape(-1,1)\n",
    "y_1000 = final_z_1000\n",
    "reg_1000 = LinearRegression().fit(X_1000, y_1000)\n",
    "\n",
    "#Generated Predictions\n",
    "y_predicted_1000 = reg_1000.predict(X_1000)\n",
    "#Plot Our Actual and Predicted Values\n",
    "plt.errorbar(X_1000, y_1000, elinewidth=1, ecolor='gray', fmt='or', mfc='white', mec='darkviolet', capsize=3, alpha = 0.3, yerr = np.array(ste_1000));\n",
    "\n",
    "r = np.sqrt(round(float(reg_1000.score(X_1000, y_1000)), 3))\n",
    "plt.plot(X_1000, y_1000, 'o', color='darkviolet', alpha = 0.3);\n",
    "plt.plot(X_1000,y_predicted_1000,color='darkviolet', label = 'm = ' + str(round(reg_1000.coef_[0], 3))\n",
    "         + '     r-squared ='+ str(round(float(reg_1000.score(X_1000, y_1000)**2), 3)))\n",
    "\n",
    "plt.xlabel(\"Depth Difference (m)\", fontsize = 22)\n",
    "plt.ylabel(\"Proportion Correct\", fontsize = 22)\n",
    "\n",
    "plt.plot([0.2, 1.25], [0.5,0.5], '--', color='black')\n",
    "\n",
    "plt.ylim([0,1])\n",
    "\n",
    "plt.title('1000 ms', fontsize=28)\n",
    "\n",
    "\n",
    "legend = plt.legend(loc = 4, fontsize=15, labelspacing=1, frameon=False)\n",
    "\n",
    "\n",
    "plt.xticks(np.arange(0.2,1.3, 0.2), fontsize=15)\n",
    "plt.yticks(np.arange(0,1.2, 0.2), fontsize=15)\n",
    "\n",
    "\n",
    "#get coefficients and y intercept\n",
    "print(\"m: {0}\".format(reg_1000.coef_))\n",
    "print(\"b: {0}\".format(reg_1000.intercept_))\n",
    "\n",
    "#Returns the coefficient of determination R^2 of the prediction.\n",
    "print(\"R-squared: \", reg_1000.score(X_1000, y_1000))\n",
    "\n",
    "residuals_1000 = y_1000 - y_predicted_1000\n"
   ]
  },
  {
   "cell_type": "markdown",
   "metadata": {},
   "source": [
    "## Save residuals "
   ]
  },
  {
   "cell_type": "code",
   "execution_count": 20,
   "metadata": {},
   "outputs": [
    {
     "data": {
      "text/plain": [
       "(-0.16340897781920433, 0.02587240654588041)"
      ]
     },
     "execution_count": 20,
     "metadata": {},
     "output_type": "execute_result"
    }
   ],
   "source": [
    "residuals_125[0], residuals_250[0]"
   ]
  },
  {
   "cell_type": "code",
   "execution_count": 23,
   "metadata": {},
   "outputs": [],
   "source": [
    "destpath = '/Users/prachimahableshwarkar/Documents/GW/Depth_MTurk/depth_discrimination/data/finalDiscrimMatched/kinectCoded_discrimination/'\n",
    "\n",
    "with open(destpath + 'residuals_125.npy', 'wb') as f:\n",
    "    np.save(f, residuals_125)\n",
    "with open(destpath + 'residuals_250.npy', 'wb') as f:\n",
    "    np.save(f, residuals_250)\n",
    "with open(destpath + 'residuals_1000.npy', 'wb') as f:\n",
    "    np.save(f, residuals_1000)\n",
    "    \n",
    "    \n",
    "with open(destpath + 'final_stim.npy', 'wb') as f:\n",
    "    np.save(f, final_stim)\n"
   ]
  },
  {
   "cell_type": "code",
   "execution_count": 21,
   "metadata": {},
   "outputs": [
    {
     "name": "stdout",
     "output_type": "stream",
     "text": [
      "m: [0.20256224]\n",
      "b: 0.49972278629979117\n",
      "R-squared:  0.07376784431023486\n"
     ]
    },
    {
     "data": {
      "image/png": "[encoded data removed]",
      "text/plain": [
       "<Figure size 576x576 with 1 Axes>"
      ]
     },
     "metadata": {
      "needs_background": "light"
     },
     "output_type": "display_data"
    }
   ],
   "source": [
    "from sklearn.linear_model import LinearRegression\n",
    "\n",
    "fig, ax = plt.subplots(figsize=[8,8])\n",
    "right_side = ax.spines['right']\n",
    "right_side.set_visible(False)\n",
    "top = ax.spines['top']\n",
    "top.set_visible(False)\n",
    "\n",
    "for axis in ['bottom','left']:\n",
    "    ax.spines[axis].set_linewidth(2.3)\n",
    "\n",
    "\n",
    "plt.xlabel(\"Depth Difference (m)\", fontsize = 22)\n",
    "plt.ylabel(\"Proportion Correct\", fontsize = 22)\n",
    "\n",
    "plt.plot([0.2, 1.25], [0.5,0.5], '--', color='black')\n",
    "\n",
    "plt.ylim([0,1])\n",
    "\n",
    "\n",
    "\n",
    "\n",
    "\n",
    "plt.xticks(np.arange(0.2,1.3, 0.2), fontsize=15)\n",
    "plt.yticks(np.arange(0,1.2, 0.2), fontsize=15)\n",
    "\n",
    "\n",
    "#get coefficients and y intercept\n",
    "print(\"m: {0}\".format(reg_1000.coef_))\n",
    "print(\"b: {0}\".format(reg_1000.intercept_))\n",
    "\n",
    "#Returns the coefficient of determination R^2 of the prediction.\n",
    "print(\"R-squared: \", reg_1000.score(X_1000, y_1000))"
   ]
  },
  {
   "cell_type": "code",
   "execution_count": 22,
   "metadata": {},
   "outputs": [
    {
     "data": {
      "text/plain": [
       "(0.013459803422201495, 0.014419405269194364, 0.01606350395839347)"
      ]
     },
     "execution_count": 22,
     "metadata": {},
     "output_type": "execute_result"
    }
   ],
   "source": [
    "sem(np.array(final_z_125)), sem(np.array(final_z_250)), sem(np.array(final_z_1000))"
   ]
  },
  {
   "cell_type": "code",
   "execution_count": 23,
   "metadata": {},
   "outputs": [
    {
     "data": {
      "image/png": "[encoded data removed]",
      "text/plain": [
       "<Figure size 720x504 with 1 Axes>"
      ]
     },
     "metadata": {
      "needs_background": "light"
     },
     "output_type": "display_data"
    }
   ],
   "source": [
    "# creating the dataset\n",
    "durations = ['125', '250', '1000']\n",
    "\n",
    "zs_PC = [np.mean(np.array(final_z_125)), \n",
    "         np.mean(np.array(final_z_250)),\n",
    "         np.mean(np.array(final_z_1000))]\n",
    "\n",
    "fig, ax = plt.subplots(figsize=[10,7])\n",
    "ax.spines['right'].set_visible(False)\n",
    "ax.spines['top'].set_visible(False)\n",
    "\n",
    "plt.xticks(fontsize=15)\n",
    "plt.ylim(0.5, 0.80)\n",
    "plt.yticks(np.arange(0.5, 0.80, 0.1),fontsize=15)\n",
    "\n",
    "\n",
    "\n",
    "# creating the bar plot\n",
    "plt.bar(durations, zs_PC, yerr = [sem(np.array(final_z_125)),sem(np.array(final_z_250)),sem(np.array(final_z_1000))], color='white', edgecolor = ['darkgreen', 'chocolate', 'darkviolet'], width=0.8, capsize=5, alpha=0.7, linewidth=5)\n",
    "# plt.bar(durations, zs_PC, color = ['gray'], width=0.8, capsize=5, alpha=0.5)\n",
    "\n",
    "# plt.title('Verbal Estimate Defined Discrimination Accuracy', fontsize=20)\n",
    "plt.xlabel(\"Duration (ms)\", fontsize=22)\n",
    "plt.ylabel(\"Average Participant Accuracy\", fontsize=22)\n",
    "\n",
    "plt.show()"
   ]
  },
  {
   "cell_type": "code",
   "execution_count": 24,
   "metadata": {},
   "outputs": [
    {
     "data": {
      "text/plain": [
       "312"
      ]
     },
     "execution_count": 24,
     "metadata": {},
     "output_type": "execute_result"
    }
   ],
   "source": [
    "len(final_z_125) + len(final_z_250) "
   ]
  },
  {
   "cell_type": "code",
   "execution_count": 25,
   "metadata": {},
   "outputs": [
    {
     "name": "stdout",
     "output_type": "stream",
     "text": [
      "9.042023636851049 0.00014045418691710894\n",
      "9.094996621188201 0.002775120257303865\n",
      "1.5414960632339794 0.2153338369759673\n",
      "16.95249913993464 4.9199074548985936e-05\n"
     ]
    }
   ],
   "source": [
    "# Proportion Correct by duration\n",
    "fvalue, pvalue = stats.f_oneway(final_z_125, final_z_250, final_z_1000)\n",
    "print(fvalue, pvalue)\n",
    "\n",
    "fvalue, pvalue = stats.f_oneway(final_z_125, final_z_250)\n",
    "print(fvalue, pvalue)\n",
    "\n",
    "fvalue, pvalue = stats.f_oneway(final_z_250, final_z_1000)\n",
    "print(fvalue, pvalue)\n",
    "\n",
    "fvalue, pvalue = stats.f_oneway(final_z_125, final_z_1000)\n",
    "print(fvalue, pvalue)"
   ]
  },
  {
   "cell_type": "code",
   "execution_count": 26,
   "metadata": {},
   "outputs": [
    {
     "name": "stdout",
     "output_type": "stream",
     "text": [
      "Ttest_indResult(statistic=-3.015791209813467, pvalue=0.0027751202573039063)\n",
      "Ttest_indResult(statistic=-1.24156999932907, pvalue=0.21533383697596295)\n",
      "Ttest_indResult(statistic=-4.117341270763772, pvalue=4.919907454898504e-05)\n"
     ]
    }
   ],
   "source": [
    "print(stats.ttest_ind(final_z_125, final_z_250))\n",
    "\n",
    "print(stats.ttest_ind(final_z_250, final_z_1000))\n",
    "\n",
    "print(stats.ttest_ind(final_z_125, final_z_1000))\n"
   ]
  },
  {
   "cell_type": "markdown",
   "metadata": {},
   "source": [
    "### Prep RT data for plotting"
   ]
  },
  {
   "cell_type": "code",
   "execution_count": 26,
   "metadata": {},
   "outputs": [],
   "source": [
    "# x = average depth of the targets \n",
    "final_x_125_RT = [all_discrim_performance[key]['avg_depth'] for key in all_discrim_performance]\n",
    "# y = depth difference of the targets\n",
    "final_y_125_RT = [all_discrim_performance[key]['depthdifference'] for key in all_discrim_performance]\n",
    "# z = average RT \n",
    "final_z_125_RT = [all_discrim_performance[key]['zsRT_125'][1] for key in all_discrim_performance]\n",
    "\n",
    "final_125_RT_ste = [all_discrim_performance[key]['zsRT_125'][-1] for key in all_discrim_performance]\n",
    "\n",
    "# z = average RT \n",
    "final_raw_125_RT = [all_discrim_performance[key]['RT_125'][1] for key in all_discrim_performance]\n",
    "\n",
    "final_raw_125_RT_ste = [all_discrim_performance[key]['RT_125'][-1] for key in all_discrim_performance]"
   ]
  },
  {
   "cell_type": "code",
   "execution_count": 27,
   "metadata": {},
   "outputs": [
    {
     "data": {
      "text/plain": [
       "(1.4945, 0.31499999999999995, 0.12480927435435656, 0.09650660125390263)"
      ]
     },
     "execution_count": 27,
     "metadata": {},
     "output_type": "execute_result"
    }
   ],
   "source": [
    "# x = average depth of the targets \n",
    "final_x_250_RT = [all_discrim_performance[key]['avg_depth'] for key in all_discrim_performance]\n",
    "# y = depth difference of the targets\n",
    "final_y_250_RT = [all_discrim_performance[key]['depthdifference'] for key in all_discrim_performance]\n",
    "# z = average RT \n",
    "final_z_250_RT = [all_discrim_performance[key]['zsRT_250'][1] for key in all_discrim_performance]\n",
    "\n",
    "final_250_RT_ste = [all_discrim_performance[key]['zsRT_250'][-1] for key in all_discrim_performance]\n",
    "\n",
    "# z = average RT \n",
    "final_raw_250_RT = [all_discrim_performance[key]['RT_250'][1] for key in all_discrim_performance]\n",
    "\n",
    "final_raw_250_RT_ste = [all_discrim_performance[key]['RT_250'][-1] for key in all_discrim_performance]\n",
    "\n",
    "final_x_250_RT[0], final_y_250_RT[0], final_z_250_RT[0], final_250_RT_ste[0]"
   ]
  },
  {
   "cell_type": "code",
   "execution_count": 28,
   "metadata": {},
   "outputs": [
    {
     "data": {
      "text/plain": [
       "(1.4945, 0.31499999999999995, 0.04402711103151411, 0.09436713109071909)"
      ]
     },
     "execution_count": 28,
     "metadata": {},
     "output_type": "execute_result"
    }
   ],
   "source": [
    "# x = average depth of the targets \n",
    "final_x_1000_RT = [all_discrim_performance[key]['avg_depth'] for key in all_discrim_performance]\n",
    "# y = depth difference of the targets\n",
    "final_y_1000_RT = [all_discrim_performance[key]['depthdifference'] for key in all_discrim_performance]\n",
    "# z = average RT \n",
    "final_z_1000_RT = [all_discrim_performance[key]['zsRT_1000'][1] for key in all_discrim_performance]\n",
    "\n",
    "final_1000_RT_ste = [all_discrim_performance[key]['zsRT_1000'][-1] for key in all_discrim_performance]\n",
    "\n",
    "# z = average RT \n",
    "final_raw_1000_RT = [all_discrim_performance[key]['RT_1000'][1] for key in all_discrim_performance]\n",
    "\n",
    "final_raw_1000_RT_ste = [all_discrim_performance[key]['RT_1000'][-1] for key in all_discrim_performance]\n",
    "\n",
    "final_x_1000_RT[0], final_y_1000_RT[0], final_z_1000_RT[0], final_1000_RT_ste[0]"
   ]
  },
  {
   "cell_type": "code",
   "execution_count": 30,
   "metadata": {},
   "outputs": [
    {
     "name": "stdout",
     "output_type": "stream",
     "text": [
      "m: [-43.44389393]\n",
      "b: 1401.4050169304157\n",
      "R-squared:  0.014198864778334097\n"
     ]
    },
    {
     "data": {
      "image/png": "[encoded data removed]",
      "text/plain": [
       "<Figure size 720x720 with 1 Axes>"
      ]
     },
     "metadata": {
      "needs_background": "light"
     },
     "output_type": "display_data"
    }
   ],
   "source": [
    "fig, ax = plt.subplots(figsize=[10,10])\n",
    "ax.spines['right'].set_visible(False)\n",
    "ax.spines['top'].set_visible(False)\n",
    "\n",
    "for axis in ['bottom','left']:\n",
    "    ax.spines[axis].set_linewidth(2.3)\n",
    "\n",
    "\n",
    "#run regression\n",
    "X_125 = np.array(final_y_125).reshape(-1,1)\n",
    "y_125 = final_raw_125_RT\n",
    "reg_125 = LinearRegression().fit(X_125, y_125)\n",
    "\n",
    "#Generated Predictions\n",
    "y_predicted_125 = reg_125.predict(X_125)\n",
    "#Plot Our Actual and Predicted Values\n",
    "plt.errorbar(X_125, y_125,elinewidth=1, ecolor='gray',fmt='or', mfc='darkgreen', mec='darkgreen', capsize=3, yerr = np.array(final_raw_125_RT_ste));\n",
    "\n",
    "plt.plot(X_125, y_125, 'o', color='darkgreen');\n",
    "plt.plot(X_125, y_predicted_125,color='darkgreen', label = 'y = ' + str(round(reg_125.coef_[0], 3)) + 'x +' + str(round(reg_125.intercept_, 3))\n",
    "         + '     r' + get_super('2') + ' = ' + str(round(float(reg_125.score(X_125, y_125)**2), 4)))\n",
    "\n",
    "\n",
    "plt.xlabel(\"Kinect Distance Difference (m)\", fontsize = 22)\n",
    "plt.ylabel(\"RT (ms)\", fontsize = 22)\n",
    "\n",
    "\n",
    "legend = plt.legend(loc = 1, fontsize = 22, borderpad = 0.6, labelspacing = 1, frameon=False)\n",
    "\n",
    "\n",
    "plt.ylim(1100, 1800)\n",
    "\n",
    "\n",
    "plt.xticks(np.arange(0.2,1.4,0.2), fontsize=18)\n",
    "plt.yticks(np.arange(1200,2000,200), fontsize=18)\n",
    "\n",
    "#get coefficients and y intercept\n",
    "print(\"m: {0}\".format(reg_125.coef_))\n",
    "print(\"b: {0}\".format(reg_125.intercept_))\n",
    "\n",
    "#Returns the coefficient of determination R^2 of the prediction.\n",
    "print(\"R-squared: \", reg_125.score(X_125, y_125))\n",
    "\n",
    "d = '/Users/prachimahableshwarkar/Documents/GW/Depth_MTurk/spatial_perception_SUNRGBD/figures-presentations/figures/'\n",
    "plt.savefig(d + 'RT_KinectDepthDiff_125.png', dpi=300)"
   ]
  },
  {
   "cell_type": "code",
   "execution_count": 30,
   "metadata": {},
   "outputs": [
    {
     "name": "stdout",
     "output_type": "stream",
     "text": [
      "250: Raw RT x Kinect Depth Diff\n",
      "m: [-31.87884203]\n",
      "R-squared:  0.0001438199381762725\n"
     ]
    }
   ],
   "source": [
    "#run regression\n",
    "X = np.array(final_y_250).reshape(-1,1)\n",
    "y = final_raw_250_RT\n",
    "reg = LinearRegression().fit(X, y)\n",
    "\n",
    "#Generated Predictions\n",
    "y_predicted = reg.predict(X)\n",
    "\n",
    "print('250: Raw RT x Kinect Depth Diff')\n",
    "\n",
    "#get coefficients and y intercept\n",
    "print(\"m: {0}\".format(reg.coef_))\n",
    "\n",
    "#Returns the coefficient of determination R^2 of the prediction.\n",
    "print(\"R-squared: \", reg.score(X, y)**2)\n"
   ]
  },
  {
   "cell_type": "code",
   "execution_count": 31,
   "metadata": {},
   "outputs": [
    {
     "name": "stdout",
     "output_type": "stream",
     "text": [
      "1000: Raw RT x Kinect Depth Diff\n",
      "m: [-15.96813345]\n",
      "R-squared:  1.4317953346137653e-05\n"
     ]
    }
   ],
   "source": [
    "#run regression\n",
    "X = np.array(final_y_1000).reshape(-1,1)\n",
    "y = final_raw_1000_RT\n",
    "reg = LinearRegression().fit(X, y)\n",
    "\n",
    "#Generated Predictions\n",
    "y_predicted = reg.predict(X)\n",
    "\n",
    "print('1000: Raw RT x Kinect Depth Diff')\n",
    "\n",
    "\n",
    "#get coefficients and y intercept\n",
    "print(\"m: {0}\".format(reg.coef_))\n",
    "\n",
    "#Returns the coefficient of determination R^2 of the prediction.\n",
    "print(\"R-squared: \", reg.score(X, y)**2)"
   ]
  },
  {
   "cell_type": "code",
   "execution_count": 31,
   "metadata": {},
   "outputs": [
    {
     "name": "stdout",
     "output_type": "stream",
     "text": [
      "m: [-0.07752095]\n",
      "b: 0.05117171861322867\n",
      "R-squared:  0.013978338033972191\n"
     ]
    },
    {
     "data": {
      "image/png": "[encoded data removed]",
      "text/plain": [
       "<Figure size 720x720 with 1 Axes>"
      ]
     },
     "metadata": {
      "needs_background": "light"
     },
     "output_type": "display_data"
    }
   ],
   "source": [
    "fig, ax = plt.subplots(figsize=[10,10])\n",
    "ax.spines['right'].set_visible(False)\n",
    "ax.spines['top'].set_visible(False)\n",
    "\n",
    "for axis in ['bottom','left']:\n",
    "    ax.spines[axis].set_linewidth(2.3)\n",
    "\n",
    "\n",
    "#run regression\n",
    "X_125 = np.array(final_y_125).reshape(-1,1)\n",
    "y_125 = final_z_125_RT\n",
    "reg_125 = LinearRegression().fit(X_125, y_125)\n",
    "\n",
    "#Generated Predictions\n",
    "y_predicted_125 = reg_125.predict(X_125)\n",
    "#Plot Our Actual and Predicted Values\n",
    "plt.errorbar(X_125, y_125,elinewidth=1, ecolor='gray',fmt='or', mfc='darkgreen', mec='darkgreen', capsize=3, yerr = np.array(final_125_RT_ste));\n",
    "\n",
    "plt.plot(X_125, y_125, 'o', color='darkgreen');\n",
    "plt.plot(X_125, y_predicted_125,color='darkgreen', label = 'y = ' + str(round(reg_125.coef_[0], 3)) + 'x +' + str(round(reg_125.intercept_, 3))\n",
    "         + '     r' + get_super('2') + ' = ' + str(round(float(reg_125.score(X_125, y_125)**2), 4)))\n",
    "\n",
    "\n",
    "plt.xlabel(\"Kinect Distance Difference (m)\", fontsize = 22)\n",
    "plt.ylabel(\"z-scored RT (ms)\", fontsize = 22)\n",
    "\n",
    "\n",
    "legend = plt.legend(loc = 1, fontsize = 22, borderpad = 0.6, labelspacing = 1, frameon=False)\n",
    "\n",
    "\n",
    "plt.ylim(-0.6, 0.6)\n",
    "\n",
    "\n",
    "plt.xticks(np.arange(0.2,1.4,0.2), fontsize=18)\n",
    "plt.yticks(fontsize=18)\n",
    "\n",
    "#get coefficients and y intercept\n",
    "print(\"m: {0}\".format(reg_125.coef_))\n",
    "print(\"b: {0}\".format(reg_125.intercept_))\n",
    "\n",
    "#Returns the coefficient of determination R^2 of the prediction.\n",
    "print(\"R-squared: \", reg_125.score(X_125, y_125))\n",
    "\n",
    "d = '/Users/prachimahableshwarkar/Documents/GW/Depth_MTurk/spatial_perception_SUNRGBD/figures-presentations/figures/'\n",
    "plt.savefig(d + 'zsRT_KinectDepthDiff_125.png', dpi=300)"
   ]
  },
  {
   "cell_type": "code",
   "execution_count": 33,
   "metadata": {},
   "outputs": [
    {
     "name": "stdout",
     "output_type": "stream",
     "text": [
      "m: [-0.07866375]\n",
      "b: 0.05152285735822627\n",
      "R-squared:  0.00029843536618568\n"
     ]
    },
    {
     "data": {
      "image/png": "[encoded data removed]",
      "text/plain": [
       "<Figure size 576x576 with 1 Axes>"
      ]
     },
     "metadata": {
      "needs_background": "light"
     },
     "output_type": "display_data"
    }
   ],
   "source": [
    "fig, ax = plt.subplots(figsize=[8,8])\n",
    "right_side = ax.spines['right']\n",
    "right_side.set_visible(False)\n",
    "top = ax.spines['top']\n",
    "top.set_visible(False)\n",
    "\n",
    "#run regression\n",
    "X_250 = np.array(final_y_250).reshape(-1,1)\n",
    "y_250 = final_z_250_RT\n",
    "reg_250 = LinearRegression().fit(X_250, y_250)\n",
    "\n",
    "#Generated Predictions\n",
    "y_predicted_250 = reg_250.predict(X_250)\n",
    "#Plot Our Actual and Predicted Values\n",
    "plt.errorbar(X_250, y_250,elinewidth=1, ecolor='gray',fmt='or', mfc='white', mec='chocolate', capsize=3, alpha = 0.3, yerr = np.array(final_250_RT_ste));\n",
    "\n",
    "r = np.sqrt(float(reg_250.score(X_250, y_250)))\n",
    "plt.plot(X_250, y_250, 's', color='chocolate', alpha = 0.3);\n",
    "plt.plot(X_250,y_predicted_250, '-',color='chocolate', label = 'm = ' + str(round(reg_250.coef_[0], 3))\n",
    "         + '     r = ' + str(round(r, 3)))\n",
    "\n",
    "plt.xlabel(\"Kinect Depth Difference (m)\", fontsize = 15)\n",
    "plt.ylabel(\"z-scored RT (ms)\", fontsize = 15)\n",
    "\n",
    "\n",
    "legend = plt.legend(loc = 4, fontsize=13, labelspacing=1, frameon=False)\n",
    "\n",
    "fig.tight_layout()\n",
    "\n",
    "plt.ylim(-0.5, 0.6)\n",
    "\n",
    "# plt.xticks(np.arange(0.15,1.2, 0.2))\n",
    "# plt.yticks(np.arange(900,1500, 100))\n",
    "\n",
    "\n",
    "#get coefficients and y intercept\n",
    "print(\"m: {0}\".format(reg_250.coef_))\n",
    "print(\"b: {0}\".format(reg_250.intercept_))\n",
    "\n",
    "#Returns the coefficient of determination R^2 of the prediction.\n",
    "print(\"R-squared: \", reg_250.score(X_250, y_250)**2)"
   ]
  },
  {
   "cell_type": "code",
   "execution_count": 34,
   "metadata": {},
   "outputs": [
    {
     "data": {
      "text/plain": [
       "((-0.11823002171179955, 0.14156798848126664),\n",
       " (-0.13143546683559965, 0.1019382207127956),\n",
       " (-0.11651945897791859, 0.14745993331970317))"
      ]
     },
     "execution_count": 34,
     "metadata": {},
     "output_type": "execute_result"
    }
   ],
   "source": [
    "stats.pearsonr(final_y_125, final_z_125_RT), stats.pearsonr(final_y_250, final_z_250_RT), stats.pearsonr(final_y_1000, final_z_1000_RT)"
   ]
  },
  {
   "cell_type": "code",
   "execution_count": 35,
   "metadata": {},
   "outputs": [
    {
     "name": "stdout",
     "output_type": "stream",
     "text": [
      "m: [-3.94573059e-05]\n",
      "b: 0.09912063893194062\n",
      "R-squared:  3.4262850425125453e-16\n"
     ]
    },
    {
     "data": {
      "image/png": "[encoded data removed]",
      "text/plain": [
       "<Figure size 576x576 with 1 Axes>"
      ]
     },
     "metadata": {
      "needs_background": "light"
     },
     "output_type": "display_data"
    }
   ],
   "source": [
    "\n",
    "fig, ax = plt.subplots(figsize=[8,8])\n",
    "right_side = ax.spines['right']\n",
    "right_side.set_visible(False)\n",
    "top = ax.spines['top']\n",
    "top.set_visible(False)\n",
    "\n",
    "#run regression\n",
    "X_1000 = np.array(final_y_1000).reshape(-1,1)\n",
    "y_1000 = np.abs(final_z_1000_RT)\n",
    "reg_1000 = LinearRegression().fit(X_1000, y_1000)\n",
    "\n",
    "#Generated Predictions\n",
    "y_predicted_1000 = reg_1000.predict(X_1000)\n",
    "#Plot Our Actual and Predicted Values\n",
    "\n",
    "plt.errorbar(X_1000, y_1000, elinewidth=1, ecolor='gray', fmt='or', mfc='white', mec='darkviolet', capsize=3, alpha = 0.3, yerr = np.array(final_1000_RT_ste));\n",
    "\n",
    "r = np.sqrt(float(reg_1000.score(X_1000, y_1000)))\n",
    "\n",
    "plt.plot(X_1000, y_1000, 's', color='darkviolet', alpha = 0.3);\n",
    "plt.plot(X_1000,y_predicted_1000, color='darkviolet', label = 'y = ' + str(round(reg_1000.coef_[0], 3))\n",
    "         +'     r= ' + str(round(r, 3)))\n",
    "\n",
    "plt.xlabel(\"Kinect Depth Difference (m)\", fontsize = 15)\n",
    "plt.ylabel(\"z-scored RT (ms)\", fontsize = 15)\n",
    "\n",
    "\n",
    "legend = plt.legend(loc = 4, fontsize=13, labelspacing=1, frameon=False)\n",
    "\n",
    "plt.ylim(-.5, .6)\n",
    "\n",
    "fig.tight_layout()\n",
    "\n",
    "# plt.xticks(np.arange(0.15,1.2, 0.2))\n",
    "# plt.yticks(np.arange(900,1500, 100))\n",
    "\n",
    "\n",
    "#get coefficients and y intercept\n",
    "print(\"m: {0}\".format(reg_1000.coef_))\n",
    "print(\"b: {0}\".format(reg_1000.intercept_))\n",
    "\n",
    "#Returns the coefficient of determination R^2 of the prediction.\n",
    "print(\"R-squared: \", reg_1000.score(X_1000, y_1000)**2)\n"
   ]
  },
  {
   "cell_type": "code",
   "execution_count": null,
   "metadata": {},
   "outputs": [],
   "source": []
  },
  {
   "cell_type": "code",
   "execution_count": 36,
   "metadata": {},
   "outputs": [
    {
     "name": "stdout",
     "output_type": "stream",
     "text": [
      "0.00026559324081581185 0.9997344421776194\n",
      "0.000438787513494188 0.9833012065530223\n",
      "7.012341441554479e-05 0.9933240010509451\n",
      "0.00022971082983621723 0.9879173031433498\n"
     ]
    }
   ],
   "source": [
    "fvalue, pvalue = stats.f_oneway(final_z_125_RT, final_z_250_RT, final_z_1000_RT)\n",
    "print(fvalue, pvalue)\n",
    "\n",
    "fvalue, pvalue = stats.f_oneway(final_z_125_RT, final_z_250_RT)\n",
    "print(fvalue, pvalue)\n",
    "\n",
    "fvalue, pvalue = stats.f_oneway(final_z_250_RT, final_z_1000_RT)\n",
    "print(fvalue, pvalue)\n",
    "\n",
    "fvalue, pvalue = stats.f_oneway(final_z_125_RT, final_z_1000_RT)\n",
    "print(fvalue, pvalue)"
   ]
  },
  {
   "cell_type": "markdown",
   "metadata": {},
   "source": [
    "# Raw RT x Kinect Depth Diff: Stats"
   ]
  },
  {
   "cell_type": "code",
   "execution_count": 37,
   "metadata": {},
   "outputs": [
    {
     "data": {
      "text/plain": [
       "((-0.11915898949862619, 0.13844417207872797),\n",
       " (-0.10951025101415619, 0.17355199326820375),\n",
       " (-0.0615134713170792, 0.44555481496041105))"
      ]
     },
     "execution_count": 37,
     "metadata": {},
     "output_type": "execute_result"
    }
   ],
   "source": [
    "stats.pearsonr(final_y_125, final_raw_125_RT), stats.pearsonr(final_y_250, final_raw_250_RT), stats.pearsonr(final_y_1000, final_raw_1000_RT)\n"
   ]
  },
  {
   "cell_type": "code",
   "execution_count": 38,
   "metadata": {},
   "outputs": [
    {
     "name": "stdout",
     "output_type": "stream",
     "text": [
      "70.15300326659221 2.363893377335071e-27\n",
      "78.30758829625655 6.871470120423186e-17\n",
      "148.3183074454391 3.7859807180754916e-28\n",
      "1.9285396532849255 0.16591523160302393\n"
     ]
    }
   ],
   "source": [
    "fvalue, pvalue = stats.f_oneway(final_raw_125_RT, final_raw_250_RT, final_raw_1000_RT)\n",
    "print(fvalue, pvalue)\n",
    "\n",
    "fvalue, pvalue = stats.f_oneway(final_raw_125_RT, final_raw_250_RT)\n",
    "print(fvalue, pvalue)\n",
    "\n",
    "fvalue, pvalue = stats.f_oneway(final_raw_250_RT, final_raw_1000_RT)\n",
    "print(fvalue, pvalue)\n",
    "\n",
    "fvalue, pvalue = stats.f_oneway(final_raw_125_RT, final_raw_1000_RT)\n",
    "print(fvalue, pvalue)"
   ]
  },
  {
   "cell_type": "code",
   "execution_count": 41,
   "metadata": {},
   "outputs": [
    {
     "name": "stdout",
     "output_type": "stream",
     "text": [
      "Ttest_indResult(statistic=8.84915749075901, pvalue=6.871470120423922e-17)\n",
      "Ttest_indResult(statistic=-12.178600389430564, pvalue=3.7859807180765508e-28)\n",
      "Ttest_indResult(statistic=-1.3887187092009987, pvalue=0.1659152316030274)\n"
     ]
    }
   ],
   "source": [
    "print(stats.ttest_ind(final_raw_125_RT, final_raw_250_RT))\n",
    "print(stats.ttest_ind(final_raw_250_RT, final_raw_1000_RT))\n",
    "print(stats.ttest_ind(final_raw_125_RT, final_raw_1000_RT))"
   ]
  },
  {
   "cell_type": "code",
   "execution_count": 50,
   "metadata": {},
   "outputs": [
    {
     "data": {
      "image/png": "[encoded data removed]",
      "text/plain": [
       "<Figure size 432x288 with 1 Axes>"
      ]
     },
     "metadata": {
      "needs_background": "light"
     },
     "output_type": "display_data"
    }
   ],
   "source": [
    "plt.hist(final_raw_125_RT, label='125')\n",
    "plt.hist(final_raw_250_RT, label='250')\n",
    "plt.hist(final_raw_1000_RT, label='1000')\n",
    "\n",
    "plt.legend()\n",
    "\n",
    "plt.show()"
   ]
  },
  {
   "cell_type": "markdown",
   "metadata": {},
   "source": [
    "# Accuracy by Participant"
   ]
  },
  {
   "cell_type": "code",
   "execution_count": 13,
   "metadata": {},
   "outputs": [],
   "source": [
    "acc_perSubj_by_duration = {'125': [], '250': [], '1000': []}\n",
    "\n",
    "for subj in zscored_data.subjID.unique():\n",
    "    subj_df = zscored_data.loc[zscored_data['subjID']==subj]\n",
    "    duration = str(int(subj_df.duration.unique()[0]))\n",
    "    subj_acc = get_accuracy(subj_df)[0]\n",
    "    acc_perSubj_by_duration[duration].append(subj_acc)\n",
    "    "
   ]
  },
  {
   "cell_type": "code",
   "execution_count": 18,
   "metadata": {},
   "outputs": [
    {
     "name": "stdout",
     "output_type": "stream",
     "text": [
      "125 Subj Accuracy x Chance\n",
      "Ttest_relResult(statistic=2.863819146382142, pvalue=0.004769738204675634)\n",
      "250 Subj Accuracy x Chance\n",
      "Ttest_relResult(statistic=7.062204504256518, pvalue=5.285878375404695e-11)\n",
      "1000 Subj Accuracy x Chance\n",
      "Ttest_relResult(statistic=8.213621444846817, pvalue=7.891653416278576e-14)\n"
     ]
    }
   ],
   "source": [
    "acc_perSubj_by_duration['125']\n",
    "\n",
    "# Importing library\n",
    "import scipy.stats as stats\n",
    "  \n",
    "# Performing the paired sample t-test\n",
    "print('125 Subj Accuracy x Chance')\n",
    "print(stats.ttest_rel(acc_perSubj_by_duration['125'], [0.5]*len(acc_perSubj_by_duration['125'])))\n",
    "\n",
    "print('250 Subj Accuracy x Chance')\n",
    "print(stats.ttest_rel(acc_perSubj_by_duration['250'], [0.5]*len(acc_perSubj_by_duration['250'])))\n",
    "\n",
    "print('1000 Subj Accuracy x Chance')\n",
    "print(stats.ttest_rel(acc_perSubj_by_duration['1000'], [0.5]*len(acc_perSubj_by_duration['1000'])))"
   ]
  },
  {
   "cell_type": "code",
   "execution_count": 19,
   "metadata": {
    "jupyter": {
     "source_hidden": true
    }
   },
   "outputs": [],
   "source": [
    "VE_acc_perSubj_125 = [0.6666666666666666,\n",
    " 0.6025641025641025,\n",
    " 0.8076923076923077,\n",
    " 0.631578947368421,\n",
    " 0.01282051282051282,\n",
    " 0.8333333333333334,\n",
    " 0.6794871794871795,\n",
    " 0.4805194805194805,\n",
    " 0.7051282051282052,\n",
    " 0.37662337662337664,\n",
    " 0.5512820512820513,\n",
    " 0.7307692307692307,\n",
    " 0.7307692307692307,\n",
    " 0.5256410256410257,\n",
    " 0.5128205128205128,\n",
    " 0.5897435897435898,\n",
    " 0.8333333333333334,\n",
    " 0.46153846153846156,\n",
    " 0.5897435897435898,\n",
    " 0.6410256410256411,\n",
    " 0.6410256410256411,\n",
    " 0.5256410256410257,\n",
    " 0.4230769230769231,\n",
    " 0.01282051282051282,\n",
    " 0.5769230769230769,\n",
    " 0.8461538461538461,\n",
    " 0.5128205128205128,\n",
    " 0.6410256410256411,\n",
    " 0.45454545454545453,\n",
    " 0.5394736842105263,\n",
    " 0.7435897435897436,\n",
    " 0.3333333333333333,\n",
    " 0.5897435897435898,\n",
    " 0.6666666666666666,\n",
    " 0.8589743589743589,\n",
    " 0.7692307692307693,\n",
    " 0.8205128205128205,\n",
    " 0.7142857142857143,\n",
    " 0.1794871794871795,\n",
    " 0.6103896103896104,\n",
    " 0.6538461538461539,\n",
    " 0.4189189189189189,\n",
    " 0.6923076923076923,\n",
    " 0.6666666666666666,\n",
    " 0.5256410256410257,\n",
    " 0.6282051282051282,\n",
    " 0.6923076923076923,\n",
    " 0.7435897435897436,\n",
    " 0.8076923076923077,\n",
    " 0.5324675324675324,\n",
    " 0.4358974358974359,\n",
    " 0.6282051282051282,\n",
    " 0.5769230769230769,\n",
    " 0.7692307692307693,\n",
    " 0.4805194805194805,\n",
    " 0.5,\n",
    " 0.0,\n",
    " 0.6923076923076923,\n",
    " 0.618421052631579,\n",
    " 0.16216216216216217,\n",
    " 0.782051282051282,\n",
    " 0.7692307692307693,\n",
    " 0.6794871794871795,\n",
    " 0.5512820512820513,\n",
    " 0.6233766233766234,\n",
    " 0.7948717948717948,\n",
    " 0.7307692307692307,\n",
    " 0.46153846153846156,\n",
    " 0.782051282051282,\n",
    " 0.8717948717948718,\n",
    " 0.013157894736842105,\n",
    " 0.01282051282051282,\n",
    " 0.8076923076923077,\n",
    " 0.717948717948718,\n",
    " 0.6666666666666666,\n",
    " 0.7564102564102564,\n",
    " 0.6666666666666666,\n",
    " 0.5394736842105263,\n",
    " 0.5897435897435898,\n",
    " 0.3246753246753247,\n",
    " 0.5769230769230769,\n",
    " 0.8461538461538461,\n",
    " 0.6923076923076923,\n",
    " 0.5641025641025641,\n",
    " 0.012987012987012988,\n",
    " 0.5641025641025641,\n",
    " 0.6923076923076923,\n",
    " 0.7307692307692307,\n",
    " 0.782051282051282,\n",
    " 0.5384615384615384,\n",
    " 0.6538461538461539,\n",
    " 0.6025641025641025,\n",
    " 0.32051282051282054,\n",
    " 0.782051282051282,\n",
    " 0.0,\n",
    " 0.5769230769230769,\n",
    " 0.6538461538461539,\n",
    " 0.8717948717948718,\n",
    " 0.5512820512820513,\n",
    " 0.6410256410256411,\n",
    " 0.5,\n",
    " 0.782051282051282,\n",
    " 0.7948717948717948,\n",
    " 0.42105263157894735,\n",
    " 0.8076923076923077,\n",
    " 0.6666666666666666,\n",
    " 0.7922077922077922,\n",
    " 0.7435897435897436,\n",
    " 0.782051282051282,\n",
    " 0.410958904109589,\n",
    " 0.5256410256410257,\n",
    " 0.7435897435897436,\n",
    " 0.8333333333333334,\n",
    " 0.6410256410256411,\n",
    " 0.6410256410256411,\n",
    " 0.7051282051282052,\n",
    " 0.717948717948718,\n",
    " 0.013513513513513514,\n",
    " 0.6282051282051282,\n",
    " 0.7435897435897436,\n",
    " 0.7051282051282052,\n",
    " 0.5,\n",
    " 0.6410256410256411,\n",
    " 0.782051282051282,\n",
    " 0.7051282051282052,\n",
    " 0.012987012987012988,\n",
    " 0.5256410256410257,\n",
    " 0.38961038961038963,\n",
    " 0.8076923076923077,\n",
    " 0.8461538461538461,\n",
    " 0.6282051282051282,\n",
    " 0.47435897435897434,\n",
    " 0.5584415584415584,\n",
    " 0.8205128205128205,\n",
    " 0.7435897435897436,\n",
    " 0.6923076923076923,\n",
    " 0.3333333333333333,\n",
    " 0.0,\n",
    " 0.8051948051948052,\n",
    " 0.6666666666666666,\n",
    " 0.013157894736842105,\n",
    " 0.7012987012987013,\n",
    " 0.01282051282051282,\n",
    " 0.7051282051282052,\n",
    " 0.8076923076923077,\n",
    " 0.7051282051282052,\n",
    " 0.782051282051282,\n",
    " 0.5641025641025641,\n",
    " 0.4861111111111111,\n",
    " 0.7051282051282052,\n",
    " 0.47435897435897434,\n",
    " 0.6923076923076923,\n",
    " 0.6282051282051282,\n",
    " 0.7948717948717948,\n",
    " 0.782051282051282]\n",
    "\n",
    "VE_acc_perSubj_250 = [0.8589743589743589,\n",
    " 0.6282051282051282,\n",
    " 0.7564102564102564,\n",
    " 0.7564102564102564,\n",
    " 0.8589743589743589,\n",
    " 0.41025641025641024,\n",
    " 0.7435897435897436,\n",
    " 0.013333333333333334,\n",
    " 0.7435897435897436,\n",
    " 0.8333333333333334,\n",
    " 0.0,\n",
    " 0.6794871794871795,\n",
    " 0.6923076923076923,\n",
    " 0.6025641025641025,\n",
    " 0.5512820512820513,\n",
    " 0.6666666666666666,\n",
    " 0.5384615384615384,\n",
    " 0.6493506493506493,\n",
    " 0.5512820512820513,\n",
    " 0.8589743589743589,\n",
    " 0.6923076923076923,\n",
    " 0.717948717948718,\n",
    " 0.7692307692307693,\n",
    " 0.6103896103896104,\n",
    " 0.7564102564102564,\n",
    " 0.6025641025641025,\n",
    " 0.8205128205128205,\n",
    " 0.7435897435897436,\n",
    " 0.7142857142857143,\n",
    " 0.5,\n",
    " 0.8076923076923077,\n",
    " 0.6153846153846154,\n",
    " 0.6282051282051282,\n",
    " 0.5512820512820513,\n",
    " 0.20270270270270271,\n",
    " 0.8717948717948718,\n",
    " 0.7532467532467533,\n",
    " 0.7564102564102564,\n",
    " 0.7307692307692307,\n",
    " 0.8076923076923077,\n",
    " 0.6794871794871795,\n",
    " 0.7948717948717948,\n",
    " 0.8461538461538461,\n",
    " 0.01282051282051282,\n",
    " 0.47435897435897434,\n",
    " 0.717948717948718,\n",
    " 0.5897435897435898,\n",
    " 0.8974358974358975,\n",
    " 0.6666666666666666,\n",
    " 0.013513513513513514,\n",
    " 0.7948717948717948,\n",
    " 0.8205128205128205,\n",
    " 0.7948717948717948,\n",
    " 0.782051282051282,\n",
    " 0.44155844155844154,\n",
    " 0.7307692307692307,\n",
    " 0.717948717948718,\n",
    " 0.6666666666666666,\n",
    " 0.7692307692307693,\n",
    " 0.6794871794871795,\n",
    " 0.7948717948717948,\n",
    " 0.013157894736842105,\n",
    " 0.4342105263157895,\n",
    " 0.5256410256410257,\n",
    " 0.09090909090909091,\n",
    " 0.5641025641025641,\n",
    " 0.8205128205128205,\n",
    " 0.782051282051282,\n",
    " 0.6233766233766234,\n",
    " 0.8076923076923077,\n",
    " 0.5769230769230769,\n",
    " 0.47435897435897434,\n",
    " 0.5131578947368421,\n",
    " 0.5897435897435898,\n",
    " 0.6666666666666666,\n",
    " 0.5512820512820513,\n",
    " 0.7692307692307693,\n",
    " 0.8076923076923077,\n",
    " 0.7948717948717948,\n",
    " 0.7948717948717948,\n",
    " 0.7948717948717948,\n",
    " 0.7435897435897436,\n",
    " 0.6493506493506493,\n",
    " 0.6410256410256411,\n",
    " 0.4266666666666667,\n",
    " 0.8333333333333334,\n",
    " 0.7307692307692307,\n",
    " 0.7051282051282052,\n",
    " 0.01282051282051282,\n",
    " 0.5128205128205128,\n",
    " 0.717948717948718,\n",
    " 0.7894736842105263,\n",
    " 0.7307692307692307,\n",
    " 0.717948717948718,\n",
    " 0.7435897435897436,\n",
    " 0.7692307692307693,\n",
    " 0.8205128205128205,\n",
    " 0.782051282051282,\n",
    " 0.5641025641025641,\n",
    " 0.8205128205128205,\n",
    " 0.5512820512820513,\n",
    " 0.7564102564102564,\n",
    " 0.8333333333333334,\n",
    " 0.5641025641025641,\n",
    " 0.717948717948718,\n",
    " 0.717948717948718,\n",
    " 0.6923076923076923,\n",
    " 0.6666666666666666,\n",
    " 0.6578947368421053,\n",
    " 0.6153846153846154,\n",
    " 0.8717948717948718,\n",
    " 0.717948717948718,\n",
    " 0.5641025641025641,\n",
    " 0.8205128205128205,\n",
    " 0.6666666666666666,\n",
    " 0.6282051282051282,\n",
    " 0.44,\n",
    " 0.6153846153846154,\n",
    " 0.7435897435897436,\n",
    " 0.7692307692307693,\n",
    " 0.7435897435897436,\n",
    " 0.34210526315789475,\n",
    " 0.7692307692307693,\n",
    " 0.013888888888888888,\n",
    " 0.7051282051282052,\n",
    " 0.8717948717948718,\n",
    " 0.6666666666666666,\n",
    " 0.8205128205128205,\n",
    " 0.44,\n",
    " 0.8589743589743589,\n",
    " 0.7948717948717948,\n",
    " 0.782051282051282,\n",
    " 0.7402597402597403,\n",
    " 0.7564102564102564,\n",
    " 0.4358974358974359,\n",
    " 0.5512820512820513,\n",
    " 0.8333333333333334,\n",
    " 0.6666666666666666,\n",
    " 0.7051282051282052,\n",
    " 0.6923076923076923,\n",
    " 0.6794871794871795,\n",
    " 0.42857142857142855,\n",
    " 0.782051282051282,\n",
    " 0.8333333333333334,\n",
    " 0.3684210526315789,\n",
    " 0.8076923076923077,\n",
    " 0.7435897435897436,\n",
    " 0.7051282051282052,\n",
    " 0.7307692307692307,\n",
    " 0.012987012987012988,\n",
    " 0.44871794871794873,\n",
    " 0.7692307692307693,\n",
    " 0.5128205128205128,\n",
    " 0.44871794871794873,\n",
    " 0.7692307692307693]\n",
    "\n",
    "VE_acc_perSubj_1000 = [0.7692307692307693,\n",
    " 0.8333333333333334,\n",
    " 0.6666666666666666,\n",
    " 0.6266666666666667,\n",
    " 0.01282051282051282,\n",
    " 0.8076923076923077,\n",
    " 0.012987012987012988,\n",
    " 0.8589743589743589,\n",
    " 0.6666666666666666,\n",
    " 0.8717948717948718,\n",
    " 0.7435897435897436,\n",
    " 0.7142857142857143,\n",
    " 0.5324675324675324,\n",
    " 0.6923076923076923,\n",
    " 0.7692307692307693,\n",
    " 0.8333333333333334,\n",
    " 0.8205128205128205,\n",
    " 0.64,\n",
    " 0.7692307692307693,\n",
    " 0.8589743589743589,\n",
    " 0.8181818181818182,\n",
    " 0.717948717948718,\n",
    " 0.7307692307692307,\n",
    " 0.8589743589743589,\n",
    " 0.38461538461538464,\n",
    " 0.7692307692307693,\n",
    " 0.6363636363636364,\n",
    " 0.4868421052631579,\n",
    " 0.5714285714285714,\n",
    " 0.5384615384615384,\n",
    " 0.8076923076923077,\n",
    " 0.6410256410256411,\n",
    " 0.8333333333333334,\n",
    " 0.7948717948717948,\n",
    " 0.38666666666666666,\n",
    " 0.7307692307692307,\n",
    " 0.44871794871794873,\n",
    " 0.7692307692307693,\n",
    " 0.8461538461538461,\n",
    " 0.8076923076923077,\n",
    " 0.8461538461538461,\n",
    " 0.9102564102564102,\n",
    " 0.717948717948718,\n",
    " 0.7948717948717948,\n",
    " 0.8589743589743589,\n",
    " 0.45454545454545453,\n",
    " 0.8717948717948718,\n",
    " 0.7837837837837838,\n",
    " 0.8205128205128205,\n",
    " 0.7692307692307693,\n",
    " 0.8333333333333334,\n",
    " 0.8846153846153846,\n",
    " 0.0,\n",
    " 0.0,\n",
    " 0.8589743589743589,\n",
    " 0.717948717948718,\n",
    " 0.7948717948717948,\n",
    " 0.7435897435897436,\n",
    " 0.7564102564102564,\n",
    " 0.6883116883116883,\n",
    " 0.782051282051282,\n",
    " 0.6538461538461539,\n",
    " 0.8846153846153846,\n",
    " 0.28205128205128205,\n",
    " 0.7564102564102564,\n",
    " 0.7894736842105263,\n",
    " 0.717948717948718,\n",
    " 0.5789473684210527,\n",
    " 0.782051282051282,\n",
    " 0.8461538461538461,\n",
    " 0.7564102564102564,\n",
    " 0.8205128205128205,\n",
    " 0.7692307692307693,\n",
    " 0.8333333333333334,\n",
    " 0.6973684210526315,\n",
    " 0.8333333333333334,\n",
    " 0.4935064935064935,\n",
    " 0.8205128205128205,\n",
    " 0.8461538461538461,\n",
    " 0.7307692307692307,\n",
    " 0.5641025641025641,\n",
    " 0.8589743589743589,\n",
    " 0.6493506493506493,\n",
    " 0.7435897435897436,\n",
    " 0.75,\n",
    " 0.5641025641025641,\n",
    " 0.47435897435897434,\n",
    " 0.7435897435897436,\n",
    " 0.7894736842105263,\n",
    " 0.7051282051282052,\n",
    " 0.7692307692307693,\n",
    " 0.6351351351351351,\n",
    " 0.6923076923076923,\n",
    " 0.8333333333333334,\n",
    " 0.8648648648648649,\n",
    " 0.04,\n",
    " 0.8076923076923077,\n",
    " 0.8205128205128205,\n",
    " 0.7435897435897436,\n",
    " 0.8974358974358975,\n",
    " 0.7692307692307693,\n",
    " 0.8333333333333334,\n",
    " 0.7733333333333333,\n",
    " 0.37662337662337664,\n",
    " 0.7948717948717948,\n",
    " 0.8076923076923077,\n",
    " 0.6025641025641025,\n",
    " 0.8717948717948718,\n",
    " 0.7432432432432432,\n",
    " 0.8589743589743589,\n",
    " 0.013888888888888888,\n",
    " 0.0,\n",
    " 0.717948717948718,\n",
    " 0.8571428571428571,\n",
    " 0.6103896103896104,\n",
    " 0.7297297297297297,\n",
    " 0.1038961038961039,\n",
    " 0.8333333333333334,\n",
    " 0.8205128205128205,\n",
    " 0.8461538461538461,\n",
    " 0.41333333333333333,\n",
    " 0.5512820512820513,\n",
    " 0.7692307692307693,\n",
    " 0.28205128205128205,\n",
    " 0.8589743589743589,\n",
    " 0.01282051282051282,\n",
    " 0.8205128205128205,\n",
    " 0.5897435897435898,\n",
    " 0.8333333333333334,\n",
    " 0.8205128205128205,\n",
    " 0.7307692307692307,\n",
    " 0.7435897435897436,\n",
    " 0.5263157894736842,\n",
    " 0.7948717948717948,\n",
    " 0.06578947368421052,\n",
    " 0.8717948717948718,\n",
    " 0.8076923076923077,\n",
    " 0.7051282051282052,\n",
    " 0.6282051282051282,\n",
    " 0.7948717948717948,\n",
    " 0.7564102564102564,\n",
    " 0.18181818181818182,\n",
    " 0.8717948717948718,\n",
    " 0.5641025641025641,\n",
    " 0.782051282051282,\n",
    " 0.8333333333333334,\n",
    " 0.44871794871794873,\n",
    " 0.7051282051282052,\n",
    " 0.6923076923076923,\n",
    " 0.8205128205128205,\n",
    " 0.8076923076923077,\n",
    " 0.7948717948717948,\n",
    " 0.782051282051282,\n",
    " 0.4166666666666667,\n",
    " 0.7948717948717948,\n",
    " 0.7922077922077922]\n"
   ]
  },
  {
   "cell_type": "code",
   "execution_count": 20,
   "metadata": {},
   "outputs": [
    {
     "name": "stdout",
     "output_type": "stream",
     "text": [
      "125: VE x Kinect\n",
      "Ttest_relResult(statistic=-8.543858192522988, pvalue=1.1847121854839539e-14)\n",
      "250: VE x Kinect\n",
      "Ttest_relResult(statistic=-8.500573646666643, pvalue=1.5272755104274374e-14)\n",
      "1000: VE x Kinect\n",
      "Ttest_relResult(statistic=-11.319966852835181, pvalue=4.9586229100647445e-22)\n"
     ]
    }
   ],
   "source": [
    "\n",
    "print('125: VE x Kinect')\n",
    "print(stats.ttest_rel(acc_perSubj_by_duration['125'], VE_acc_perSubj_125))\n",
    "\n",
    "print('250: VE x Kinect')\n",
    "print(stats.ttest_rel(acc_perSubj_by_duration['250'], VE_acc_perSubj_250))\n",
    "\n",
    "print('1000: VE x Kinect')\n",
    "print(stats.ttest_rel(acc_perSubj_by_duration['1000'], VE_acc_perSubj_1000))"
   ]
  },
  {
   "cell_type": "code",
   "execution_count": null,
   "metadata": {},
   "outputs": [],
   "source": []
  }
 ],
 "metadata": {
  "kernelspec": {
   "display_name": "Python 3",
   "language": "python",
   "name": "python3"
  },
  "language_info": {
   "codemirror_mode": {
    "name": "ipython",
    "version": 3
   },
   "file_extension": ".py",
   "mimetype": "text/x-python",
   "name": "python",
   "nbconvert_exporter": "python",
   "pygments_lexer": "ipython3",
   "version": "3.7.4"
  }
 },
 "nbformat": 4,
 "nbformat_minor": 4
}
