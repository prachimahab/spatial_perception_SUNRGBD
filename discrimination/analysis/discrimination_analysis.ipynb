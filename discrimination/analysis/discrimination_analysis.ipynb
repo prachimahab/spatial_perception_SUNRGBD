{
 "cells": [
  {
   "cell_type": "markdown",
   "metadata": {},
   "source": [
    "# Matched Discrimination Analysis"
   ]
  },
  {
   "cell_type": "code",
   "execution_count": 1,
   "metadata": {},
   "outputs": [],
   "source": [
    "import os \n",
    "import pandas as pd\n",
    "import numpy as np\n",
    "import math\n",
    "import matplotlib.pyplot as plt\n",
    "import scipy \n",
    "import scipy.stats as stats\n",
    "from scipy.stats import sem \n",
    "from mpl_toolkits.mplot3d import Axes3D # <--- This is important for 3d plotting \n",
    "from sklearn.linear_model import LinearRegression\n"
   ]
  },
  {
   "cell_type": "markdown",
   "metadata": {},
   "source": [
    "## Load in data if pipeline has already been run through"
   ]
  },
  {
   "cell_type": "code",
   "execution_count": 3,
   "metadata": {},
   "outputs": [],
   "source": [
    "_dir = '/Users/prachimahableshwarkar/Documents/GW/Depth_MTurk/depth_discrimination'\n",
    "# raw_dir = _dir + '/data/finalVEMatched/raw/'\n",
    "zs_dir = _dir + '/data/finalDiscrimMatched/z_scored_RT/'\n",
    "\n",
    "# final_data = pd.read_csv (raw_dir + '/raw_discrim.csv')\n",
    "zscored_data = pd.read_csv (zs_dir + 'final_discrim.csv')"
   ]
  },
  {
   "cell_type": "code",
   "execution_count": null,
   "metadata": {},
   "outputs": [],
   "source": []
  },
  {
   "cell_type": "code",
   "execution_count": 860,
   "metadata": {},
   "outputs": [],
   "source": [
    "def combineCSVs(datafolder, num_discrim_trials):\n",
    "    \"\"\"\n",
    "    Combine all participant data into one pandas df\n",
    "    OR \n",
    "    Create df for single participant file \n",
    "    \n",
    "    returns:\n",
    "        (1) combined dataframe of all discrimination data \n",
    "        (2) combined dataframe of all scene property rating data \n",
    "    \"\"\"\n",
    "    #checks if path is a file\n",
    "    isFile = os.path.isfile(datafolder)\n",
    "\n",
    "    #checks if path is a directory\n",
    "    \n",
    "    isDirectory = os.path.isdir(datafolder)\n",
    "    \n",
    "    if isDirectory == True:\n",
    "        discrim_data = []\n",
    "        for filename in os.listdir(datafolder):\n",
    "            if 'csv' in filename:\n",
    "                path = datafolder + \"/\" + filename\n",
    "                df = pd.read_csv(path, index_col=None, header=0)\n",
    "                \n",
    "                df_discrim = df[0:num_discrim_trials]\n",
    "                discrim_data.append(df_discrim)\n",
    "\n",
    "        discrim_frame = pd.concat(discrim_data, axis=0, ignore_index=True)\n",
    "        \n",
    "    if isFile == True:\n",
    "        if 'csv' in datafolder:\n",
    "            df = pd.read_csv(datafolder, index_col=None, header=0)\n",
    "            df_discrim = df[0:num_discrim_trials]\n",
    "            discrim_data.append(df_discrim)\n",
    " \n",
    "    return discrim_frame"
   ]
  },
  {
   "cell_type": "code",
   "execution_count": 861,
   "metadata": {},
   "outputs": [],
   "source": [
    "data_path = '/Users/prachimahableshwarkar/Documents/GW/FacialAge/FacialAge_MTurk/BNav_EC2/DepthDuration/v2_depth_discrimination_MTurk/data'\n",
    "num_total_trials = 86"
   ]
  },
  {
   "cell_type": "code",
   "execution_count": 862,
   "metadata": {},
   "outputs": [],
   "source": [
    "raw_discrim = combineCSVs(data_path, num_total_trials)"
   ]
  },
  {
   "cell_type": "code",
   "execution_count": 863,
   "metadata": {},
   "outputs": [],
   "source": [
    "# raw_discrim"
   ]
  },
  {
   "cell_type": "code",
   "execution_count": 864,
   "metadata": {},
   "outputs": [
    {
     "data": {
      "text/plain": [
       "1050"
      ]
     },
     "execution_count": 864,
     "metadata": {},
     "output_type": "execute_result"
    }
   ],
   "source": [
    "all_subjIDs = raw_discrim.subjID.unique()\n",
    "len(all_subjIDs)"
   ]
  },
  {
   "cell_type": "code",
   "execution_count": 865,
   "metadata": {},
   "outputs": [
    {
     "data": {
      "text/plain": [
       "array([  24,   28,   31,   38,   45,   33,   35,   34,   55,   27,   32,\n",
       "         40,   51,   58,   29,   36,   46,   25,   42,   48,   30,   37,\n",
       "         41,   26,   53,   50,   64, 1997,   61,   57,   47,   22,   23,\n",
       "         70, 1970, 1994,   56,   59,   52,   44,   21,   43,   69, 1974,\n",
       "         62,   49, 1990,   65, 1989,   39, 1960, 1965,   60, 1976,   63,\n",
       "         19,   54, 1985,   67,   20, 1971, 1963,   66, 1980,   77,   76,\n",
       "         71, 1973,   68, 1966, 1959, 1964])"
      ]
     },
     "execution_count": 865,
     "metadata": {},
     "output_type": "execute_result"
    }
   ],
   "source": [
    "all_ages = raw_discrim.age.unique()\n",
    "all_ages"
   ]
  },
  {
   "cell_type": "markdown",
   "metadata": {},
   "source": [
    "## <font color='red'> Data Cleaning </font> \n",
    "\n"
   ]
  },
  {
   "cell_type": "code",
   "execution_count": 866,
   "metadata": {},
   "outputs": [],
   "source": [
    "def catchTrial_cleaning(df, correct_requirement, catch_stimuli):\n",
    "    '''\n",
    "    Participants complete 8 catch trials total to ensure that they are doing the task.\n",
    "    If less than 6/8 catch trials are correct, the participant is excluded.  \n",
    "    '''\n",
    "    all_subjIDs = df.subjID.unique()\n",
    "    remove = []\n",
    "    subj_sequence = {}\n",
    "    df2_list = []\n",
    "    \n",
    "    for subj in all_subjIDs:\n",
    "        count_correct = 0\n",
    "        subj_df = df.loc[df['subjID'] == subj]\n",
    "        cleaned_subj_df = subj_df.copy(deep=True) # prevent setting with copy warning\n",
    "        # \n",
    "        subj_sequence[subj] = subj_df.sequenceName.unique()[0]\n",
    "        \n",
    "        # remove trials that are outside the outlier range\n",
    "        c = 0\n",
    "        c_missed = 0\n",
    "        for idx, row in subj_df.iterrows():\n",
    "            stim1 = row['stimulus_0']\n",
    "            stim2 = row['stimulus_1']\n",
    "            # TEMP SOLUTION FOR RANDOM PHP DATA SAVING PROBLEM \n",
    "            if type(stim1) == str:\n",
    "                if stim1.split('/')[1] in catch_stimuli or stim2.split('/')[1] in catch_stimuli:\n",
    "                    ####### VERSION WHERE CATCH TRIALS ARE ATTENTION CHECK: IMAGE 1 IS THE SAME AS IMAGE 2\n",
    "                    c += 1\n",
    "                    if row[\"discrim_choice\"] == 3:\n",
    "#                         print(row[\"discrim_choice\"])\n",
    "                        count_correct += 1\n",
    "#                     else:\n",
    "#                         print(row[\"discrim_choice\"])\n",
    "                    # remove catch trial \n",
    "                    cleaned_subj_df.drop([idx], inplace=True)\n",
    "    #                 print(depth0, depth1, correct_choice, choice)\n",
    "#         print(c_missed, 'Number of catch trials where participants did not see the target')\n",
    "#         print(c)\n",
    "#         print(count_correct)\n",
    "        if count_correct < correct_requirement:\n",
    "#             print('Number correct:', count_correct)\n",
    "            remove.append(subj)\n",
    "\n",
    "        df2_list.append(cleaned_subj_df)\n",
    "    \n",
    "    df2 = pd.concat(df2_list)\n",
    "    print(\"Number of participants that did not pass the catch trial check:\", len(remove))\n",
    "\n",
    "#     for index, row in df2.iterrows():\n",
    "#         if row['subjID'] in remove:\n",
    "#             df2.drop(index, inplace=True)\n",
    "            \n",
    "    for subj in remove:\n",
    "        df2.drop(df2[df2['subjID'] == subj].index, inplace = True) \n",
    "    \n",
    "    return df2\n",
    "    \n",
    "    "
   ]
  },
  {
   "cell_type": "code",
   "execution_count": null,
   "metadata": {},
   "outputs": [],
   "source": []
  },
  {
   "cell_type": "code",
   "execution_count": 867,
   "metadata": {},
   "outputs": [],
   "source": [
    "sequences_path = '/Users/prachimahableshwarkar/Documents/GW/FacialAge/FacialAge_MTurk/BNav_EC2/DepthDuration/v2_depth_discrimination_MTurk/discrim_jsons'\n",
    "sequences_count_dict = {}\n",
    "for seq in os.listdir(sequences_path):\n",
    "    if 'json' in seq:\n",
    "        sequences_count_dict['discrim_jsons/'+seq] = 0\n"
   ]
  },
  {
   "cell_type": "code",
   "execution_count": 868,
   "metadata": {},
   "outputs": [],
   "source": [
    "all_catch_stim = ['000375_2014-06-08_11-17-29_260595134347_rgbf000133-resize_2',\n",
    "                  '000569_2014-06-09_22-51-47_260595134347_rgbf000141-resize_3',\n",
    "                  '000787_2014-06-08_22-33-53_260595134347_rgbf000175-resize_1',\n",
    "                  '002072_2014-06-24_21-48-06_260595134347_rgbf000115-resize_0',\n",
    "                  '001170_2014-06-17_15-43-44_260595134347_rgbf000096-resize_6',\n",
    "                  '001222_2014-06-17_16-24-06_260595134347_rgbf000073-resize_0',\n",
    "                  '001498_2014-06-19_17-45-14_260595134347_rgbf000129-resize_4',\n",
    "                  '001540_2014-06-20_17-01-05_260595134347_rgbf000086-resize_2']"
   ]
  },
  {
   "cell_type": "code",
   "execution_count": 869,
   "metadata": {},
   "outputs": [
    {
     "name": "stdout",
     "output_type": "stream",
     "text": [
      "Number of participants that did not pass the catch trial check: 571\n"
     ]
    }
   ],
   "source": [
    "catch_cleaned_discrim = catchTrial_cleaning(raw_discrim, 6, all_catch_stim)"
   ]
  },
  {
   "cell_type": "code",
   "execution_count": 870,
   "metadata": {},
   "outputs": [
    {
     "data": {
      "text/plain": [
       "array([  28,   31,   38,   45,   33,   35,   34,   27,   40,   51,   58,\n",
       "         29,   36,   42,   55,   37,   25,   26,   50,   53,   61,   22,\n",
       "         46,   24, 1970,   30,   41,   56,   52,   44,   32,   43,   69,\n",
       "         47,   48,   62,   49,   64, 1989,   39,   21,   60,   63,   65,\n",
       "         57,   20,   67,   59,   66, 1980,   77,   54,   76,   23,   68])"
      ]
     },
     "execution_count": 870,
     "metadata": {},
     "output_type": "execute_result"
    }
   ],
   "source": [
    "cleaned_ages = catch_cleaned_discrim.age.unique()\n",
    "cleaned_ages"
   ]
  },
  {
   "cell_type": "markdown",
   "metadata": {},
   "source": [
    "\n"
   ]
  },
  {
   "cell_type": "code",
   "execution_count": 871,
   "metadata": {},
   "outputs": [],
   "source": [
    "def RT_cleaning(df, outlier_range, num_trials):\n",
    "    all_subjIDs = df.subjID.unique()\n",
    "    remove = []\n",
    "    df2_list = []\n",
    "    for subj in all_subjIDs:\n",
    "        count = 0\n",
    "        subj_df = df.loc[df['subjID'] == subj]\n",
    "        cleaned_subj_df = subj_df.copy(deep=True) # prevent setting with copy warning\n",
    "        \n",
    "        # calculate subject's average trial RT\n",
    "        average_trial_RT = subj_df[\"trial_RT\"].mean()\n",
    "        std_trial_RT = subj_df[\"trial_RT\"].std()\n",
    "        \n",
    "        # remove trials that are outside the outlier range\n",
    "        for idx, row in subj_df.iterrows():\n",
    "            RT = row['trial_RT']\n",
    "            if RT < outlier_range[0]:\n",
    "                cleaned_subj_df.drop([idx], inplace=True)\n",
    "                count += 1\n",
    "            if RT > outlier_range[1]:\n",
    "                cleaned_subj_df.drop([idx], inplace=True)\n",
    "                count += 1\n",
    "                \n",
    "        threshold = math.floor(num_trials * 0.1)\n",
    "        if count >= threshold:\n",
    "            remove.append(subj)\n",
    "        \n",
    "        df2_list.append(cleaned_subj_df)\n",
    "    \n",
    "    df2 = pd.concat(df2_list)\n",
    "    print(\"Number of Participants with 10% or more trials outside their RT range:\", len(remove))\n",
    "    \n",
    "#     for index, row in df2.iterrows():\n",
    "#         if row['subjID'] in remove:\n",
    "#             df2.drop(index, inplace=True)\n",
    "            \n",
    "    for subj in remove:\n",
    "        df2.drop(df2[df2['subjID'] == subj].index, inplace = True) \n",
    "    \n",
    "    return df2\n"
   ]
  },
  {
   "cell_type": "code",
   "execution_count": 872,
   "metadata": {},
   "outputs": [
    {
     "name": "stdout",
     "output_type": "stream",
     "text": [
      "Number of Participants with 10% or more trials outside their RT range: 15\n"
     ]
    }
   ],
   "source": [
    "cleaned_discrim = RT_cleaning(catch_cleaned_discrim, [250,10000], 78)\n",
    "\n"
   ]
  },
  {
   "cell_type": "code",
   "execution_count": 873,
   "metadata": {},
   "outputs": [],
   "source": [
    "def finalTrialCountCheck(df, num_trials):\n",
    "    \"\"\"\n",
    "    If more then 10% of a participants data is missing, remove the participant\n",
    "    \"\"\"\n",
    "    #List unique values in the df['subjID'] column\\n\",\n",
    "    all_subjIDs = df.subjID.unique()\n",
    "    remove = []\n",
    "    for subj in all_subjIDs:\n",
    "        subj_df = df.loc[df['subjID'] == subj]\n",
    "        count_trials = len(subj_df.index)\n",
    "        threshold_trials_remaining = num_trials - math.floor(num_trials * 0.1)\n",
    "        \n",
    "        if count_trials <= threshold_trials_remaining:\n",
    "            remove.append(subj)\n",
    "    print(\"Number of Participants with >= 10% trials removed:\", len(remove))\n",
    "    \n",
    "#     for index, row in df.iterrows():\n",
    "#         if row['subjID'] in remove:\n",
    "#             df.drop(index, inplace=True)\n",
    "            \n",
    "    for subj in remove:\n",
    "        df.drop(df[df['subjID'] == subj].index, inplace = True) \n",
    "    \n",
    "    print(\"Number of participants left:\",len(df.subjID.unique()))\n",
    "    \n",
    "    return df"
   ]
  },
  {
   "cell_type": "code",
   "execution_count": 1127,
   "metadata": {},
   "outputs": [
    {
     "name": "stdout",
     "output_type": "stream",
     "text": [
      "Number of Participants with >= 10% trials removed: 0\n",
      "Number of participants left: 464\n"
     ]
    }
   ],
   "source": [
    "final_discrim = finalTrialCountCheck(cleaned_discrim, 78)"
   ]
  },
  {
   "cell_type": "code",
   "execution_count": 1128,
   "metadata": {},
   "outputs": [],
   "source": [
    "final_discrim_125_RTs = final_discrim.loc[final_discrim['duration']==125]['trial_RT']\n",
    "final_discrim_250_RTs = final_discrim.loc[final_discrim['duration']==250]['trial_RT']\n",
    "final_discrim_1000_RTs = final_discrim.loc[final_discrim['duration']==1000]['trial_RT']"
   ]
  },
  {
   "cell_type": "code",
   "execution_count": 1129,
   "metadata": {},
   "outputs": [
    {
     "data": {
      "text/plain": [
       "(array([ 366., 8908., 1807.,  528.,  243.,   99.,   55.,   28.,   27.,\n",
       "          13.]),\n",
       " array([ 726. , 1645.4, 2564.8, 3484.2, 4403.6, 5323. , 6242.4, 7161.8,\n",
       "        8081.2, 9000.6, 9920. ]),\n",
       " <a list of 10 Patch objects>)"
      ]
     },
     "execution_count": 1129,
     "metadata": {},
     "output_type": "execute_result"
    },
    {
     "data": {
      "image/png": "[encoded data removed]",
      "text/plain": [
       "<Figure size 432x288 with 1 Axes>"
      ]
     },
     "metadata": {
      "needs_background": "light"
     },
     "output_type": "display_data"
    }
   ],
   "source": [
    "plt.hist(final_discrim_125_RTs, color = 'darkgreen')\n",
    "plt.hist(final_discrim_250_RTs, color = 'chocolate')\n",
    "plt.hist(final_discrim_1000_RTs, color = 'darkviolet')"
   ]
  },
  {
   "cell_type": "markdown",
   "metadata": {},
   "source": [
    "### Z-Score RT "
   ]
  },
  {
   "cell_type": "code",
   "execution_count": 1131,
   "metadata": {},
   "outputs": [],
   "source": [
    "def zscored_outcomes(df):\n",
    "    '''\n",
    "    z-score RTs:\n",
    "        for each subj calculate their avg and std \n",
    "        zscored = (estim - subj avg)/subj std\n",
    "    '''\n",
    "    #List unique values in the df['subjID'] column\n",
    "    all_subjIDs = df.subjID.unique()\n",
    "    \n",
    "    df2_list = []\n",
    "    for subj in all_subjIDs:\n",
    "        subj_df = df.loc[df['subjID'] == subj]\n",
    "        final_subj_df = subj_df.copy(deep=True) # prevent setting with copy warning \n",
    "\n",
    "        # Z-Score RT\n",
    "        stimulus_duration = subj_df.log_sceneDuration2.unique()[0]\n",
    "        average_RT = subj_df[\"trial_RT\"].mean()\n",
    "        std_RT = subj_df[\"trial_RT\"].std()\n",
    "        # remove stimulus duration and mask time\n",
    "        subj_RTs = np.array(list(subj_df[\"trial_RT\"])) - (stimulus_duration)\n",
    "        \n",
    "        zscored_subj_RTs = (subj_RTs - average_RT)/std_RT\n",
    "#         final_subj_df.replace(subj_RTs, zscored_subj_RTs, inplace=True)\n",
    "        final_subj_df.insert(12, \"z_scored_RT\", zscored_subj_RTs, True)\n",
    "        final_subj_df.insert(13, \"cleaned_RT\", subj_RTs, True)\n",
    "\n",
    "        df2_list.append(final_subj_df)\n",
    "    \n",
    "    df2 = pd.concat(df2_list)    \n",
    "\n",
    "    return df2\n",
    "     "
   ]
  },
  {
   "cell_type": "code",
   "execution_count": 1132,
   "metadata": {},
   "outputs": [
    {
     "name": "stderr",
     "output_type": "stream",
     "text": [
      "/Users/prachimahableshwarkar/opt/anaconda3/envs/defaultenv/lib/python3.7/site-packages/ipykernel_launcher.py:22: RuntimeWarning: divide by zero encountered in true_divide\n"
     ]
    }
   ],
   "source": [
    "zscored_data = zscored_outcomes(final_discrim)"
   ]
  },
  {
   "cell_type": "code",
   "execution_count": 1133,
   "metadata": {},
   "outputs": [],
   "source": [
    "# zscored_data['z_scored_RT']"
   ]
  },
  {
   "cell_type": "code",
   "execution_count": 1134,
   "metadata": {},
   "outputs": [],
   "source": [
    "# sequences that are completed\n",
    "\n",
    "sampled_urls = zscored_data.url.unique()\n"
   ]
  },
  {
   "cell_type": "markdown",
   "metadata": {},
   "source": [
    "<!-- ## Sequences that need replacing\n",
    "\n",
    "Final N = 192 \n",
    "\n",
    "Each sequence should have 48 participants -->"
   ]
  },
  {
   "cell_type": "code",
   "execution_count": 1135,
   "metadata": {},
   "outputs": [],
   "source": [
    "# sampled_urls"
   ]
  },
  {
   "cell_type": "code",
   "execution_count": 991,
   "metadata": {},
   "outputs": [],
   "source": [
    "# final list of subjects \n",
    "# zscored_data.subjID.unique()"
   ]
  },
  {
   "cell_type": "markdown",
   "metadata": {},
   "source": [
    "# Correlation with Verbal Report data \n",
    "\n",
    "- For each discrimination trial, get the average difference between the verbal report for those scenes \n",
    "- Correlate that with the proportion correct for that trial \n",
    "- Is there better accuracy for scenes that have a larger percevied depth difference (using the verbal report data)?"
   ]
  },
  {
   "cell_type": "markdown",
   "metadata": {},
   "source": [
    "## Individual Discriminations"
   ]
  },
  {
   "cell_type": "code",
   "execution_count": 4,
   "metadata": {},
   "outputs": [],
   "source": [
    "def get_accuracy(df):\n",
    "    \"\"\"\n",
    "    * ACCURACY BASED ON THE KINECT\n",
    "    args:\n",
    "        df  \n",
    "    returns:\n",
    "        proportion of correct responses, count of correct responses, count of total trials  \n",
    "    \"\"\"\n",
    "    count_correct = 0\n",
    "    count_incorrect = 0\n",
    "    count_total = 0\n",
    "    count_missed = 0\n",
    "    for idx, row in df.iterrows():\n",
    "        choice = row[\"discrim_choice\"]\n",
    "        if choice == 2.0:\n",
    "            count_missed += 1\n",
    "        else:    \n",
    "            count_total += 1\n",
    "            depth0 = row[\"actual_depth_0\"]\n",
    "            depth1 = row[\"actual_depth_1\"]\n",
    "            if depth0 < depth1:\n",
    "                correct_choice = 0\n",
    "            if depth0 > depth1:\n",
    "                correct_choice = 1\n",
    "            if depth0 == depth1:\n",
    "                # case where depths are equal \n",
    "                correct_choice = None\n",
    "            if choice == correct_choice:\n",
    "                count_correct += 1\n",
    "    \n",
    "    return count_correct/count_total, count_correct, count_total, count_missed\n",
    "\n",
    "def get_RT(df):\n",
    "    \"\"\"\n",
    "    args:\n",
    "        df  \n",
    "    returns:\n",
    "        array of RTs, avg RT and std   \n",
    "    \"\"\"\n",
    "    list_RTs = []\n",
    "    for idx, row in df.iterrows():   \n",
    "#         list_RTs.append(row[\"trial_RT\"])\n",
    "        list_RTs.append(row[\"cleaned_RT\"])\n",
    "\n",
    "#         list_RTs.append(row[\"z_scored_RT\"])\n",
    "    \n",
    "    list_RTs = np.array(list_RTs)\n",
    "    \n",
    "    return list_RTs, np.mean(list_RTs) ,np.std(list_RTs), stats.sem(list_RTs)"
   ]
  },
  {
   "cell_type": "code",
   "execution_count": 5,
   "metadata": {},
   "outputs": [],
   "source": [
    "def depth_differences(df):\n",
    "    \"\"\"\n",
    "    args:\n",
    "        df  \n",
    "    returns:\n",
    "        array of depth differences, avg depth differences and std   \n",
    "    \"\"\"\n",
    "    depth_diffs = []\n",
    "    answers = []\n",
    "    for idx, row in df.iterrows():\n",
    "        depth0 = row[\"actual_depth_0\"]\n",
    "        depth1 = row[\"actual_depth_1\"]\n",
    "        \n",
    "        diff = depth0-depth1\n",
    "        if diff < 0:\n",
    "            answer = row['stimulus_0']\n",
    "        else:\n",
    "            answer = row['stimulus_1']\n",
    "        answers.append(answer)\n",
    "        depth_diffs.append(abs(depth0-depth1))\n",
    "    \n",
    "    depth_diffs = np.array(depth_diffs)\n",
    "    \n",
    "    return depth_diffs, np.mean(depth_diffs) ,np.std(depth_diffs),answers\n",
    "    "
   ]
  },
  {
   "cell_type": "code",
   "execution_count": 1138,
   "metadata": {},
   "outputs": [],
   "source": [
    "all_depth_diffs = depth_differences(zscored_data)\n",
    "\n",
    "# add depth difference column to dataframe \n",
    "zscored_data.insert(18, \"depth_difference\", all_depth_diffs[0])"
   ]
  },
  {
   "cell_type": "code",
   "execution_count": 1139,
   "metadata": {},
   "outputs": [],
   "source": [
    "zscored_data.insert(19, \"kinect_answer\", all_depth_diffs[-1])"
   ]
  },
  {
   "cell_type": "code",
   "execution_count": 1140,
   "metadata": {},
   "outputs": [],
   "source": [
    "final_discrim_125 = zscored_data.loc[zscored_data['duration'] == 125]\n",
    "final_discrim_250 = zscored_data.loc[zscored_data['duration'] == 250]\n",
    "final_discrim_1000 = zscored_data.loc[zscored_data['duration'] == 1000]"
   ]
  },
  {
   "cell_type": "code",
   "execution_count": 1141,
   "metadata": {},
   "outputs": [],
   "source": [
    "final_discrim = zscored_data"
   ]
  },
  {
   "cell_type": "code",
   "execution_count": 1142,
   "metadata": {},
   "outputs": [],
   "source": [
    "dest = '/Users/prachimahableshwarkar/Documents/GW/Depth_MTurk/depth_discrimination/data/finalDiscrimMatched/z_scored_RT'\n",
    "\n",
    "final_discrim_125.to_csv(dest + '/' + 'final_discrim_125.csv')\n",
    "final_discrim_250.to_csv(dest + '/' + 'final_discrim_250.csv')\n",
    "final_discrim_1000.to_csv(dest + '/' + 'final_discrim_1000.csv')\n",
    "final_discrim.to_csv(dest + '/' + 'final_discrim.csv')"
   ]
  },
  {
   "cell_type": "code",
   "execution_count": 1143,
   "metadata": {},
   "outputs": [
    {
     "data": {
      "text/plain": [
       "(0.5949060378102724, 21115, 35493, 494)"
      ]
     },
     "execution_count": 1143,
     "metadata": {},
     "output_type": "execute_result"
    }
   ],
   "source": [
    "overall_accuracy = get_accuracy(final_discrim)\n",
    "overall_accuracy"
   ]
  },
  {
   "cell_type": "code",
   "execution_count": 6,
   "metadata": {},
   "outputs": [],
   "source": [
    "def individual_discrimination_stats(df):\n",
    "    '''\n",
    "    Individual discrimination performance and RT \n",
    "    '''\n",
    "    all_stim0 = [elem for elem in df.stimulus_0.unique() if type(elem) == str]\n",
    "\n",
    "    stimuli_stats = {}\n",
    "    for stim0 in all_stim0:\n",
    "        stim0_df = df.loc[df['stimulus_0'] == stim0]\n",
    "        other_stim = stim0_df.stimulus_1.unique()[0]\n",
    "        stim1_df = df.loc[df['stimulus_1'] == stim0]\n",
    "        # df for a specific discrimination trial (collapsed on stim presentation order)\n",
    "        stim_df = pd.concat([stim0_df, stim1_df], ignore_index=True)\n",
    "        stim_125_df = stim_df[stim_df['duration'] == 125.0]\n",
    "        stim_250_df = stim_df[stim_df['duration'] == 250.0]\n",
    "        stim_1000_df = stim_df[stim_df['duration'] == 1000.0] \n",
    "                \n",
    "        stim_depthdiff = stim_df['depth_difference'][0]\n",
    "        \n",
    "        stim0_depth = stim_df['actual_depth_0'][0]\n",
    "        stim1_depth = stim_df['actual_depth_1'][0]\n",
    "        stim_depthbin = np.mean(np.array([stim0_depth,stim1_depth]))\n",
    "        \n",
    "        kinect_answer = stim0_df.kinect_answer.unique()[0]\n",
    "        \n",
    "        try:\n",
    "            stim_acc_125 = get_accuracy(stim_125_df)\n",
    "            stim_acc_250 = get_accuracy(stim_250_df)\n",
    "            stim_acc_1000 = get_accuracy(stim_1000_df)\n",
    "\n",
    "            stim_RT_125 = get_RT(stim_125_df)\n",
    "            stim_RT_250 = get_RT(stim_250_df)\n",
    "            stim_RT_1000 = get_RT(stim_1000_df)\n",
    "\n",
    "            stimuli_stats[stim0] = {'stimulus_1': other_stim,\n",
    "                                    'accuracy_125': stim_acc_125,\n",
    "                                    'RT_125': stim_RT_125,\n",
    "                                    'accuracy_250': stim_acc_250,\n",
    "                                    'RT_250': stim_RT_250,\n",
    "                                    'accuracy_1000': stim_acc_1000,\n",
    "                                    'RT_1000': stim_RT_1000,\n",
    "                                    'avg_depth': stim_depthbin,\n",
    "                                    'depthdifference': stim_depthdiff, \n",
    "                                    'kinect_answer': kinect_answer}\n",
    "        except:\n",
    "            pass\n",
    "    \n",
    "    return stimuli_stats"
   ]
  },
  {
   "cell_type": "code",
   "execution_count": 7,
   "metadata": {},
   "outputs": [],
   "source": [
    "all_discrim_performance = individual_discrimination_stats(zscored_data)\n"
   ]
  },
  {
   "cell_type": "code",
   "execution_count": 1146,
   "metadata": {},
   "outputs": [],
   "source": [
    "# all_discrim_performance['depth_discrimination_stimuli/001417_2014-06-19_16-25-36_260595134347_rgbf000115-resize_5/001417_2014-06-19_16-25-36_260595134347_rgbf000115-resize_5-target.png']\n",
    "\n"
   ]
  },
  {
   "cell_type": "markdown",
   "metadata": {},
   "source": [
    "## Load Z-scored TAC Verbal Judgement Data\n"
   ]
  },
  {
   "cell_type": "code",
   "execution_count": 8,
   "metadata": {},
   "outputs": [],
   "source": [
    "p = '/Users/prachimahableshwarkar/Documents/GW/Depth_MTurk/verbal_judgement_analysis/data/finalVEMatched/z_scored/'\n",
    "\n",
    "# x data\n",
    "with open(p + 'X_125.npy' , 'rb') as f:\n",
    "    n_TAC_X_125 = np.load(f, allow_pickle=True)\n",
    "    \n",
    "with open(p + 'X_250.npy' , 'rb') as f:\n",
    "    n_TAC_X_250 = np.load(f, allow_pickle=True)\n",
    "\n",
    "with open(p + 'X_1000.npy' , 'rb') as f:\n",
    "    n_TAC_X_1000 = np.load(f, allow_pickle=True)\n",
    "    \n",
    "# y data \n",
    "with open(p + 'z_final_y_125.npy' , 'rb') as f:\n",
    "    n_TAC_final_y_125 = np.load(f, allow_pickle=True)\n",
    "    \n",
    "with open(p + 'z_final_y_250.npy' , 'rb') as f:\n",
    "    n_TAC_final_y_250 = np.load(f, allow_pickle=True)\n",
    "    \n",
    "with open(p + 'z_final_y_1000.npy' , 'rb') as f:\n",
    "    n_TAC_final_y_1000= np.load(f, allow_pickle=True)\n",
    "\n",
    "# std data\n",
    "with open(p + 'z_std_125.npy' , 'rb') as f:\n",
    "    n_TAC_std_125 = np.load(f, allow_pickle=True)\n",
    "    \n",
    "with open(p + 'z_std_250.npy' , 'rb') as f:\n",
    "    n_TAC_std_250 = np.load(f, allow_pickle=True)\n",
    "\n",
    "with open(p + 'z_std_1000.npy' , 'rb') as f:\n",
    "    n_TAC_std_1000 = np.load(f, allow_pickle=True)\n",
    "    \n",
    "# ste data\n",
    "with open(p + 'z_ste_125.npy' , 'rb') as f:\n",
    "    n_TAC_ste_125 = np.load(f, allow_pickle=True)\n",
    "    \n",
    "with open(p + 'z_ste_250.npy' , 'rb') as f:\n",
    "    n_TAC_ste_250 = np.load(f, allow_pickle=True)\n",
    "\n",
    "with open(p + 'z_ste_1000.npy' , 'rb') as f:\n",
    "    n_TAC_ste_1000 = np.load(f, allow_pickle=True)\n",
    "\n",
    "# stim data\n",
    "with open(p + 'z_final_stim_125.npy' , 'rb') as f:\n",
    "    n_TAC_final_stim_125 = np.load(f, allow_pickle=True)\n",
    "    \n",
    "with open(p + 'z_final_stim_250.npy' , 'rb') as f:\n",
    "    n_TAC_final_stim_250 = np.load(f, allow_pickle=True)\n",
    "\n",
    "with open(p + 'z_final_stim_1000.npy' , 'rb') as f:\n",
    "    n_TAC_final_stim_1000 = np.load(f, allow_pickle=True)"
   ]
  },
  {
   "cell_type": "code",
   "execution_count": null,
   "metadata": {},
   "outputs": [],
   "source": [
    "\n"
   ]
  },
  {
   "cell_type": "markdown",
   "metadata": {},
   "source": [
    "# Code depth discrimination correctness by the verbal judgement data \n",
    "\n",
    "Create new 'ground truth' answer based on verbal judgement data\n",
    "\n",
    "Task: Respond which image's target was closer to you"
   ]
  },
  {
   "cell_type": "code",
   "execution_count": null,
   "metadata": {},
   "outputs": [],
   "source": []
  },
  {
   "cell_type": "markdown",
   "metadata": {},
   "source": [
    "## VE Data"
   ]
  },
  {
   "cell_type": "code",
   "execution_count": 9,
   "metadata": {},
   "outputs": [],
   "source": [
    "n_VE_answerkey_125 = {} # corresponding answer key for discrimination trials  \n",
    "\n",
    "for key in all_discrim_performance.keys():\n",
    "    targetimg0 = key.split('/')[-1]\n",
    "    folder0 = targetimg0[:-11]\n",
    "    depth_dur_path0 = 'depth_duration_stimuli/' + folder0 + '/' + targetimg0\n",
    "    idx0 = np.where(n_TAC_final_stim_125 == depth_dur_path0)[0][0]\n",
    "    avg_estim_stim0 = n_TAC_final_y_125[idx0]\n",
    "    std0 = n_TAC_std_125[idx0]\n",
    "    ste0 = n_TAC_ste_125[idx0]\n",
    "    \n",
    "    targetimg1 = all_discrim_performance[key]['stimulus_1'].split('/')[-1]\n",
    "    folder1 = targetimg1[:-11]\n",
    "    depth_dur_path1 = 'depth_duration_stimuli/' + folder1 + '/' + targetimg1\n",
    "    idx1= np.where(n_TAC_final_stim_125 == depth_dur_path1)[0][0]\n",
    "    avg_estim_stim1 = n_TAC_final_y_125[idx1]\n",
    "    std1 = n_TAC_std_125[idx1]\n",
    "    ste1 = n_TAC_ste_125[idx1]\n",
    "    \n",
    "    kinect_answer = all_discrim_performance[key]['kinect_answer'].split('/')[-1]\n",
    "\n",
    "    if avg_estim_stim0 < avg_estim_stim1:\n",
    "        # Which target is CLOSER to you?\n",
    "        answer = targetimg0\n",
    "    if avg_estim_stim0 == avg_estim_stim1:\n",
    "        print(targetimg0, targetimg1)\n",
    "    if avg_estim_stim0 > avg_estim_stim1:\n",
    "        answer = targetimg1\n",
    "\n",
    "    n_VE_answerkey_125[key] = {'stimulus_1': targetimg1,\n",
    "                             'stimulus_0_avg_estim': avg_estim_stim0,\n",
    "                             'stimulus_1_avg_estim': avg_estim_stim1,\n",
    "                             'answer': answer,\n",
    "                             'std0': std0,\n",
    "                             'std1': std1,\n",
    "                             'kinect_answer': kinect_answer}"
   ]
  },
  {
   "cell_type": "code",
   "execution_count": 10,
   "metadata": {},
   "outputs": [],
   "source": [
    "# n_VE_answerkey_125"
   ]
  },
  {
   "cell_type": "code",
   "execution_count": 11,
   "metadata": {},
   "outputs": [],
   "source": [
    "n_VE_answerkey_250 = {} # corresponding answer key for discrimination trials  \n",
    "\n",
    "for key in all_discrim_performance.keys():\n",
    "    targetimg0 = key.split('/')[-1]\n",
    "    folder0 = targetimg0[:-11]\n",
    "    depth_dur_path0 = 'depth_duration_stimuli/' + folder0 + '/' + targetimg0\n",
    "    idx0 = np.where(n_TAC_final_stim_250 == depth_dur_path0)[0][0]\n",
    "    avg_estim_stim0 = n_TAC_final_y_250[idx0]\n",
    "    std0 = n_TAC_std_250[idx0]\n",
    "    ste0 = n_TAC_ste_250[idx0]\n",
    "    \n",
    "    targetimg1 = all_discrim_performance[key]['stimulus_1'].split('/')[-1]\n",
    "    folder1 = targetimg1[:-11]\n",
    "    depth_dur_path1 = 'depth_duration_stimuli/' + folder1 + '/' + targetimg1\n",
    "    idx1= np.where(n_TAC_final_stim_250 == depth_dur_path1)[0][0]\n",
    "    avg_estim_stim1 = n_TAC_final_y_250[idx1]\n",
    "    std1 = n_TAC_std_250[idx1]\n",
    "    ste1 = n_TAC_ste_250[idx1]\n",
    "    \n",
    "    kinect_answer = all_discrim_performance[key]['kinect_answer'].split('/')[-1]\n",
    "\n",
    "    if avg_estim_stim0 < avg_estim_stim1:\n",
    "        # Which target is CLOSER to you?\n",
    "        answer = targetimg0\n",
    "    if avg_estim_stim0 == avg_estim_stim1:\n",
    "        print(targetimg0, targetimg1)\n",
    "    if avg_estim_stim0 > avg_estim_stim1:\n",
    "        answer = targetimg1\n",
    "\n",
    "    n_VE_answerkey_250[key] = {'stimulus_1': targetimg1,\n",
    "                             'stimulus_0_avg_estim': avg_estim_stim0,\n",
    "                             'stimulus_1_avg_estim': avg_estim_stim1,\n",
    "                             'answer': answer,\n",
    "                             'std0': std0,\n",
    "                             'std1': std1,\n",
    "                             'kinect_answer': kinect_answer}\n",
    "    "
   ]
  },
  {
   "cell_type": "code",
   "execution_count": 12,
   "metadata": {},
   "outputs": [],
   "source": [
    "# len(n_VE_answerkey_250), n_VE_answerkey_250['depth_discrimination_stimuli/002118_2014-06-25_20-32-08_260595134347_rgbf000078-resize_1/002118_2014-06-25_20-32-08_260595134347_rgbf000078-resize_1-target.png']\n",
    "# n_VE_answerkey_250"
   ]
  },
  {
   "cell_type": "code",
   "execution_count": 13,
   "metadata": {},
   "outputs": [],
   "source": [
    "n_VE_answerkey_1000 = {} # corresponding answer key for discrimination trials  \n",
    "\n",
    "for key in all_discrim_performance.keys():\n",
    "    targetimg0 = key.split('/')[-1]\n",
    "    folder0 = targetimg0[:-11]\n",
    "    depth_dur_path0 = 'depth_duration_stimuli/' + folder0 + '/' + targetimg0\n",
    "    idx0 = np.where(n_TAC_final_stim_1000 == depth_dur_path0)[0][0]\n",
    "    avg_estim_stim0 = n_TAC_final_y_1000[idx0]\n",
    "    std0 = n_TAC_std_1000[idx0]\n",
    "\n",
    "    targetimg1 = all_discrim_performance[key]['stimulus_1'].split('/')[-1]\n",
    "    folder1 = targetimg1[:-11]\n",
    "    depth_dur_path1 = 'depth_duration_stimuli/' + folder1 + '/' + targetimg1\n",
    "    idx1= np.where(n_TAC_final_stim_1000 == depth_dur_path1)[0][0]\n",
    "    avg_estim_stim1 = n_TAC_final_y_1000[idx1]\n",
    "    std1 = n_TAC_std_1000[idx1]\n",
    "    \n",
    "    if avg_estim_stim0 < avg_estim_stim1:\n",
    "        # Which target is CLOSER to you?\n",
    "        answer = targetimg0\n",
    "    if avg_estim_stim0 == avg_estim_stim1:\n",
    "        print(targetimg0, targetimg1)\n",
    "    if avg_estim_stim0 > avg_estim_stim1:\n",
    "        answer = targetimg1\n",
    "    \n",
    "    kinect_answer = all_discrim_performance[key]['kinect_answer'].split('/')[-1]\n",
    "\n",
    "\n",
    "\n",
    "    n_VE_answerkey_1000[key] = {'stimulus_1': targetimg1,\n",
    "                             'stimulus_0_avg_estim': avg_estim_stim0,\n",
    "                             'stimulus_1_avg_estim': avg_estim_stim1,\n",
    "                             'answer': answer,\n",
    "                             'std0': std0,\n",
    "                             'std1': std1,\n",
    "                             'kinect_answer': kinect_answer}\n",
    "    "
   ]
  },
  {
   "cell_type": "code",
   "execution_count": 14,
   "metadata": {},
   "outputs": [
    {
     "data": {
      "text/plain": [
       "156"
      ]
     },
     "execution_count": 14,
     "metadata": {},
     "output_type": "execute_result"
    }
   ],
   "source": [
    "len(n_VE_answerkey_1000)"
   ]
  },
  {
   "cell_type": "code",
   "execution_count": 1154,
   "metadata": {},
   "outputs": [],
   "source": [
    "import pickle\n",
    "# save answer keys as pickle file \n",
    "\n",
    "# dest = '/Users/prachimahableshwarkar/Documents/GW/Depth_MTurk/depth_discrimination/TAC_discrim_datafiles/matched_discrim_data/n_VE_answerkey_1000.pickle'\n",
    "# with open(dest, 'wb') as handle:\n",
    "#     pickle.dump(n_VE_answerkey_1000, handle)"
   ]
  },
  {
   "cell_type": "code",
   "execution_count": 1155,
   "metadata": {},
   "outputs": [],
   "source": [
    "# dest = '/Users/prachimahableshwarkar/Documents/GW/Depth_MTurk/depth_discrimination/TAC_discrim_datafiles/matched_discrim_data/n_VE_answerkey_250.pickle'\n",
    "# with open(dest, 'wb') as handle:\n",
    "#     pickle.dump(n_VE_answerkey_250, handle)"
   ]
  },
  {
   "cell_type": "markdown",
   "metadata": {},
   "source": [
    "### VE Coded Accuracy"
   ]
  },
  {
   "cell_type": "code",
   "execution_count": 96,
   "metadata": {},
   "outputs": [],
   "source": [
    "def VE_accuracy(stim0, df, answerkey):\n",
    "    '''\n",
    "    Accuracy based on the verbal judgement data \n",
    "    '''\n",
    "    \n",
    "    \"\"\"\n",
    "    args:\n",
    "        df  \n",
    "    returns:\n",
    "        proportion of correct responses, count of correct responses, count of total trials  \n",
    "    \"\"\"\n",
    "    count_correct = 0\n",
    "    count_incorrect = 0\n",
    "    count_total = 0\n",
    "    count_missed = 0\n",
    "    \n",
    "    VE_correct_answer = answerkey[stim0]['answer']\n",
    "    kinect_correct_answer = answerkey[stim0]['kinect_answer']\n",
    "    \n",
    "    for idx, row in df.iterrows(): \n",
    "        choice = row[\"discrim_choice\"]\n",
    "        count_total += 1\n",
    "        if choice == 0.0:\n",
    "            image_choice = row[\"stimulus_0\"]\n",
    "                \n",
    "        if choice == 1.0:\n",
    "            image_choice = row[\"stimulus_1\"]\n",
    "                \n",
    "        if choice == 2.0:\n",
    "            count_missed += 1\n",
    "            \n",
    "        if choice == 3.0:\n",
    "            count_missed += 1\n",
    "        \n",
    "        try:\n",
    "            if image_choice.split('/')[-1] == VE_correct_answer:\n",
    "                count_correct += 1\n",
    "        except:\n",
    "            pass\n",
    "        \n",
    "#     standardError = (0.5*(1-0.5))/count_total\n",
    "    p = count_correct/count_total\n",
    "    standardError = np.sqrt((p*(1-p))/count_total)\n",
    "    \n",
    "    if VE_correct_answer == kinect_correct_answer:\n",
    "        return count_correct/count_total, count_correct, count_total, count_missed, standardError, 'pos'\n",
    "    else:\n",
    "        return count_correct/count_total, count_correct, count_total, count_missed, standardError, 'neg'\n",
    "\n",
    "    \n",
    "def main_VE_accuracy(df, answerkey_125, answerkey_250, answerkey_1000):\n",
    "    all_stim0 = df.stimulus_0.unique()\n",
    "    \n",
    "    stimuli_stats = {}\n",
    "    for stim0 in all_stim0:\n",
    "        try:\n",
    "            # dataframe for stimulus 0\n",
    "            stim0_df = df.loc[df['stimulus_0'] == stim0]\n",
    "            # name of stimulus 1\n",
    "            other_stim = stim0_df.stimulus_1.unique()[0]\n",
    "            # dataframe where stimulus 0 is presented SECOND (same trial)\n",
    "            stim1_df = df.loc[df['stimulus_1'] == stim0]\n",
    "\n",
    "            # df for a specific discrimination trial (collapsed on stim presentation order)\n",
    "            stim_df = pd.concat([stim0_df, stim1_df], ignore_index=True)\n",
    "            stim_125_df = stim_df[stim_df['duration'] == 125.0]\n",
    "            stim_250_df = stim_df[stim_df['duration'] == 250.0]\n",
    "            stim_1000_df = stim_df[stim_df['duration'] == 1000.0] \n",
    "\n",
    "            stim0_depth = stim_df['actual_depth_0'][0]\n",
    "            stim1_depth = stim_df['actual_depth_1'][0]\n",
    "            stim_depthbin = np.mean(np.array([stim0_depth,stim1_depth]))\n",
    "\n",
    "            stim_acc_125 = VE_accuracy(stim0, stim_125_df, answerkey_125)\n",
    "            stim_acc_250 = VE_accuracy(stim0, stim_250_df, answerkey_250)\n",
    "            stim_acc_1000 = VE_accuracy(stim0, stim_1000_df, answerkey_1000)\n",
    "\n",
    "            # difference between verbal judgements divided by joint variance \n",
    "            # abs(VE1-VE2)/sqrt(stda^2 + std2^2)\n",
    "            std0_125 = answerkey_125[stim0]['std0']\n",
    "            std1_125 = answerkey_125[stim0]['std1']\n",
    "            joint_variance_125 = np.sqrt(std0_125**2 + std1_125**2)\n",
    "            JV_regressor_125 = abs(answerkey_125[stim0]['stimulus_0_avg_estim'] - answerkey_125[stim0]['stimulus_1_avg_estim'])/joint_variance_125\n",
    "\n",
    "            std0_250 = answerkey_250[stim0]['std0']\n",
    "            std1_250 = answerkey_250[stim0]['std1']\n",
    "            joint_variance_250 = np.sqrt(std0_250**2 + std1_250**2)\n",
    "            JV_regressor_250 = abs(answerkey_250[stim0]['stimulus_0_avg_estim'] - answerkey_250[stim0]['stimulus_1_avg_estim'])/joint_variance_250\n",
    "\n",
    "            std0_1000 = answerkey_1000[stim0]['std0']\n",
    "            std1_1000 = answerkey_1000[stim0]['std1']\n",
    "            joint_variance_1000 = np.sqrt(std0_1000**2 + std1_1000**2)\n",
    "            JV_regressor_1000 = abs(answerkey_1000[stim0]['stimulus_0_avg_estim'] - answerkey_1000[stim0]['stimulus_1_avg_estim'])/joint_variance_1000\n",
    "            \n",
    "            if stim_acc_125[-1] == 'pos':\n",
    "                VE_depthdifference_125 = abs(answerkey_125[stim0]['stimulus_0_avg_estim'] - answerkey_125[stim0]['stimulus_1_avg_estim'])\n",
    "            else:\n",
    "                VE_depthdifference_125 = -(abs(answerkey_125[stim0]['stimulus_0_avg_estim'] - answerkey_125[stim0]['stimulus_1_avg_estim']))\n",
    "            \n",
    "            if stim_acc_250[-1] == 'pos':\n",
    "                VE_depthdifference_250 = abs(answerkey_250[stim0]['stimulus_0_avg_estim'] - answerkey_250[stim0]['stimulus_1_avg_estim'])\n",
    "            else:\n",
    "                VE_depthdifference_250 = -(abs(answerkey_250[stim0]['stimulus_0_avg_estim'] - answerkey_250[stim0]['stimulus_1_avg_estim']))\n",
    "            \n",
    "            if stim_acc_1000[-1] == 'pos':\n",
    "                VE_depthdifference_1000 = abs(answerkey_1000[stim0]['stimulus_0_avg_estim'] - answerkey_1000[stim0]['stimulus_1_avg_estim'])\n",
    "            else:\n",
    "                VE_depthdifference_1000 = -(abs(answerkey_1000[stim0]['stimulus_0_avg_estim'] - answerkey_1000[stim0]['stimulus_1_avg_estim']))\n",
    "            \n",
    "            stimuli_stats[stim0] = {'stimulus_1': other_stim,\n",
    "                                    'accuracy_125': stim_acc_125,\n",
    "                                    'accuracy_250': stim_acc_250,\n",
    "                                    'accuracy_1000': stim_acc_1000,\n",
    "                                    'avg_depth': stim_depthbin,\n",
    "                                    'VE_avg_depth_125': (answerkey_125[stim0]['stimulus_0_avg_estim'] + answerkey_125[stim0]['stimulus_1_avg_estim'])/2,\n",
    "                                    'VE_avg_depth_250': (answerkey_250[stim0]['stimulus_0_avg_estim'] + answerkey_250[stim0]['stimulus_1_avg_estim'])/2,\n",
    "                                    'VE_avg_depth_1000': (answerkey_1000[stim0]['stimulus_0_avg_estim'] + answerkey_1000[stim0]['stimulus_1_avg_estim'])/2,\n",
    "                                    'VE_depthdifference_125': VE_depthdifference_125, \n",
    "                                    'VE_depthdifference_250': VE_depthdifference_250, \n",
    "                                    'VE_depthdifference_1000': VE_depthdifference_1000,\n",
    "                                    'RT_125': get_RT(stim_125_df),\n",
    "                                    'RT_250': get_RT(stim_250_df),\n",
    "                                    'RT_1000': get_RT(stim_1000_df),\n",
    "                                    'JV_regressor_125': JV_regressor_125,\n",
    "                                    'JV_regressor_250': JV_regressor_250,\n",
    "                                    'JV_regressor_1000': JV_regressor_1000,\n",
    "                                    'kinect_answer_125': answerkey_125[stim0]['kinect_answer'],\n",
    "                                    'kinect_answer_250': answerkey_250[stim0]['kinect_answer'],\n",
    "                                    'kinect_answer_1000': answerkey_1000[stim0]['kinect_answer']}\n",
    "            \n",
    "\n",
    "        except:\n",
    "            print(stim0)\n",
    "\n",
    "    return stimuli_stats\n",
    "    "
   ]
  },
  {
   "cell_type": "code",
   "execution_count": 97,
   "metadata": {},
   "outputs": [
    {
     "name": "stdout",
     "output_type": "stream",
     "text": [
      "nan\n"
     ]
    }
   ],
   "source": [
    "n_all_VE_discrim_performance = main_VE_accuracy(zscored_data, n_VE_answerkey_125, n_VE_answerkey_250, n_VE_answerkey_1000) "
   ]
  },
  {
   "cell_type": "code",
   "execution_count": null,
   "metadata": {},
   "outputs": [],
   "source": []
  },
  {
   "cell_type": "markdown",
   "metadata": {},
   "source": [
    "## Subject Accuracy"
   ]
  },
  {
   "cell_type": "code",
   "execution_count": null,
   "metadata": {},
   "outputs": [],
   "source": []
  },
  {
   "cell_type": "code",
   "execution_count": 152,
   "metadata": {},
   "outputs": [],
   "source": [
    "subj_acc = {125: [], 250: [], 1000: []}\n",
    "all_subj_acc_slopes = {125: [], 250: [], 1000: []}\n",
    "\n",
    "\n",
    "aks = {125: n_VE_answerkey_125, 250: n_VE_answerkey_250, 1000: n_VE_answerkey_1000}\n",
    "\n",
    "for subj in zscored_data.subjID.unique():\n",
    "    \n",
    "    subj_df = zscored_data.loc[zscored_data['subjID']==subj]\n",
    "    s_duration = subj_df.duration.unique()[0]\n",
    "    s_ak = aks[s_duration]\n",
    "    \n",
    "    s_stim = [elem for elem in subj_df.stimulus_0.unique() if type(elem) == str]\n",
    "    \n",
    "    count_total = 0\n",
    "    count_correct = 0\n",
    "    count_missed = 0\n",
    "    \n",
    "    subj_depthdiff = []\n",
    "    subj_trial_acc = []    \n",
    "        \n",
    "    for stim0 in s_stim:\n",
    "        VE_correct_answer = s_ak[stim0]['answer']\n",
    "        kinect_correct_answer = s_ak[stim0]['kinect_answer']\n",
    "        \n",
    "        stim_df = subj_df.loc[subj_df['stimulus_0'] == stim0]\n",
    "        choice = stim_df[\"discrim_choice\"].unique()[0]\n",
    "\n",
    "        count_total += 1\n",
    "        if choice == 0.0: image_choice = stim_df[\"stimulus_0\"].unique()[0]\n",
    "\n",
    "        if choice == 1.0: image_choice = stim_df[\"stimulus_1\"].unique()[0]\n",
    "\n",
    "        if choice == 2.0: count_missed += 1\n",
    "\n",
    "        if choice == 3.0: count_missed += 1\n",
    "\n",
    "        if image_choice.split('/')[-1] == VE_correct_answer: \n",
    "            count_correct += 1\n",
    "            subj_trial_acc.append(1)\n",
    "        else:\n",
    "            subj_trial_acc.append(0)\n",
    "            \n",
    "            \n",
    "        \n",
    "\n",
    "        depthdiff = n_all_VE_discrim_performance[stim0]['VE_depthdifference_' + str(int(s_duration))]\n",
    "        subj_depthdiff.append(depthdiff)\n",
    "        \n",
    "    \n",
    "    #run regression\n",
    "    X = np.array(np.abs(subj_depthdiff).reshape(-1,1))\n",
    "    y = subj_trial_acc\n",
    "    reg = LinearRegression().fit(X, y)\n",
    "\n",
    "    all_subj_acc_slopes[s_duration].append(reg.coef_[0])\n",
    "\n",
    "        \n",
    "    subj_acc[s_duration].append(count_correct/count_total)\n",
    "\n",
    "\n",
    "    \n",
    "    "
   ]
  },
  {
   "cell_type": "code",
   "execution_count": null,
   "metadata": {},
   "outputs": [],
   "source": []
  },
  {
   "cell_type": "code",
   "execution_count": null,
   "metadata": {},
   "outputs": [],
   "source": []
  },
  {
   "cell_type": "code",
   "execution_count": 1159,
   "metadata": {},
   "outputs": [],
   "source": [
    "import pickle\n",
    "# save performance as pickle file \n",
    "\n",
    "dest = '/Users/prachimahableshwarkar/Documents/GW/Depth_MTurk/depth_discrimination/data/finalDiscrimMatched/'\n",
    "with open(dest + 'performance.pkl', 'wb') as handle:\n",
    "    pickle.dump(n_all_VE_discrim_performance, handle)\n",
    "    "
   ]
  },
  {
   "cell_type": "code",
   "execution_count": 17,
   "metadata": {},
   "outputs": [],
   "source": [
    "n_VE_estim_diff_125 = [n_all_VE_discrim_performance[elem]['VE_depthdifference_125'] for elem in n_all_VE_discrim_performance]\n",
    "n_VE_estim_diff_250 = [n_all_VE_discrim_performance[elem]['VE_depthdifference_250'] for elem in n_all_VE_discrim_performance]\n",
    "n_VE_estim_diff_1000 = [n_all_VE_discrim_performance[elem]['VE_depthdifference_1000'] for elem in n_all_VE_discrim_performance]\n",
    "\n",
    "n_VE_accuracy_125 = [n_all_VE_discrim_performance[elem]['accuracy_125'][0] for elem in n_all_VE_discrim_performance]\n",
    "n_VE_accuracy_250 = [n_all_VE_discrim_performance[elem]['accuracy_250'][0] for elem in n_all_VE_discrim_performance]\n",
    "n_VE_accuracy_1000 = [n_all_VE_discrim_performance[elem]['accuracy_1000'][0] for elem in n_all_VE_discrim_performance]\n",
    "\n",
    "n_VE_ste_125 = [n_all_VE_discrim_performance[elem]['accuracy_125'][-2] for elem in n_all_VE_discrim_performance]\n",
    "n_VE_ste_250 = [n_all_VE_discrim_performance[elem]['accuracy_250'][-2] for elem in n_all_VE_discrim_performance]\n",
    "n_VE_ste_1000 = [n_all_VE_discrim_performance[elem]['accuracy_1000'][-2] for elem in n_all_VE_discrim_performance]\n",
    "\n",
    "n_avg_RT_125 = [n_all_VE_discrim_performance[elem]['RT_125'][1]-125 for elem in n_all_VE_discrim_performance]\n",
    "n_avg_RT_250 = [n_all_VE_discrim_performance[elem]['RT_250'][1]-250 for elem in n_all_VE_discrim_performance]\n",
    "n_avg_RT_1000 = [n_all_VE_discrim_performance[elem]['RT_1000'][1]-1000 for elem in n_all_VE_discrim_performance]\n",
    "\n",
    "n_avg_RT_ste_125 = [n_all_VE_discrim_performance[elem]['RT_125'][-1] for elem in n_all_VE_discrim_performance]\n",
    "n_avg_RT_ste_250 = [n_all_VE_discrim_performance[elem]['RT_250'][-1] for elem in n_all_VE_discrim_performance]\n",
    "n_avg_RT_ste_1000 = [n_all_VE_discrim_performance[elem]['RT_1000'][-1] for elem in n_all_VE_discrim_performance]\n",
    "\n",
    "n_JV_125 = [n_all_VE_discrim_performance[elem]['JV_regressor_125'] for elem in n_all_VE_discrim_performance]\n",
    "n_JV_250 = [n_all_VE_discrim_performance[elem]['JV_regressor_250'] for elem in n_all_VE_discrim_performance]\n",
    "n_JV_1000 = [n_all_VE_discrim_performance[elem]['JV_regressor_1000'] for elem in n_all_VE_discrim_performance]\n",
    "\n",
    "n_kinectanswer_125 = [n_all_VE_discrim_performance[elem]['kinect_answer_125'] for elem in n_all_VE_discrim_performance]\n",
    "n_kinectanswer_250 = [n_all_VE_discrim_performance[elem]['kinect_answer_250'] for elem in n_all_VE_discrim_performance]\n",
    "n_kinectanswer_1000 = [n_all_VE_discrim_performance[elem]['kinect_answer_1000'] for elem in n_all_VE_discrim_performance]\n",
    "\n",
    "n_stim = [elem for elem in n_all_VE_discrim_performance]"
   ]
  },
  {
   "cell_type": "code",
   "execution_count": null,
   "metadata": {},
   "outputs": [],
   "source": []
  },
  {
   "cell_type": "markdown",
   "metadata": {},
   "source": [
    "#### Overall Accuracy: Coded by Normalized VE\n"
   ]
  },
  {
   "cell_type": "code",
   "execution_count": 18,
   "metadata": {},
   "outputs": [
    {
     "data": {
      "text/plain": [
       "(0.6752304902769811, 0.71743838850734, 0.7576701982641556)"
      ]
     },
     "execution_count": 18,
     "metadata": {},
     "output_type": "execute_result"
    }
   ],
   "source": [
    "np.mean(n_VE_accuracy_125), np.mean(n_VE_accuracy_250), np.mean(n_VE_accuracy_1000)"
   ]
  },
  {
   "cell_type": "code",
   "execution_count": 41,
   "metadata": {},
   "outputs": [
    {
     "data": {
      "image/png": "[encoded data removed]",
      "text/plain": [
       "<Figure size 576x648 with 1 Axes>"
      ]
     },
     "metadata": {
      "needs_background": "light"
     },
     "output_type": "display_data"
    }
   ],
   "source": [
    "# creating the dataset\n",
    "durations = ['125', '250', '1000']\n",
    "\n",
    "avgPC = [np.mean(n_VE_accuracy_125),\n",
    "         np.mean(n_VE_accuracy_250),\n",
    "         np.mean(n_VE_accuracy_1000)]\n",
    "\n",
    "fig, ax = plt.subplots(figsize=[8,9])\n",
    "ax.spines['right'].set_visible(False)\n",
    "ax.spines['top'].set_visible(False)\n",
    "\n",
    "plt.xticks(fontsize=12)\n",
    "plt.ylim(0.5, 0.75)\n",
    "plt.yticks(np.arange(0.5, 0.75, 0.05),fontsize=12)\n",
    "\n",
    "\n",
    "\n",
    "# creating the bar plot\n",
    "plt.bar(durations, avgPC, color = ['darkgreen', 'chocolate', 'darkviolet'], width=0.8, capsize=5, alpha=0.7)\n",
    " \n",
    "# plt.title('Verbal Estimate Defined Discrimination Accuracy', fontsize=20)\n",
    "plt.xlabel(\"Duration (ms)\", fontsize=16)\n",
    "plt.ylabel(\"Average Participant Accuracy\", fontsize=16)\n",
    "\n",
    "plt.show()"
   ]
  },
  {
   "cell_type": "code",
   "execution_count": 19,
   "metadata": {},
   "outputs": [
    {
     "name": "stdout",
     "output_type": "stream",
     "text": [
      "125 ms: Correlation between VE discrimination accuracy and average z-scored verbal estimate difference\n"
     ]
    },
    {
     "data": {
      "text/plain": [
       "(0.557433698509022, 4.0848666198591496e-14)"
      ]
     },
     "execution_count": 19,
     "metadata": {},
     "output_type": "execute_result"
    }
   ],
   "source": [
    "print('125 ms: Correlation between VE discrimination accuracy and average z-scored verbal estimate difference')\n",
    "stats.pearsonr(n_VE_accuracy_125, n_VE_estim_diff_125)"
   ]
  },
  {
   "cell_type": "code",
   "execution_count": 20,
   "metadata": {},
   "outputs": [
    {
     "name": "stdout",
     "output_type": "stream",
     "text": [
      "250 ms: Correlation between VE discrimination accuracy and average z-scored verbal estimate difference\n"
     ]
    },
    {
     "data": {
      "text/plain": [
       "(0.6610299976269118, 5.9596350530664996e-21)"
      ]
     },
     "execution_count": 20,
     "metadata": {},
     "output_type": "execute_result"
    }
   ],
   "source": [
    "print('250 ms: Correlation between VE discrimination accuracy and average z-scored verbal estimate difference')\n",
    "stats.pearsonr(n_VE_accuracy_250, n_VE_estim_diff_250)"
   ]
  },
  {
   "cell_type": "code",
   "execution_count": 21,
   "metadata": {},
   "outputs": [
    {
     "name": "stdout",
     "output_type": "stream",
     "text": [
      "1000 ms: Correlation between VE discrimination accuracy and average z-scored verbal estimate difference\n"
     ]
    },
    {
     "data": {
      "text/plain": [
       "(0.728433206906334, 4.471046240895643e-27)"
      ]
     },
     "execution_count": 21,
     "metadata": {},
     "output_type": "execute_result"
    }
   ],
   "source": [
    "print('1000 ms: Correlation between VE discrimination accuracy and average z-scored verbal estimate difference')\n",
    "stats.pearsonr(n_VE_accuracy_1000, n_VE_estim_diff_1000)"
   ]
  },
  {
   "cell_type": "code",
   "execution_count": 22,
   "metadata": {},
   "outputs": [
    {
     "data": {
      "image/png": "[encoded data removed]",
      "text/plain": [
       "<Figure size 576x432 with 1 Axes>"
      ]
     },
     "metadata": {
      "needs_background": "light"
     },
     "output_type": "display_data"
    }
   ],
   "source": [
    "plt.figure(figsize=[8,6])\n",
    "plt.plot(np.array(n_VE_estim_diff_125), np.array(n_VE_accuracy_125), 'bo', label='125 ms')\n",
    "plt.plot(np.array(n_VE_estim_diff_250), np.array(n_VE_accuracy_250), 'go', label='250 ms')\n",
    "plt.plot(np.array(n_VE_estim_diff_1000), np.array(n_VE_accuracy_1000), 'ro', label='1000 ms')\n",
    "plt.xlabel('Average Z-scored Verbal Estimate Difference', fontsize=12)\n",
    "plt.ylabel('VE Discrimination Proportion Correct', fontsize = 12)\n",
    "plt.legend(fontsize = 12)\n",
    "plt.title('VE Discrimination Proportion Correct vs Avg Z-scored Verbal Estimate Difference', fontsize = 14)\n",
    "plt.show();"
   ]
  },
  {
   "cell_type": "code",
   "execution_count": 23,
   "metadata": {},
   "outputs": [],
   "source": [
    "# len(n_VE_accuracy_250)"
   ]
  },
  {
   "cell_type": "code",
   "execution_count": 24,
   "metadata": {},
   "outputs": [],
   "source": [
    "def get_super(x):\n",
    "    normal = \"ABCDEFGHIJKLMNOPQRSTUVWXYZabcdefghijklmnopqrstuvwxyz0123456789+-=()\"\n",
    "    super_s = \"ᴬᴮᶜᴰᴱᶠᴳᴴᴵᴶᴷᴸᴹᴺᴼᴾQᴿˢᵀᵁⱽᵂˣʸᶻᵃᵇᶜᵈᵉᶠᵍʰᶦʲᵏˡᵐⁿᵒᵖ۹ʳˢᵗᵘᵛʷˣʸᶻ⁰¹²³⁴⁵⁶⁷⁸⁹⁺⁻⁼⁽⁾\"\n",
    "    res = x.maketrans(''.join(normal), ''.join(super_s))\n",
    "    return x.translate(res)"
   ]
  },
  {
   "cell_type": "code",
   "execution_count": 30,
   "metadata": {},
   "outputs": [
    {
     "name": "stdout",
     "output_type": "stream",
     "text": [
      "m: [0.25015127]\n",
      "b: 0.5457903108099836\n",
      "R-squared:  0.5506421787108394\n"
     ]
    },
    {
     "data": {
      "image/png": "[encoded data removed]",
      "text/plain": [
       "<Figure size 576x576 with 1 Axes>"
      ]
     },
     "metadata": {
      "needs_background": "light"
     },
     "output_type": "display_data"
    }
   ],
   "source": [
    "fig, ax = plt.subplots(figsize=[8,8])\n",
    "right_side = ax.spines['right']\n",
    "right_side.set_visible(False)\n",
    "top = ax.spines['top']\n",
    "top.set_visible(False)\n",
    "\n",
    "for axis in ['bottom','left']:\n",
    "    ax.spines[axis].set_linewidth(2.3)\n",
    "\n",
    "\n",
    "\n",
    "#run regression\n",
    "VE_X_125 = np.array(np.abs(n_VE_estim_diff_125).reshape(-1,1))\n",
    "VE_PC_125 = n_VE_accuracy_125\n",
    "VE_PC_reg_125 = LinearRegression().fit(VE_X_125, VE_PC_125)\n",
    "\n",
    "#Generated Predictions\n",
    "PC_predicted_125 = VE_PC_reg_125.predict(VE_X_125)\n",
    "#Plot Our Actual and Predicted Values\n",
    "plt.errorbar(VE_X_125, VE_PC_125,elinewidth=1, ecolor='gray', fmt='or', mfc='white', mec='green', capsize=3, alpha = 0.3, yerr = np.array(n_VE_ste_125));\n",
    "\n",
    "\n",
    "plt.plot(VE_X_125, VE_PC_125, 'o', color='green', alpha = 0.3);\n",
    "plt.plot(VE_X_125, PC_predicted_125,color='green', label = 'm = ' + str(round(VE_PC_reg_125.coef_[0], 3))\n",
    "         + '     r' + get_super('2') + ' = '+ str(round(float(VE_PC_reg_125.score(VE_X_125, VE_PC_125)), 3)))\n",
    "plt.xlabel(\"Verbal Estimate Difference (m)\", fontsize = 22)\n",
    "plt.ylabel(\"Proportion Correct\", fontsize = 22)\n",
    "\n",
    "plt.plot([0, 1.6], [0.5,0.5], '--', color='black')\n",
    "\n",
    "plt.xticks(fontsize=15)\n",
    "plt.yticks(fontsize=15)\n",
    "\n",
    "plt.ylim(0.2,1)\n",
    "\n",
    "#get coefficients and y intercept\n",
    "print(\"m: {0}\".format(VE_PC_reg_125.coef_))\n",
    "print(\"b: {0}\".format(VE_PC_reg_125.intercept_))\n",
    "\n",
    "#Returns the coefficient of determination R^2 of the prediction.\n",
    "print(\"R-squared: \", VE_PC_reg_125.score(VE_X_125, VE_PC_125))\n",
    "\n",
    "legend = plt.legend(loc = 4, fontsize=15, labelspacing=1, frameon=False)\n",
    "\n",
    "plt.title('125 ms', fontsize=28)\n",
    "\n",
    "fig.tight_layout()\n",
    "\n",
    "plt.show();"
   ]
  },
  {
   "cell_type": "code",
   "execution_count": 59,
   "metadata": {},
   "outputs": [
    {
     "name": "stdout",
     "output_type": "stream",
     "text": [
      "m: [0.2552637]\n",
      "b: 0.585954828965007\n",
      "R-squared:  0.5605290006858115\n"
     ]
    },
    {
     "data": {
      "image/png": "[encoded data removed]",
      "text/plain": [
       "<Figure size 576x576 with 1 Axes>"
      ]
     },
     "metadata": {
      "needs_background": "light"
     },
     "output_type": "display_data"
    }
   ],
   "source": [
    "fig, ax = plt.subplots(figsize=[8,8])\n",
    "right_side = ax.spines['right']\n",
    "right_side.set_visible(False)\n",
    "top = ax.spines['top']\n",
    "top.set_visible(False)\n",
    "\n",
    "for axis in ['bottom','left']:\n",
    "    ax.spines[axis].set_linewidth(2.3)\n",
    "\n",
    "#run regression\n",
    "VE_X_250 = np.array(np.abs(n_VE_estim_diff_250).reshape(-1,1))\n",
    "VE_PC_250 = n_VE_accuracy_250\n",
    "VE_PC_reg_250 = LinearRegression().fit(VE_X_250, VE_PC_250)\n",
    "\n",
    "#Generated Predictions\n",
    "PC_predicted_250 = VE_PC_reg_250.predict(VE_X_250)\n",
    "#Plot Our Actual and Predicted Values\n",
    "plt.errorbar(VE_X_250, VE_PC_250,elinewidth=1, ecolor='gray', fmt='or', mfc='white', mec='chocolate', capsize=3, alpha = 0.3, yerr = np.array(n_VE_ste_250));\n",
    "\n",
    "\n",
    "plt.plot(VE_X_250, VE_PC_250, 'o', color='chocolate', alpha = 0.3);\n",
    "plt.plot(VE_X_250, PC_predicted_250,color='chocolate', label = 'm = ' + str(round(VE_PC_reg_250.coef_[0], 3))\n",
    "         + '     r' + get_super('2') + ' = '+ str(round(float(VE_PC_reg_250.score(VE_X_250, VE_PC_250)), 3)))\n",
    "plt.xlabel(\"Verbal Estimate Difference (m)\", fontsize = 22)\n",
    "plt.ylabel(\"Proportion Correct\", fontsize = 22)\n",
    "\n",
    "plt.plot([0, 1.6], [0.5,0.5], '--', color='black')\n",
    "plt.ylim(0.2,1)\n",
    "\n",
    "plt.xticks(fontsize=15)\n",
    "plt.yticks(fontsize=15)\n",
    "\n",
    "\n",
    "#get coefficients and y intercept\n",
    "print(\"m: {0}\".format(VE_PC_reg_250.coef_))\n",
    "print(\"b: {0}\".format(VE_PC_reg_250.intercept_))\n",
    "\n",
    "#Returns the coefficient of determination R^2 of the prediction.\n",
    "print(\"R-squared: \", VE_PC_reg_250.score(VE_X_250, VE_PC_250))\n",
    "\n",
    "legend = plt.legend(loc = 4, fontsize=15, labelspacing=1, frameon=False)\n",
    "\n",
    "fig.tight_layout()\n",
    "\n",
    "plt.title('250 ms', fontsize=28)\n",
    "\n",
    "\n",
    "plt.show();"
   ]
  },
  {
   "cell_type": "code",
   "execution_count": 1233,
   "metadata": {},
   "outputs": [
    {
     "data": {
      "text/plain": [
       "39"
      ]
     },
     "execution_count": 1233,
     "metadata": {},
     "output_type": "execute_result"
    }
   ],
   "source": [
    "n_stim.index('depth_discrimination_stimuli/002199_2014-06-28_18-33-56_260595134347_rgbf000074-resize_0/002199_2014-06-28_18-33-56_260595134347_rgbf000074-resize_0-target.png')\n",
    "\n",
    "        "
   ]
  },
  {
   "cell_type": "code",
   "execution_count": 58,
   "metadata": {},
   "outputs": [
    {
     "name": "stdout",
     "output_type": "stream",
     "text": [
      "depth_discrimination_stimuli/002199_2014-06-28_18-33-56_260595134347_rgbf000074-resize_0/002199_2014-06-28_18-33-56_260595134347_rgbf000074-resize_0-target.png depth_discrimination_stimuli/001056_2014-06-08_18-46-44_260595134347_rgbf000068-resize_0/001056_2014-06-08_18-46-44_260595134347_rgbf000068-resize_0-target.png\n",
      "m: [0.2552637]\n",
      "b: 0.585954828965007\n",
      "R-squared:  0.5605290006858115\n"
     ]
    },
    {
     "data": {
      "image/png": "[encoded data removed]",
      "text/plain": [
       "<Figure size 576x576 with 1 Axes>"
      ]
     },
     "metadata": {
      "needs_background": "light"
     },
     "output_type": "display_data"
    }
   ],
   "source": [
    "fig, ax = plt.subplots(figsize=[8,8])\n",
    "right_side = ax.spines['right']\n",
    "right_side.set_visible(False)\n",
    "top = ax.spines['top']\n",
    "top.set_visible(False)\n",
    "\n",
    "for axis in ['bottom','left']:\n",
    "    ax.spines[axis].set_linewidth(2.3)\n",
    "\n",
    "\n",
    "#run regression\n",
    "VE_X_250 = np.array(np.abs(n_VE_estim_diff_250).reshape(-1,1))\n",
    "VE_PC_250 = n_VE_accuracy_250\n",
    "VE_PC_reg_250 = LinearRegression().fit(VE_X_250, VE_PC_250)\n",
    "\n",
    "#Generated Predictions\n",
    "PC_predicted_250 = VE_PC_reg_250.predict(VE_X_250)\n",
    "#Plot Our Actual and Predicted Values\n",
    "plt.errorbar(VE_X_250, VE_PC_250,elinewidth=1, ecolor='white', fmt='or', mfc='white', mec='white', capsize=3, alpha = 0.3, yerr = np.array(n_VE_ste_250));\n",
    "\n",
    "\n",
    "plt.plot(VE_X_250, VE_PC_250, 'o', color='white', alpha = 0.3);\n",
    "plt.plot(VE_X_250, PC_predicted_250,color='white', label = 'm = ' + str(round(VE_PC_reg_250.coef_[0], 3))\n",
    "         + '     r' + get_super('2') + ' = '+ str(round(float(VE_PC_reg_250.score(VE_X_250, VE_PC_250)), 3)))\n",
    "plt.xlabel(\"Verbal Estimate Difference (m)\", fontsize = 22)\n",
    "plt.ylabel(\"Proportion Correct\", fontsize = 22)\n",
    "\n",
    "plt.plot([0, 1.6], [0.5,0.5], '--', color='black')\n",
    "\n",
    "\n",
    "i = 39\n",
    "# plt.plot(VE_X_250[i], VE_PC_250[i], marker=\"o\", markersize=10, markeredgecolor=\"black\", markerfacecolor=\"chocolate\", alpha=1)\n",
    "\n",
    "print(n_stim[i], n_all_VE_discrim_performance[n_stim[i]]['stimulus_1'])\n",
    "\n",
    "plt.xticks(fontsize=15)\n",
    "plt.yticks(fontsize=15)\n",
    "\n",
    "\n",
    "#get coefficients and y intercept\n",
    "print(\"m: {0}\".format(VE_PC_reg_250.coef_))\n",
    "print(\"b: {0}\".format(VE_PC_reg_250.intercept_))\n",
    "\n",
    "#Returns the coefficient of determination R^2 of the prediction.\n",
    "print(\"R-squared: \", VE_PC_reg_250.score(VE_X_250, VE_PC_250))\n",
    "\n",
    "# legend = plt.legend(loc = 4, fontsize=15, labelspacing=1, frameon=False)\n",
    "\n",
    "fig.tight_layout()\n",
    "\n",
    "plt.title('250 ms', fontsize=28)\n",
    "\n",
    "\n",
    "plt.show();"
   ]
  },
  {
   "cell_type": "code",
   "execution_count": 36,
   "metadata": {},
   "outputs": [
    {
     "name": "stdout",
     "output_type": "stream",
     "text": [
      "m: [0.29022618]\n",
      "b: 0.6053509266593101\n",
      "R-squared:  0.5716876318488601\n"
     ]
    },
    {
     "data": {
      "image/png": "[encoded data removed]",
      "text/plain": [
       "<Figure size 576x576 with 1 Axes>"
      ]
     },
     "metadata": {
      "needs_background": "light"
     },
     "output_type": "display_data"
    }
   ],
   "source": [
    "fig, ax = plt.subplots(figsize=[8,8])\n",
    "right_side = ax.spines['right']\n",
    "right_side.set_visible(False)\n",
    "top = ax.spines['top']\n",
    "top.set_visible(False)\n",
    "\n",
    "for axis in ['bottom','left']:\n",
    "    ax.spines[axis].set_linewidth(2.3)\n",
    "\n",
    "\n",
    "VE_X_1000 = np.array(np.abs(n_VE_estim_diff_1000).reshape(-1,1))\n",
    "VE_PC_1000 = n_VE_accuracy_1000\n",
    "VE_PC_reg_1000 = LinearRegression().fit(VE_X_1000, VE_PC_1000)\n",
    "\n",
    "#Generated Predictions\n",
    "PC_predicted_1000 = VE_PC_reg_1000.predict(VE_X_1000)\n",
    "#Plot Our Actual and Predicted Values\n",
    "\n",
    "r = np.sqrt(float(VE_PC_reg_1000.score(VE_X_1000, VE_PC_1000)))\n",
    "\n",
    "plt.errorbar(VE_X_1000, VE_PC_1000, elinewidth=1, ecolor='gray', fmt='or', mfc='white', mec='darkviolet', capsize=3, alpha = 0.3, yerr = np.array(n_VE_ste_1000));\n",
    "plt.plot(VE_X_1000, VE_PC_1000, 'o', color='darkviolet', alpha = 0.3);\n",
    "plt.plot(VE_X_1000, PC_predicted_1000,color='darkviolet', label = 'm = ' + str(round(VE_PC_reg_1000.coef_[0], 3))\n",
    "         + '     r' + get_super('2') + ' = '+ str(round(float(VE_PC_reg_1000.score(VE_X_1000, VE_PC_1000)), 3)))\n",
    "\n",
    "legend = plt.legend(loc = 4, fontsize=15, labelspacing=1, frameon=False)\n",
    "\n",
    "plt.plot([0, 1.6], [0.5,0.5], '--', color='black')\n",
    "plt.ylim(0.2,1)\n",
    "\n",
    "# plt.plot(VE_X_1000[2], VE_PC_1000[2], 'o', color='black', alpha=1)\n",
    "\n",
    "#get coefficients and y intercept\n",
    "print(\"m: {0}\".format(VE_PC_reg_1000.coef_))\n",
    "print(\"b: {0}\".format(VE_PC_reg_1000.intercept_))\n",
    "\n",
    "#Returns the coefficient of determination R^2 of the prediction.\n",
    "print(\"R-squared: \", VE_PC_reg_1000.score(VE_X_1000, VE_PC_1000))\n",
    "\n",
    "plt.xlabel(\"Verbal Estimate Difference (m)\", fontsize = 22)\n",
    "plt.ylabel(\"Proportion Correct\", fontsize = 22)\n",
    "\n",
    "plt.xticks(fontsize=15)\n",
    "plt.yticks(fontsize=15)\n",
    "\n",
    "# plt.title(\"1000 ms: Accuracy\", fontsize = 20)\n",
    "\n",
    "# plt.xticks(np.arange(-1,1.2, 0.2))\n",
    "# plt.yticks(np.arange(-1,1.2, 0.2))\n",
    "\n",
    "fig.tight_layout()\n",
    "\n",
    "plt.title('1000 ms', fontsize=28)\n",
    "\n",
    "\n",
    "plt.show();"
   ]
  },
  {
   "cell_type": "code",
   "execution_count": 43,
   "metadata": {
    "jupyter": {
     "source_hidden": true
    }
   },
   "outputs": [],
   "source": [
    "kinectdepthdiffs = [0.31499999999999995,\n",
    " 0.4885000000000002,\n",
    " 0.5410000000000001,\n",
    " 0.9545000000000003,\n",
    " 1.0160000000000005,\n",
    " 0.6624999999999996,\n",
    " 1.1599999999999997,\n",
    " 0.9754999999999998,\n",
    " 0.5055000000000003,\n",
    " 0.967,\n",
    " 0.3865000000000001,\n",
    " 0.30299999999999994,\n",
    " 0.8780000000000001,\n",
    " 0.4725000000000002,\n",
    " 0.43533333333330027,\n",
    " 0.3989999999999991,\n",
    " 0.8344999999999994,\n",
    " 0.965,\n",
    " 0.851,\n",
    " 0.4800000000000002,\n",
    " 0.9819999999999998,\n",
    " 0.6099999999999994,\n",
    " 0.6844999999999999,\n",
    " 0.3732499999999999,\n",
    " 0.9014999999999996,\n",
    " 0.3595000000000001,\n",
    " 0.6015000000000006,\n",
    " 0.3184999999999993,\n",
    " 0.3029999999999995,\n",
    " 0.7729999999999997,\n",
    " 0.29499999999999993,\n",
    " 0.7220000000000002,\n",
    " 0.4544999999999999,\n",
    " 0.7129999999999996,\n",
    " 0.7050000000000001,\n",
    " 0.7809999999999993,\n",
    " 0.5559999999999996,\n",
    " 0.5695000000000001,\n",
    " 0.2709999999999999,\n",
    " 0.6665000000000001,\n",
    " 0.8540000000000001,\n",
    " 0.8624999999999998,\n",
    " 0.266,\n",
    " 0.5330000000000004,\n",
    " 0.6154999999999999,\n",
    " 1.0710000000000002,\n",
    " 0.31300000000000017,\n",
    " 0.5586666666667002,\n",
    " 1.164,\n",
    " 0.3412500000000005,\n",
    " 0.5696666666666999,\n",
    " 1.0065,\n",
    " 0.33199999999999985,\n",
    " 0.6919999999999993,\n",
    " 0.6105,\n",
    " 0.3099999999999996,\n",
    " 1.0605000000000002,\n",
    " 0.7734999999999999,\n",
    " 0.4584999999999999,\n",
    " 0.4535,\n",
    " 0.8170000000000001,\n",
    " 0.8660000000000001,\n",
    " 1.0145000000000004,\n",
    " 0.5640000000000001,\n",
    " 0.5880000000000003,\n",
    " 0.4935000000000001,\n",
    " 1.1810000000000005,\n",
    " 0.4764999999999999,\n",
    " 0.7894999999999996,\n",
    " 0.9015000000000004,\n",
    " 0.4554999999999994,\n",
    " 1.2279999999999998,\n",
    " 0.3600000000000001,\n",
    " 1.0537499999999995,\n",
    " 0.417,\n",
    " 0.3014999999999999,\n",
    " 0.5565000000000002,\n",
    " 1.1640000000000001,\n",
    " 1.0160000000000005,\n",
    " 1.2279999999999998,\n",
    " 1.0145000000000004,\n",
    " 0.5586666666667002,\n",
    " 0.7220000000000002,\n",
    " 0.4544999999999999,\n",
    " 0.43533333333330027,\n",
    " 0.6624999999999996,\n",
    " 0.8344999999999994,\n",
    " 0.5330000000000004,\n",
    " 1.0537499999999995,\n",
    " 0.5055000000000003,\n",
    " 0.266,\n",
    " 0.3600000000000001,\n",
    " 0.6105,\n",
    " 0.5695000000000001,\n",
    " 0.967,\n",
    " 0.8660000000000001,\n",
    " 0.851,\n",
    " 0.3732499999999999,\n",
    " 0.9545000000000003,\n",
    " 0.4554999999999994,\n",
    " 0.33199999999999985,\n",
    " 0.3014999999999999,\n",
    " 0.5640000000000001,\n",
    " 0.2709999999999999,\n",
    " 0.417,\n",
    " 0.30299999999999994,\n",
    " 0.965,\n",
    " 0.9754999999999998,\n",
    " 0.6015000000000006,\n",
    " 0.3029999999999995,\n",
    " 1.1599999999999997,\n",
    " 1.164,\n",
    " 0.4725000000000002,\n",
    " 1.1810000000000005,\n",
    " 0.7129999999999996,\n",
    " 0.4535,\n",
    " 0.9014999999999996,\n",
    " 0.3865000000000001,\n",
    " 0.8780000000000001,\n",
    " 1.1640000000000001,\n",
    " 0.6099999999999994,\n",
    " 0.29499999999999993,\n",
    " 0.7050000000000001,\n",
    " 1.0605000000000002,\n",
    " 1.0710000000000002,\n",
    " 0.5880000000000003,\n",
    " 0.4764999999999999,\n",
    " 0.31499999999999995,\n",
    " 0.4885000000000002,\n",
    " 0.5559999999999996,\n",
    " 0.6154999999999999,\n",
    " 0.7809999999999993,\n",
    " 0.5696666666666999,\n",
    " 0.5565000000000002,\n",
    " 1.0065,\n",
    " 0.6844999999999999,\n",
    " 0.7729999999999997,\n",
    " 0.9819999999999998,\n",
    " 0.5410000000000001,\n",
    " 0.3412500000000005,\n",
    " 0.3595000000000001,\n",
    " 0.8540000000000001,\n",
    " 0.3989999999999991,\n",
    " 0.6665000000000001,\n",
    " 0.3184999999999993,\n",
    " 0.3099999999999996,\n",
    " 0.8624999999999998,\n",
    " 0.7734999999999999,\n",
    " 0.31300000000000017,\n",
    " 0.7894999999999996,\n",
    " 0.8170000000000001,\n",
    " 0.9015000000000004,\n",
    " 0.4935000000000001,\n",
    " 0.6919999999999993,\n",
    " 0.4800000000000002,\n",
    " 0.4584999999999999]"
   ]
  },
  {
   "cell_type": "code",
   "execution_count": null,
   "metadata": {},
   "outputs": [],
   "source": []
  },
  {
   "cell_type": "code",
   "execution_count": 44,
   "metadata": {},
   "outputs": [
    {
     "data": {
      "text/plain": [
       "[0.31499999999999995,\n",
       " 0.4885000000000002,\n",
       " 0.5410000000000001,\n",
       " 0.9545000000000003,\n",
       " 1.0160000000000005,\n",
       " 0.6624999999999996,\n",
       " 1.1599999999999997,\n",
       " 0.9754999999999998,\n",
       " 0.5055000000000003,\n",
       " 0.967,\n",
       " 0.3865000000000001,\n",
       " 0.30299999999999994,\n",
       " 0.8780000000000001,\n",
       " 0.4725000000000002,\n",
       " 0.43533333333330027,\n",
       " 0.3989999999999991,\n",
       " 0.8344999999999994,\n",
       " 0.965,\n",
       " 0.851,\n",
       " 0.4800000000000002,\n",
       " 0.9819999999999998,\n",
       " 0.6099999999999994,\n",
       " 0.6844999999999999,\n",
       " 0.3732499999999999,\n",
       " 0.9014999999999996,\n",
       " 0.3595000000000001,\n",
       " 0.6015000000000006,\n",
       " 0.3184999999999993,\n",
       " 0.3029999999999995,\n",
       " 0.7729999999999997,\n",
       " 0.29499999999999993,\n",
       " 0.7220000000000002,\n",
       " 0.4544999999999999,\n",
       " 0.7129999999999996,\n",
       " 0.7050000000000001,\n",
       " 0.7809999999999993,\n",
       " 0.5559999999999996,\n",
       " 0.5695000000000001,\n",
       " 0.2709999999999999,\n",
       " 0.6665000000000001,\n",
       " 0.8540000000000001,\n",
       " 0.8624999999999998,\n",
       " 0.266,\n",
       " 0.5330000000000004,\n",
       " 0.6154999999999999,\n",
       " 1.0710000000000002,\n",
       " 0.31300000000000017,\n",
       " 0.5586666666667002,\n",
       " 1.164,\n",
       " 0.3412500000000005,\n",
       " 0.5696666666666999,\n",
       " 1.0065,\n",
       " 0.33199999999999985,\n",
       " 0.6919999999999993,\n",
       " 0.6105,\n",
       " 0.3099999999999996,\n",
       " 1.0605000000000002,\n",
       " 0.7734999999999999,\n",
       " 0.4584999999999999,\n",
       " 0.4535,\n",
       " 0.8170000000000001,\n",
       " 0.8660000000000001,\n",
       " 1.0145000000000004,\n",
       " 0.5640000000000001,\n",
       " 0.5880000000000003,\n",
       " 0.4935000000000001,\n",
       " 1.1810000000000005,\n",
       " 0.4764999999999999,\n",
       " 0.7894999999999996,\n",
       " 0.9015000000000004,\n",
       " 0.4554999999999994,\n",
       " 1.2279999999999998,\n",
       " 0.3600000000000001,\n",
       " 1.0537499999999995,\n",
       " 0.417,\n",
       " 0.3014999999999999,\n",
       " 0.5565000000000002,\n",
       " 1.1640000000000001,\n",
       " 1.0160000000000005,\n",
       " 1.2279999999999998,\n",
       " 1.0145000000000004,\n",
       " 0.5586666666667002,\n",
       " 0.7220000000000002,\n",
       " 0.4544999999999999,\n",
       " 0.43533333333330027,\n",
       " 0.6624999999999996,\n",
       " 0.8344999999999994,\n",
       " 0.5330000000000004,\n",
       " 1.0537499999999995,\n",
       " 0.5055000000000003,\n",
       " 0.266,\n",
       " 0.3600000000000001,\n",
       " 0.6105,\n",
       " 0.5695000000000001,\n",
       " 0.967,\n",
       " 0.8660000000000001,\n",
       " 0.851,\n",
       " 0.3732499999999999,\n",
       " 0.9545000000000003,\n",
       " 0.4554999999999994,\n",
       " 0.33199999999999985,\n",
       " 0.3014999999999999,\n",
       " 0.5640000000000001,\n",
       " 0.2709999999999999,\n",
       " 0.417,\n",
       " 0.30299999999999994,\n",
       " 0.965,\n",
       " 0.9754999999999998,\n",
       " 0.6015000000000006,\n",
       " 0.3029999999999995,\n",
       " 1.1599999999999997,\n",
       " 1.164,\n",
       " 0.4725000000000002,\n",
       " 1.1810000000000005,\n",
       " 0.7129999999999996,\n",
       " 0.4535,\n",
       " 0.9014999999999996,\n",
       " 0.3865000000000001,\n",
       " 0.8780000000000001,\n",
       " 1.1640000000000001,\n",
       " 0.6099999999999994,\n",
       " 0.29499999999999993,\n",
       " 0.7050000000000001,\n",
       " 1.0605000000000002,\n",
       " 1.0710000000000002,\n",
       " 0.5880000000000003,\n",
       " 0.4764999999999999,\n",
       " 0.31499999999999995,\n",
       " 0.4885000000000002,\n",
       " 0.5559999999999996,\n",
       " 0.6154999999999999,\n",
       " 0.7809999999999993,\n",
       " 0.5696666666666999,\n",
       " 0.5565000000000002,\n",
       " 1.0065,\n",
       " 0.6844999999999999,\n",
       " 0.7729999999999997,\n",
       " 0.9819999999999998,\n",
       " 0.5410000000000001,\n",
       " 0.3412500000000005,\n",
       " 0.3595000000000001,\n",
       " 0.8540000000000001,\n",
       " 0.3989999999999991,\n",
       " 0.6665000000000001,\n",
       " 0.3184999999999993,\n",
       " 0.3099999999999996,\n",
       " 0.8624999999999998,\n",
       " 0.7734999999999999,\n",
       " 0.31300000000000017,\n",
       " 0.7894999999999996,\n",
       " 0.8170000000000001,\n",
       " 0.9015000000000004,\n",
       " 0.4935000000000001,\n",
       " 0.6919999999999993,\n",
       " 0.4800000000000002,\n",
       " 0.4584999999999999]"
      ]
     },
     "execution_count": 44,
     "metadata": {},
     "output_type": "execute_result"
    }
   ],
   "source": [
    "kinectdepthdiffs, n_VE_estim_diff_1000"
   ]
  },
  {
   "cell_type": "code",
   "execution_count": 37,
   "metadata": {},
   "outputs": [
    {
     "data": {
      "text/plain": [
       "Text(0, 0.5, 'Proportion Correct')"
      ]
     },
     "execution_count": 37,
     "metadata": {},
     "output_type": "execute_result"
    },
    {
     "data": {
      "image/png": "[encoded data removed]",
      "text/plain": [
       "<Figure size 720x576 with 1 Axes>"
      ]
     },
     "metadata": {
      "needs_background": "light"
     },
     "output_type": "display_data"
    }
   ],
   "source": [
    "fig, ax = plt.subplots(figsize=[10,8])\n",
    "right_side = ax.spines['right']\n",
    "right_side.set_visible(False)\n",
    "top = ax.spines['top']\n",
    "top.set_visible(False)\n",
    "\n",
    "plt.plot(VE_X_125, PC_predicted_125,color='green', label = '125 ms: m = ' + str(round(VE_PC_reg_125.coef_[0], 2))\n",
    "         + '     r' + get_super('2') + ' = '+ str(round(float(VE_PC_reg_125.score(VE_X_125, VE_PC_125)), 3)))\n",
    "plt.plot(VE_X_250, PC_predicted_250,color='chocolate', label = '250 ms: m = ' + str(round(VE_PC_reg_250.coef_[0], 3))\n",
    "         + '     r' + get_super('2') + ' = '+ str(round(float(VE_PC_reg_250.score(VE_X_250, VE_PC_250)), 3)))\n",
    "plt.plot(VE_X_1000, PC_predicted_1000,color='darkviolet', label = '1000 ms: m = ' + str(round(VE_PC_reg_1000.coef_[0], 2))\n",
    "         + '     r' + get_super('2') + ' = '+ str(round(float(VE_PC_reg_1000.score(VE_X_1000, VE_PC_1000)), 3)))\n",
    "\n",
    "legend = plt.legend(loc = 0, fontsize=13, labelspacing=1, frameon=True, facecolor='lightgray')\n",
    "\n",
    "plt.plot([0, 1.6], [0.5,0.5], '--', color='black')\n",
    "\n",
    "plt.xlabel(\"z-scored Verbal Estimate Difference (m)\", fontsize = 15)\n",
    "plt.ylabel(\"Proportion Correct\", fontsize = 15)"
   ]
  },
  {
   "cell_type": "code",
   "execution_count": 38,
   "metadata": {},
   "outputs": [
    {
     "ename": "NameError",
     "evalue": "name 'all_subj_acc_slopes' is not defined",
     "output_type": "error",
     "traceback": [
      "\u001b[0;31m---------------------------------------------------------------------------\u001b[0m",
      "\u001b[0;31mNameError\u001b[0m                                 Traceback (most recent call last)",
      "\u001b[0;32m<ipython-input-38-48e932d9e9b1>\u001b[0m in \u001b[0;36m<module>\u001b[0;34m\u001b[0m\n\u001b[1;32m      2\u001b[0m \u001b[0mdurations\u001b[0m \u001b[0;34m=\u001b[0m \u001b[0;34m[\u001b[0m\u001b[0;34m'125'\u001b[0m\u001b[0;34m,\u001b[0m \u001b[0;34m'250'\u001b[0m\u001b[0;34m,\u001b[0m \u001b[0;34m'1000'\u001b[0m\u001b[0;34m]\u001b[0m\u001b[0;34m\u001b[0m\u001b[0;34m\u001b[0m\u001b[0m\n\u001b[1;32m      3\u001b[0m \u001b[0;34m\u001b[0m\u001b[0m\n\u001b[0;32m----> 4\u001b[0;31m \u001b[0mzs_PC\u001b[0m \u001b[0;34m=\u001b[0m \u001b[0;34m[\u001b[0m\u001b[0mnp\u001b[0m\u001b[0;34m.\u001b[0m\u001b[0mmean\u001b[0m\u001b[0;34m(\u001b[0m\u001b[0mall_subj_acc_slopes\u001b[0m\u001b[0;34m[\u001b[0m\u001b[0;36m125\u001b[0m\u001b[0;34m]\u001b[0m\u001b[0;34m)\u001b[0m\u001b[0;34m,\u001b[0m \u001b[0mnp\u001b[0m\u001b[0;34m.\u001b[0m\u001b[0mmean\u001b[0m\u001b[0;34m(\u001b[0m\u001b[0mall_subj_acc_slopes\u001b[0m\u001b[0;34m[\u001b[0m\u001b[0;36m250\u001b[0m\u001b[0;34m]\u001b[0m\u001b[0;34m)\u001b[0m\u001b[0;34m,\u001b[0m \u001b[0mnp\u001b[0m\u001b[0;34m.\u001b[0m\u001b[0mmean\u001b[0m\u001b[0;34m(\u001b[0m\u001b[0mall_subj_acc_slopes\u001b[0m\u001b[0;34m[\u001b[0m\u001b[0;36m1000\u001b[0m\u001b[0;34m]\u001b[0m\u001b[0;34m)\u001b[0m\u001b[0;34m]\u001b[0m\u001b[0;34m\u001b[0m\u001b[0;34m\u001b[0m\u001b[0m\n\u001b[0m\u001b[1;32m      5\u001b[0m \u001b[0mzs_PC_avg_sem\u001b[0m \u001b[0;34m=\u001b[0m \u001b[0;34m[\u001b[0m\u001b[0msem\u001b[0m\u001b[0;34m(\u001b[0m\u001b[0mall_subj_acc_slopes\u001b[0m\u001b[0;34m[\u001b[0m\u001b[0;36m125\u001b[0m\u001b[0;34m]\u001b[0m\u001b[0;34m)\u001b[0m\u001b[0;34m,\u001b[0m \u001b[0msem\u001b[0m\u001b[0;34m(\u001b[0m\u001b[0mall_subj_acc_slopes\u001b[0m\u001b[0;34m[\u001b[0m\u001b[0;36m250\u001b[0m\u001b[0;34m]\u001b[0m\u001b[0;34m)\u001b[0m\u001b[0;34m,\u001b[0m \u001b[0msem\u001b[0m\u001b[0;34m(\u001b[0m\u001b[0mall_subj_acc_slopes\u001b[0m\u001b[0;34m[\u001b[0m\u001b[0;36m1000\u001b[0m\u001b[0;34m]\u001b[0m\u001b[0;34m)\u001b[0m\u001b[0;34m]\u001b[0m\u001b[0;34m\u001b[0m\u001b[0;34m\u001b[0m\u001b[0m\n\u001b[1;32m      6\u001b[0m \u001b[0;34m\u001b[0m\u001b[0m\n",
      "\u001b[0;31mNameError\u001b[0m: name 'all_subj_acc_slopes' is not defined"
     ]
    }
   ],
   "source": [
    "# creating the dataset\n",
    "durations = ['125', '250', '1000']\n",
    "\n",
    "zs_PC = [np.mean(all_subj_acc_slopes[125]), np.mean(all_subj_acc_slopes[250]), np.mean(all_subj_acc_slopes[1000])]\n",
    "zs_PC_avg_sem = [sem(all_subj_acc_slopes[125]), sem(all_subj_acc_slopes[250]), sem(all_subj_acc_slopes[1000])]\n",
    "\n",
    "fig, ax = plt.subplots(figsize=[8,9])\n",
    "ax.spines['right'].set_visible(False)\n",
    "ax.spines['top'].set_visible(False)\n",
    "\n",
    "plt.xticks(fontsize=12)\n",
    "plt.ylim(0.15, 0.3)\n",
    "plt.yticks(np.arange(0.15, 0.35, 0.05),fontsize=12)\n",
    "\n",
    "\n",
    "\n",
    "# creating the bar plot\n",
    "plt.bar(durations, zs_PC, yerr = zs_PC_avg_sem, color = ['darkgreen', 'chocolate', 'darkviolet'], width=0.8, capsize=5)\n",
    " \n",
    "# plt.title('Verbal Estimate Defined Discrimination Accuracy', fontsize=20)\n",
    "plt.xlabel(\"Duration (ms)\", fontsize=16)\n",
    "plt.ylabel(\"Average Participant Accuracy x Depth Difference Slope\", fontsize=16)\n",
    "\n",
    "plt.show()"
   ]
  },
  {
   "cell_type": "code",
   "execution_count": 1238,
   "metadata": {},
   "outputs": [
    {
     "name": "stdout",
     "output_type": "stream",
     "text": [
      "2.305452099044766 0.1008623176176023\n",
      "0.39995065905795646 0.5275869934493791\n",
      "4.299573758041573 0.03895557741013934\n",
      "2.2473856661170144 0.1348612890300926\n"
     ]
    }
   ],
   "source": [
    "# stats f_oneway functions takes the groups as input and returns ANOVA F and p value\n",
    "fvalue, pvalue = stats.f_oneway(all_subj_acc_slopes[125], all_subj_acc_slopes[250], all_subj_acc_slopes[1000])\n",
    "print(fvalue, pvalue)\n",
    "\n",
    "fvalue, pvalue = stats.f_oneway(all_subj_acc_slopes[125], all_subj_acc_slopes[250])\n",
    "print(fvalue, pvalue)\n",
    "\n",
    "fvalue, pvalue = stats.f_oneway(all_subj_acc_slopes[125], all_subj_acc_slopes[1000])\n",
    "print(fvalue, pvalue)\n",
    "\n",
    "fvalue, pvalue = stats.f_oneway(all_subj_acc_slopes[250], all_subj_acc_slopes[1000])\n",
    "print(fvalue, pvalue)"
   ]
  },
  {
   "cell_type": "code",
   "execution_count": 1176,
   "metadata": {},
   "outputs": [
    {
     "name": "stdout",
     "output_type": "stream",
     "text": [
      "6.380790793619089 0.00184722675448534\n",
      "3.7921502214406795 0.05240794152813587\n",
      "12.394624958066155 0.0004958395189892309\n",
      "2.7294174776197333 0.09953096361681664\n"
     ]
    }
   ],
   "source": [
    "# stats f_oneway functions takes the groups as input and returns ANOVA F and p value\n",
    "fvalue, pvalue = stats.f_oneway(subj_acc[125], subj_acc[250], subj_acc[1000])\n",
    "print(fvalue, pvalue)\n",
    "\n",
    "fvalue, pvalue = stats.f_oneway(subj_acc[125], subj_acc[250])\n",
    "print(fvalue, pvalue)\n",
    "\n",
    "fvalue, pvalue = stats.f_oneway(subj_acc[125], subj_acc[1000])\n",
    "print(fvalue, pvalue)\n",
    "\n",
    "fvalue, pvalue = stats.f_oneway(subj_acc[250], subj_acc[1000])\n",
    "print(fvalue, pvalue)"
   ]
  },
  {
   "cell_type": "code",
   "execution_count": 1177,
   "metadata": {},
   "outputs": [
    {
     "data": {
      "image/png": "[encoded data removed]",
      "text/plain": [
       "<Figure size 576x648 with 1 Axes>"
      ]
     },
     "metadata": {
      "needs_background": "light"
     },
     "output_type": "display_data"
    }
   ],
   "source": [
    "# creating the dataset\n",
    "durations = ['125', '250', '1000']\n",
    "\n",
    "zs_PC = [np.mean(subj_acc[125]), np.mean(subj_acc[250]), np.mean(subj_acc[1000])]\n",
    "zs_PC_avg_sem = [sem(subj_acc[125]), sem(subj_acc[250]), sem(subj_acc[1000])]\n",
    "\n",
    "fig, ax = plt.subplots(figsize=[8,9])\n",
    "ax.spines['right'].set_visible(False)\n",
    "ax.spines['top'].set_visible(False)\n",
    "\n",
    "plt.xticks(fontsize=12)\n",
    "plt.ylim(0.5, 0.75)\n",
    "plt.yticks(np.arange(0.5, 0.75, 0.05),fontsize=12)\n",
    "\n",
    "\n",
    "\n",
    "# creating the bar plot\n",
    "plt.bar(durations, zs_PC, yerr = zs_PC_avg_sem, color = ['darkgreen', 'chocolate', 'darkviolet'], width=0.8, capsize=5)\n",
    " \n",
    "# plt.title('Verbal Estimate Defined Discrimination Accuracy', fontsize=20)\n",
    "plt.xlabel(\"Duration (ms)\", fontsize=16)\n",
    "plt.ylabel(\"Average Participant Accuracy\", fontsize=16)\n",
    "\n",
    "plt.show()"
   ]
  },
  {
   "cell_type": "code",
   "execution_count": 42,
   "metadata": {},
   "outputs": [
    {
     "name": "stdout",
     "output_type": "stream",
     "text": [
      "16.90818706937906 8.158278400550968e-08\n",
      "9.47728335895434 0.002266296636770841\n",
      "32.250033508628675 3.11997578963329e-08\n",
      "7.921441095945922 0.005197673693124769\n"
     ]
    }
   ],
   "source": [
    "# stats f_oneway functions takes the groups as input and returns ANOVA F and p value\n",
    "fvalue, pvalue = stats.f_oneway(n_VE_accuracy_125, n_VE_accuracy_250, n_VE_accuracy_1000)\n",
    "print(fvalue, pvalue)\n",
    "\n",
    "fvalue, pvalue = stats.f_oneway(n_VE_accuracy_125, n_VE_accuracy_250)\n",
    "print(fvalue, pvalue)\n",
    "\n",
    "fvalue, pvalue = stats.f_oneway(n_VE_accuracy_125, n_VE_accuracy_1000)\n",
    "print(fvalue, pvalue)\n",
    "\n",
    "fvalue, pvalue = stats.f_oneway(n_VE_accuracy_250, n_VE_accuracy_1000)\n",
    "print(fvalue, pvalue)"
   ]
  },
  {
   "cell_type": "code",
   "execution_count": 1179,
   "metadata": {},
   "outputs": [
    {
     "data": {
      "text/plain": [
       "(0.839392644237744, 1.2770868714233237e-42)"
      ]
     },
     "execution_count": 1179,
     "metadata": {},
     "output_type": "execute_result"
    }
   ],
   "source": [
    "stats.pearsonr(n_VE_accuracy_250, n_VE_accuracy_125)"
   ]
  },
  {
   "cell_type": "code",
   "execution_count": 1180,
   "metadata": {},
   "outputs": [
    {
     "data": {
      "text/plain": [
       "(0.7429080953321597, 1.228146192808795e-28)"
      ]
     },
     "execution_count": 1180,
     "metadata": {},
     "output_type": "execute_result"
    }
   ],
   "source": [
    "stats.pearsonr(n_VE_accuracy_125, n_VE_accuracy_1000)"
   ]
  },
  {
   "cell_type": "code",
   "execution_count": 1181,
   "metadata": {},
   "outputs": [
    {
     "data": {
      "text/plain": [
       "(0.8498051138034979, 1.117473216736034e-44)"
      ]
     },
     "execution_count": 1181,
     "metadata": {},
     "output_type": "execute_result"
    }
   ],
   "source": [
    "stats.pearsonr(n_VE_accuracy_250, n_VE_accuracy_1000)"
   ]
  },
  {
   "cell_type": "code",
   "execution_count": 1182,
   "metadata": {},
   "outputs": [
    {
     "data": {
      "text/plain": [
       "[<matplotlib.lines.Line2D at 0x7f9f4bbfae90>]"
      ]
     },
     "execution_count": 1182,
     "metadata": {},
     "output_type": "execute_result"
    },
    {
     "data": {
      "image/png": "[encoded data removed]",
      "text/plain": [
       "<Figure size 504x504 with 1 Axes>"
      ]
     },
     "metadata": {
      "needs_background": "light"
     },
     "output_type": "display_data"
    }
   ],
   "source": [
    "plt.figure(figsize=[7,7])\n",
    "plt.xlabel('Proportion Correct @ 250 ms', fontsize=15)\n",
    "plt.ylabel('Proportion Correct @ 1000 ms', fontsize=15)\n",
    "plt.plot(n_VE_accuracy_250,n_VE_accuracy_1000, 'o' )"
   ]
  },
  {
   "cell_type": "code",
   "execution_count": 1183,
   "metadata": {},
   "outputs": [
    {
     "data": {
      "text/plain": [
       "(-0.389280576078014, 5.098596642494584e-07)"
      ]
     },
     "execution_count": 1183,
     "metadata": {},
     "output_type": "execute_result"
    }
   ],
   "source": [
    "stats.pearsonr(n_VE_estim_diff_125, n_avg_RT_125)"
   ]
  },
  {
   "cell_type": "code",
   "execution_count": null,
   "metadata": {},
   "outputs": [],
   "source": []
  },
  {
   "cell_type": "code",
   "execution_count": 1251,
   "metadata": {},
   "outputs": [
    {
     "name": "stdout",
     "output_type": "stream",
     "text": [
      "m: [-128.94129009]\n",
      "b: 1317.0306621346508\n",
      "R-squared:  0.22709929007272822\n"
     ]
    },
    {
     "data": {
      "image/png": "[encoded data removed]",
      "text/plain": [
       "<Figure size 576x576 with 1 Axes>"
      ]
     },
     "metadata": {
      "needs_background": "light"
     },
     "output_type": "display_data"
    }
   ],
   "source": [
    "fig, ax = plt.subplots(figsize=[8,8])\n",
    "right_side = ax.spines['right']\n",
    "right_side.set_visible(False)\n",
    "top = ax.spines['top']\n",
    "top.set_visible(False)\n",
    "\n",
    "#run regression\n",
    "X_125 = np.array(np.abs(n_VE_estim_diff_125).reshape(-1,1))\n",
    "y_125 = n_avg_RT_125\n",
    "reg_125 = LinearRegression().fit(X_125, y_125)\n",
    "\n",
    "#Generated Predictions\n",
    "y_predicted_125 = reg_125.predict(X_125)\n",
    "#Plot Our Actual and Predicted Values\n",
    "plt.errorbar(X_125, y_125,elinewidth=1, ecolor='gray',fmt='or', mfc='white', mec='green', capsize=3, alpha = 0.3, yerr = np.array(n_avg_RT_ste_125));\n",
    "\n",
    "plt.plot(X_125, y_125, 's', color='green', alpha = 0.3);\n",
    "plt.plot(X_125, y_predicted_125,color='green', label = 'm = ' + str(round(reg_125.coef_[0], 2))\n",
    "        + '     r' + get_super('2') + ' = '+ str(round(float(reg_125.score(X_125, y_125)), 3)))\n",
    "\n",
    "plt.xlabel(\"Average Z-scored Verbal Estimate Difference (m)\", fontsize = 15)\n",
    "plt.ylabel(\"RT (ms)\", fontsize = 15)\n",
    "\n",
    "plt.ylim(100, 1600)\n",
    "\n",
    "legend = plt.legend(loc = 4, fontsize=13, labelspacing=1, frameon=False)\n",
    "\n",
    "fig.tight_layout()\n",
    "\n",
    "plt.title('125 ms', fontsize=18)\n",
    "\n",
    "#get coefficients and y intercept\n",
    "print(\"m: {0}\".format(reg_125.coef_))\n",
    "print(\"b: {0}\".format(reg_125.intercept_))\n",
    "\n",
    "#Returns the coefficient of determination R^2 of the prediction.\n",
    "print(\"R-squared: \", reg_125.score(X_125, y_125))"
   ]
  },
  {
   "cell_type": "code",
   "execution_count": 1185,
   "metadata": {
    "collapsed": true,
    "jupyter": {
     "outputs_hidden": true
    }
   },
   "outputs": [
    {
     "data": {
      "text/plain": [
       "[1045.167741935484,\n",
       " 1071.2129032258065,\n",
       " 888.4569536423842,\n",
       " 1102.4387096774194,\n",
       " 1142.6645161290323,\n",
       " 1097.2142857142858,\n",
       " 1014.7908496732025,\n",
       " 1029.7354838709678,\n",
       " 983.7908496732025,\n",
       " 991.5096774193548,\n",
       " 1090.1699346405228,\n",
       " 1022.5354838709677,\n",
       " 925.7096774193549,\n",
       " 1035.0,\n",
       " 1094.3636363636363,\n",
       " 1121.1883116883116,\n",
       " 1124.9935483870968,\n",
       " 908.4771241830065,\n",
       " 1069.5096774193548,\n",
       " 952.0519480519481,\n",
       " 1009.5855263157894,\n",
       " 1103.4805194805194,\n",
       " 1105.9161290322581,\n",
       " 962.7320261437908,\n",
       " 1025.316129032258,\n",
       " 1007.6948051948052,\n",
       " 1138.2516129032258,\n",
       " 1166.9285714285713,\n",
       " 1005.7096774193549,\n",
       " 1132.5612903225806,\n",
       " 1013.0324675324675,\n",
       " 989.1372549019609,\n",
       " 982.2467532467533,\n",
       " 1154.5096774193548,\n",
       " 1099.6315789473683,\n",
       " 1070.5096774193548,\n",
       " 1060.7077922077922,\n",
       " 911.8116883116884,\n",
       " 1018.3483870967741,\n",
       " 859.883870967742,\n",
       " 1015.0774193548386,\n",
       " 1140.9548387096775,\n",
       " 1044.077922077922,\n",
       " 1123.9407894736842,\n",
       " 960.0064935064936,\n",
       " 1089.4645161290323,\n",
       " 878.6387096774195,\n",
       " 1114.167741935484,\n",
       " 1096.1818181818182,\n",
       " 1025.5657894736842,\n",
       " 959.078431372549,\n",
       " 1031.283870967742,\n",
       " 1108.2156862745098,\n",
       " 1109.032258064516,\n",
       " 1026.3935483870969,\n",
       " 1185.0967741935483,\n",
       " 923.7467532467533,\n",
       " 981.909090909091,\n",
       " 1074.5194805194806,\n",
       " 1205.6645161290323,\n",
       " 978.167741935484,\n",
       " 917.058064516129,\n",
       " 1037.1870967741936,\n",
       " 1113.7612903225806,\n",
       " 991.9350649350649,\n",
       " 1095.8116883116884,\n",
       " 1067.3506493506493,\n",
       " 1003.1818181818182,\n",
       " 958.0526315789473,\n",
       " 1068.1548387096775,\n",
       " 1142.683870967742,\n",
       " 910.7012987012988,\n",
       " 886.6516129032259,\n",
       " 1057.1948051948052,\n",
       " 1077.3701298701299,\n",
       " 1087.2451612903226,\n",
       " 1067.7677419354839,\n",
       " 964.0196078431372,\n",
       " 1142.6645161290323,\n",
       " 910.7012987012988,\n",
       " 1037.1870967741936,\n",
       " 1114.167741935484,\n",
       " 989.1372549019609,\n",
       " 982.2467532467533,\n",
       " 1094.3636363636363,\n",
       " 1097.2142857142858,\n",
       " 1124.9935483870968,\n",
       " 1123.9407894736842,\n",
       " 1057.1948051948052,\n",
       " 983.7908496732025,\n",
       " 1044.077922077922,\n",
       " 886.6516129032259,\n",
       " 1026.3935483870969,\n",
       " 911.8116883116884,\n",
       " 991.5096774193548,\n",
       " 917.058064516129,\n",
       " 1069.5096774193548,\n",
       " 962.7320261437908,\n",
       " 1102.4387096774194,\n",
       " 1142.683870967742,\n",
       " 1108.2156862745098,\n",
       " 1087.2451612903226,\n",
       " 1113.7612903225806,\n",
       " 1018.3483870967741,\n",
       " 1077.3701298701299,\n",
       " 1022.5354838709677,\n",
       " 908.4771241830065,\n",
       " 1029.7354838709678,\n",
       " 1138.2516129032258,\n",
       " 1005.7096774193549,\n",
       " 1014.7908496732025,\n",
       " 1096.1818181818182,\n",
       " 1035.0,\n",
       " 1067.3506493506493,\n",
       " 1154.5096774193548,\n",
       " 1205.6645161290323,\n",
       " 1025.316129032258,\n",
       " 1090.1699346405228,\n",
       " 925.7096774193549,\n",
       " 964.0196078431372,\n",
       " 1103.4805194805194,\n",
       " 1013.0324675324675,\n",
       " 1099.6315789473683,\n",
       " 923.7467532467533,\n",
       " 1089.4645161290323,\n",
       " 991.9350649350649,\n",
       " 1003.1818181818182,\n",
       " 1045.167741935484,\n",
       " 1071.2129032258065,\n",
       " 1060.7077922077922,\n",
       " 960.0064935064936,\n",
       " 1070.5096774193548,\n",
       " 959.078431372549,\n",
       " 1067.7677419354839,\n",
       " 1031.283870967742,\n",
       " 1105.9161290322581,\n",
       " 1132.5612903225806,\n",
       " 1009.5855263157894,\n",
       " 888.4569536423842,\n",
       " 1025.5657894736842,\n",
       " 1007.6948051948052,\n",
       " 1015.0774193548386,\n",
       " 1121.1883116883116,\n",
       " 859.883870967742,\n",
       " 1166.9285714285713,\n",
       " 1185.0967741935483,\n",
       " 1140.9548387096775,\n",
       " 981.909090909091,\n",
       " 878.6387096774195,\n",
       " 958.0526315789473,\n",
       " 978.167741935484,\n",
       " 1068.1548387096775,\n",
       " 1095.8116883116884,\n",
       " 1109.032258064516,\n",
       " 952.0519480519481,\n",
       " 1074.5194805194806]"
      ]
     },
     "execution_count": 1185,
     "metadata": {},
     "output_type": "execute_result"
    }
   ],
   "source": [
    "n_avg_RT_250"
   ]
  },
  {
   "cell_type": "code",
   "execution_count": 1186,
   "metadata": {},
   "outputs": [
    {
     "data": {
      "text/plain": [
       "(-0.5707457683843288, 7.321906242263138e-15)"
      ]
     },
     "execution_count": 1186,
     "metadata": {},
     "output_type": "execute_result"
    }
   ],
   "source": [
    "stats.pearsonr(n_VE_estim_diff_250, n_avg_RT_250)"
   ]
  },
  {
   "cell_type": "code",
   "execution_count": 1252,
   "metadata": {},
   "outputs": [
    {
     "name": "stdout",
     "output_type": "stream",
     "text": [
      "m: [-120.47876384]\n",
      "b: 1101.1122806870198\n",
      "R-squared:  0.2869550818198382\n"
     ]
    },
    {
     "data": {
      "image/png": "[encoded data removed]",
      "text/plain": [
       "<Figure size 576x576 with 1 Axes>"
      ]
     },
     "metadata": {
      "needs_background": "light"
     },
     "output_type": "display_data"
    }
   ],
   "source": [
    "fig, ax = plt.subplots(figsize=[8,8])\n",
    "right_side = ax.spines['right']\n",
    "right_side.set_visible(False)\n",
    "top = ax.spines['top']\n",
    "top.set_visible(False)\n",
    "\n",
    "#run regression\n",
    "X_250 = np.array(np.abs(n_VE_estim_diff_250).reshape(-1,1))\n",
    "y_250 = n_avg_RT_250\n",
    "reg_250 = LinearRegression().fit(X_250, y_250)\n",
    "\n",
    "#Generated Predictions\n",
    "y_predicted_250 = reg_250.predict(X_250)\n",
    "#Plot Our Actual and Predicted Values\n",
    "plt.errorbar(X_250, y_250,elinewidth=1, ecolor='gray',fmt='or', mfc='white', mec='chocolate', capsize=3, alpha = 0.3, yerr = np.array(n_avg_RT_ste_250));\n",
    "\n",
    "plt.plot(X_250, y_250, 's', color='chocolate', alpha = 0.3);\n",
    "plt.plot(X_250, y_predicted_250,color='chocolate', label = 'm = ' + str(round(reg_250.coef_[0], 1))\n",
    "        + '     r' + get_super('2') + ' = '+ str(round(float(reg_250.score(X_250, y_250)), 3)))\n",
    "\n",
    "plt.xlabel(\"Average Z-scored Verbal Estimate Difference (m)\", fontsize = 15)\n",
    "plt.ylabel(\"RT (ms)\", fontsize = 15)\n",
    "\n",
    "plt.ylim(100, 1600)\n",
    "\n",
    "\n",
    "legend = plt.legend(loc = 2, fontsize=13, labelspacing=1, frameon=False)\n",
    "\n",
    "fig.tight_layout()\n",
    "\n",
    "# plt.xticks(np.arange(0.15,1.2, 0.2))\n",
    "# plt.yticks(np.arange(6.7,7.3, .1))\n",
    "\n",
    "plt.title('250 ms', fontsize=18)\n",
    "\n",
    "#get coefficients and y intercept\n",
    "print(\"m: {0}\".format(reg_250.coef_))\n",
    "print(\"b: {0}\".format(reg_250.intercept_))\n",
    "\n",
    "#Returns the coefficient of determination R^2 of the prediction.\n",
    "print(\"R-squared: \", reg_250.score(X_250, y_250))"
   ]
  },
  {
   "cell_type": "code",
   "execution_count": 1188,
   "metadata": {},
   "outputs": [
    {
     "data": {
      "text/plain": [
       "(-0.5043142767586988, 1.918327626204416e-11)"
      ]
     },
     "execution_count": 1188,
     "metadata": {},
     "output_type": "execute_result"
    }
   ],
   "source": [
    "stats.pearsonr(n_VE_estim_diff_1000, n_avg_RT_1000)"
   ]
  },
  {
   "cell_type": "code",
   "execution_count": 1189,
   "metadata": {},
   "outputs": [],
   "source": [
    "# n_avg_RT_1000"
   ]
  },
  {
   "cell_type": "code",
   "execution_count": 1255,
   "metadata": {},
   "outputs": [
    {
     "name": "stdout",
     "output_type": "stream",
     "text": [
      "m: [-79.53585073]\n",
      "b: 425.80960034357815\n",
      "R-squared:  0.1546070765789077\n"
     ]
    },
    {
     "data": {
      "image/png": "[encoded data removed]",
      "text/plain": [
       "<Figure size 576x576 with 1 Axes>"
      ]
     },
     "metadata": {
      "needs_background": "light"
     },
     "output_type": "display_data"
    }
   ],
   "source": [
    "fig, ax = plt.subplots(figsize=[8,8])\n",
    "right_side = ax.spines['right']\n",
    "right_side.set_visible(False)\n",
    "top = ax.spines['top']\n",
    "top.set_visible(False)\n",
    "\n",
    "#run regression\n",
    "X_1000 = np.array(np.abs(n_VE_estim_diff_1000).reshape(-1,1))\n",
    "y_1000 = n_avg_RT_1000\n",
    "reg_1000 = LinearRegression().fit(X_1000, y_1000)\n",
    "\n",
    "#Generated Predictions\n",
    "y_predicted_1000 = reg_1000.predict(X_1000)\n",
    "#Plot Our Actual and Predicted Values\n",
    "\n",
    "plt.errorbar(X_1000, y_1000, elinewidth=1, ecolor='gray', fmt='or', mfc='white', mec='darkviolet', capsize=3, alpha = 0.3, yerr = np.array(n_avg_RT_ste_1000));\n",
    "\n",
    "r_1000 = np.sqrt(float(reg_1000.score(X_1000, y_1000)))\n",
    "\n",
    "plt.plot(X_1000, y_1000, 's', color='darkviolet', alpha = 0.3);\n",
    "plt.plot(X_1000, y_predicted_1000,color='darkviolet', label = 'm = ' + str(round(reg_1000.coef_[0], 1))\n",
    "        + '     r = '+ str(round(float(r_1000), 3)))\n",
    "\n",
    "plt.xlabel(\"Average Z-scored Verbal Estimate Difference (m)\", fontsize = 15)\n",
    "plt.ylabel(\"RT (ms)\", fontsize = 15)\n",
    "plt.ylim(100, 1600)\n",
    "\n",
    "\n",
    "legend = plt.legend(loc = 2, fontsize=13, labelspacing=1, frameon=False)\n",
    "\n",
    "fig.tight_layout()\n",
    "\n",
    "# plt.yticks(np.arange(6.7,7.3, .1))\n",
    "\n",
    "plt.title('1000 ms', fontsize=18)\n",
    "\n",
    "#get coefficients and y intercept\n",
    "print(\"m: {0}\".format(reg_1000.coef_))\n",
    "print(\"b: {0}\".format(reg_1000.intercept_))\n",
    "\n",
    "#Returns the coefficient of determination R^2 of the prediction.\n",
    "print(\"R-squared: \", reg_1000.score(X_1000, y_1000))"
   ]
  },
  {
   "cell_type": "code",
   "execution_count": 1266,
   "metadata": {},
   "outputs": [
    {
     "data": {
      "image/png": "[encoded data removed]",
      "text/plain": [
       "<Figure size 648x648 with 1 Axes>"
      ]
     },
     "metadata": {
      "needs_background": "light"
     },
     "output_type": "display_data"
    }
   ],
   "source": [
    "fig, ax = plt.subplots(figsize=[9,9])\n",
    "right_side = ax.spines['right']\n",
    "right_side.set_visible(False)\n",
    "top = ax.spines['top']\n",
    "top.set_visible(False)\n",
    "\n",
    "plt.plot(X_125, y_predicted_125,color='darkgreen', label = '125 ms: m = ' + str(round(reg_125.coef_[0], 1))\n",
    "        + '     r = '+ str(round(float(reg_125.score(X_125, y_125)), 3)))\n",
    "plt.errorbar(X_125, y_125,elinewidth=1, ecolor='gray',fmt='or', mfc='white', mec='green', capsize=3, alpha = 0.3, yerr = np.array(n_avg_RT_ste_125));\n",
    "\n",
    "\n",
    "plt.errorbar(X_250, y_250,elinewidth=1, ecolor='gray',fmt='or', mfc='white', mec='chocolate', capsize=3, alpha = 0.3, yerr = np.array(n_avg_RT_ste_250));\n",
    "plt.plot(X_250, y_predicted_250,color='chocolate', label = '250 ms: m = ' + str(round(reg_250.coef_[0], 1))\n",
    "        + '     r = '+ str(round(float(reg_250.score(X_250, y_250)), 3)))\n",
    "\n",
    "\n",
    "plt.plot(X_1000, y_predicted_1000,color='darkviolet', label = '1000 ms: m = ' + str(round(reg_1000.coef_[0], 1))\n",
    "        + '     r = '+ str(round(float(r_1000), 3)))\n",
    "plt.errorbar(X_1000, y_1000, elinewidth=1, ecolor='gray', fmt='or', mfc='white', mec='darkviolet', capsize=3, alpha = 0.3, yerr = np.array(n_avg_RT_ste_1000));\n",
    "\n",
    "\n",
    "plt.xlabel(\"Average Z-scored Verbal Estimate Difference (m)\", fontsize = 15)\n",
    "plt.ylabel(\"RT (ms)\", fontsize = 15)\n",
    "plt.ylim(0, 1500)\n",
    "\n",
    "\n",
    "legend = plt.legend(loc = 4, fontsize=12, labelspacing=1, frameon=True, facecolor='lightgray')\n",
    "\n",
    "fig.tight_layout()\n",
    "\n"
   ]
  },
  {
   "cell_type": "markdown",
   "metadata": {},
   "source": [
    "## Subject RT"
   ]
  },
  {
   "cell_type": "code",
   "execution_count": 1192,
   "metadata": {},
   "outputs": [],
   "source": [
    "# n_VE_estim_diff_250\n",
    "\n"
   ]
  },
  {
   "cell_type": "code",
   "execution_count": 1244,
   "metadata": {},
   "outputs": [],
   "source": [
    "all_mean_subj_RTs = {125: [], 250: [], 1000: []}\n",
    "\n",
    "all_subj_RTs_slopes = {125: [], 250: [], 1000: []}\n",
    "\n",
    "\n",
    "aks = {125: n_VE_answerkey_125, 250: n_VE_answerkey_250, 1000: n_VE_answerkey_1000}\n",
    "\n",
    "for subj in zscored_data.subjID.unique():\n",
    "    \n",
    "    subj_df = zscored_data.loc[zscored_data['subjID']==subj]\n",
    "    s_duration = subj_df.duration.unique()[0]\n",
    "    \n",
    "    mean_subj_RTs = np.mean(np.array(subj_df['cleaned_RT']))\n",
    "    \n",
    "    \n",
    "    s_ak = aks[s_duration]\n",
    "    \n",
    "    s_stim = [elem for elem in subj_df.stimulus_0.unique() if type(elem) == str]\n",
    "    \n",
    "    subj_depthdiff = []\n",
    "    subj_trialRT = []\n",
    "\n",
    "    for stim0 in s_stim:\n",
    "        stim_subj_df = subj_df.loc[subj_df['stimulus_0']==stim0]\n",
    "        depthdiff = n_all_VE_discrim_performance[stim0]['VE_depthdifference_' + str(int(s_duration))]\n",
    "        subj_depthdiff.append(depthdiff)\n",
    "        subj_trialRT.append(stim_subj_df.trial_RT.unique()[0])\n",
    "        \n",
    "    \n",
    "    #run regression\n",
    "    X = np.array(np.abs(subj_depthdiff).reshape(-1,1))\n",
    "    y = subj_trialRT\n",
    "    reg = LinearRegression().fit(X, y)\n",
    "\n",
    "    all_subj_RTs_slopes[s_duration].append(reg.coef_[0])\n",
    "\n",
    "\n",
    "        \n",
    "    all_mean_subj_RTs[s_duration].append(mean_subj_RTs)\n",
    "\n",
    "\n",
    "    \n",
    "    "
   ]
  },
  {
   "cell_type": "code",
   "execution_count": null,
   "metadata": {},
   "outputs": [],
   "source": []
  },
  {
   "cell_type": "code",
   "execution_count": 1245,
   "metadata": {},
   "outputs": [
    {
     "name": "stdout",
     "output_type": "stream",
     "text": [
      "1.6289847861969093 0.197255467793469\n",
      "0.0740652999439238 0.785690678783519\n",
      "2.3279236131832466 0.1281007969989355\n",
      "2.185273681303825 0.14035488407525648\n"
     ]
    }
   ],
   "source": [
    "# stats f_oneway functions takes the groups as input and returns ANOVA F and p value\n",
    "fvalue, pvalue = stats.f_oneway(all_subj_RTs_slopes[125], all_subj_RTs_slopes[250], all_subj_RTs_slopes[1000])\n",
    "print(fvalue, pvalue)\n",
    "\n",
    "fvalue, pvalue = stats.f_oneway(all_subj_RTs_slopes[125], all_subj_RTs_slopes[250])\n",
    "print(fvalue, pvalue)\n",
    "\n",
    "fvalue, pvalue = stats.f_oneway(all_subj_RTs_slopes[125], all_subj_RTs_slopes[1000])\n",
    "print(fvalue, pvalue)\n",
    "\n",
    "fvalue, pvalue = stats.f_oneway(all_subj_RTs_slopes[250], all_subj_RTs_slopes[1000])\n",
    "print(fvalue, pvalue)"
   ]
  },
  {
   "cell_type": "code",
   "execution_count": 1246,
   "metadata": {},
   "outputs": [
    {
     "name": "stdout",
     "output_type": "stream",
     "text": [
      "1.7312714071449136 0.17820832567108205\n",
      "2.140952077251778 0.1444392543595018\n",
      "0.03614358657044082 0.8493449225561233\n",
      "3.442420662561165 0.06449468991956009\n"
     ]
    }
   ],
   "source": [
    "# stats f_oneway functions takes the groups as input and returns ANOVA F and p value\n",
    "fvalue, pvalue = stats.f_oneway(all_mean_subj_RTs[125], all_mean_subj_RTs[250], all_mean_subj_RTs[1000])\n",
    "print(fvalue, pvalue)\n",
    "\n",
    "fvalue, pvalue = stats.f_oneway(all_mean_subj_RTs[125], all_mean_subj_RTs[250])\n",
    "print(fvalue, pvalue)\n",
    "\n",
    "fvalue, pvalue = stats.f_oneway(all_mean_subj_RTs[125], all_mean_subj_RTs[1000])\n",
    "print(fvalue, pvalue)\n",
    "\n",
    "fvalue, pvalue = stats.f_oneway(all_mean_subj_RTs[250], all_mean_subj_RTs[1000])\n",
    "print(fvalue, pvalue)"
   ]
  },
  {
   "cell_type": "code",
   "execution_count": 1247,
   "metadata": {},
   "outputs": [
    {
     "data": {
      "image/png": "[encoded data removed]",
      "text/plain": [
       "<Figure size 576x648 with 1 Axes>"
      ]
     },
     "metadata": {
      "needs_background": "light"
     },
     "output_type": "display_data"
    }
   ],
   "source": [
    "# creating the dataset\n",
    "durations = ['125', '250', '1000']\n",
    "\n",
    "zs_RT = [np.mean(all_subj_RTs_slopes[125]), np.mean(all_subj_RTs_slopes[250]), np.mean(all_subj_RTs_slopes[1000])]\n",
    "zs_RT_avg_sem = [sem(all_subj_RTs_slopes[125]), sem(all_subj_RTs_slopes[250]), sem(all_subj_RTs_slopes[1000])]\n",
    "\n",
    "fig, ax = plt.subplots(figsize=[8,9])\n",
    "ax.spines['right'].set_visible(False)\n",
    "ax.spines['top'].set_visible(False)\n",
    "\n",
    "plt.xticks(fontsize=12)\n",
    "# plt.ylim(1000, 2500)\n",
    "# plt.yticks(np.arange(0.1, 0.35, 0.05),fontsize=12)\n",
    "\n",
    "\n",
    "# creating the bar plot\n",
    "plt.bar(durations, zs_RT, yerr = zs_RT_avg_sem, color = ['darkgreen', 'chocolate', 'darkviolet'], width=0.8, capsize=5)\n",
    " \n",
    "# plt.title('Verbal Estimate Defined Discrimination Accuracy', fontsize=20)\n",
    "plt.xlabel(\"Duration (ms)\", fontsize=16)\n",
    "plt.ylabel(\"Average Participant RT x Depth Difference Slope\", fontsize=16)\n",
    "\n",
    "plt.show()"
   ]
  },
  {
   "cell_type": "code",
   "execution_count": 1248,
   "metadata": {},
   "outputs": [
    {
     "data": {
      "image/png": "[encoded data removed]",
      "text/plain": [
       "<Figure size 576x648 with 1 Axes>"
      ]
     },
     "metadata": {
      "needs_background": "light"
     },
     "output_type": "display_data"
    }
   ],
   "source": [
    "# creating the dataset\n",
    "durations = ['125', '250', '1000']\n",
    "\n",
    "zs_RT = [np.mean(all_mean_subj_RTs[125]), np.mean(all_mean_subj_RTs[250]), np.mean(all_mean_subj_RTs[1000])]\n",
    "zs_RT_avg_sem = [sem(all_mean_subj_RTs[125]), sem(all_mean_subj_RTs[250]), sem(all_mean_subj_RTs[1000])]\n",
    "\n",
    "fig, ax = plt.subplots(figsize=[8,9])\n",
    "ax.spines['right'].set_visible(False)\n",
    "ax.spines['top'].set_visible(False)\n",
    "\n",
    "plt.xticks(fontsize=12)\n",
    "# plt.ylim(1000, 2500)\n",
    "# plt.yticks(np.arange(0.1, 0.35, 0.05),fontsize=12)\n",
    "\n",
    "\n",
    "# creating the bar plot\n",
    "plt.bar(durations, zs_RT, yerr = zs_RT_avg_sem, color = ['darkgreen', 'chocolate', 'darkviolet'], width=0.8, capsize=5)\n",
    " \n",
    "# plt.title('Verbal Estimate Defined Discrimination Accuracy', fontsize=20)\n",
    "plt.xlabel(\"Duration (ms)\", fontsize=16)\n",
    "plt.ylabel(\"Average Participant RT (ms)\", fontsize=16)\n",
    "\n",
    "plt.show()"
   ]
  },
  {
   "cell_type": "code",
   "execution_count": 1267,
   "metadata": {},
   "outputs": [
    {
     "name": "stdout",
     "output_type": "stream",
     "text": [
      "4579.227734532136 1.1437852924367075e-306\n",
      "437.03837539031065 3.6664854902617986e-61\n",
      "7970.467915765053 3.362766589149433e-223\n",
      "6039.302128401492 2.5423817634008467e-205\n"
     ]
    }
   ],
   "source": [
    "# stats f_oneway functions takes the groups as input and returns ANOVA F and p value\n",
    "fvalue, pvalue = stats.f_oneway(n_avg_RT_125, n_avg_RT_250, n_avg_RT_1000)\n",
    "print(fvalue, pvalue)\n",
    "\n",
    "fvalue, pvalue = stats.f_oneway(n_avg_RT_125, n_avg_RT_250)\n",
    "print(fvalue, pvalue)\n",
    "\n",
    "fvalue, pvalue = stats.f_oneway(n_avg_RT_125, n_avg_RT_1000)\n",
    "print(fvalue, pvalue)\n",
    "\n",
    "fvalue, pvalue = stats.f_oneway(n_avg_RT_250, n_avg_RT_1000)\n",
    "print(fvalue, pvalue)"
   ]
  },
  {
   "cell_type": "markdown",
   "metadata": {},
   "source": [
    "## Is discrimination performance better for targets that are closer or further away?\n",
    "\n",
    "n_VE_estim_diff_125 = [n_all_VE_discrim_performance[elem]['VE_depthdifference_125'] for elem in n_all_VE_discrim_performance]\n",
    "n_VE_estim_diff_250 = [n_all_VE_discrim_performance[elem]['VE_depthdifference_250'] for elem in n_all_VE_discrim_performance]\n",
    "n_VE_estim_diff_1000 = [n_all_VE_discrim_performance[elem]['VE_depthdifference_1000'] for elem in n_all_VE_discrim_performance]\n",
    "\n",
    "n_VE_accuracy_125 = [n_all_VE_discrim_performance[elem]['accuracy_125'][0] for elem in n_all_VE_discrim_performance]\n",
    "n_VE_accuracy_250 = [n_all_VE_discrim_performance[elem]['accuracy_250'][0] for elem in n_all_VE_discrim_performance]\n",
    "n_VE_accuracy_1000 = [n_all_VE_discrim_performance[elem]['accuracy_1000'][0] for elem in n_all_VE_discrim_performance]\n",
    "\n",
    "n_VE_ste_125 = [n_all_VE_discrim_performance[elem]['accuracy_125'][-2] for elem in n_all_VE_discrim_performance]\n",
    "n_VE_ste_250 = [n_all_VE_discrim_performance[elem]['accuracy_250'][-2] for elem in n_all_VE_discrim_performance]\n",
    "n_VE_ste_1000 = [n_all_VE_discrim_performance[elem]['accuracy_1000'][-2] for elem in n_all_VE_discrim_performance]\n",
    "\n",
    "n_avg_RT_125 = [n_all_VE_discrim_performance[elem]['RT_125'][1]-125 for elem in n_all_VE_discrim_performance]\n",
    "n_avg_RT_250 = [n_all_VE_discrim_performance[elem]['RT_250'][1]-250 for elem in n_all_VE_discrim_performance]\n",
    "n_avg_RT_1000 = [n_all_VE_discrim_performance[elem]['RT_1000'][1]-1000 for elem in n_all_VE_discrim_performance]\n",
    "\n",
    "n_avg_RT_ste_125 = [n_all_VE_discrim_performance[elem]['RT_125'][-1] for elem in n_all_VE_discrim_performance]\n",
    "n_avg_RT_ste_250 = [n_all_VE_discrim_performance[elem]['RT_250'][-1] for elem in n_all_VE_discrim_performance]\n",
    "n_avg_RT_ste_1000 = [n_all_VE_discrim_performance[elem]['RT_1000'][-1] for elem in n_all_VE_discrim_performance]\n",
    "\n",
    "n_JV_125 = [n_all_VE_discrim_performance[elem]['JV_regressor_125'] for elem in n_all_VE_discrim_performance]\n",
    "n_JV_250 = [n_all_VE_discrim_performance[elem]['JV_regressor_250'] for elem in n_all_VE_discrim_performance]\n",
    "n_JV_1000 = [n_all_VE_discrim_performance[elem]['JV_regressor_1000'] for elem in n_all_VE_discrim_performance]\n",
    "\n",
    "n_kinectanswer_125 = [n_all_VE_discrim_performance[elem]['kinect_answer_125'] for elem in n_all_VE_discrim_performance]\n",
    "n_kinectanswer_250 = [n_all_VE_discrim_performance[elem]['kinect_answer_250'] for elem in n_all_VE_discrim_performance]\n",
    "n_kinectanswer_1000 = [n_all_VE_discrim_performance[elem]['kinect_answer_1000'] for elem in n_all_VE_discrim_performance]\n",
    "\n",
    "n_stim = [elem for elem in n_all_VE_discrim_performance]"
   ]
  },
  {
   "cell_type": "code",
   "execution_count": 99,
   "metadata": {},
   "outputs": [],
   "source": [
    "n_VE_avg_depth_125 = [n_all_VE_discrim_performance[elem]['VE_avg_depth_125'] for elem in n_all_VE_discrim_performance]\n",
    "n_VE_avg_depth_250 = [n_all_VE_discrim_performance[elem]['VE_avg_depth_250'] for elem in n_all_VE_discrim_performance]\n",
    "n_VE_avg_depth_1000 = [n_all_VE_discrim_performance[elem]['VE_avg_depth_1000'] for elem in n_all_VE_discrim_performance]\n"
   ]
  },
  {
   "cell_type": "code",
   "execution_count": 100,
   "metadata": {},
   "outputs": [
    {
     "data": {
      "text/plain": [
       "(-0.2768475314308608, 0.00046761374167075614)"
      ]
     },
     "execution_count": 100,
     "metadata": {},
     "output_type": "execute_result"
    }
   ],
   "source": [
    "scipy.stats.pearsonr(n_VE_avg_depth_125, n_VE_accuracy_125)"
   ]
  },
  {
   "cell_type": "code",
   "execution_count": 101,
   "metadata": {},
   "outputs": [
    {
     "data": {
      "text/plain": [
       "(-0.35176496418669595, 6.700907270685612e-06)"
      ]
     },
     "execution_count": 101,
     "metadata": {},
     "output_type": "execute_result"
    }
   ],
   "source": [
    "scipy.stats.pearsonr(n_VE_avg_depth_250, n_VE_accuracy_250)"
   ]
  },
  {
   "cell_type": "code",
   "execution_count": 102,
   "metadata": {},
   "outputs": [
    {
     "data": {
      "text/plain": [
       "(-0.3212531735077125, 4.3303869879814456e-05)"
      ]
     },
     "execution_count": 102,
     "metadata": {},
     "output_type": "execute_result"
    }
   ],
   "source": [
    "scipy.stats.pearsonr(n_VE_avg_depth_1000, n_VE_accuracy_1000)"
   ]
  },
  {
   "cell_type": "code",
   "execution_count": 78,
   "metadata": {},
   "outputs": [],
   "source": [
    "\n",
    "# zipped_125 = zip(n_avg_depth, n_VE_accuracy_125)\n",
    "\n",
    "# res_125 = sorted(zipped_125)\n",
    "\n",
    "# unzipped_125 = [[i for i, j in res_125],\n",
    "#        [j for i, j in res_125]]\n",
    "\n",
    "# avg"
   ]
  },
  {
   "cell_type": "code",
   "execution_count": 109,
   "metadata": {},
   "outputs": [
    {
     "name": "stdout",
     "output_type": "stream",
     "text": [
      "m: [-0.06317054]\n",
      "b: 0.6752947529970841\n",
      "R-squared:  0.07664455565936135\n"
     ]
    },
    {
     "data": {
      "text/plain": [
       "0.077"
      ]
     },
     "execution_count": 109,
     "metadata": {},
     "output_type": "execute_result"
    },
    {
     "data": {
      "image/png": "[encoded data removed]",
      "text/plain": [
       "<Figure size 576x576 with 1 Axes>"
      ]
     },
     "metadata": {
      "needs_background": "light"
     },
     "output_type": "display_data"
    }
   ],
   "source": [
    "from sklearn.linear_model import LinearRegression\n",
    "\n",
    "fig, ax = plt.subplots(figsize=[8,8])\n",
    "ax.spines['right'].set_visible(False)\n",
    "ax.spines['top'].set_visible(False)\n",
    "\n",
    "for axis in ['bottom','left']:\n",
    "    ax.spines[axis].set_linewidth(2.3)\n",
    "    \n",
    "plt.title(\"125 ms\", fontsize = 28)\n",
    "plt.xlabel(\"Average Verbal Estimate Target Depth\", fontsize = 22)\n",
    "plt.ylabel(\"Percent Correct\", fontsize = 22)\n",
    "\n",
    "plt.xticks(fontsize=15)\n",
    "plt.yticks(fontsize=15)\n",
    "\n",
    "#run regression\n",
    "X = np.array(n_VE_avg_depth_125).reshape(-1,1)\n",
    "y = n_VE_accuracy_125\n",
    "reg = LinearRegression().fit(X, y)\n",
    "\n",
    "#Generated Predictions\n",
    "y_predicted = reg.predict(X)\n",
    "#Plot Our Actual and Predicted Values\n",
    "plt.plot(X, y, 'o', color='darkgreen', alpha = 0.5);\n",
    "plt.plot(X,y_predicted,color='darkgreen', label = 'm = ' + str(round(reg.coef_[0], 3))\n",
    "         + '     r-squared = ' + str(round(float(reg.score(X, y)), 3)))\n",
    "# plt.title(\"1000 ms\", fontsize = 20)\n",
    "# plt.xlabel(\"Actual Depth (m)\", fontsize = 15)\n",
    "# plt.ylabel(\"Estimated Depth\", fontsize = 15)\n",
    "plt.errorbar(X, y, elinewidth = 1, ecolor = \"gray\", fmt = 'or', mfc = \"darkgreen\", mec = \"darkgreen\", capsize = 3)\n",
    "\n",
    "legend = plt.legend(loc = 4, fontsize = 15, borderpad = 0.6, labelspacing = 1)\n",
    "legend.get_frame().set_facecolor('lightgray')\n",
    "\n",
    "plt.xticks(np.arange(-1,1.5,0.5))\n",
    "\n",
    "plt.ylim(0,1)\n",
    "#get coefficients and y intercept\n",
    "print(\"m: {0}\".format(reg.coef_))\n",
    "print(\"b: {0}\".format(reg.intercept_))\n",
    "\n",
    "#Returns the coefficient of determination R^2 of the prediction.\n",
    "print(\"R-squared: \", reg.score(X, y))\n",
    "\n",
    "round(float(reg.score(X, y)), 3)\n",
    "\n"
   ]
  },
  {
   "cell_type": "code",
   "execution_count": 110,
   "metadata": {},
   "outputs": [
    {
     "name": "stdout",
     "output_type": "stream",
     "text": [
      "m: [-0.07312265]\n",
      "b: 0.7174908618360325\n",
      "R-squared:  0.12373859002926735\n"
     ]
    },
    {
     "data": {
      "text/plain": [
       "0.124"
      ]
     },
     "execution_count": 110,
     "metadata": {},
     "output_type": "execute_result"
    },
    {
     "data": {
      "image/png": "[encoded data removed]",
      "text/plain": [
       "<Figure size 576x576 with 1 Axes>"
      ]
     },
     "metadata": {
      "needs_background": "light"
     },
     "output_type": "display_data"
    }
   ],
   "source": [
    "from sklearn.linear_model import LinearRegression\n",
    "\n",
    "fig, ax = plt.subplots(figsize=[8,8])\n",
    "ax.spines['right'].set_visible(False)\n",
    "ax.spines['top'].set_visible(False)\n",
    "\n",
    "for axis in ['bottom','left']:\n",
    "    ax.spines[axis].set_linewidth(2.3)\n",
    "    \n",
    "plt.title(\"250 ms\", fontsize = 28)\n",
    "plt.xlabel(\"Average Verbal Estimate Target Depth\", fontsize = 22)\n",
    "plt.ylabel(\"Percent Correct\", fontsize = 22)\n",
    "\n",
    "plt.xticks(fontsize=15)\n",
    "plt.yticks(fontsize=15)\n",
    "\n",
    "#run regression\n",
    "X = np.array(n_VE_avg_depth_250).reshape(-1,1)\n",
    "y = n_VE_accuracy_250\n",
    "reg = LinearRegression().fit(X, y)\n",
    "\n",
    "#Generated Predictions\n",
    "y_predicted = reg.predict(X)\n",
    "#Plot Our Actual and Predicted Values\n",
    "plt.plot(X, y, 'o', color='chocolate', alpha = 0.5);\n",
    "plt.plot(X,y_predicted,color='chocolate', label = 'm = ' + str(round(reg.coef_[0], 3))\n",
    "         + '     r-squared = ' + str(round(float(reg.score(X, y)), 3)))\n",
    "# plt.title(\"1000 ms\", fontsize = 20)\n",
    "# plt.xlabel(\"Actual Depth (m)\", fontsize = 15)\n",
    "# plt.ylabel(\"Estimated Depth\", fontsize = 15)\n",
    "plt.errorbar(X, y, elinewidth = 1, ecolor = \"gray\", fmt = 'or', mfc = \"chocolate\", mec = \"chocolate\", capsize = 3)\n",
    "\n",
    "legend = plt.legend(loc = 4, fontsize = 15, borderpad = 0.6, labelspacing = 1)\n",
    "legend.get_frame().set_facecolor('lightgray')\n",
    "\n",
    "\n",
    "plt.ylim(0,1)\n",
    "#get coefficients and y intercept\n",
    "print(\"m: {0}\".format(reg.coef_))\n",
    "print(\"b: {0}\".format(reg.intercept_))\n",
    "\n",
    "#Returns the coefficient of determination R^2 of the prediction.\n",
    "print(\"R-squared: \", reg.score(X, y))\n",
    "\n",
    "round(float(reg.score(X, y)), 3)"
   ]
  },
  {
   "cell_type": "code",
   "execution_count": 111,
   "metadata": {},
   "outputs": [
    {
     "name": "stdout",
     "output_type": "stream",
     "text": [
      "m: [-0.07205156]\n",
      "b: 0.7577450892310892\n",
      "R-squared:  0.10320360148877661\n"
     ]
    },
    {
     "data": {
      "text/plain": [
       "0.103"
      ]
     },
     "execution_count": 111,
     "metadata": {},
     "output_type": "execute_result"
    },
    {
     "data": {
      "image/png": "[encoded data removed]",
      "text/plain": [
       "<Figure size 576x576 with 1 Axes>"
      ]
     },
     "metadata": {
      "needs_background": "light"
     },
     "output_type": "display_data"
    }
   ],
   "source": [
    "from sklearn.linear_model import LinearRegression\n",
    "\n",
    "fig, ax = plt.subplots(figsize=[8,8])\n",
    "ax.spines['right'].set_visible(False)\n",
    "ax.spines['top'].set_visible(False)\n",
    "\n",
    "for axis in ['bottom','left']:\n",
    "    ax.spines[axis].set_linewidth(2.3)\n",
    "    \n",
    "plt.title(\"1000 ms\", fontsize = 28)\n",
    "plt.xlabel(\"Average Verbal Estimate Target Depth\", fontsize = 22)\n",
    "plt.ylabel(\"Percent Correct\", fontsize = 22)\n",
    "\n",
    "plt.xticks(fontsize=15)\n",
    "plt.yticks(fontsize=15)\n",
    "\n",
    "#run regression\n",
    "X = np.array(n_VE_avg_depth_1000).reshape(-1,1)\n",
    "y = n_VE_accuracy_1000\n",
    "reg = LinearRegression().fit(X, y)\n",
    "\n",
    "#Generated Predictions\n",
    "y_predicted = reg.predict(X)\n",
    "#Plot Our Actual and Predicted Values\n",
    "plt.plot(X, y, 'o', color='darkviolet', alpha = 0.5);\n",
    "plt.plot(X,y_predicted,color='darkviolet', label = 'm = ' + str(round(reg.coef_[0], 3))\n",
    "         + '     r-squared = ' + str(round(float(reg.score(X, y)), 3)))\n",
    "# plt.title(\"1000 ms\", fontsize = 20)\n",
    "# plt.xlabel(\"Actual Depth (m)\", fontsize = 15)\n",
    "# plt.ylabel(\"Estimated Depth\", fontsize = 15)\n",
    "plt.errorbar(X, y, elinewidth = 1, ecolor = \"gray\", fmt = 'or', mfc = \"darkviolet\", mec = \"darkviolet\", capsize = 3)\n",
    "\n",
    "legend = plt.legend(loc = 4, fontsize = 15, borderpad = 0.6, labelspacing = 1)\n",
    "legend.get_frame().set_facecolor('lightgray')\n",
    "\n",
    "\n",
    "plt.ylim(0,1)\n",
    "#get coefficients and y intercept\n",
    "print(\"m: {0}\".format(reg.coef_))\n",
    "print(\"b: {0}\".format(reg.intercept_))\n",
    "\n",
    "#Returns the coefficient of determination R^2 of the prediction.\n",
    "print(\"R-squared: \", reg.score(X, y))\n",
    "\n",
    "round(float(reg.score(X, y)), 3)"
   ]
  },
  {
   "cell_type": "code",
   "execution_count": null,
   "metadata": {},
   "outputs": [],
   "source": []
  }
 ],
 "metadata": {
  "kernelspec": {
   "display_name": "Python 3",
   "language": "python",
   "name": "python3"
  },
  "language_info": {
   "codemirror_mode": {
    "name": "ipython",
    "version": 3
   },
   "file_extension": ".py",
   "mimetype": "text/x-python",
   "name": "python",
   "nbconvert_exporter": "python",
   "pygments_lexer": "ipython3",
   "version": "3.7.5"
  }
 },
 "nbformat": 4,
 "nbformat_minor": 4
}
