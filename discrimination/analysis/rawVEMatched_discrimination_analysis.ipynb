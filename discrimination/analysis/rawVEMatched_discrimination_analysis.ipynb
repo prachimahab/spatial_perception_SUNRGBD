{
 "cells": [
  {
   "cell_type": "markdown",
   "metadata": {},
   "source": [
    "# Matched Discrimination Analysis"
   ]
  },
  {
   "cell_type": "code",
   "execution_count": 1,
   "metadata": {},
   "outputs": [],
   "source": [
    "import os \n",
    "import pandas as pd\n",
    "import numpy as np\n",
    "import math\n",
    "import matplotlib.pyplot as plt\n",
    "import scipy \n",
    "import scipy.stats as stats\n",
    "from scipy.stats import sem \n",
    "from mpl_toolkits.mplot3d import Axes3D # <--- This is important for 3d plotting \n",
    "from sklearn.linear_model import LinearRegression\n"
   ]
  },
  {
   "cell_type": "markdown",
   "metadata": {},
   "source": [
    "## Load in data "
   ]
  },
  {
   "cell_type": "code",
   "execution_count": 26,
   "metadata": {},
   "outputs": [],
   "source": [
    "# _dir = '/Users/prachimahableshwarkar/Documents/GW/Depth_MTurk/depth_discrimination'\n",
    "_dir = '/Users/pmahableshwarkar/Documents/Depth_Project/depth_discrimination'\n",
    "# raw_dir = _dir + '/data/finalVEMatched/raw/'\n",
    "zs_dir = _dir + '/data/finalDiscrimMatched/z_scored_RT/'\n",
    "\n",
    "# final_data = pd.read_csv (raw_dir + '/raw_discrim.csv')\n",
    "zscored_data = pd.read_csv (zs_dir + 'final_discrim.csv')\n"
   ]
  },
  {
   "cell_type": "code",
   "execution_count": 4,
   "metadata": {},
   "outputs": [
    {
     "data": {
      "text/html": [
       "<div>\n",
       "<style scoped>\n",
       "    .dataframe tbody tr th:only-of-type {\n",
       "        vertical-align: middle;\n",
       "    }\n",
       "\n",
       "    .dataframe tbody tr th {\n",
       "        vertical-align: top;\n",
       "    }\n",
       "\n",
       "    .dataframe thead th {\n",
       "        text-align: right;\n",
       "    }\n",
       "</style>\n",
       "<table border=\"1\" class=\"dataframe\">\n",
       "  <thead>\n",
       "    <tr style=\"text-align: right;\">\n",
       "      <th></th>\n",
       "      <th>Unnamed: 0</th>\n",
       "      <th>subjID</th>\n",
       "      <th>workerId</th>\n",
       "      <th>experimentName</th>\n",
       "      <th>versionName</th>\n",
       "      <th>sequenceName</th>\n",
       "      <th>url</th>\n",
       "      <th>selected_row</th>\n",
       "      <th>windowWidth</th>\n",
       "      <th>windowHeight</th>\n",
       "      <th>...</th>\n",
       "      <th>trial_RT</th>\n",
       "      <th>log_fixation</th>\n",
       "      <th>log_sceneDuration1</th>\n",
       "      <th>log_mask1</th>\n",
       "      <th>log_sceneDuration2</th>\n",
       "      <th>log_mask2</th>\n",
       "      <th>experimentTime</th>\n",
       "      <th>totalTime</th>\n",
       "      <th>age</th>\n",
       "      <th>gender</th>\n",
       "    </tr>\n",
       "  </thead>\n",
       "  <tbody>\n",
       "    <tr>\n",
       "      <th>0</th>\n",
       "      <td>86</td>\n",
       "      <td>388370.0</td>\n",
       "      <td>A39XIQCFSCNHFU</td>\n",
       "      <td>DepthScenes</td>\n",
       "      <td>v2_duration_discrimination</td>\n",
       "      <td>discrim_jsons/Discrim250_randls_5_rotated.json</td>\n",
       "      <td>http://54.235.29.9/FacialAge/BNav_EC2/DepthDur...</td>\n",
       "      <td>307.0</td>\n",
       "      <td>1553.0</td>\n",
       "      <td>789.0</td>\n",
       "      <td>...</td>\n",
       "      <td>1413.0</td>\n",
       "      <td>1014.0</td>\n",
       "      <td>247.0</td>\n",
       "      <td>992.0</td>\n",
       "      <td>253.0</td>\n",
       "      <td>496.0</td>\n",
       "      <td>NaN</td>\n",
       "      <td>475685</td>\n",
       "      <td>28</td>\n",
       "      <td>Man</td>\n",
       "    </tr>\n",
       "    <tr>\n",
       "      <th>1</th>\n",
       "      <td>87</td>\n",
       "      <td>388370.0</td>\n",
       "      <td>A39XIQCFSCNHFU</td>\n",
       "      <td>DepthScenes</td>\n",
       "      <td>v2_duration_discrimination</td>\n",
       "      <td>discrim_jsons/Discrim250_randls_5_rotated.json</td>\n",
       "      <td>http://54.235.29.9/FacialAge/BNav_EC2/DepthDur...</td>\n",
       "      <td>307.0</td>\n",
       "      <td>1553.0</td>\n",
       "      <td>789.0</td>\n",
       "      <td>...</td>\n",
       "      <td>1180.0</td>\n",
       "      <td>1003.0</td>\n",
       "      <td>262.0</td>\n",
       "      <td>998.0</td>\n",
       "      <td>253.0</td>\n",
       "      <td>486.0</td>\n",
       "      <td>NaN</td>\n",
       "      <td>475685</td>\n",
       "      <td>28</td>\n",
       "      <td>Man</td>\n",
       "    </tr>\n",
       "    <tr>\n",
       "      <th>2</th>\n",
       "      <td>88</td>\n",
       "      <td>388370.0</td>\n",
       "      <td>A39XIQCFSCNHFU</td>\n",
       "      <td>DepthScenes</td>\n",
       "      <td>v2_duration_discrimination</td>\n",
       "      <td>discrim_jsons/Discrim250_randls_5_rotated.json</td>\n",
       "      <td>http://54.235.29.9/FacialAge/BNav_EC2/DepthDur...</td>\n",
       "      <td>307.0</td>\n",
       "      <td>1553.0</td>\n",
       "      <td>789.0</td>\n",
       "      <td>...</td>\n",
       "      <td>1094.0</td>\n",
       "      <td>1015.0</td>\n",
       "      <td>248.0</td>\n",
       "      <td>1002.0</td>\n",
       "      <td>248.0</td>\n",
       "      <td>500.0</td>\n",
       "      <td>NaN</td>\n",
       "      <td>475685</td>\n",
       "      <td>28</td>\n",
       "      <td>Man</td>\n",
       "    </tr>\n",
       "    <tr>\n",
       "      <th>3</th>\n",
       "      <td>89</td>\n",
       "      <td>388370.0</td>\n",
       "      <td>A39XIQCFSCNHFU</td>\n",
       "      <td>DepthScenes</td>\n",
       "      <td>v2_duration_discrimination</td>\n",
       "      <td>discrim_jsons/Discrim250_randls_5_rotated.json</td>\n",
       "      <td>http://54.235.29.9/FacialAge/BNav_EC2/DepthDur...</td>\n",
       "      <td>307.0</td>\n",
       "      <td>1553.0</td>\n",
       "      <td>789.0</td>\n",
       "      <td>...</td>\n",
       "      <td>1233.0</td>\n",
       "      <td>1012.0</td>\n",
       "      <td>250.0</td>\n",
       "      <td>1000.0</td>\n",
       "      <td>254.0</td>\n",
       "      <td>487.0</td>\n",
       "      <td>NaN</td>\n",
       "      <td>475685</td>\n",
       "      <td>28</td>\n",
       "      <td>Man</td>\n",
       "    </tr>\n",
       "    <tr>\n",
       "      <th>4</th>\n",
       "      <td>90</td>\n",
       "      <td>388370.0</td>\n",
       "      <td>A39XIQCFSCNHFU</td>\n",
       "      <td>DepthScenes</td>\n",
       "      <td>v2_duration_discrimination</td>\n",
       "      <td>discrim_jsons/Discrim250_randls_5_rotated.json</td>\n",
       "      <td>http://54.235.29.9/FacialAge/BNav_EC2/DepthDur...</td>\n",
       "      <td>307.0</td>\n",
       "      <td>1553.0</td>\n",
       "      <td>789.0</td>\n",
       "      <td>...</td>\n",
       "      <td>1196.0</td>\n",
       "      <td>1016.0</td>\n",
       "      <td>234.0</td>\n",
       "      <td>1000.0</td>\n",
       "      <td>265.0</td>\n",
       "      <td>498.0</td>\n",
       "      <td>NaN</td>\n",
       "      <td>475685</td>\n",
       "      <td>28</td>\n",
       "      <td>Man</td>\n",
       "    </tr>\n",
       "    <tr>\n",
       "      <th>...</th>\n",
       "      <td>...</td>\n",
       "      <td>...</td>\n",
       "      <td>...</td>\n",
       "      <td>...</td>\n",
       "      <td>...</td>\n",
       "      <td>...</td>\n",
       "      <td>...</td>\n",
       "      <td>...</td>\n",
       "      <td>...</td>\n",
       "      <td>...</td>\n",
       "      <td>...</td>\n",
       "      <td>...</td>\n",
       "      <td>...</td>\n",
       "      <td>...</td>\n",
       "      <td>...</td>\n",
       "      <td>...</td>\n",
       "      <td>...</td>\n",
       "      <td>...</td>\n",
       "      <td>...</td>\n",
       "      <td>...</td>\n",
       "      <td>...</td>\n",
       "    </tr>\n",
       "    <tr>\n",
       "      <th>35438</th>\n",
       "      <td>88661</td>\n",
       "      <td>208241.0</td>\n",
       "      <td>AI4AO0O0WIJF7</td>\n",
       "      <td>DepthScenes</td>\n",
       "      <td>v2_duration_discrimination</td>\n",
       "      <td>discrim_jsons/Discrim125_randls_13.json</td>\n",
       "      <td>http://54.235.29.9/FacialAge/BNav_EC2/DepthDur...</td>\n",
       "      <td>293.0</td>\n",
       "      <td>1536.0</td>\n",
       "      <td>722.0</td>\n",
       "      <td>...</td>\n",
       "      <td>1008.0</td>\n",
       "      <td>1002.0</td>\n",
       "      <td>129.0</td>\n",
       "      <td>1009.0</td>\n",
       "      <td>110.0</td>\n",
       "      <td>505.0</td>\n",
       "      <td>NaN</td>\n",
       "      <td>438148</td>\n",
       "      <td>47</td>\n",
       "      <td>Woman</td>\n",
       "    </tr>\n",
       "    <tr>\n",
       "      <th>35439</th>\n",
       "      <td>88662</td>\n",
       "      <td>208241.0</td>\n",
       "      <td>AI4AO0O0WIJF7</td>\n",
       "      <td>DepthScenes</td>\n",
       "      <td>v2_duration_discrimination</td>\n",
       "      <td>discrim_jsons/Discrim125_randls_13.json</td>\n",
       "      <td>http://54.235.29.9/FacialAge/BNav_EC2/DepthDur...</td>\n",
       "      <td>293.0</td>\n",
       "      <td>1536.0</td>\n",
       "      <td>722.0</td>\n",
       "      <td>...</td>\n",
       "      <td>1162.0</td>\n",
       "      <td>1013.0</td>\n",
       "      <td>121.0</td>\n",
       "      <td>999.0</td>\n",
       "      <td>133.0</td>\n",
       "      <td>499.0</td>\n",
       "      <td>NaN</td>\n",
       "      <td>438148</td>\n",
       "      <td>47</td>\n",
       "      <td>Woman</td>\n",
       "    </tr>\n",
       "    <tr>\n",
       "      <th>35440</th>\n",
       "      <td>88663</td>\n",
       "      <td>208241.0</td>\n",
       "      <td>AI4AO0O0WIJF7</td>\n",
       "      <td>DepthScenes</td>\n",
       "      <td>v2_duration_discrimination</td>\n",
       "      <td>discrim_jsons/Discrim125_randls_13.json</td>\n",
       "      <td>http://54.235.29.9/FacialAge/BNav_EC2/DepthDur...</td>\n",
       "      <td>293.0</td>\n",
       "      <td>1536.0</td>\n",
       "      <td>722.0</td>\n",
       "      <td>...</td>\n",
       "      <td>1064.0</td>\n",
       "      <td>1011.0</td>\n",
       "      <td>126.0</td>\n",
       "      <td>994.0</td>\n",
       "      <td>124.0</td>\n",
       "      <td>496.0</td>\n",
       "      <td>NaN</td>\n",
       "      <td>438148</td>\n",
       "      <td>47</td>\n",
       "      <td>Woman</td>\n",
       "    </tr>\n",
       "    <tr>\n",
       "      <th>35441</th>\n",
       "      <td>88664</td>\n",
       "      <td>208241.0</td>\n",
       "      <td>AI4AO0O0WIJF7</td>\n",
       "      <td>DepthScenes</td>\n",
       "      <td>v2_duration_discrimination</td>\n",
       "      <td>discrim_jsons/Discrim125_randls_13.json</td>\n",
       "      <td>http://54.235.29.9/FacialAge/BNav_EC2/DepthDur...</td>\n",
       "      <td>293.0</td>\n",
       "      <td>1536.0</td>\n",
       "      <td>722.0</td>\n",
       "      <td>...</td>\n",
       "      <td>1098.0</td>\n",
       "      <td>1001.0</td>\n",
       "      <td>126.0</td>\n",
       "      <td>1006.0</td>\n",
       "      <td>125.0</td>\n",
       "      <td>502.0</td>\n",
       "      <td>NaN</td>\n",
       "      <td>438148</td>\n",
       "      <td>47</td>\n",
       "      <td>Woman</td>\n",
       "    </tr>\n",
       "    <tr>\n",
       "      <th>35442</th>\n",
       "      <td>88665</td>\n",
       "      <td>208241.0</td>\n",
       "      <td>AI4AO0O0WIJF7</td>\n",
       "      <td>DepthScenes</td>\n",
       "      <td>v2_duration_discrimination</td>\n",
       "      <td>discrim_jsons/Discrim125_randls_13.json</td>\n",
       "      <td>http://54.235.29.9/FacialAge/BNav_EC2/DepthDur...</td>\n",
       "      <td>293.0</td>\n",
       "      <td>1536.0</td>\n",
       "      <td>722.0</td>\n",
       "      <td>...</td>\n",
       "      <td>1052.0</td>\n",
       "      <td>1009.0</td>\n",
       "      <td>117.0</td>\n",
       "      <td>998.0</td>\n",
       "      <td>134.0</td>\n",
       "      <td>496.0</td>\n",
       "      <td>NaN</td>\n",
       "      <td>438148</td>\n",
       "      <td>47</td>\n",
       "      <td>Woman</td>\n",
       "    </tr>\n",
       "  </tbody>\n",
       "</table>\n",
       "<p>35443 rows × 33 columns</p>\n",
       "</div>"
      ],
      "text/plain": [
       "       Unnamed: 0    subjID        workerId experimentName  \\\n",
       "0              86  388370.0  A39XIQCFSCNHFU    DepthScenes   \n",
       "1              87  388370.0  A39XIQCFSCNHFU    DepthScenes   \n",
       "2              88  388370.0  A39XIQCFSCNHFU    DepthScenes   \n",
       "3              89  388370.0  A39XIQCFSCNHFU    DepthScenes   \n",
       "4              90  388370.0  A39XIQCFSCNHFU    DepthScenes   \n",
       "...           ...       ...             ...            ...   \n",
       "35438       88661  208241.0   AI4AO0O0WIJF7    DepthScenes   \n",
       "35439       88662  208241.0   AI4AO0O0WIJF7    DepthScenes   \n",
       "35440       88663  208241.0   AI4AO0O0WIJF7    DepthScenes   \n",
       "35441       88664  208241.0   AI4AO0O0WIJF7    DepthScenes   \n",
       "35442       88665  208241.0   AI4AO0O0WIJF7    DepthScenes   \n",
       "\n",
       "                      versionName  \\\n",
       "0      v2_duration_discrimination   \n",
       "1      v2_duration_discrimination   \n",
       "2      v2_duration_discrimination   \n",
       "3      v2_duration_discrimination   \n",
       "4      v2_duration_discrimination   \n",
       "...                           ...   \n",
       "35438  v2_duration_discrimination   \n",
       "35439  v2_duration_discrimination   \n",
       "35440  v2_duration_discrimination   \n",
       "35441  v2_duration_discrimination   \n",
       "35442  v2_duration_discrimination   \n",
       "\n",
       "                                         sequenceName  \\\n",
       "0      discrim_jsons/Discrim250_randls_5_rotated.json   \n",
       "1      discrim_jsons/Discrim250_randls_5_rotated.json   \n",
       "2      discrim_jsons/Discrim250_randls_5_rotated.json   \n",
       "3      discrim_jsons/Discrim250_randls_5_rotated.json   \n",
       "4      discrim_jsons/Discrim250_randls_5_rotated.json   \n",
       "...                                               ...   \n",
       "35438         discrim_jsons/Discrim125_randls_13.json   \n",
       "35439         discrim_jsons/Discrim125_randls_13.json   \n",
       "35440         discrim_jsons/Discrim125_randls_13.json   \n",
       "35441         discrim_jsons/Discrim125_randls_13.json   \n",
       "35442         discrim_jsons/Discrim125_randls_13.json   \n",
       "\n",
       "                                                     url  selected_row  \\\n",
       "0      http://54.235.29.9/FacialAge/BNav_EC2/DepthDur...         307.0   \n",
       "1      http://54.235.29.9/FacialAge/BNav_EC2/DepthDur...         307.0   \n",
       "2      http://54.235.29.9/FacialAge/BNav_EC2/DepthDur...         307.0   \n",
       "3      http://54.235.29.9/FacialAge/BNav_EC2/DepthDur...         307.0   \n",
       "4      http://54.235.29.9/FacialAge/BNav_EC2/DepthDur...         307.0   \n",
       "...                                                  ...           ...   \n",
       "35438  http://54.235.29.9/FacialAge/BNav_EC2/DepthDur...         293.0   \n",
       "35439  http://54.235.29.9/FacialAge/BNav_EC2/DepthDur...         293.0   \n",
       "35440  http://54.235.29.9/FacialAge/BNav_EC2/DepthDur...         293.0   \n",
       "35441  http://54.235.29.9/FacialAge/BNav_EC2/DepthDur...         293.0   \n",
       "35442  http://54.235.29.9/FacialAge/BNav_EC2/DepthDur...         293.0   \n",
       "\n",
       "       windowWidth  windowHeight  ...  trial_RT  log_fixation  \\\n",
       "0           1553.0         789.0  ...    1413.0        1014.0   \n",
       "1           1553.0         789.0  ...    1180.0        1003.0   \n",
       "2           1553.0         789.0  ...    1094.0        1015.0   \n",
       "3           1553.0         789.0  ...    1233.0        1012.0   \n",
       "4           1553.0         789.0  ...    1196.0        1016.0   \n",
       "...            ...           ...  ...       ...           ...   \n",
       "35438       1536.0         722.0  ...    1008.0        1002.0   \n",
       "35439       1536.0         722.0  ...    1162.0        1013.0   \n",
       "35440       1536.0         722.0  ...    1064.0        1011.0   \n",
       "35441       1536.0         722.0  ...    1098.0        1001.0   \n",
       "35442       1536.0         722.0  ...    1052.0        1009.0   \n",
       "\n",
       "      log_sceneDuration1 log_mask1  log_sceneDuration2 log_mask2  \\\n",
       "0                  247.0     992.0               253.0     496.0   \n",
       "1                  262.0     998.0               253.0     486.0   \n",
       "2                  248.0    1002.0               248.0     500.0   \n",
       "3                  250.0    1000.0               254.0     487.0   \n",
       "4                  234.0    1000.0               265.0     498.0   \n",
       "...                  ...       ...                 ...       ...   \n",
       "35438              129.0    1009.0               110.0     505.0   \n",
       "35439              121.0     999.0               133.0     499.0   \n",
       "35440              126.0     994.0               124.0     496.0   \n",
       "35441              126.0    1006.0               125.0     502.0   \n",
       "35442              117.0     998.0               134.0     496.0   \n",
       "\n",
       "      experimentTime  totalTime  age  gender  \n",
       "0                NaN     475685   28     Man  \n",
       "1                NaN     475685   28     Man  \n",
       "2                NaN     475685   28     Man  \n",
       "3                NaN     475685   28     Man  \n",
       "4                NaN     475685   28     Man  \n",
       "...              ...        ...  ...     ...  \n",
       "35438            NaN     438148   47   Woman  \n",
       "35439            NaN     438148   47   Woman  \n",
       "35440            NaN     438148   47   Woman  \n",
       "35441            NaN     438148   47   Woman  \n",
       "35442            NaN     438148   47   Woman  \n",
       "\n",
       "[35443 rows x 33 columns]"
      ]
     },
     "execution_count": 4,
     "metadata": {},
     "output_type": "execute_result"
    }
   ],
   "source": [
    "final_discrim"
   ]
  },
  {
   "cell_type": "markdown",
   "metadata": {},
   "source": [
    "# Correlation with Verbal Report data \n",
    "\n",
    "- For each discrimination trial, get the average difference between the verbal report for those scenes \n",
    "- Correlate that with the proportion correct for that trial \n",
    "- Is there better accuracy for scenes that have a larger percevied depth difference (using the verbal report data)?"
   ]
  },
  {
   "cell_type": "markdown",
   "metadata": {},
   "source": [
    "## Individual Discriminations"
   ]
  },
  {
   "cell_type": "code",
   "execution_count": 19,
   "metadata": {},
   "outputs": [],
   "source": [
    "def get_accuracy(df):\n",
    "    \"\"\"\n",
    "    * ACCURACY BASED ON THE KINECT\n",
    "    args:\n",
    "        df  \n",
    "    returns:\n",
    "        proportion of correct responses, count of correct responses, count of total trials  \n",
    "    \"\"\"\n",
    "    count_correct = 0\n",
    "    count_incorrect = 0\n",
    "    count_total = 0\n",
    "    count_missed = 0\n",
    "    for idx, row in df.iterrows():\n",
    "        choice = row[\"discrim_choice\"]\n",
    "        if choice == 2.0:\n",
    "            count_missed += 1\n",
    "        else:    \n",
    "            count_total += 1\n",
    "            depth0 = row[\"actual_depth_0\"]\n",
    "            depth1 = row[\"actual_depth_1\"]\n",
    "            if depth0 < depth1:\n",
    "                correct_choice = 0\n",
    "            if depth0 > depth1:\n",
    "                correct_choice = 1\n",
    "            if depth0 == depth1:\n",
    "                # case where depths are equal \n",
    "                correct_choice = None\n",
    "            if choice == correct_choice:\n",
    "                count_correct += 1\n",
    "    \n",
    "    return count_correct/count_total, count_correct, count_total, count_missed\n",
    "\n",
    "def get_RT(df):\n",
    "    \"\"\"\n",
    "    args:\n",
    "        df  \n",
    "    returns:\n",
    "        array of RTs, avg RT and std   \n",
    "    \"\"\"\n",
    "    list_RTs = []\n",
    "    for idx, row in df.iterrows():   \n",
    "        list_RTs.append(row[\"cleaned_RT\"])\n",
    "    \n",
    "    list_RTs = np.array(list_RTs)\n",
    "    \n",
    "    return list_RTs, np.mean(list_RTs) ,np.std(list_RTs), stats.sem(list_RTs)\n",
    "\n",
    "def get_zsRT(df):\n",
    "    \"\"\"\n",
    "    args:\n",
    "        df  \n",
    "    returns:\n",
    "        array of RTs, avg RT and std   \n",
    "    \"\"\"\n",
    "    list_zsRTs = []\n",
    "    for idx, row in df.iterrows():   \n",
    "        zsRT = row[\"z_scored_RT\"]\n",
    "        list_zsRTs.append(zsRT)\n",
    "    \n",
    "    list_zsRTs = np.array(list_zsRTs)\n",
    "    return list_zsRTs, np.mean(list_zsRTs) ,np.std(list_zsRTs), stats.sem(list_zsRTs)"
   ]
  },
  {
   "cell_type": "code",
   "execution_count": 27,
   "metadata": {},
   "outputs": [],
   "source": [
    "final_discrim_125 = zscored_data.loc[zscored_data['duration'] == 125]\n",
    "final_discrim_250 = zscored_data.loc[zscored_data['duration'] == 250]\n",
    "final_discrim_1000 = zscored_data.loc[zscored_data['duration'] == 1000]"
   ]
  },
  {
   "cell_type": "code",
   "execution_count": null,
   "metadata": {},
   "outputs": [],
   "source": []
  },
  {
   "cell_type": "code",
   "execution_count": null,
   "metadata": {},
   "outputs": [],
   "source": []
  },
  {
   "cell_type": "code",
   "execution_count": 28,
   "metadata": {},
   "outputs": [
    {
     "data": {
      "text/plain": [
       "(0.5951759921469639, 21221, 35655, 494)"
      ]
     },
     "execution_count": 28,
     "metadata": {},
     "output_type": "execute_result"
    }
   ],
   "source": [
    "overall_accuracy = get_accuracy(zscored_data)\n",
    "overall_accuracy"
   ]
  },
  {
   "cell_type": "code",
   "execution_count": 32,
   "metadata": {},
   "outputs": [],
   "source": [
    "def individual_discrimination_stats(df):\n",
    "    '''\n",
    "    Individual discrimination performance and RT \n",
    "    '''\n",
    "    all_stim0 = [elem for elem in df.stimulus_0.unique() if type(elem) == str]\n",
    "\n",
    "    stimuli_stats = {}\n",
    "    for stim0 in all_stim0:\n",
    "        stim0_df = df.loc[df['stimulus_0'] == stim0]\n",
    "        other_stim = stim0_df.stimulus_1.unique()[0]\n",
    "        stim1_df = df.loc[df['stimulus_1'] == stim0]\n",
    "        # df for a specific discrimination trial (collapsed on stim presentation order)\n",
    "        stim_df = pd.concat([stim0_df, stim1_df], ignore_index=True)\n",
    "        stim_125_df = stim_df[stim_df['duration'] == 125.0]\n",
    "        stim_250_df = stim_df[stim_df['duration'] == 250.0]\n",
    "        stim_1000_df = stim_df[stim_df['duration'] == 1000.0] \n",
    "                \n",
    "        stim_depthdiff = stim_df['depth_difference'][0]\n",
    "        \n",
    "        stim0_depth = stim_df['actual_depth_0'][0]\n",
    "        stim1_depth = stim_df['actual_depth_1'][0]\n",
    "        stim_depthbin = np.mean(np.array([stim0_depth,stim1_depth]))\n",
    "        \n",
    "        kinect_answer = stim0_df.kinect_answer.unique()[0]\n",
    "        stim_zsRT_125 = get_zsRT(stim_125_df)\n",
    "        \n",
    "           \n",
    "        try:\n",
    "            stim_acc_125 = get_accuracy(stim_125_df)\n",
    "            stim_acc_250 = get_accuracy(stim_250_df)\n",
    "            stim_acc_1000 = get_accuracy(stim_1000_df)\n",
    "\n",
    "            stim_RT_125 = get_RT(stim_125_df)\n",
    "            stim_RT_250 = get_RT(stim_250_df)\n",
    "            stim_RT_1000 = get_RT(stim_1000_df)\n",
    "\n",
    "            stim_zsRT_125 = get_zsRT(stim_125_df)\n",
    "            stim_zsRT_250 = get_zsRT(stim_250_df)\n",
    "            stim_zsRT_1000 = get_zsRT(stim_1000_df)\n",
    "\n",
    "            stimuli_stats[stim0] = {'stimulus_1': other_stim,\n",
    "                                    'accuracy_125': stim_acc_125,\n",
    "                                    'RT_125': stim_RT_125,\n",
    "                                    'zsRT_125': stim_zsRT_125,\n",
    "                                    'accuracy_250': stim_acc_250,\n",
    "                                    'RT_250': stim_RT_250,\n",
    "                                    'zsRT_250': stim_zsRT_250,\n",
    "                                    'accuracy_1000': stim_acc_1000,\n",
    "                                    'RT_1000': stim_RT_1000,\n",
    "                                    'zsRT_1000': stim_zsRT_1000,\n",
    "                                    'avg_depth': stim_depthbin,\n",
    "                                    'depthdifference': stim_depthdiff, \n",
    "                                    'kinect_answer': kinect_answer}\n",
    "        except:\n",
    "            pass\n",
    "    \n",
    "    return stimuli_stats"
   ]
  },
  {
   "cell_type": "code",
   "execution_count": 34,
   "metadata": {},
   "outputs": [],
   "source": [
    "all_discrim_performance = individual_discrimination_stats(zscored_data)\n"
   ]
  },
  {
   "cell_type": "code",
   "execution_count": 35,
   "metadata": {},
   "outputs": [
    {
     "data": {
      "text/plain": [
       "156"
      ]
     },
     "execution_count": 35,
     "metadata": {},
     "output_type": "execute_result"
    }
   ],
   "source": [
    "len(all_discrim_performance)\n"
   ]
  },
  {
   "cell_type": "markdown",
   "metadata": {},
   "source": [
    "## Load Raw TAC Verbal Judgement Data\n"
   ]
  },
  {
   "cell_type": "code",
   "execution_count": 36,
   "metadata": {},
   "outputs": [],
   "source": [
    "# p = '/Users/prachimahableshwarkar/Documents/GW/Depth_MTurk/verbal_judgement_analysis/data/finalVEMatched/raw/'\n",
    "p = '/Users/pmahableshwarkar/Documents/Depth_Project/verbal_judgement_analysis/data/finalVEMatched/raw/'\n",
    "# x data\n",
    "with open(p + 'X_125.npy' , 'rb') as f:\n",
    "    n_TAC_X_125 = np.load(f, allow_pickle=True)\n",
    "    \n",
    "with open(p + 'X_250.npy' , 'rb') as f:\n",
    "    n_TAC_X_250 = np.load(f, allow_pickle=True)\n",
    "\n",
    "with open(p + 'X_1000.npy' , 'rb') as f:\n",
    "    n_TAC_X_1000 = np.load(f, allow_pickle=True)\n",
    "    \n",
    "# y data \n",
    "with open(p + 'final_y_125.npy' , 'rb') as f:\n",
    "    n_TAC_final_y_125 = np.load(f, allow_pickle=True)\n",
    "    \n",
    "with open(p + 'final_y_250.npy' , 'rb') as f:\n",
    "    n_TAC_final_y_250 = np.load(f, allow_pickle=True)\n",
    "    \n",
    "with open(p + 'final_y_1000.npy' , 'rb') as f:\n",
    "    n_TAC_final_y_1000= np.load(f, allow_pickle=True)\n",
    "\n",
    "# std data\n",
    "with open(p + 'std_125.npy' , 'rb') as f:\n",
    "    n_TAC_std_125 = np.load(f, allow_pickle=True)\n",
    "    \n",
    "with open(p + 'std_250.npy' , 'rb') as f:\n",
    "    n_TAC_std_250 = np.load(f, allow_pickle=True)\n",
    "\n",
    "with open(p + 'std_1000.npy' , 'rb') as f:\n",
    "    n_TAC_std_1000 = np.load(f, allow_pickle=True)\n",
    "    \n",
    "# ste data\n",
    "with open(p + 'ste_125.npy' , 'rb') as f:\n",
    "    n_TAC_ste_125 = np.load(f, allow_pickle=True)\n",
    "    \n",
    "with open(p + 'ste_250.npy' , 'rb') as f:\n",
    "    n_TAC_ste_250 = np.load(f, allow_pickle=True)\n",
    "\n",
    "with open(p + 'ste_1000.npy' , 'rb') as f:\n",
    "    n_TAC_ste_1000 = np.load(f, allow_pickle=True)\n",
    "\n",
    "# stim data\n",
    "with open(p + 'final_stim_125.npy' , 'rb') as f:\n",
    "    n_TAC_final_stim_125 = np.load(f, allow_pickle=True)\n",
    "    \n",
    "with open(p + 'final_stim_250.npy' , 'rb') as f:\n",
    "    n_TAC_final_stim_250 = np.load(f, allow_pickle=True)\n",
    "\n",
    "with open(p + 'final_stim_1000.npy' , 'rb') as f:\n",
    "    n_TAC_final_stim_1000 = np.load(f, allow_pickle=True)"
   ]
  },
  {
   "cell_type": "code",
   "execution_count": null,
   "metadata": {},
   "outputs": [],
   "source": [
    "\n"
   ]
  },
  {
   "cell_type": "markdown",
   "metadata": {},
   "source": [
    "# Code depth discrimination correctness by the verbal judgement data \n",
    "\n",
    "Create new 'ground truth' answer based on verbal judgement data\n",
    "\n",
    "Task: Respond which image's target was closer to you"
   ]
  },
  {
   "cell_type": "code",
   "execution_count": null,
   "metadata": {},
   "outputs": [],
   "source": []
  },
  {
   "cell_type": "markdown",
   "metadata": {},
   "source": [
    "## VE Data"
   ]
  },
  {
   "cell_type": "code",
   "execution_count": 37,
   "metadata": {},
   "outputs": [],
   "source": [
    "n_VE_answerkey_125 = {} # corresponding answer key for discrimination trials  \n",
    "\n",
    "for key in all_discrim_performance.keys():\n",
    "    targetimg0 = key.split('/')[-1]\n",
    "    folder0 = targetimg0[:-11]\n",
    "    depth_dur_path0 = 'depth_duration_stimuli/' + folder0 + '/' + targetimg0\n",
    "    idx0 = np.where(n_TAC_final_stim_125 == depth_dur_path0)[0][0]\n",
    "    avg_estim_stim0 = n_TAC_final_y_125[idx0]\n",
    "    std0 = n_TAC_std_125[idx0]\n",
    "    ste0 = n_TAC_ste_125[idx0]\n",
    "    \n",
    "    targetimg1 = all_discrim_performance[key]['stimulus_1'].split('/')[-1]\n",
    "    folder1 = targetimg1[:-11]\n",
    "    depth_dur_path1 = 'depth_duration_stimuli/' + folder1 + '/' + targetimg1\n",
    "    idx1= np.where(n_TAC_final_stim_125 == depth_dur_path1)[0][0]\n",
    "    avg_estim_stim1 = n_TAC_final_y_125[idx1]\n",
    "    std1 = n_TAC_std_125[idx1]\n",
    "    ste1 = n_TAC_ste_125[idx1]\n",
    "    \n",
    "    kinect_answer = all_discrim_performance[key]['kinect_answer'].split('/')[-1]\n",
    "\n",
    "    if avg_estim_stim0 < avg_estim_stim1:\n",
    "        # Which target is CLOSER to you?\n",
    "        answer = targetimg0\n",
    "    if avg_estim_stim0 == avg_estim_stim1:\n",
    "        print(targetimg0, targetimg1)\n",
    "    if avg_estim_stim0 > avg_estim_stim1:\n",
    "        answer = targetimg1\n",
    "\n",
    "    n_VE_answerkey_125[key] = {'stimulus_1': targetimg1,\n",
    "                             'stimulus_0_avg_estim': avg_estim_stim0,\n",
    "                             'stimulus_1_avg_estim': avg_estim_stim1,\n",
    "                             'answer': answer,\n",
    "                             'std0': std0,\n",
    "                             'std1': std1,\n",
    "                             'kinect_answer': kinect_answer}"
   ]
  },
  {
   "cell_type": "code",
   "execution_count": 38,
   "metadata": {},
   "outputs": [],
   "source": [
    "# n_VE_answerkey_125"
   ]
  },
  {
   "cell_type": "code",
   "execution_count": 39,
   "metadata": {},
   "outputs": [],
   "source": [
    "n_VE_answerkey_250 = {} # corresponding answer key for discrimination trials  \n",
    "\n",
    "for key in all_discrim_performance.keys():\n",
    "    targetimg0 = key.split('/')[-1]\n",
    "    folder0 = targetimg0[:-11]\n",
    "    depth_dur_path0 = 'depth_duration_stimuli/' + folder0 + '/' + targetimg0\n",
    "    idx0 = np.where(n_TAC_final_stim_250 == depth_dur_path0)[0][0]\n",
    "    avg_estim_stim0 = n_TAC_final_y_250[idx0]\n",
    "    std0 = n_TAC_std_250[idx0]\n",
    "    ste0 = n_TAC_ste_250[idx0]\n",
    "    \n",
    "    targetimg1 = all_discrim_performance[key]['stimulus_1'].split('/')[-1]\n",
    "    folder1 = targetimg1[:-11]\n",
    "    depth_dur_path1 = 'depth_duration_stimuli/' + folder1 + '/' + targetimg1\n",
    "    idx1= np.where(n_TAC_final_stim_250 == depth_dur_path1)[0][0]\n",
    "    avg_estim_stim1 = n_TAC_final_y_250[idx1]\n",
    "    std1 = n_TAC_std_250[idx1]\n",
    "    ste1 = n_TAC_ste_250[idx1]\n",
    "    \n",
    "    kinect_answer = all_discrim_performance[key]['kinect_answer'].split('/')[-1]\n",
    "\n",
    "    if avg_estim_stim0 < avg_estim_stim1:\n",
    "        # Which target is CLOSER to you?\n",
    "        answer = targetimg0\n",
    "    if avg_estim_stim0 == avg_estim_stim1:\n",
    "        print(targetimg0, targetimg1)\n",
    "    if avg_estim_stim0 > avg_estim_stim1:\n",
    "        answer = targetimg1\n",
    "\n",
    "    n_VE_answerkey_250[key] = {'stimulus_1': targetimg1,\n",
    "                             'stimulus_0_avg_estim': avg_estim_stim0,\n",
    "                             'stimulus_1_avg_estim': avg_estim_stim1,\n",
    "                             'answer': answer,\n",
    "                             'std0': std0,\n",
    "                             'std1': std1,\n",
    "                             'kinect_answer': kinect_answer}\n",
    "    "
   ]
  },
  {
   "cell_type": "code",
   "execution_count": 40,
   "metadata": {},
   "outputs": [],
   "source": [
    "# len(n_VE_answerkey_250), n_VE_answerkey_250['depth_discrimination_stimuli/002118_2014-06-25_20-32-08_260595134347_rgbf000078-resize_1/002118_2014-06-25_20-32-08_260595134347_rgbf000078-resize_1-target.png']\n",
    "# n_VE_answerkey_250"
   ]
  },
  {
   "cell_type": "code",
   "execution_count": 41,
   "metadata": {},
   "outputs": [],
   "source": [
    "n_VE_answerkey_1000 = {} # corresponding answer key for discrimination trials  \n",
    "\n",
    "for key in all_discrim_performance.keys():\n",
    "    targetimg0 = key.split('/')[-1]\n",
    "    folder0 = targetimg0[:-11]\n",
    "    depth_dur_path0 = 'depth_duration_stimuli/' + folder0 + '/' + targetimg0\n",
    "    idx0 = np.where(n_TAC_final_stim_1000 == depth_dur_path0)[0][0]\n",
    "    avg_estim_stim0 = n_TAC_final_y_1000[idx0]\n",
    "    std0 = n_TAC_std_1000[idx0]\n",
    "\n",
    "    targetimg1 = all_discrim_performance[key]['stimulus_1'].split('/')[-1]\n",
    "    folder1 = targetimg1[:-11]\n",
    "    depth_dur_path1 = 'depth_duration_stimuli/' + folder1 + '/' + targetimg1\n",
    "    idx1= np.where(n_TAC_final_stim_1000 == depth_dur_path1)[0][0]\n",
    "    avg_estim_stim1 = n_TAC_final_y_1000[idx1]\n",
    "    std1 = n_TAC_std_1000[idx1]\n",
    "    \n",
    "    if avg_estim_stim0 < avg_estim_stim1:\n",
    "        # Which target is CLOSER to you?\n",
    "        answer = targetimg0\n",
    "    if avg_estim_stim0 == avg_estim_stim1:\n",
    "        print(targetimg0, targetimg1)\n",
    "    if avg_estim_stim0 > avg_estim_stim1:\n",
    "        answer = targetimg1\n",
    "    \n",
    "    kinect_answer = all_discrim_performance[key]['kinect_answer'].split('/')[-1]\n",
    "\n",
    "\n",
    "\n",
    "    n_VE_answerkey_1000[key] = {'stimulus_1': targetimg1,\n",
    "                             'stimulus_0_avg_estim': avg_estim_stim0,\n",
    "                             'stimulus_1_avg_estim': avg_estim_stim1,\n",
    "                             'answer': answer,\n",
    "                             'std0': std0,\n",
    "                             'std1': std1,\n",
    "                             'kinect_answer': kinect_answer}\n",
    "    "
   ]
  },
  {
   "cell_type": "code",
   "execution_count": 42,
   "metadata": {},
   "outputs": [
    {
     "data": {
      "text/plain": [
       "156"
      ]
     },
     "execution_count": 42,
     "metadata": {},
     "output_type": "execute_result"
    }
   ],
   "source": [
    "len(n_VE_answerkey_1000)"
   ]
  },
  {
   "cell_type": "code",
   "execution_count": 43,
   "metadata": {},
   "outputs": [],
   "source": [
    "import pickle\n",
    "# save answer keys as pickle file \n",
    "\n",
    "# dest = '/Users/prachimahableshwarkar/Documents/GW/Depth_MTurk/depth_discrimination/TAC_discrim_datafiles/matched_discrim_data/n_VE_answerkey_1000.pickle'\n",
    "# with open(dest, 'wb') as handle:\n",
    "#     pickle.dump(n_VE_answerkey_1000, handle)"
   ]
  },
  {
   "cell_type": "code",
   "execution_count": 44,
   "metadata": {},
   "outputs": [],
   "source": [
    "# dest = '/Users/prachimahableshwarkar/Documents/GW/Depth_MTurk/depth_discrimination/TAC_discrim_datafiles/matched_discrim_data/n_VE_answerkey_250.pickle'\n",
    "# with open(dest, 'wb') as handle:\n",
    "#     pickle.dump(n_VE_answerkey_250, handle)"
   ]
  },
  {
   "cell_type": "markdown",
   "metadata": {},
   "source": [
    "### VE Coded Accuracy"
   ]
  },
  {
   "cell_type": "code",
   "execution_count": 47,
   "metadata": {},
   "outputs": [],
   "source": [
    "def VE_accuracy(stim0, df, answerkey):\n",
    "    '''\n",
    "    Accuracy based on the verbal judgement data \n",
    "    '''\n",
    "    \n",
    "    \"\"\"\n",
    "    args:\n",
    "        df  \n",
    "    returns:\n",
    "        proportion of correct responses, count of correct responses, count of total trials  \n",
    "    \"\"\"\n",
    "    count_correct = 0\n",
    "    count_incorrect = 0\n",
    "    count_total = 0\n",
    "    count_missed = 0\n",
    "    \n",
    "    VE_correct_answer = answerkey[stim0]['answer']\n",
    "    kinect_correct_answer = answerkey[stim0]['kinect_answer']\n",
    "    \n",
    "    for idx, row in df.iterrows(): \n",
    "        choice = row[\"discrim_choice\"]\n",
    "        count_total += 1\n",
    "        if choice == 0.0:\n",
    "            image_choice = row[\"stimulus_0\"]\n",
    "                \n",
    "        if choice == 1.0:\n",
    "            image_choice = row[\"stimulus_1\"]\n",
    "                \n",
    "        if choice == 2.0:\n",
    "            count_missed += 1\n",
    "            \n",
    "        if choice == 3.0:\n",
    "            count_missed += 1\n",
    "        \n",
    "        try:\n",
    "            if image_choice.split('/')[-1] == VE_correct_answer:\n",
    "                count_correct += 1\n",
    "        except:\n",
    "            pass\n",
    "        \n",
    "#     standardError = (0.5*(1-0.5))/count_total\n",
    "    p = count_correct/count_total\n",
    "    standardError = np.sqrt((p*(1-p))/count_total)\n",
    "    \n",
    "    if VE_correct_answer == kinect_correct_answer:\n",
    "        return count_correct/count_total, count_correct, count_total, count_missed, standardError, 'pos'\n",
    "    else:\n",
    "        return count_correct/count_total, count_correct, count_total, count_missed, standardError, 'neg'\n",
    "\n",
    "    \n",
    "def main_VE_accuracy(df, answerkey_125, answerkey_250, answerkey_1000):\n",
    "    all_stim0 = df.stimulus_0.unique()\n",
    "    \n",
    "    stimuli_stats = {}\n",
    "    for stim0 in all_stim0:\n",
    "        try:\n",
    "            # dataframe for stimulus 0\n",
    "            stim0_df = df.loc[df['stimulus_0'] == stim0]\n",
    "            # name of stimulus 1\n",
    "            other_stim = stim0_df.stimulus_1.unique()[0]\n",
    "            # dataframe where stimulus 0 is presented SECOND (same trial)\n",
    "            stim1_df = df.loc[df['stimulus_1'] == stim0]\n",
    "\n",
    "            # df for a specific discrimination trial (collapsed on stim presentation order)\n",
    "            stim_df = pd.concat([stim0_df, stim1_df], ignore_index=True)\n",
    "            stim_125_df = stim_df[stim_df['duration'] == 125.0]\n",
    "            stim_250_df = stim_df[stim_df['duration'] == 250.0]\n",
    "            stim_1000_df = stim_df[stim_df['duration'] == 1000.0] \n",
    "\n",
    "            stim0_depth = stim_df['actual_depth_0'][0]\n",
    "            stim1_depth = stim_df['actual_depth_1'][0]\n",
    "            stim_depthbin = np.mean(np.array([stim0_depth,stim1_depth]))\n",
    "\n",
    "            stim_acc_125 = VE_accuracy(stim0, stim_125_df, answerkey_125)\n",
    "            stim_acc_250 = VE_accuracy(stim0, stim_250_df, answerkey_250)\n",
    "            stim_acc_1000 = VE_accuracy(stim0, stim_1000_df, answerkey_1000)\n",
    "\n",
    "            # difference between verbal judgements divided by joint variance \n",
    "            # abs(VE1-VE2)/sqrt(stda^2 + std2^2)\n",
    "            std0_125 = answerkey_125[stim0]['std0']\n",
    "            std1_125 = answerkey_125[stim0]['std1']\n",
    "            joint_variance_125 = np.sqrt(std0_125**2 + std1_125**2)\n",
    "            JV_regressor_125 = abs(answerkey_125[stim0]['stimulus_0_avg_estim'] - answerkey_125[stim0]['stimulus_1_avg_estim'])/joint_variance_125\n",
    "\n",
    "            std0_250 = answerkey_250[stim0]['std0']\n",
    "            std1_250 = answerkey_250[stim0]['std1']\n",
    "            joint_variance_250 = np.sqrt(std0_250**2 + std1_250**2)\n",
    "            JV_regressor_250 = abs(answerkey_250[stim0]['stimulus_0_avg_estim'] - answerkey_250[stim0]['stimulus_1_avg_estim'])/joint_variance_250\n",
    "\n",
    "            std0_1000 = answerkey_1000[stim0]['std0']\n",
    "            std1_1000 = answerkey_1000[stim0]['std1']\n",
    "            joint_variance_1000 = np.sqrt(std0_1000**2 + std1_1000**2)\n",
    "            JV_regressor_1000 = abs(answerkey_1000[stim0]['stimulus_0_avg_estim'] - answerkey_1000[stim0]['stimulus_1_avg_estim'])/joint_variance_1000\n",
    "            \n",
    "            if stim_acc_125[-1] == 'pos':\n",
    "                VE_depthdifference_125 = abs(answerkey_125[stim0]['stimulus_0_avg_estim'] - answerkey_125[stim0]['stimulus_1_avg_estim'])\n",
    "            else:\n",
    "                VE_depthdifference_125 = -(abs(answerkey_125[stim0]['stimulus_0_avg_estim'] - answerkey_125[stim0]['stimulus_1_avg_estim']))\n",
    "            \n",
    "            if stim_acc_250[-1] == 'pos':\n",
    "                VE_depthdifference_250 = abs(answerkey_250[stim0]['stimulus_0_avg_estim'] - answerkey_250[stim0]['stimulus_1_avg_estim'])\n",
    "            else:\n",
    "                VE_depthdifference_250 = -(abs(answerkey_250[stim0]['stimulus_0_avg_estim'] - answerkey_250[stim0]['stimulus_1_avg_estim']))\n",
    "            \n",
    "            if stim_acc_1000[-1] == 'pos':\n",
    "                VE_depthdifference_1000 = abs(answerkey_1000[stim0]['stimulus_0_avg_estim'] - answerkey_1000[stim0]['stimulus_1_avg_estim'])\n",
    "            else:\n",
    "                VE_depthdifference_1000 = -(abs(answerkey_1000[stim0]['stimulus_0_avg_estim'] - answerkey_1000[stim0]['stimulus_1_avg_estim']))\n",
    "            \n",
    "            stimuli_stats[stim0] = {'stimulus_1': other_stim,\n",
    "                                    'accuracy_125': stim_acc_125,\n",
    "                                    'accuracy_250': stim_acc_250,\n",
    "                                    'accuracy_1000': stim_acc_1000,\n",
    "                                    'avg_depth': stim_depthbin,\n",
    "                                    'VE_depthdifference_125': VE_depthdifference_125, \n",
    "                                    'VE_depthdifference_250': VE_depthdifference_250, \n",
    "                                    'VE_depthdifference_1000': VE_depthdifference_1000,\n",
    "                                    'RT_125': get_RT(stim_125_df),\n",
    "                                    'RT_250': get_RT(stim_250_df),\n",
    "                                    'RT_1000': get_RT(stim_1000_df),\n",
    "                                    'zsRT_125': get_zsRT(stim_125_df),\n",
    "                                    'zsRT_250': get_zsRT(stim_250_df),\n",
    "                                    'zsRT_1000': get_zsRT(stim_1000_df),\n",
    "                                    'JV_regressor_125': JV_regressor_125,\n",
    "                                    'JV_regressor_250': JV_regressor_250,\n",
    "                                    'JV_regressor_1000': JV_regressor_1000,\n",
    "                                    'kinect_answer_125': answerkey_125[stim0]['kinect_answer'],\n",
    "                                    'kinect_answer_250': answerkey_250[stim0]['kinect_answer'],\n",
    "                                    'kinect_answer_1000': answerkey_1000[stim0]['kinect_answer']}\n",
    "            \n",
    "\n",
    "        except:\n",
    "            print(stim0)\n",
    "\n",
    "    return stimuli_stats\n",
    "    "
   ]
  },
  {
   "cell_type": "code",
   "execution_count": 48,
   "metadata": {},
   "outputs": [
    {
     "name": "stdout",
     "output_type": "stream",
     "text": [
      "nan\n"
     ]
    }
   ],
   "source": [
    "n_all_VE_discrim_performance = main_VE_accuracy(zscored_data, n_VE_answerkey_125, n_VE_answerkey_250, n_VE_answerkey_1000) "
   ]
  },
  {
   "cell_type": "code",
   "execution_count": null,
   "metadata": {},
   "outputs": [],
   "source": []
  },
  {
   "cell_type": "markdown",
   "metadata": {},
   "source": [
    "## Subject Accuracy"
   ]
  },
  {
   "cell_type": "code",
   "execution_count": null,
   "metadata": {},
   "outputs": [],
   "source": []
  },
  {
   "cell_type": "code",
   "execution_count": 49,
   "metadata": {},
   "outputs": [],
   "source": [
    "subj_acc = {125: [], 250: [], 1000: []}\n",
    "all_subj_acc_slopes = {125: [], 250: [], 1000: []}\n",
    "\n",
    "\n",
    "aks = {125: n_VE_answerkey_125, 250: n_VE_answerkey_250, 1000: n_VE_answerkey_1000}\n",
    "\n",
    "for subj in final_discrim.subjID.unique():\n",
    "    \n",
    "    subj_df = final_discrim.loc[final_discrim['subjID']==subj]\n",
    "    s_duration = subj_df.duration.unique()[0]\n",
    "    s_ak = aks[s_duration]\n",
    "    \n",
    "    s_stim = [elem for elem in subj_df.stimulus_0.unique() if type(elem) == str]\n",
    "    \n",
    "    count_total = 0\n",
    "    count_correct = 0\n",
    "    count_missed = 0\n",
    "    \n",
    "    subj_depthdiff = []\n",
    "    subj_trial_acc = []    \n",
    "        \n",
    "    for stim0 in s_stim:\n",
    "        VE_correct_answer = s_ak[stim0]['answer']\n",
    "        kinect_correct_answer = s_ak[stim0]['kinect_answer']\n",
    "        \n",
    "        stim_df = subj_df.loc[subj_df['stimulus_0'] == stim0]\n",
    "        choice = stim_df[\"discrim_choice\"].unique()[0]\n",
    "\n",
    "        count_total += 1\n",
    "        if choice == 0.0: image_choice = stim_df[\"stimulus_0\"].unique()[0]\n",
    "\n",
    "        if choice == 1.0: image_choice = stim_df[\"stimulus_1\"].unique()[0]\n",
    "\n",
    "        if choice == 2.0: count_missed += 1\n",
    "\n",
    "        if choice == 3.0: count_missed += 1\n",
    "\n",
    "        if image_choice.split('/')[-1] == VE_correct_answer: \n",
    "            count_correct += 1\n",
    "            subj_trial_acc.append(1)\n",
    "        else:\n",
    "            subj_trial_acc.append(0)\n",
    "            \n",
    "            \n",
    "        \n",
    "\n",
    "        depthdiff = n_all_VE_discrim_performance[stim0]['VE_depthdifference_' + str(int(s_duration))]\n",
    "        subj_depthdiff.append(depthdiff)\n",
    "        \n",
    "    \n",
    "    #run regression\n",
    "    X = np.array(np.abs(subj_depthdiff).reshape(-1,1))\n",
    "    y = subj_trial_acc\n",
    "    reg = LinearRegression().fit(X, y)\n",
    "\n",
    "    all_subj_acc_slopes[s_duration].append(reg.coef_[0])\n",
    "\n",
    "        \n",
    "    subj_acc[s_duration].append(count_correct/count_total)\n",
    "\n",
    "\n",
    "    \n",
    "    "
   ]
  },
  {
   "cell_type": "code",
   "execution_count": null,
   "metadata": {},
   "outputs": [],
   "source": []
  },
  {
   "cell_type": "code",
   "execution_count": null,
   "metadata": {},
   "outputs": [],
   "source": []
  },
  {
   "cell_type": "code",
   "execution_count": 31,
   "metadata": {},
   "outputs": [],
   "source": [
    "import pickle\n",
    "# save performance as pickle file \n",
    "\n",
    "dest = '/Users/prachi/Documents/depth_duration/depth_discrimination/data/finalDiscrimMatched/'\n",
    "with open(dest + 'rawVE_coded_performance.pkl', 'wb') as handle:\n",
    "    pickle.dump(n_all_VE_discrim_performance, handle)\n",
    "    "
   ]
  },
  {
   "cell_type": "code",
   "execution_count": 50,
   "metadata": {},
   "outputs": [],
   "source": [
    "n_VE_estim_diff_125 = [n_all_VE_discrim_performance[elem]['VE_depthdifference_125'] for elem in n_all_VE_discrim_performance]\n",
    "n_VE_estim_diff_250 = [n_all_VE_discrim_performance[elem]['VE_depthdifference_250'] for elem in n_all_VE_discrim_performance]\n",
    "n_VE_estim_diff_1000 = [n_all_VE_discrim_performance[elem]['VE_depthdifference_1000'] for elem in n_all_VE_discrim_performance]\n",
    "\n",
    "n_VE_accuracy_125 = [n_all_VE_discrim_performance[elem]['accuracy_125'][0] for elem in n_all_VE_discrim_performance]\n",
    "n_VE_accuracy_250 = [n_all_VE_discrim_performance[elem]['accuracy_250'][0] for elem in n_all_VE_discrim_performance]\n",
    "n_VE_accuracy_1000 = [n_all_VE_discrim_performance[elem]['accuracy_1000'][0] for elem in n_all_VE_discrim_performance]\n",
    "\n",
    "n_VE_ste_125 = [n_all_VE_discrim_performance[elem]['accuracy_125'][-2] for elem in n_all_VE_discrim_performance]\n",
    "n_VE_ste_250 = [n_all_VE_discrim_performance[elem]['accuracy_250'][-2] for elem in n_all_VE_discrim_performance]\n",
    "n_VE_ste_1000 = [n_all_VE_discrim_performance[elem]['accuracy_1000'][-2] for elem in n_all_VE_discrim_performance]\n",
    "\n",
    "n_avg_zsRT_125 = [n_all_VE_discrim_performance[elem]['zsRT_125'][1] for elem in n_all_VE_discrim_performance]\n",
    "n_avg_zsRT_250 = [n_all_VE_discrim_performance[elem]['zsRT_250'][1] for elem in n_all_VE_discrim_performance]\n",
    "n_avg_zsRT_1000 = [n_all_VE_discrim_performance[elem]['zsRT_1000'][1] for elem in n_all_VE_discrim_performance]\n",
    "\n",
    "\n",
    "n_avg_zsRT_ste_125 = [n_all_VE_discrim_performance[elem]['zsRT_125'][-1] for elem in n_all_VE_discrim_performance]\n",
    "n_avg_zsRT_ste_250 = [n_all_VE_discrim_performance[elem]['zsRT_250'][-1] for elem in n_all_VE_discrim_performance]\n",
    "n_avg_zsRT_ste_1000 = [n_all_VE_discrim_performance[elem]['zsRT_1000'][-1] for elem in n_all_VE_discrim_performance]\n",
    "\n",
    "\n",
    "n_avg_RT_125 = [n_all_VE_discrim_performance[elem]['RT_125'][1] for elem in n_all_VE_discrim_performance]\n",
    "n_avg_RT_250 = [n_all_VE_discrim_performance[elem]['RT_250'][1] for elem in n_all_VE_discrim_performance]\n",
    "n_avg_RT_1000 = [n_all_VE_discrim_performance[elem]['RT_1000'][1] for elem in n_all_VE_discrim_performance]\n",
    "\n",
    "\n",
    "n_avg_RT_ste_125 = [n_all_VE_discrim_performance[elem]['RT_125'][-1] for elem in n_all_VE_discrim_performance]\n",
    "n_avg_RT_ste_250 = [n_all_VE_discrim_performance[elem]['RT_250'][-1] for elem in n_all_VE_discrim_performance]\n",
    "n_avg_RT_ste_1000 = [n_all_VE_discrim_performance[elem]['RT_1000'][-1] for elem in n_all_VE_discrim_performance]\n",
    "\n",
    "n_JV_125 = [n_all_VE_discrim_performance[elem]['JV_regressor_125'] for elem in n_all_VE_discrim_performance]\n",
    "n_JV_250 = [n_all_VE_discrim_performance[elem]['JV_regressor_250'] for elem in n_all_VE_discrim_performance]\n",
    "n_JV_1000 = [n_all_VE_discrim_performance[elem]['JV_regressor_1000'] for elem in n_all_VE_discrim_performance]\n",
    "\n",
    "n_kinectanswer_125 = [n_all_VE_discrim_performance[elem]['kinect_answer_125'] for elem in n_all_VE_discrim_performance]\n",
    "n_kinectanswer_250 = [n_all_VE_discrim_performance[elem]['kinect_answer_250'] for elem in n_all_VE_discrim_performance]\n",
    "n_kinectanswer_1000 = [n_all_VE_discrim_performance[elem]['kinect_answer_1000'] for elem in n_all_VE_discrim_performance]\n",
    "\n",
    "n_stim = [elem for elem in n_all_VE_discrim_performance]"
   ]
  },
  {
   "cell_type": "code",
   "execution_count": null,
   "metadata": {},
   "outputs": [],
   "source": []
  },
  {
   "cell_type": "markdown",
   "metadata": {},
   "source": [
    "#### Overall Accuracy: Coded by Raw VE\n"
   ]
  },
  {
   "cell_type": "code",
   "execution_count": 51,
   "metadata": {},
   "outputs": [
    {
     "data": {
      "text/plain": [
       "(0.6645239427634814, 0.6586124830820137, 0.7405348246771691)"
      ]
     },
     "execution_count": 51,
     "metadata": {},
     "output_type": "execute_result"
    }
   ],
   "source": [
    "np.mean(n_VE_accuracy_125), np.mean(n_VE_accuracy_250), np.mean(n_VE_accuracy_1000)"
   ]
  },
  {
   "cell_type": "code",
   "execution_count": 53,
   "metadata": {},
   "outputs": [
    {
     "name": "stdout",
     "output_type": "stream",
     "text": [
      "125 ms: Correlation between VE discrimination accuracy and average verbal estimate difference\n"
     ]
    },
    {
     "data": {
      "text/plain": [
       "(0.4242788686300222, 3.3970425535246266e-08)"
      ]
     },
     "execution_count": 53,
     "metadata": {},
     "output_type": "execute_result"
    }
   ],
   "source": [
    "print('125 ms: Correlation between VE discrimination accuracy and average verbal estimate difference')\n",
    "stats.pearsonr(n_VE_accuracy_125, n_VE_estim_diff_125)"
   ]
  },
  {
   "cell_type": "code",
   "execution_count": 54,
   "metadata": {},
   "outputs": [
    {
     "name": "stdout",
     "output_type": "stream",
     "text": [
      "250 ms: Correlation between VE discrimination accuracy and average verbal estimate difference\n"
     ]
    },
    {
     "data": {
      "text/plain": [
       "(0.5843715024482184, 1.1611059411177745e-15)"
      ]
     },
     "execution_count": 54,
     "metadata": {},
     "output_type": "execute_result"
    }
   ],
   "source": [
    "print('250 ms: Correlation between VE discrimination accuracy and average verbal estimate difference')\n",
    "stats.pearsonr(n_VE_accuracy_250, n_VE_estim_diff_250)"
   ]
  },
  {
   "cell_type": "code",
   "execution_count": 55,
   "metadata": {},
   "outputs": [
    {
     "name": "stdout",
     "output_type": "stream",
     "text": [
      "1000 ms: Correlation between VE discrimination accuracy and average verbal estimate difference\n"
     ]
    },
    {
     "data": {
      "text/plain": [
       "(0.6747036165296845, 4.61120738976475e-22)"
      ]
     },
     "execution_count": 55,
     "metadata": {},
     "output_type": "execute_result"
    }
   ],
   "source": [
    "print('1000 ms: Correlation between VE discrimination accuracy and average verbal estimate difference')\n",
    "stats.pearsonr(n_VE_accuracy_1000, n_VE_estim_diff_1000)"
   ]
  },
  {
   "cell_type": "code",
   "execution_count": 57,
   "metadata": {},
   "outputs": [
    {
     "data": {
      "image/png": "[encoded data removed]",
      "text/plain": [
       "<Figure size 576x432 with 1 Axes>"
      ]
     },
     "metadata": {
      "needs_background": "light"
     },
     "output_type": "display_data"
    }
   ],
   "source": [
    "plt.figure(figsize=[8,6])\n",
    "plt.plot(np.array(n_VE_estim_diff_125), np.array(n_VE_accuracy_125), 'bo', label='125 ms')\n",
    "plt.plot(np.array(n_VE_estim_diff_250), np.array(n_VE_accuracy_250), 'go', label='250 ms')\n",
    "plt.plot(np.array(n_VE_estim_diff_1000), np.array(n_VE_accuracy_1000), 'ro', label='1000 ms')\n",
    "plt.xlabel('Average Verbal Estimate Difference', fontsize=12)\n",
    "plt.ylabel('VE Discrimination Proportion Correct', fontsize = 12)\n",
    "plt.legend(fontsize = 12)\n",
    "plt.title('VE Discrimination Proportion Correct vs Avg  Verbal Estimate Difference', fontsize = 14)\n",
    "plt.show();"
   ]
  },
  {
   "cell_type": "code",
   "execution_count": 47,
   "metadata": {},
   "outputs": [],
   "source": [
    "# len(n_VE_accuracy_250)"
   ]
  },
  {
   "cell_type": "code",
   "execution_count": 58,
   "metadata": {},
   "outputs": [],
   "source": [
    "def get_super(x):\n",
    "    normal = \"ABCDEFGHIJKLMNOPQRSTUVWXYZabcdefghijklmnopqrstuvwxyz0123456789+-=()\"\n",
    "    super_s = \"ᴬᴮᶜᴰᴱᶠᴳᴴᴵᴶᴷᴸᴹᴺᴼᴾQᴿˢᵀᵁⱽᵂˣʸᶻᵃᵇᶜᵈᵉᶠᵍʰᶦʲᵏˡᵐⁿᵒᵖ۹ʳˢᵗᵘᵛʷˣʸᶻ⁰¹²³⁴⁵⁶⁷⁸⁹⁺⁻⁼⁽⁾\"\n",
    "    res = x.maketrans(''.join(normal), ''.join(super_s))\n",
    "    return x.translate(res)"
   ]
  },
  {
   "cell_type": "code",
   "execution_count": 59,
   "metadata": {},
   "outputs": [
    {
     "name": "stdout",
     "output_type": "stream",
     "text": [
      "m: [0.18900069]\n",
      "b: 0.5452705124458742\n",
      "R-squared:  0.3524611487153507\n"
     ]
    },
    {
     "data": {
      "image/png": "[encoded data removed]",
      "text/plain": [
       "<Figure size 576x576 with 1 Axes>"
      ]
     },
     "metadata": {
      "needs_background": "light"
     },
     "output_type": "display_data"
    }
   ],
   "source": [
    "fig, ax = plt.subplots(figsize=[8,8])\n",
    "right_side = ax.spines['right']\n",
    "right_side.set_visible(False)\n",
    "top = ax.spines['top']\n",
    "top.set_visible(False)\n",
    "\n",
    "\n",
    "#run regression\n",
    "VE_X_125 = np.array(np.abs(n_VE_estim_diff_125).reshape(-1,1))\n",
    "VE_PC_125 = n_VE_accuracy_125\n",
    "VE_PC_reg_125 = LinearRegression().fit(VE_X_125, VE_PC_125)\n",
    "\n",
    "#Generated Predictions\n",
    "PC_predicted_125 = VE_PC_reg_125.predict(VE_X_125)\n",
    "#Plot Our Actual and Predicted Values\n",
    "plt.errorbar(VE_X_125, VE_PC_125,elinewidth=1, ecolor='gray', fmt='or', mfc='white', mec='green', capsize=3, alpha = 0.3, yerr = np.array(n_VE_ste_125));\n",
    "\n",
    "\n",
    "plt.plot(VE_X_125, VE_PC_125, 'o', color='green', alpha = 0.3);\n",
    "plt.plot(VE_X_125, PC_predicted_125,color='green', label = 'm = ' + str(round(VE_PC_reg_125.coef_[0], 3))\n",
    "         + '     r' + get_super('2') + ' = '+ str(round(float(VE_PC_reg_125.score(VE_X_125, VE_PC_125)), 3)))\n",
    "plt.xlabel(\"Raw Verbal Estimate Difference (m)\", fontsize = 15)\n",
    "plt.ylabel(\"Proportion Correct\", fontsize = 15)\n",
    "\n",
    "plt.plot([0, 2.2], [0.5,0.5], '--', color='black')\n",
    "\n",
    "\n",
    "\n",
    "#get coefficients and y intercept\n",
    "print(\"m: {0}\".format(VE_PC_reg_125.coef_))\n",
    "print(\"b: {0}\".format(VE_PC_reg_125.intercept_))\n",
    "\n",
    "#Returns the coefficient of determination R^2 of the prediction.\n",
    "print(\"R-squared: \", VE_PC_reg_125.score(VE_X_125, VE_PC_125))\n",
    "\n",
    "legend = plt.legend(loc = 4, fontsize=13, labelspacing=1, frameon=False)\n",
    "\n",
    "plt.title('125 ms', fontsize=22)\n",
    "\n",
    "fig.tight_layout()\n",
    "\n",
    "plt.show();"
   ]
  },
  {
   "cell_type": "code",
   "execution_count": 60,
   "metadata": {},
   "outputs": [
    {
     "name": "stdout",
     "output_type": "stream",
     "text": [
      "m: [0.18523763]\n",
      "b: 0.5337907246633776\n",
      "R-squared:  0.24022047240562605\n"
     ]
    },
    {
     "data": {
      "image/png": "[encoded data removed]",
      "text/plain": [
       "<Figure size 576x576 with 1 Axes>"
      ]
     },
     "metadata": {
      "needs_background": "light"
     },
     "output_type": "display_data"
    }
   ],
   "source": [
    "fig, ax = plt.subplots(figsize=[8,8])\n",
    "right_side = ax.spines['right']\n",
    "right_side.set_visible(False)\n",
    "top = ax.spines['top']\n",
    "top.set_visible(False)\n",
    "\n",
    "\n",
    "#run regression\n",
    "VE_X_250 = np.array(np.abs(n_VE_estim_diff_250).reshape(-1,1))\n",
    "VE_PC_250 = n_VE_accuracy_250\n",
    "VE_PC_reg_250 = LinearRegression().fit(VE_X_250, VE_PC_250)\n",
    "\n",
    "#Generated Predictions\n",
    "PC_predicted_250 = VE_PC_reg_250.predict(VE_X_250)\n",
    "#Plot Our Actual and Predicted Values\n",
    "plt.errorbar(VE_X_250, VE_PC_250,elinewidth=1, ecolor='gray', fmt='or', mfc='white', mec='chocolate', capsize=3, alpha = 0.3, yerr = np.array(n_VE_ste_250));\n",
    "\n",
    "\n",
    "plt.plot(VE_X_250, VE_PC_250, 'o', color='chocolate', alpha = 0.3);\n",
    "plt.plot(VE_X_250, PC_predicted_250,color='chocolate', label = 'm = ' + str(round(VE_PC_reg_250.coef_[0], 3))\n",
    "         + '     r' + get_super('2') + ' = '+ str(round(float(VE_PC_reg_250.score(VE_X_250, VE_PC_250)), 3)))\n",
    "plt.xlabel(\"Raw Verbal Estimate Difference (m)\", fontsize = 15)\n",
    "plt.ylabel(\"Proportion Correct\", fontsize = 15)\n",
    "\n",
    "plt.plot([0, 2.2], [0.5,0.5], '--', color='black')\n",
    "\n",
    "\n",
    "\n",
    "#get coefficients and y intercept\n",
    "print(\"m: {0}\".format(VE_PC_reg_250.coef_))\n",
    "print(\"b: {0}\".format(VE_PC_reg_250.intercept_))\n",
    "\n",
    "#Returns the coefficient of determination R^2 of the prediction.\n",
    "print(\"R-squared: \", VE_PC_reg_250.score(VE_X_250, VE_PC_250))\n",
    "\n",
    "legend = plt.legend(loc = 4, fontsize=13, labelspacing=1, frameon=False)\n",
    "\n",
    "fig.tight_layout()\n",
    "\n",
    "plt.title('250 ms', fontsize=22)\n",
    "\n",
    "\n",
    "plt.show();"
   ]
  },
  {
   "cell_type": "code",
   "execution_count": 834,
   "metadata": {},
   "outputs": [
    {
     "data": {
      "text/plain": [
       "39"
      ]
     },
     "execution_count": 834,
     "metadata": {},
     "output_type": "execute_result"
    }
   ],
   "source": [
    "n_stim.index('depth_discrimination_stimuli/002199_2014-06-28_18-33-56_260595134347_rgbf000074-resize_0/002199_2014-06-28_18-33-56_260595134347_rgbf000074-resize_0-target.png')\n",
    "\n",
    "        "
   ]
  },
  {
   "cell_type": "code",
   "execution_count": null,
   "metadata": {},
   "outputs": [],
   "source": []
  },
  {
   "cell_type": "code",
   "execution_count": 61,
   "metadata": {},
   "outputs": [
    {
     "name": "stdout",
     "output_type": "stream",
     "text": [
      "m: [0.14774266]\n",
      "b: 0.6251023477146382\n",
      "R-squared:  0.2971321833552504\n"
     ]
    },
    {
     "data": {
      "image/png": "[encoded data removed]",
      "text/plain": [
       "<Figure size 576x576 with 1 Axes>"
      ]
     },
     "metadata": {
      "needs_background": "light"
     },
     "output_type": "display_data"
    }
   ],
   "source": [
    "fig, ax = plt.subplots(figsize=[8,8])\n",
    "right_side = ax.spines['right']\n",
    "right_side.set_visible(False)\n",
    "top = ax.spines['top']\n",
    "top.set_visible(False)\n",
    "\n",
    "\n",
    "VE_X_1000 = np.array(np.abs(n_VE_estim_diff_1000).reshape(-1,1))\n",
    "VE_PC_1000 = n_VE_accuracy_1000\n",
    "VE_PC_reg_1000 = LinearRegression().fit(VE_X_1000, VE_PC_1000)\n",
    "\n",
    "#Generated Predictions\n",
    "PC_predicted_1000 = VE_PC_reg_1000.predict(VE_X_1000)\n",
    "#Plot Our Actual and Predicted Values\n",
    "\n",
    "r = np.sqrt(float(VE_PC_reg_1000.score(VE_X_1000, VE_PC_1000)))\n",
    "\n",
    "plt.errorbar(VE_X_1000, VE_PC_1000, elinewidth=1, ecolor='gray', fmt='or', mfc='white', mec='darkviolet', capsize=3, alpha = 0.3, yerr = np.array(n_VE_ste_1000));\n",
    "plt.plot(VE_X_1000, VE_PC_1000, 'o', color='darkviolet', alpha = 0.3);\n",
    "plt.plot(VE_X_1000, PC_predicted_1000,color='darkviolet', label = 'm = ' + str(round(VE_PC_reg_1000.coef_[0], 3))\n",
    "         + '     r' + get_super('2') + ' = '+ str(round(float(VE_PC_reg_1000.score(VE_X_1000, VE_PC_1000)), 3)))\n",
    "\n",
    "legend = plt.legend(loc = 4, fontsize=13, labelspacing=1, frameon=False)\n",
    "\n",
    "plt.plot([0, 3.3], [0.5,0.5], '--', color='black')\n",
    "\n",
    "# plt.plot(VE_X_1000[2], VE_PC_1000[2], 'o', color='black', alpha=1)\n",
    "\n",
    "#get coefficients and y intercept\n",
    "print(\"m: {0}\".format(VE_PC_reg_1000.coef_))\n",
    "print(\"b: {0}\".format(VE_PC_reg_1000.intercept_))\n",
    "\n",
    "#Returns the coefficient of determination R^2 of the prediction.\n",
    "print(\"R-squared: \", VE_PC_reg_1000.score(VE_X_1000, VE_PC_1000))\n",
    "\n",
    "plt.xlabel(\"Raw Verbal Estimate Difference (m)\", fontsize = 15)\n",
    "plt.ylabel(\"Proportion Correct\", fontsize = 15)\n",
    "\n",
    "\n",
    "# plt.title(\"1000 ms: Accuracy\", fontsize = 20)\n",
    "\n",
    "# plt.xticks(np.arange(-1,1.2, 0.2))\n",
    "# plt.yticks(np.arange(-1,1.2, 0.2))\n",
    "\n",
    "fig.tight_layout()\n",
    "\n",
    "plt.title('1000 ms', fontsize=22)\n",
    "\n",
    "\n",
    "plt.show();"
   ]
  },
  {
   "cell_type": "code",
   "execution_count": 62,
   "metadata": {},
   "outputs": [
    {
     "data": {
      "text/plain": [
       "Text(0, 0.5, 'Proportion Correct')"
      ]
     },
     "execution_count": 62,
     "metadata": {},
     "output_type": "execute_result"
    },
    {
     "data": {
      "image/png": "[encoded data removed]",
      "text/plain": [
       "<Figure size 720x576 with 1 Axes>"
      ]
     },
     "metadata": {
      "needs_background": "light"
     },
     "output_type": "display_data"
    }
   ],
   "source": [
    "fig, ax = plt.subplots(figsize=[10,8])\n",
    "right_side = ax.spines['right']\n",
    "right_side.set_visible(False)\n",
    "top = ax.spines['top']\n",
    "top.set_visible(False)\n",
    "\n",
    "plt.plot(VE_X_125, PC_predicted_125,color='green', label = '125 ms: m = ' + str(round(VE_PC_reg_125.coef_[0], 2))\n",
    "         + '     r' + get_super('2') + ' = '+ str(round(float(VE_PC_reg_125.score(VE_X_125, VE_PC_125)), 3)))\n",
    "plt.plot(VE_X_250, PC_predicted_250,color='chocolate', label = '250 ms: m = ' + str(round(VE_PC_reg_250.coef_[0], 3))\n",
    "         + '     r' + get_super('2') + ' = '+ str(round(float(VE_PC_reg_250.score(VE_X_250, VE_PC_250)), 3)))\n",
    "plt.plot(VE_X_1000, PC_predicted_1000,color='darkviolet', label = '1000 ms: m = ' + str(round(VE_PC_reg_1000.coef_[0], 2))\n",
    "         + '     r' + get_super('2') + ' = '+ str(round(float(VE_PC_reg_1000.score(VE_X_1000, VE_PC_1000)), 3)))\n",
    "\n",
    "legend = plt.legend(loc = 0, fontsize=13, labelspacing=1, frameon=True, facecolor='lightgray')\n",
    "\n",
    "plt.plot([0, 3], [0.5,0.5], '--', color='black')\n",
    "\n",
    "plt.xlabel(\"Raw Verbal Estimate Difference (m)\", fontsize = 15)\n",
    "plt.ylabel(\"Proportion Correct\", fontsize = 15)"
   ]
  },
  {
   "cell_type": "code",
   "execution_count": 64,
   "metadata": {},
   "outputs": [
    {
     "data": {
      "image/png": "[encoded data removed]",
      "text/plain": [
       "<Figure size 576x648 with 1 Axes>"
      ]
     },
     "metadata": {
      "needs_background": "light"
     },
     "output_type": "display_data"
    }
   ],
   "source": [
    "# creating the dataset\n",
    "durations = ['125', '250', '1000']\n",
    "\n",
    "zs_PC = [np.mean(all_subj_acc_slopes[125]), np.mean(all_subj_acc_slopes[250]), np.mean(all_subj_acc_slopes[1000])]\n",
    "zs_PC_avg_sem = [sem(all_subj_acc_slopes[125]), sem(all_subj_acc_slopes[250]), sem(all_subj_acc_slopes[1000])]\n",
    "\n",
    "fig, ax = plt.subplots(figsize=[8,9])\n",
    "ax.spines['right'].set_visible(False)\n",
    "ax.spines['top'].set_visible(False)\n",
    "\n",
    "plt.xticks(fontsize=12)\n",
    "# plt.ylim(0.15, 0.3)\n",
    "# plt.yticks(np.arange(0.15, 0.35, 0.05),fontsize=12)\n",
    "\n",
    "\n",
    "\n",
    "# creating the bar plot\n",
    "plt.bar(durations, zs_PC, yerr = zs_PC_avg_sem, color = ['darkgreen', 'chocolate', 'darkviolet'], width=0.8, capsize=5)\n",
    " \n",
    "# plt.title('Verbal Estimate Defined Discrimination Accuracy', fontsize=20)\n",
    "plt.xlabel(\"Duration (ms)\", fontsize=16)\n",
    "plt.ylabel(\"Average Participant Accuracy x Depth Difference Slope\", fontsize=16)\n",
    "\n",
    "plt.show()"
   ]
  },
  {
   "cell_type": "code",
   "execution_count": 65,
   "metadata": {},
   "outputs": [
    {
     "name": "stdout",
     "output_type": "stream",
     "text": [
      "3.6795450284455713 0.025990044362363046\n",
      "0.00012179547161417354 0.9912019570430586\n",
      "5.11959855168 0.02436961147542655\n",
      "7.079220947752648 0.008209605143738597\n"
     ]
    }
   ],
   "source": [
    "# stats f_oneway functions takes the groups as input and returns ANOVA F and p value\n",
    "fvalue, pvalue = stats.f_oneway(all_subj_acc_slopes[125], all_subj_acc_slopes[250], all_subj_acc_slopes[1000])\n",
    "print(fvalue, pvalue)\n",
    "\n",
    "fvalue, pvalue = stats.f_oneway(all_subj_acc_slopes[125], all_subj_acc_slopes[250])\n",
    "print(fvalue, pvalue)\n",
    "\n",
    "fvalue, pvalue = stats.f_oneway(all_subj_acc_slopes[125], all_subj_acc_slopes[1000])\n",
    "print(fvalue, pvalue)\n",
    "\n",
    "fvalue, pvalue = stats.f_oneway(all_subj_acc_slopes[250], all_subj_acc_slopes[1000])\n",
    "print(fvalue, pvalue)"
   ]
  },
  {
   "cell_type": "code",
   "execution_count": 66,
   "metadata": {},
   "outputs": [
    {
     "name": "stdout",
     "output_type": "stream",
     "text": [
      "7.811917291360738 0.0004617416110989332\n",
      "0.002279023231476551 0.961955818500348\n",
      "10.88876787874911 0.001083738854133062\n",
      "11.687239550347853 0.0007145905801274527\n"
     ]
    }
   ],
   "source": [
    "# stats f_oneway functions takes the groups as input and returns ANOVA F and p value\n",
    "fvalue, pvalue = stats.f_oneway(subj_acc[125], subj_acc[250], subj_acc[1000])\n",
    "print(fvalue, pvalue)\n",
    "\n",
    "fvalue, pvalue = stats.f_oneway(subj_acc[125], subj_acc[250])\n",
    "print(fvalue, pvalue)\n",
    "\n",
    "fvalue, pvalue = stats.f_oneway(subj_acc[125], subj_acc[1000])\n",
    "print(fvalue, pvalue)\n",
    "\n",
    "fvalue, pvalue = stats.f_oneway(subj_acc[250], subj_acc[1000])\n",
    "print(fvalue, pvalue)"
   ]
  },
  {
   "cell_type": "code",
   "execution_count": 67,
   "metadata": {},
   "outputs": [
    {
     "data": {
      "image/png": "[encoded data removed]",
      "text/plain": [
       "<Figure size 576x648 with 1 Axes>"
      ]
     },
     "metadata": {
      "needs_background": "light"
     },
     "output_type": "display_data"
    }
   ],
   "source": [
    "# creating the dataset\n",
    "durations = ['125', '250', '1000']\n",
    "\n",
    "zs_PC = [np.mean(subj_acc[125]), np.mean(subj_acc[250]), np.mean(subj_acc[1000])]\n",
    "zs_PC_avg_sem = [sem(subj_acc[125]), sem(subj_acc[250]), sem(subj_acc[1000])]\n",
    "\n",
    "fig, ax = plt.subplots(figsize=[8,9])\n",
    "ax.spines['right'].set_visible(False)\n",
    "ax.spines['top'].set_visible(False)\n",
    "\n",
    "plt.xticks(fontsize=12)\n",
    "plt.ylim(0.5, 0.75)\n",
    "plt.yticks(np.arange(0.5, 0.75, 0.05),fontsize=12)\n",
    "\n",
    "\n",
    "\n",
    "# creating the bar plot\n",
    "plt.bar(durations, zs_PC, yerr = zs_PC_avg_sem, color = ['darkgreen', 'chocolate', 'darkviolet'], width=0.8, capsize=5)\n",
    " \n",
    "# plt.title('Verbal Estimate Defined Discrimination Accuracy', fontsize=20)\n",
    "plt.xlabel(\"Duration (ms)\", fontsize=16)\n",
    "plt.ylabel(\"Average Participant Accuracy\", fontsize=16)\n",
    "\n",
    "plt.show()"
   ]
  },
  {
   "cell_type": "code",
   "execution_count": 68,
   "metadata": {},
   "outputs": [
    {
     "name": "stdout",
     "output_type": "stream",
     "text": [
      "11.950320480831802 8.69001455995207e-06\n",
      "0.09833405397520965 0.7540489611654445\n",
      "19.985183514460402 1.0960036817849618e-05\n",
      "16.63166340684284 5.7755527427754335e-05\n"
     ]
    }
   ],
   "source": [
    "# stats f_oneway functions takes the groups as input and returns ANOVA F and p value\n",
    "fvalue, pvalue = stats.f_oneway(n_VE_accuracy_125, n_VE_accuracy_250, n_VE_accuracy_1000)\n",
    "print(fvalue, pvalue)\n",
    "\n",
    "fvalue, pvalue = stats.f_oneway(n_VE_accuracy_125, n_VE_accuracy_250)\n",
    "print(fvalue, pvalue)\n",
    "\n",
    "fvalue, pvalue = stats.f_oneway(n_VE_accuracy_125, n_VE_accuracy_1000)\n",
    "print(fvalue, pvalue)\n",
    "\n",
    "fvalue, pvalue = stats.f_oneway(n_VE_accuracy_250, n_VE_accuracy_1000)\n",
    "print(fvalue, pvalue)"
   ]
  },
  {
   "cell_type": "code",
   "execution_count": 69,
   "metadata": {},
   "outputs": [
    {
     "data": {
      "text/plain": [
       "(0.47209328394040817, 4.92207061515194e-10)"
      ]
     },
     "execution_count": 69,
     "metadata": {},
     "output_type": "execute_result"
    }
   ],
   "source": [
    "stats.pearsonr(n_VE_accuracy_250, n_VE_accuracy_125)"
   ]
  },
  {
   "cell_type": "code",
   "execution_count": 70,
   "metadata": {},
   "outputs": [
    {
     "data": {
      "text/plain": [
       "(0.6574447152596022, 1.1405127934839961e-20)"
      ]
     },
     "execution_count": 70,
     "metadata": {},
     "output_type": "execute_result"
    }
   ],
   "source": [
    "stats.pearsonr(n_VE_accuracy_125, n_VE_accuracy_1000)"
   ]
  },
  {
   "cell_type": "code",
   "execution_count": 71,
   "metadata": {},
   "outputs": [
    {
     "data": {
      "text/plain": [
       "(0.5397582839472645, 3.568722430947096e-13)"
      ]
     },
     "execution_count": 71,
     "metadata": {},
     "output_type": "execute_result"
    }
   ],
   "source": [
    "stats.pearsonr(n_VE_accuracy_250, n_VE_accuracy_1000)"
   ]
  },
  {
   "cell_type": "code",
   "execution_count": 72,
   "metadata": {},
   "outputs": [
    {
     "data": {
      "text/plain": [
       "[<matplotlib.lines.Line2D at 0x7f879ad7c350>]"
      ]
     },
     "execution_count": 72,
     "metadata": {},
     "output_type": "execute_result"
    },
    {
     "data": {
      "image/png": "[encoded data removed]",
      "text/plain": [
       "<Figure size 504x504 with 1 Axes>"
      ]
     },
     "metadata": {
      "needs_background": "light"
     },
     "output_type": "display_data"
    }
   ],
   "source": [
    "plt.figure(figsize=[7,7])\n",
    "plt.xlabel('Proportion Correct @ 250 ms', fontsize=15)\n",
    "plt.ylabel('Proportion Correct @ 1000 ms', fontsize=15)\n",
    "plt.plot(n_VE_accuracy_250,n_VE_accuracy_1000, 'o' )"
   ]
  },
  {
   "cell_type": "code",
   "execution_count": 52,
   "metadata": {},
   "outputs": [
    {
     "data": {
      "text/plain": [
       "(-0.4058825784168781, 1.4661772937168287e-07)"
      ]
     },
     "execution_count": 52,
     "metadata": {},
     "output_type": "execute_result"
    }
   ],
   "source": [
    "stats.pearsonr(n_VE_estim_diff_125, n_avg_RT_125)"
   ]
  },
  {
   "cell_type": "markdown",
   "metadata": {},
   "source": [
    "## RT"
   ]
  },
  {
   "cell_type": "code",
   "execution_count": 80,
   "metadata": {},
   "outputs": [
    {
     "name": "stdout",
     "output_type": "stream",
     "text": [
      "m: [-0.20251805]\n",
      "b: 0.12796535264354225\n",
      "R-squared:  0.24445017952843795\n"
     ]
    },
    {
     "data": {
      "image/png": "[encoded data removed]",
      "text/plain": [
       "<Figure size 576x576 with 1 Axes>"
      ]
     },
     "metadata": {
      "needs_background": "light"
     },
     "output_type": "display_data"
    }
   ],
   "source": [
    "fig, ax = plt.subplots(figsize=[8,8])\n",
    "right_side = ax.spines['right']\n",
    "right_side.set_visible(False)\n",
    "top = ax.spines['top']\n",
    "top.set_visible(False)\n",
    "\n",
    "#run regression\n",
    "X_125 = np.array(np.abs(n_VE_estim_diff_125).reshape(-1,1))\n",
    "y_125 = n_avg_zsRT_125\n",
    "reg_125 = LinearRegression().fit(X_125, y_125)\n",
    "\n",
    "#Generated Predictions\n",
    "y_predicted_125 = reg_125.predict(X_125)\n",
    "#Plot Our Actual and Predicted Values\n",
    "plt.errorbar(X_125, y_125,elinewidth=1, ecolor='gray',fmt='or', mfc='white', mec='green', capsize=3, alpha = 0.3, yerr = np.array(n_avg_zsRT_ste_125));\n",
    "\n",
    "plt.plot(X_125, y_125, 's', color='green', alpha = 0.3);\n",
    "plt.plot(X_125, y_predicted_125,color='green', label = 'm = ' + str(round(reg_125.coef_[0], 2))\n",
    "        + '     r' + get_super('2') + ' = '+ str(round(float(reg_125.score(X_125, y_125)), 3)))\n",
    "\n",
    "plt.xlabel(\"Average Raw Verbal Estimate Difference (m)\", fontsize = 15)\n",
    "plt.ylabel(\"z-scored RT (ms)\", fontsize = 15)\n",
    "\n",
    "plt.ylim(-0.5, 0.5)\n",
    "\n",
    "legend = plt.legend(loc = 4, fontsize=13, labelspacing=1, frameon=False)\n",
    "\n",
    "fig.tight_layout()\n",
    "\n",
    "plt.title('125 ms', fontsize=18)\n",
    "\n",
    "#get coefficients and y intercept\n",
    "print(\"m: {0}\".format(reg_125.coef_))\n",
    "print(\"b: {0}\".format(reg_125.intercept_))\n",
    "\n",
    "#Returns the coefficient of determination R^2 of the prediction.\n",
    "print(\"R-squared: \", reg_125.score(X_125, y_125))"
   ]
  },
  {
   "cell_type": "code",
   "execution_count": 849,
   "metadata": {},
   "outputs": [],
   "source": [
    "# n_avg_RT_250"
   ]
  },
  {
   "cell_type": "code",
   "execution_count": 86,
   "metadata": {},
   "outputs": [
    {
     "data": {
      "text/plain": [
       "(-0.39450011322212886, 3.470983667926145e-07)"
      ]
     },
     "execution_count": 86,
     "metadata": {},
     "output_type": "execute_result"
    }
   ],
   "source": [
    "stats.pearsonr(n_VE_estim_diff_250, n_avg_RT_250)"
   ]
  },
  {
   "cell_type": "code",
   "execution_count": 79,
   "metadata": {},
   "outputs": [
    {
     "name": "stdout",
     "output_type": "stream",
     "text": [
      "m: [-0.13469253]\n",
      "b: 0.09054447409490043\n",
      "R-squared:  0.17954256131150526\n"
     ]
    },
    {
     "data": {
      "image/png": "[encoded data removed]",
      "text/plain": [
       "<Figure size 576x576 with 1 Axes>"
      ]
     },
     "metadata": {
      "needs_background": "light"
     },
     "output_type": "display_data"
    }
   ],
   "source": [
    "fig, ax = plt.subplots(figsize=[8,8])\n",
    "right_side = ax.spines['right']\n",
    "right_side.set_visible(False)\n",
    "top = ax.spines['top']\n",
    "top.set_visible(False)\n",
    "\n",
    "#run regression\n",
    "X_250 = np.array(np.abs(n_VE_estim_diff_250).reshape(-1,1))\n",
    "y_250 = n_avg_zsRT_250\n",
    "reg_250 = LinearRegression().fit(X_250, y_250)\n",
    "\n",
    "#Generated Predictions\n",
    "y_predicted_250 = reg_250.predict(X_250)\n",
    "#Plot Our Actual and Predicted Values\n",
    "plt.errorbar(X_250, y_250,elinewidth=1, ecolor='gray',fmt='or', mfc='white', mec='chocolate', capsize=3, alpha = 0.3, yerr = np.array(n_avg_zsRT_ste_250));\n",
    "\n",
    "plt.plot(X_250, y_250, 's', color='chocolate', alpha = 0.3);\n",
    "plt.plot(X_250, y_predicted_250,color='chocolate', label = 'm = ' + str(round(reg_250.coef_[0], 1))\n",
    "        + '     r' + get_super('2') + ' = '+ str(round(float(reg_250.score(X_250, y_250)), 3)))\n",
    "\n",
    "plt.xlabel(\"Average Raw Verbal Estimate Difference (m)\", fontsize = 15)\n",
    "plt.ylabel(\"z-scored RT (ms)\", fontsize = 15)\n",
    "\n",
    "plt.ylim(-0.5, 0.5)\n",
    "\n",
    "\n",
    "legend = plt.legend(loc = 2, fontsize=13, labelspacing=1, frameon=False)\n",
    "\n",
    "fig.tight_layout()\n",
    "\n",
    "# plt.xticks(np.arange(0.15,1.2, 0.2))\n",
    "# plt.yticks(np.arange(6.7,7.3, .1))\n",
    "\n",
    "plt.title('250 ms', fontsize=18)\n",
    "\n",
    "#get coefficients and y intercept\n",
    "print(\"m: {0}\".format(reg_250.coef_))\n",
    "print(\"b: {0}\".format(reg_250.intercept_))\n",
    "\n",
    "#Returns the coefficient of determination R^2 of the prediction.\n",
    "print(\"R-squared: \", reg_250.score(X_250, y_250))"
   ]
  },
  {
   "cell_type": "code",
   "execution_count": 74,
   "metadata": {},
   "outputs": [
    {
     "data": {
      "text/plain": [
       "(-0.4921354375723189, 6.806079240263986e-11)"
      ]
     },
     "execution_count": 74,
     "metadata": {},
     "output_type": "execute_result"
    }
   ],
   "source": [
    "stats.pearsonr(n_VE_estim_diff_1000, n_avg_RT_1000)"
   ]
  },
  {
   "cell_type": "code",
   "execution_count": null,
   "metadata": {},
   "outputs": [],
   "source": []
  },
  {
   "cell_type": "code",
   "execution_count": 78,
   "metadata": {},
   "outputs": [
    {
     "name": "stdout",
     "output_type": "stream",
     "text": [
      "m: [-0.07205779]\n",
      "b: 0.056218899303862174\n",
      "R-squared:  0.11642231477273646\n"
     ]
    },
    {
     "data": {
      "image/png": "[encoded data removed]",
      "text/plain": [
       "<Figure size 576x576 with 1 Axes>"
      ]
     },
     "metadata": {
      "needs_background": "light"
     },
     "output_type": "display_data"
    }
   ],
   "source": [
    "fig, ax = plt.subplots(figsize=[8,8])\n",
    "right_side = ax.spines['right']\n",
    "right_side.set_visible(False)\n",
    "top = ax.spines['top']\n",
    "top.set_visible(False)\n",
    "\n",
    "#run regression\n",
    "X_1000 = np.array(np.abs(n_VE_estim_diff_1000).reshape(-1,1))\n",
    "y_1000 = n_avg_zsRT_1000\n",
    "reg_1000 = LinearRegression().fit(X_1000, y_1000)\n",
    "\n",
    "#Generated Predictions\n",
    "y_predicted_1000 = reg_1000.predict(X_1000)\n",
    "#Plot Our Actual and Predicted Values\n",
    "\n",
    "plt.errorbar(X_1000, y_1000, elinewidth=1, ecolor='gray', fmt='or', mfc='white', mec='chocolate', capsize=3, alpha = 0.3, yerr = np.array(n_avg_zsRT_ste_1000));\n",
    "\n",
    "r_1000 = np.sqrt(float(reg_1000.score(X_1000, y_1000)))\n",
    "\n",
    "plt.plot(X_1000, y_1000, 's', color='darkviolet', alpha = 0.3);\n",
    "plt.plot(X_1000, y_predicted_1000,color='darkviolet', label = 'm = ' + str(round(reg_1000.coef_[0], 1))\n",
    "        + '     r = '+ str(round(float(r_1000), 3)))\n",
    "\n",
    "plt.xlabel(\"Average Raw Verbal Estimate Difference (m)\", fontsize = 15)\n",
    "plt.ylabel(\"z-scored RT (ms)\", fontsize = 15)\n",
    "plt.ylim(-0.5, 0.5)\n",
    "\n",
    "\n",
    "legend = plt.legend(loc = 2, fontsize=13, labelspacing=1, frameon=False)\n",
    "\n",
    "fig.tight_layout()\n",
    "\n",
    "# plt.yticks(np.arange(6.7,7.3, .1))\n",
    "\n",
    "plt.title('1000 ms', fontsize=18)\n",
    "\n",
    "#get coefficients and y intercept\n",
    "print(\"m: {0}\".format(reg_1000.coef_))\n",
    "print(\"b: {0}\".format(reg_1000.intercept_))\n",
    "\n",
    "#Returns the coefficient of determination R^2 of the prediction.\n",
    "print(\"R-squared: \", reg_1000.score(X_1000, y_1000))"
   ]
  },
  {
   "cell_type": "code",
   "execution_count": 82,
   "metadata": {},
   "outputs": [
    {
     "data": {
      "image/png": "[encoded data removed]",
      "text/plain": [
       "<Figure size 504x504 with 1 Axes>"
      ]
     },
     "metadata": {
      "needs_background": "light"
     },
     "output_type": "display_data"
    }
   ],
   "source": [
    "fig, ax = plt.subplots(figsize=[7,7])\n",
    "right_side = ax.spines['right']\n",
    "right_side.set_visible(False)\n",
    "top = ax.spines['top']\n",
    "top.set_visible(False)\n",
    "\n",
    "plt.plot(X_125, y_predicted_125,color='darkgreen', label = '125 ms: m = ' + str(round(reg_125.coef_[0], 1))\n",
    "        + '     r = '+ str(round(float(reg_125.score(X_125, y_125)), 3)))\n",
    "plt.plot(X_250, y_predicted_250,color='chocolate', label = '250 ms: m = ' + str(round(reg_250.coef_[0], 1))\n",
    "        + '     r = '+ str(round(float(reg_250.score(X_250, y_250)), 3)))\n",
    "plt.plot(X_1000, y_predicted_1000,color='darkviolet', label = '1000 ms: m = ' + str(round(reg_1000.coef_[0], 1))\n",
    "        + '     r = '+ str(round(float(r_1000), 3)))\n",
    "\n",
    "plt.xlabel(\"Average Raw Verbal Estimate Difference (m)\", fontsize = 15)\n",
    "plt.ylabel(\"z-scored RT (ms)\", fontsize = 15)\n",
    "plt.ylim(-.5, 0.5)\n",
    "\n",
    "\n",
    "legend = plt.legend(loc = 2, fontsize=12, labelspacing=1, frameon=True, facecolor='lightgray')\n",
    "\n",
    "fig.tight_layout()\n",
    "\n"
   ]
  },
  {
   "cell_type": "markdown",
   "metadata": {},
   "source": [
    "## Subject RT"
   ]
  },
  {
   "cell_type": "code",
   "execution_count": 65,
   "metadata": {},
   "outputs": [],
   "source": [
    "# n_VE_estim_diff_250\n",
    "\n"
   ]
  },
  {
   "cell_type": "code",
   "execution_count": 88,
   "metadata": {},
   "outputs": [],
   "source": [
    "all_mean_subj_RTs = {125: [], 250: [], 1000: []}\n",
    "\n",
    "all_subj_RTs_slopes = {125: [], 250: [], 1000: []}\n",
    "\n",
    "\n",
    "aks = {125: n_VE_answerkey_125, 250: n_VE_answerkey_250, 1000: n_VE_answerkey_1000}\n",
    "\n",
    "for subj in zscored_data.subjID.unique():\n",
    "    \n",
    "    subj_df = zscored_data.loc[zscored_data['subjID']==subj]\n",
    "    s_duration = subj_df.duration.unique()[0]\n",
    "    \n",
    "#     mean_subj_RTs = np.mean(np.array(subj_df['trial_RT']))\n",
    "    mean_subj_RTs = np.mean(np.array(subj_df['z_scored_RT'])) - s_duration\n",
    "\n",
    "    \n",
    "    \n",
    "    s_ak = aks[s_duration]\n",
    "    \n",
    "    s_stim = [elem for elem in subj_df.stimulus_0.unique() if type(elem) == str]\n",
    "    \n",
    "    subj_depthdiff = []\n",
    "    subj_trialRT = []\n",
    "\n",
    "    for stim0 in s_stim:\n",
    "        stim_subj_df = subj_df.loc[subj_df['stimulus_0']==stim0]\n",
    "        depthdiff = n_all_VE_discrim_performance[stim0]['VE_depthdifference_' + str(int(s_duration))]\n",
    "        subj_depthdiff.append(depthdiff)\n",
    "#         subj_trialRT.append(stim_subj_df.trial_RT.unique()[0])\n",
    "        subj_trialRT.append(stim_subj_df.z_scored_RT.unique()[0]-s_duration)\n",
    "\n",
    "        \n",
    "    \n",
    "    #run regression\n",
    "    X = np.array(np.abs(subj_depthdiff).reshape(-1,1))\n",
    "    y = subj_trialRT\n",
    "    reg = LinearRegression().fit(X, y)\n",
    "\n",
    "    all_subj_RTs_slopes[s_duration].append(reg.coef_[0])\n",
    "\n",
    "\n",
    "        \n",
    "    all_mean_subj_RTs[s_duration].append(mean_subj_RTs)\n",
    "\n",
    "\n",
    "    \n",
    "    "
   ]
  },
  {
   "cell_type": "code",
   "execution_count": null,
   "metadata": {},
   "outputs": [],
   "source": []
  },
  {
   "cell_type": "code",
   "execution_count": 89,
   "metadata": {},
   "outputs": [
    {
     "name": "stdout",
     "output_type": "stream",
     "text": [
      "9.12784620257564 0.00012941461364801283\n",
      "4.155645399014432 0.04234972539661344\n",
      "17.25255266235429 4.239339598891693e-05\n",
      "5.51553125243107 0.019478279452825185\n"
     ]
    }
   ],
   "source": [
    "# stats f_oneway functions takes the groups as input and returns ANOVA F and p value\n",
    "fvalue, pvalue = stats.f_oneway(all_subj_RTs_slopes[125], all_subj_RTs_slopes[250], all_subj_RTs_slopes[1000])\n",
    "print(fvalue, pvalue)\n",
    "\n",
    "fvalue, pvalue = stats.f_oneway(all_subj_RTs_slopes[125], all_subj_RTs_slopes[250])\n",
    "print(fvalue, pvalue)\n",
    "\n",
    "fvalue, pvalue = stats.f_oneway(all_subj_RTs_slopes[125], all_subj_RTs_slopes[1000])\n",
    "print(fvalue, pvalue)\n",
    "\n",
    "fvalue, pvalue = stats.f_oneway(all_subj_RTs_slopes[250], all_subj_RTs_slopes[1000])\n",
    "print(fvalue, pvalue)"
   ]
  },
  {
   "cell_type": "code",
   "execution_count": 90,
   "metadata": {},
   "outputs": [
    {
     "name": "stdout",
     "output_type": "stream",
     "text": [
      "inf 0.0\n",
      "inf 0.0\n",
      "inf 0.0\n",
      "inf 0.0\n"
     ]
    },
    {
     "name": "stderr",
     "output_type": "stream",
     "text": [
      "/Users/pmahableshwarkar/opt/anaconda3/envs/defaultenv/lib/python3.7/site-packages/scipy/stats/stats.py:3650: F_onewayConstantInputWarning: Each of the input arrays is constant;the F statistic is not defined or infinite\n",
      "  warnings.warn(F_onewayConstantInputWarning())\n"
     ]
    }
   ],
   "source": [
    "# stats f_oneway functions takes the groups as input and returns ANOVA F and p value\n",
    "fvalue, pvalue = stats.f_oneway(all_mean_subj_RTs[125], all_mean_subj_RTs[250], all_mean_subj_RTs[1000])\n",
    "print(fvalue, pvalue)\n",
    "\n",
    "fvalue, pvalue = stats.f_oneway(all_mean_subj_RTs[125], all_mean_subj_RTs[250])\n",
    "print(fvalue, pvalue)\n",
    "\n",
    "fvalue, pvalue = stats.f_oneway(all_mean_subj_RTs[125], all_mean_subj_RTs[1000])\n",
    "print(fvalue, pvalue)\n",
    "\n",
    "fvalue, pvalue = stats.f_oneway(all_mean_subj_RTs[250], all_mean_subj_RTs[1000])\n",
    "print(fvalue, pvalue)"
   ]
  },
  {
   "cell_type": "code",
   "execution_count": 91,
   "metadata": {},
   "outputs": [
    {
     "data": {
      "image/png": "[encoded data removed]",
      "text/plain": [
       "<Figure size 576x648 with 1 Axes>"
      ]
     },
     "metadata": {
      "needs_background": "light"
     },
     "output_type": "display_data"
    }
   ],
   "source": [
    "# creating the dataset\n",
    "durations = ['125', '250', '1000']\n",
    "\n",
    "zs_RT = [np.mean(all_subj_RTs_slopes[125]), np.mean(all_subj_RTs_slopes[250]), np.mean(all_subj_RTs_slopes[1000])]\n",
    "zs_RT_avg_sem = [sem(all_subj_RTs_slopes[125]), sem(all_subj_RTs_slopes[250]), sem(all_subj_RTs_slopes[1000])]\n",
    "\n",
    "fig, ax = plt.subplots(figsize=[8,9])\n",
    "ax.spines['right'].set_visible(False)\n",
    "ax.spines['top'].set_visible(False)\n",
    "\n",
    "plt.xticks(fontsize=12)\n",
    "# plt.ylim(1000, 2500)\n",
    "# plt.yticks(np.arange(0.1, 0.35, 0.05),fontsize=12)\n",
    "\n",
    "\n",
    "# creating the bar plot\n",
    "plt.bar(durations, zs_RT, yerr = zs_RT_avg_sem, color = ['darkgreen', 'chocolate', 'darkviolet'], width=0.8, capsize=5)\n",
    " \n",
    "# plt.title('Verbal Estimate Defined Discrimination Accuracy', fontsize=20)\n",
    "plt.xlabel(\"Duration (ms)\", fontsize=16)\n",
    "plt.ylabel(\"Average Participant RT x Depth Difference Slope\", fontsize=16)\n",
    "\n",
    "plt.show()"
   ]
  },
  {
   "cell_type": "code",
   "execution_count": 92,
   "metadata": {},
   "outputs": [
    {
     "data": {
      "image/png": "[encoded data removed]",
      "text/plain": [
       "<Figure size 576x648 with 1 Axes>"
      ]
     },
     "metadata": {
      "needs_background": "light"
     },
     "output_type": "display_data"
    }
   ],
   "source": [
    "# creating the dataset\n",
    "durations = ['125', '250', '1000']\n",
    "\n",
    "zs_RT = [np.mean(all_mean_subj_RTs[125]), np.mean(all_mean_subj_RTs[250]), np.mean(all_mean_subj_RTs[1000])]\n",
    "zs_RT_avg_sem = [sem(all_mean_subj_RTs[125]), sem(all_mean_subj_RTs[250]), sem(all_mean_subj_RTs[1000])]\n",
    "\n",
    "fig, ax = plt.subplots(figsize=[8,9])\n",
    "ax.spines['right'].set_visible(False)\n",
    "ax.spines['top'].set_visible(False)\n",
    "\n",
    "plt.xticks(fontsize=12)\n",
    "plt.ylim(1000, 1600)\n",
    "# plt.yticks(np.arange(0.1, 0.35, 0.05),fontsize=12)\n",
    "\n",
    "\n",
    "# creating the bar plot\n",
    "plt.bar(durations, zs_RT, yerr = zs_RT_avg_sem, color = ['darkgreen', 'chocolate', 'darkviolet'], width=0.8, capsize=5)\n",
    " \n",
    "# plt.title('Verbal Estimate Defined Discrimination Accuracy', fontsize=20)\n",
    "plt.xlabel(\"Duration (ms)\", fontsize=16)\n",
    "plt.ylabel(\"Average Participant RT (ms)\", fontsize=16)\n",
    "\n",
    "plt.show()"
   ]
  },
  {
   "cell_type": "code",
   "execution_count": 112,
   "metadata": {},
   "outputs": [],
   "source": [
    "# # stats f_oneway functions takes the groups as input and returns ANOVA F and p value\n",
    "# fvalue, pvalue = stats.f_oneway(n_avg_RT_125, n_avg_RT_250, n_avg_RT_1000)\n",
    "# print(fvalue, pvalue)\n",
    "\n",
    "# fvalue, pvalue = stats.f_oneway(n_avg_RT_125, n_avg_RT_250)\n",
    "# print(fvalue, pvalue)\n",
    "\n",
    "# fvalue, pvalue = stats.f_oneway(n_avg_RT_125, n_avg_RT_1000)\n",
    "# print(fvalue, pvalue)\n",
    "\n",
    "# fvalue, pvalue = stats.f_oneway(n_avg_RT_250, n_avg_RT_1000)\n",
    "# print(fvalue, pvalue)"
   ]
  },
  {
   "cell_type": "code",
   "execution_count": null,
   "metadata": {},
   "outputs": [],
   "source": []
  }
 ],
 "metadata": {
  "kernelspec": {
   "display_name": "Python 3",
   "language": "python",
   "name": "python3"
  },
  "language_info": {
   "codemirror_mode": {
    "name": "ipython",
    "version": 3
   },
   "file_extension": ".py",
   "mimetype": "text/x-python",
   "name": "python",
   "nbconvert_exporter": "python",
   "pygments_lexer": "ipython3",
   "version": "3.7.5"
  }
 },
 "nbformat": 4,
 "nbformat_minor": 4
}
