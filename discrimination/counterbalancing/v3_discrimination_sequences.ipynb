{
 "cells": [
  {
   "cell_type": "markdown",
   "metadata": {},
   "source": [
    "# Between Subject Counterbalanced Discrimination Sequences \n",
    "\n",
    "- use all 192 images from the verbal judgement sequences\n",
    "- randomly pick discriminations \n",
    "- try to ensure that the depth differences are evenly distributed "
   ]
  },
  {
   "cell_type": "code",
   "execution_count": 993,
   "metadata": {},
   "outputs": [],
   "source": [
    "import json \n",
    "import numpy as np \n",
    "import pandas as pd\n",
    "import csv\n",
    "import random\n",
    "import matplotlib.pyplot as plt\n",
    "import copy\n",
    "from scipy.stats import chisquare\n",
    "from scipy.stats import chi2_contingency\n"
   ]
  },
  {
   "cell_type": "code",
   "execution_count": 122,
   "metadata": {},
   "outputs": [],
   "source": [
    "# p0 = '/Users/prachimahableshwarkar/Documents/GW/Depth_MTurk/depth_duration_MTurk/jsons/a.json'\n",
    "p0 = '/Users/prachi/Documents/depth_duration/SUN-RGBD_stimuli_prep/V2_sequences/a.json'\n",
    "\n",
    "with open(p0) as f:\n",
    "    seq_a = json.load(f)"
   ]
  },
  {
   "cell_type": "code",
   "execution_count": 5,
   "metadata": {},
   "outputs": [],
   "source": [
    "VE_seq = []\n",
    "\n",
    "for trial in seq_a:\n",
    "    if trial['sequence'] != 'catch_trial':\n",
    "        img = trial['image_path']\n",
    "        depth = trial['depth']\n",
    "\n",
    "        VE_seq.append([img, depth])\n",
    "\n",
    "VE_seq_arr = np.array(VE_seq)"
   ]
  },
  {
   "cell_type": "code",
   "execution_count": 902,
   "metadata": {},
   "outputs": [],
   "source": [
    "# indeces to VE trials \n",
    "indeces = np.arange(0,192)\n",
    "# randomly shuffle the order so that discrimination trials can be made \n",
    "random.shuffle(indeces)\n",
    "\n",
    "# make groups of two (discrimination trials)\n",
    "picks = [indeces[i:i + 2] for i in range(0, len(indeces), 2)] \n",
    "\n",
    "# # list of discrimination trials based on random picks\n",
    "# discriminations = []\n",
    "\n",
    "# for combo in picks:\n",
    "#     img0 = VE_seq_arr[combo[0]]\n",
    "#     img1 = VE_seq_arr[combo[1]]\n",
    "#     discriminations.append([img0, img1])\n",
    "    \n",
    "# # look at distribution of depth differences in the random sequence\n",
    "\n",
    "# differences = []\n",
    "\n",
    "# for trial in discriminations:\n",
    "#     depth0 = float(trial[0][1])\n",
    "#     depth1 = float(trial[1][1])\n",
    "    \n",
    "#     diff = abs(depth0-depth1)\n",
    "#     differences.append(diff)\n",
    "\n",
    "    \n",
    "    \n",
    "# plt.figure()\n",
    "\n",
    "\n",
    "# plt.hist(differences)\n",
    "# plt.title('Distribution of Depth Differences')\n",
    "\n",
    "\n",
    "# print(np.array(differences).mean(),np.array(differences).std())\n",
    "# print(chisquare(differences, uniform))\n",
    "\n",
    "# plt.show()\n",
    "\n"
   ]
  },
  {
   "cell_type": "code",
   "execution_count": null,
   "metadata": {},
   "outputs": [],
   "source": []
  },
  {
   "cell_type": "code",
   "execution_count": null,
   "metadata": {},
   "outputs": [],
   "source": [
    "\n"
   ]
  },
  {
   "cell_type": "code",
   "execution_count": 245,
   "metadata": {
    "collapsed": true,
    "jupyter": {
     "outputs_hidden": true
    }
   },
   "outputs": [
    {
     "name": "stdout",
     "output_type": "stream",
     "text": [
      "0.9900910785370314\n",
      "96\n"
     ]
    },
    {
     "data": {
      "image/png": "[encoded data removed]",
      "text/plain": [
       "<Figure size 432x288 with 1 Axes>"
      ]
     },
     "metadata": {
      "needs_background": "light"
     },
     "output_type": "display_data"
    }
   ],
   "source": [
    "# std of uniform distribution \n",
    "\n",
    "std_uniform = (3.5-0)/(np.sqrt(12))\n",
    "\n",
    "# uniform distribution \n",
    "uniform = np.random.uniform(low = 0.0, high = 3.6, size = len(differences))  \n",
    "plt.hist(uniform)\n",
    "print(np.array(uniform).std())\n",
    "print(len(uniform))\n",
    "plt.show();"
   ]
  },
  {
   "cell_type": "code",
   "execution_count": null,
   "metadata": {},
   "outputs": [],
   "source": []
  },
  {
   "cell_type": "code",
   "execution_count": 79,
   "metadata": {},
   "outputs": [],
   "source": [
    "option1 = copy.deepcopy(discriminations)\n",
    "option1_differences = copy.deepcopy(differences)"
   ]
  },
  {
   "cell_type": "code",
   "execution_count": 249,
   "metadata": {
    "collapsed": true,
    "jupyter": {
     "outputs_hidden": true
    }
   },
   "outputs": [
    {
     "name": "stdout",
     "output_type": "stream",
     "text": [
      "0.8163254772604568\n",
      "Power_divergenceResult(statistic=116.44984909747168, pvalue=0.06681857460689793)\n"
     ]
    },
    {
     "data": {
      "image/png": "[encoded data removed]",
      "text/plain": [
       "<Figure size 432x288 with 1 Axes>"
      ]
     },
     "metadata": {
      "needs_background": "light"
     },
     "output_type": "display_data"
    }
   ],
   "source": [
    "plt.figure()\n",
    "\n",
    "plt.hist(option1_differences)\n",
    "plt.title('Distribution of Depth Differences')\n",
    "\n",
    "print(np.array(option1_differences).std())\n",
    "print(chisquare(option1_differences, uniform))\n",
    "plt.show()\n"
   ]
  },
  {
   "cell_type": "code",
   "execution_count": 88,
   "metadata": {},
   "outputs": [],
   "source": [
    "option2 = copy.deepcopy(discriminations)\n",
    "option2_differences = copy.deepcopy(differences)"
   ]
  },
  {
   "cell_type": "code",
   "execution_count": 202,
   "metadata": {
    "collapsed": true,
    "jupyter": {
     "outputs_hidden": true
    }
   },
   "outputs": [
    {
     "name": "stdout",
     "output_type": "stream",
     "text": [
      "0.7297319898324904\n"
     ]
    },
    {
     "data": {
      "image/png": "[encoded data removed]",
      "text/plain": [
       "<Figure size 432x288 with 1 Axes>"
      ]
     },
     "metadata": {
      "needs_background": "light"
     },
     "output_type": "display_data"
    }
   ],
   "source": [
    "plt.figure()\n",
    "\n",
    "plt.hist(option2_differences)\n",
    "plt.title('Distribution of Depth Differences')\n",
    "\n",
    "print(np.array(option2_differences).std())\n",
    "\n",
    "plt.show()"
   ]
  },
  {
   "cell_type": "code",
   "execution_count": 171,
   "metadata": {},
   "outputs": [],
   "source": [
    "option3 = copy.deepcopy(discriminations)\n",
    "option3_differences = copy.deepcopy(differences)"
   ]
  },
  {
   "cell_type": "code",
   "execution_count": 203,
   "metadata": {
    "collapsed": true,
    "jupyter": {
     "outputs_hidden": true
    }
   },
   "outputs": [
    {
     "name": "stdout",
     "output_type": "stream",
     "text": [
      "0.7715105008995148\n"
     ]
    },
    {
     "data": {
      "image/png": "[encoded data removed]",
      "text/plain": [
       "<Figure size 432x288 with 1 Axes>"
      ]
     },
     "metadata": {
      "needs_background": "light"
     },
     "output_type": "display_data"
    }
   ],
   "source": [
    "plt.figure()\n",
    "\n",
    "plt.hist(option3_differences)\n",
    "plt.title('Distribution of Depth Differences')\n",
    "\n",
    "print(np.array(option3_differences).std())\n",
    "\n",
    "\n",
    "plt.show()"
   ]
  },
  {
   "cell_type": "code",
   "execution_count": 589,
   "metadata": {},
   "outputs": [],
   "source": [
    "option4 = copy.deepcopy(discriminations)\n",
    "option4_differences = copy.deepcopy(differences)"
   ]
  },
  {
   "cell_type": "code",
   "execution_count": 590,
   "metadata": {
    "collapsed": true,
    "jupyter": {
     "outputs_hidden": true
    }
   },
   "outputs": [
    {
     "name": "stdout",
     "output_type": "stream",
     "text": [
      "0.7495098733841441\n"
     ]
    },
    {
     "data": {
      "image/png": "[encoded data removed]",
      "text/plain": [
       "<Figure size 432x288 with 1 Axes>"
      ]
     },
     "metadata": {
      "needs_background": "light"
     },
     "output_type": "display_data"
    }
   ],
   "source": [
    "plt.figure()\n",
    "\n",
    "plt.hist(option4_differences)\n",
    "plt.title('Distribution of Depth Differences')\n",
    "\n",
    "print(np.array(option4_differences).std())\n",
    "\n",
    "\n",
    "plt.show()"
   ]
  },
  {
   "cell_type": "markdown",
   "metadata": {},
   "source": [
    "# Constrain to Depth Differences =< 1 meter"
   ]
  },
  {
   "cell_type": "code",
   "execution_count": 6,
   "metadata": {},
   "outputs": [
    {
     "data": {
      "text/plain": [
       "array(['depth_duration_stimuli/002750_2014-06-22_19-08-03_094959634447_rgbf000094-resize_4/002750_2014-06-22_19-08-03_094959634447_rgbf000094-resize_4-original.jpg',\n",
       "       '2.354'], dtype='<U155')"
      ]
     },
     "execution_count": 6,
     "metadata": {},
     "output_type": "execute_result"
    }
   ],
   "source": [
    "VE_seq_arr[0]\n",
    "\n",
    "# (1) first sort by depth? "
   ]
  },
  {
   "cell_type": "code",
   "execution_count": 7,
   "metadata": {},
   "outputs": [],
   "source": [
    "\n",
    "# Python code to sort the tuples using second element \n",
    "# of sublist Function to sort using sorted()\n",
    "def Sort(sub_li):\n",
    "  \n",
    "    # reverse = None (Sorts in Ascending order)\n",
    "    # key is set to sort using second element of \n",
    "    # sublist lambda has been used\n",
    "    return(sorted(sub_li, key = lambda x: x[1]))    \n",
    "  \n",
    "# Driver Code\n",
    "sorted_VE_seq = Sort(VE_seq)"
   ]
  },
  {
   "cell_type": "code",
   "execution_count": 8,
   "metadata": {},
   "outputs": [
    {
     "data": {
      "text/plain": [
       "['depth_duration_stimuli/002272_2014-06-28_18-53-56_260595134347_rgbf000067-resize_2/002272_2014-06-28_18-53-56_260595134347_rgbf000067-resize_2-original.jpg',\n",
       " 1.138]"
      ]
     },
     "execution_count": 8,
     "metadata": {},
     "output_type": "execute_result"
    }
   ],
   "source": [
    "sorted_VE_seq[0]"
   ]
  },
  {
   "cell_type": "code",
   "execution_count": null,
   "metadata": {},
   "outputs": [],
   "source": []
  },
  {
   "cell_type": "code",
   "execution_count": 62,
   "metadata": {},
   "outputs": [
    {
     "ename": "KeyboardInterrupt",
     "evalue": "",
     "output_type": "error",
     "traceback": [
      "\u001b[0;31m---------------------------------------------------------------------------\u001b[0m",
      "\u001b[0;31mKeyboardInterrupt\u001b[0m                         Traceback (most recent call last)",
      "\u001b[0;32m<ipython-input-62-9e83f148b2c6>\u001b[0m in \u001b[0;36m<module>\u001b[0;34m\u001b[0m\n\u001b[1;32m      6\u001b[0m \u001b[0msampled_indeces\u001b[0m \u001b[0;34m=\u001b[0m \u001b[0;34m[\u001b[0m\u001b[0;34m]\u001b[0m\u001b[0;34m\u001b[0m\u001b[0m\n\u001b[1;32m      7\u001b[0m \u001b[0;32mwhile\u001b[0m \u001b[0mlen\u001b[0m\u001b[0;34m(\u001b[0m\u001b[0mfinal_picks\u001b[0m\u001b[0;34m)\u001b[0m \u001b[0;34m<\u001b[0m \u001b[0;36m96\u001b[0m\u001b[0;34m:\u001b[0m\u001b[0;34m\u001b[0m\u001b[0m\n\u001b[0;32m----> 8\u001b[0;31m     \u001b[0mrand_pick\u001b[0m \u001b[0;34m=\u001b[0m \u001b[0mrandom\u001b[0m\u001b[0;34m.\u001b[0m\u001b[0msample\u001b[0m\u001b[0;34m(\u001b[0m\u001b[0mset\u001b[0m\u001b[0;34m(\u001b[0m\u001b[0mindeces\u001b[0m\u001b[0;34m)\u001b[0m\u001b[0;34m,\u001b[0m \u001b[0;36m2\u001b[0m\u001b[0;34m)\u001b[0m\u001b[0;34m\u001b[0m\u001b[0m\n\u001b[0m\u001b[1;32m      9\u001b[0m     \u001b[0md1\u001b[0m \u001b[0;34m=\u001b[0m \u001b[0msorted_VE_seq\u001b[0m\u001b[0;34m[\u001b[0m\u001b[0mrand_pick\u001b[0m\u001b[0;34m[\u001b[0m\u001b[0;36m0\u001b[0m\u001b[0;34m]\u001b[0m\u001b[0;34m]\u001b[0m\u001b[0;34m[\u001b[0m\u001b[0;36m1\u001b[0m\u001b[0;34m]\u001b[0m\u001b[0;34m\u001b[0m\u001b[0m\n\u001b[1;32m     10\u001b[0m     \u001b[0md2\u001b[0m \u001b[0;34m=\u001b[0m \u001b[0msorted_VE_seq\u001b[0m\u001b[0;34m[\u001b[0m\u001b[0mrand_pick\u001b[0m\u001b[0;34m[\u001b[0m\u001b[0;36m1\u001b[0m\u001b[0;34m]\u001b[0m\u001b[0;34m]\u001b[0m\u001b[0;34m[\u001b[0m\u001b[0;36m1\u001b[0m\u001b[0;34m]\u001b[0m\u001b[0;34m\u001b[0m\u001b[0m\n",
      "\u001b[0;31mKeyboardInterrupt\u001b[0m: "
     ]
    }
   ],
   "source": [
    "# indeces to VE trials \n",
    "indeces = np.arange(0,192)\n",
    "indeces = list(indeces)\n",
    "final_picks = []\n",
    "\n",
    "sampled_indeces = []\n",
    "while len(final_picks) < 96:\n",
    "    rand_pick = random.sample(set(indeces), 2)\n",
    "    d1 = sorted_VE_seq[rand_pick[0]][1]\n",
    "    d2 = sorted_VE_seq[rand_pick[1]][1]\n",
    "    diff = abs(d1-d2)\n",
    "    if any(x in sampled_indeces for x in rand_pick) == False:\n",
    "        # 0.15 min if needed\n",
    "        if 0.25 <= diff <= 1.25:\n",
    "            final_picks.append(rand_pick)\n",
    "            sampled_indeces.append(rand_pick[0])\n",
    "            sampled_indeces.append(rand_pick[1])\n",
    "    \n"
   ]
  },
  {
   "cell_type": "code",
   "execution_count": 63,
   "metadata": {},
   "outputs": [
    {
     "data": {
      "text/plain": [
       "94"
      ]
     },
     "execution_count": 63,
     "metadata": {},
     "output_type": "execute_result"
    }
   ],
   "source": [
    "len(final_picks)"
   ]
  },
  {
   "cell_type": "code",
   "execution_count": 13,
   "metadata": {
    "collapsed": true,
    "jupyter": {
     "outputs_hidden": true
    }
   },
   "outputs": [
    {
     "data": {
      "text/plain": [
       "[[['depth_duration_stimuli/002272_2014-06-28_18-53-56_260595134347_rgbf000067-resize_2/002272_2014-06-28_18-53-56_260595134347_rgbf000067-resize_2-original.jpg',\n",
       "   1.138],\n",
       "  ['depth_duration_stimuli/002344_2014-06-28_20-06-29_260595134347_rgbf000030-resize_1/002344_2014-06-28_20-06-29_260595134347_rgbf000030-resize_1-original.jpg',\n",
       "   1.5795]],\n",
       " [['depth_duration_stimuli/001011_2014-06-08_23-18-54_260595134347_rgbf000044-resize_4/001011_2014-06-08_23-18-54_260595134347_rgbf000044-resize_4-original.jpg',\n",
       "   2.473],\n",
       "  ['depth_duration_stimuli/001810_2014-06-26_20-51-35_260595134347_rgbf000040-resize_3/001810_2014-06-26_20-51-35_260595134347_rgbf000040-resize_3-original.jpg',\n",
       "   2.2525]],\n",
       " [['depth_duration_stimuli/001617_2014-06-20_11-35-32_260595134347_rgbf000066-resize_1/001617_2014-06-20_11-35-32_260595134347_rgbf000066-resize_1-original.jpg',\n",
       "   3.791],\n",
       "  ['depth_duration_stimuli/002444_2014-06-28_20-32-08_260595134347_rgbf000027-resize_0/002444_2014-06-28_20-32-08_260595134347_rgbf000027-resize_0-original.jpg',\n",
       "   4.388999999999999]],\n",
       " [['depth_duration_stimuli/002057_2014-06-24_21-00-13_260595134347_rgbf000120-resize_1/002057_2014-06-24_21-00-13_260595134347_rgbf000120-resize_1-original.jpg',\n",
       "   2.967],\n",
       "  ['depth_duration_stimuli/001584_2014-06-20_11-07-43_260595134347_rgbf000002-resize_1/001584_2014-06-20_11-07-43_260595134347_rgbf000002-resize_1-original.jpg',\n",
       "   3.5300000000000002]],\n",
       " [['depth_duration_stimuli/000878_2014-06-08_22-52-45_260595134347_rgbf000045-resize_2/000878_2014-06-08_22-52-45_260595134347_rgbf000045-resize_2-original.jpg',\n",
       "   2.092],\n",
       "  ['depth_duration_stimuli/001016_2014-06-09_16-16-10_260595134347_rgbf000112-resize_5/001016_2014-06-09_16-16-10_260595134347_rgbf000112-resize_5-original.jpg',\n",
       "   1.6564999999999999]],\n",
       " [['depth_duration_stimuli/001214_2014-06-17_16-13-55_260595134347_rgbf000111-resize_0/001214_2014-06-17_16-13-55_260595134347_rgbf000111-resize_0-original.jpg',\n",
       "   2.6505],\n",
       "  ['depth_duration_stimuli/000753_2014-06-08_21-57-44_260595134347_rgbf000123-resize_3/000753_2014-06-08_21-57-44_260595134347_rgbf000123-resize_3-original.jpg',\n",
       "   1.916]],\n",
       " [['depth_duration_stimuli/003129_2014-05-12_10-48-10_094959634447_rgbf000100-resize_0/003129_2014-05-12_10-48-10_094959634447_rgbf000100-resize_0-original.jpg',\n",
       "   4.9305],\n",
       "  ['depth_duration_stimuli/001450_2014-06-19_17-02-03_260595134347_rgbf000203-resize_4/001450_2014-06-19_17-02-03_260595134347_rgbf000203-resize_4-original.jpg',\n",
       "   4.010666666666666]],\n",
       " [['depth_duration_stimuli/002414_2014-06-28_20-24-58_260595134347_rgbf000067-resize_4/002414_2014-06-28_20-24-58_260595134347_rgbf000067-resize_4-original.jpg',\n",
       "   4.3629999999999995],\n",
       "  ['depth_duration_stimuli/003621_2014-05-23_18-06-08_094959634447_rgbf000101-resize_1/003621_2014-05-23_18-06-08_094959634447_rgbf000101-resize_1-original.jpg',\n",
       "   3.9835000000000003]],\n",
       " [['depth_duration_stimuli/003228_2014-05-14_13-42-35_094959634447_rgbf000101-resize_1/003228_2014-05-14_13-42-35_094959634447_rgbf000101-resize_1-original.jpg',\n",
       "   1.968],\n",
       "  ['depth_duration_stimuli/001188_2014-06-17_15-54-10_260595134347_rgbf000090-resize_2/001188_2014-06-17_15-54-10_260595134347_rgbf000090-resize_2-original.jpg',\n",
       "   2.7439999999999998]],\n",
       " [['depth_duration_stimuli/000800_2014-06-08_22-42-09_260595134347_rgbf000095-resize_3/000800_2014-06-08_22-42-09_260595134347_rgbf000095-resize_3-original.jpg',\n",
       "   2.8],\n",
       "  ['depth_duration_stimuli/001815_2014-06-26_20-52-55_260595134347_rgbf000020-resize_0/001815_2014-06-26_20-52-55_260595134347_rgbf000020-resize_0-original.jpg',\n",
       "   3.3865]],\n",
       " [['depth_duration_stimuli/002570_2014-06-24_13-59-54_094959634447_rgbf000059-resize_0/002570_2014-06-24_13-59-54_094959634447_rgbf000059-resize_0-original.jpg',\n",
       "   4.037],\n",
       "  ['depth_duration_stimuli/002467_2014-06-28_20-38-07_260595134347_rgbf000026-resize_2/002467_2014-06-28_20-38-07_260595134347_rgbf000026-resize_2-original.jpg',\n",
       "   4.742]],\n",
       " [['depth_duration_stimuli/001417_2014-06-19_16-25-36_260595134347_rgbf000115-resize_5/001417_2014-06-19_16-25-36_260595134347_rgbf000115-resize_5-original.jpg',\n",
       "   4.6255],\n",
       "  ['depth_duration_stimuli/000137_2014-05-20_17-04-49_260595134347_rgbf000120-resize_1/000137_2014-05-20_17-04-49_260595134347_rgbf000120-resize_1-original.jpg',\n",
       "   3.7859999999999996]],\n",
       " [['depth_duration_stimuli/000502_2014-06-08_23-02-32_260595134347_rgbf000063-resize_4/000502_2014-06-08_23-02-32_260595134347_rgbf000063-resize_4-original.jpg',\n",
       "   2.431],\n",
       "  ['depth_duration_stimuli/000549_2014-06-08_22-10-24_260595134347_rgbf000247-resize_3/000549_2014-06-08_22-10-24_260595134347_rgbf000247-resize_3-original.jpg',\n",
       "   1.841]],\n",
       " [['depth_duration_stimuli/001150_2014-06-17_15-27-34_260595134347_rgbf000108-resize_2/001150_2014-06-17_15-27-34_260595134347_rgbf000108-resize_2-original.jpg',\n",
       "   4.032500000000001],\n",
       "  ['depth_duration_stimuli/000457_2014-06-08_16-52-43_260595134347_rgbf000199-resize_1/000457_2014-06-08_16-52-43_260595134347_rgbf000199-resize_1-original.jpg',\n",
       "   3.649]],\n",
       " [['depth_duration_stimuli/002987_2014-06-08_18-48-20_094959634447_rgbf000022-resize_0/002987_2014-06-08_18-48-20_094959634447_rgbf000022-resize_0-original.jpg',\n",
       "   2.6775],\n",
       "  ['depth_duration_stimuli/000869_2014-06-09_20-50-18_260595134347_rgbf000060-resize_3/000869_2014-06-09_20-50-18_260595134347_rgbf000060-resize_3-original.jpg',\n",
       "   2.266]],\n",
       " [['depth_duration_stimuli/000739_2014-06-08_18-45-58_260595134347_rgbf000068-resize_1/000739_2014-06-08_18-45-58_260595134347_rgbf000068-resize_1-original.jpg',\n",
       "   3.534],\n",
       "  ['depth_duration_stimuli/001392_2014-06-19_16-07-59_260595134347_rgbf000046-resize_1/001392_2014-06-19_16-07-59_260595134347_rgbf000046-resize_1-original.jpg',\n",
       "   4.135]],\n",
       " [['depth_duration_stimuli/000854_2014-06-09_19-43-13_260595134347_rgbf000066-resize_0/000854_2014-06-09_19-43-13_260595134347_rgbf000066-resize_0-original.jpg',\n",
       "   3.068],\n",
       "  ['depth_duration_stimuli/002678_2014-06-13_16-15-32_094959634447_rgbf000151-resize_6/002678_2014-06-13_16-15-32_094959634447_rgbf000151-resize_6-original.jpg',\n",
       "   2.183]],\n",
       " [['depth_duration_stimuli/001032_2014-06-08_13-23-17_260595134347_rgbf000021-resize_3/001032_2014-06-08_13-23-17_260595134347_rgbf000021-resize_3-original.jpg',\n",
       "   3.2725],\n",
       "  ['depth_duration_stimuli/000917_2014-06-09_22-45-29_260595134347_rgbf000149-resize_3/000917_2014-06-09_22-45-29_260595134347_rgbf000149-resize_3-original.jpg',\n",
       "   4.1865]],\n",
       " [['depth_duration_stimuli/000521_2014-06-08_13-34-35_260595134347_rgbf000191-resize_2/000521_2014-06-08_13-34-35_260595134347_rgbf000191-resize_2-original.jpg',\n",
       "   3.0385],\n",
       "  ['depth_duration_stimuli/002365_2014-06-28_20-11-21_260595134347_rgbf000102-resize_1/002365_2014-06-28_20-11-21_260595134347_rgbf000102-resize_1-original.jpg',\n",
       "   4.013]],\n",
       " [['depth_duration_stimuli/003292_2014-05-14_21-53-49_094959634447_rgbf000100-resize_2/003292_2014-05-14_21-53-49_094959634447_rgbf000100-resize_2-original.jpg',\n",
       "   3.4815],\n",
       "  ['depth_duration_stimuli/002639_2014-06-24_14-51-37_094959634447_rgbf000074-resize_4/002639_2014-06-24_14-51-37_094959634447_rgbf000074-resize_4-original.jpg',\n",
       "   4.0375]],\n",
       " [['depth_duration_stimuli/002995_2014-06-15_12-31-26_094959634447_rgbf000150-resize_1/002995_2014-06-15_12-31-26_094959634447_rgbf000150-resize_1-original.jpg',\n",
       "   3.836],\n",
       "  ['depth_duration_stimuli/001133_2014-06-17_14-49-16_260595134347_rgbf000100-resize_0/001133_2014-06-17_14-49-16_260595134347_rgbf000100-resize_0-original.jpg',\n",
       "   4.2115]],\n",
       " [['depth_duration_stimuli/000677_2014-06-08_23-10-32_260595134347_rgbf000158-resize_6/000677_2014-06-08_23-10-32_260595134347_rgbf000158-resize_6-original.jpg',\n",
       "   3.556],\n",
       "  ['depth_duration_stimuli/001029_2014-06-08_13-17-57_260595134347_rgbf000065-resize_1/001029_2014-06-08_13-17-57_260595134347_rgbf000065-resize_1-original.jpg',\n",
       "   3.0835]],\n",
       " [['depth_duration_stimuli/002279_2014-06-28_18-55-32_260595134347_rgbf000040-resize_5/002279_2014-06-28_18-55-32_260595134347_rgbf000040-resize_5-original.jpg',\n",
       "   1.5043333333333333],\n",
       "  ['depth_duration_stimuli/002545_2014-06-24_13-38-53_094959634447_rgbf000080-resize_4/002545_2014-06-24_13-38-53_094959634447_rgbf000080-resize_4-original.jpg',\n",
       "   1.9205]],\n",
       " [['depth_duration_stimuli/001136_2014-06-17_15-19-41_260595134347_rgbf000076-resize_3/001136_2014-06-17_15-19-41_260595134347_rgbf000076-resize_3-original.jpg',\n",
       "   1.8655],\n",
       "  ['depth_duration_stimuli/002139_2014-06-25_21-19-37_260595134347_rgbf000124-resize_2/002139_2014-06-25_21-19-37_260595134347_rgbf000124-resize_2-original.jpg',\n",
       "   2.107]],\n",
       " [['depth_duration_stimuli/001724_2014-06-26_19-28-50_260595134347_rgbf000037-resize_7/001724_2014-06-26_19-28-50_260595134347_rgbf000037-resize_7-original.jpg',\n",
       "   3.827],\n",
       "  ['depth_duration_stimuli/000929_2014-06-09_16-33-19_260595134347_rgbf000139-resize_0/000929_2014-06-09_16-33-19_260595134347_rgbf000139-resize_0-original.jpg',\n",
       "   2.8680000000000003]],\n",
       " [['depth_duration_stimuli/000506_2014-06-08_23-21-00_260595134347_rgbf000070-resize_7/000506_2014-06-08_23-21-00_260595134347_rgbf000070-resize_7-original.jpg',\n",
       "   4.0584999999999996],\n",
       "  ['depth_duration_stimuli/002660_2014-06-13_15-44-18_094959634447_rgbf001878-resize_2/002660_2014-06-13_15-44-18_094959634447_rgbf001878-resize_2-original.jpg',\n",
       "   3.576]],\n",
       " [['depth_duration_stimuli/001197_2014-06-17_16-01-50_260595134347_rgbf000103-resize_4/001197_2014-06-17_16-01-50_260595134347_rgbf000103-resize_4-original.jpg',\n",
       "   3.4025],\n",
       "  ['depth_duration_stimuli/001264_2014-06-16_16-10-23_260595134347_rgbf000109-resize_1/001264_2014-06-16_16-10-23_260595134347_rgbf000109-resize_1-original.jpg',\n",
       "   2.9665]],\n",
       " [['depth_duration_stimuli/000780_2014-06-08_22-28-29_260595134347_rgbf000126-resize_1/000780_2014-06-08_22-28-29_260595134347_rgbf000126-resize_1-original.jpg',\n",
       "   3.3825],\n",
       "  ['depth_duration_stimuli/001175_2014-06-17_15-45-55_260595134347_rgbf000129-resize_4/001175_2014-06-17_15-45-55_260595134347_rgbf000129-resize_4-original.jpg',\n",
       "   4.255]],\n",
       " [['depth_duration_stimuli/002039_2014-06-24_20-22-38_260595134347_rgbf000084-resize_1/002039_2014-06-24_20-22-38_260595134347_rgbf000084-resize_1-original.jpg',\n",
       "   4.4079999999999995],\n",
       "  ['depth_duration_stimuli/000691_2014-06-08_13-08-50_260595134347_rgbf000132-resize_3/000691_2014-06-08_13-08-50_260595134347_rgbf000132-resize_3-original.jpg',\n",
       "   4.1530000000000005]],\n",
       " [['depth_duration_stimuli/002568_2014-06-24_13-59-21_094959634447_rgbf000062-resize_4/002568_2014-06-24_13-59-21_094959634447_rgbf000062-resize_4-original.jpg',\n",
       "   3.0149999999999997],\n",
       "  ['depth_duration_stimuli/002209_2014-06-28_18-36-10_260595134347_rgbf000051-resize_1/002209_2014-06-28_18-36-10_260595134347_rgbf000051-resize_1-original.jpg',\n",
       "   2.057]],\n",
       " [['depth_duration_stimuli/002323_2014-06-28_20-01-54_260595134347_rgbf000051-resize_4/002323_2014-06-28_20-01-54_260595134347_rgbf000051-resize_4-original.jpg',\n",
       "   3.731],\n",
       "  ['depth_duration_stimuli/000436_2014-06-09_22-25-11_260595134347_rgbf000137-resize_1/000436_2014-06-09_22-25-11_260595134347_rgbf000137-resize_1-original.jpg',\n",
       "   4.0705]],\n",
       " [['depth_duration_stimuli/000191_2014-05-12_17-07-38_260595134347_rgbf000199-resize_0/000191_2014-05-12_17-07-38_260595134347_rgbf000199-resize_0-original.jpg',\n",
       "   3.7995],\n",
       "  ['depth_duration_stimuli/003083_2014-06-15_15-21-03_094959634447_rgbf000063-resize_1/003083_2014-06-15_15-21-03_094959634447_rgbf000063-resize_1-original.jpg',\n",
       "   4.140499999999999]],\n",
       " [['depth_duration_stimuli/000642_2014-06-08_16-59-25_260595134347_rgbf000098-resize_2/000642_2014-06-08_16-59-25_260595134347_rgbf000098-resize_2-original.jpg',\n",
       "   2.8815],\n",
       "  ['depth_duration_stimuli/003423_2014-05-21_10-23-26_094959634447_rgbf002665-resize_2/003423_2014-05-21_10-23-26_094959634447_rgbf002665-resize_2-original.jpg',\n",
       "   3.2575]],\n",
       " [['depth_duration_stimuli/002700_2014-06-22_11-27-02_094959634447_rgbf000124-resize_3/002700_2014-06-22_11-27-02_094959634447_rgbf000124-resize_3-original.jpg',\n",
       "   3.301],\n",
       "  ['depth_duration_stimuli/002118_2014-06-25_20-32-08_260595134347_rgbf000078-resize_1/002118_2014-06-25_20-32-08_260595134347_rgbf000078-resize_1-original.jpg',\n",
       "   2.646]],\n",
       " [['depth_duration_stimuli/002579_2014-06-24_14-08-03_094959634447_rgbf000061-resize_2/002579_2014-06-24_14-08-03_094959634447_rgbf000061-resize_2-original.jpg',\n",
       "   2.223125],\n",
       "  ['depth_duration_stimuli/002758_2014-06-22_19-11-20_094959634447_rgbf000128-resize_1/002758_2014-06-22_19-11-20_094959634447_rgbf000128-resize_1-original.jpg',\n",
       "   2.555]],\n",
       " [['depth_duration_stimuli/001164_2014-06-17_15-35-46_260595134347_rgbf000085-resize_3/001164_2014-06-17_15-35-46_260595134347_rgbf000085-resize_3-original.jpg',\n",
       "   2.354],\n",
       "  ['depth_duration_stimuli/001110_2014-06-15_17-25-28_260595134347_rgbf000150-resize_1/001110_2014-06-15_17-25-28_260595134347_rgbf000150-resize_1-original.jpg',\n",
       "   1.7115]],\n",
       " [['depth_duration_stimuli/000740_2014-06-08_18-46-23_260595134347_rgbf000049-resize_6/000740_2014-06-08_18-46-23_260595134347_rgbf000049-resize_6-original.jpg',\n",
       "   1.687],\n",
       "  ['depth_duration_stimuli/002153_2014-06-25_21-27-18_260595134347_rgbf000038-resize_5/002153_2014-06-25_21-27-18_260595134347_rgbf000038-resize_5-original.jpg',\n",
       "   2.505]],\n",
       " [['depth_duration_stimuli/002425_2014-06-28_20-27-29_260595134347_rgbf000031-resize_8/002425_2014-06-28_20-27-29_260595134347_rgbf000031-resize_8-original.jpg',\n",
       "   3.896],\n",
       "  ['depth_duration_stimuli/000788_2014-06-08_22-34-36_260595134347_rgbf000131-resize_1/000788_2014-06-08_22-34-36_260595134347_rgbf000131-resize_1-original.jpg',\n",
       "   3.359]],\n",
       " [['depth_duration_stimuli/001289_2014-06-16_16-25-52_260595134347_rgbf000067-resize_1/001289_2014-06-16_16-25-52_260595134347_rgbf000067-resize_1-original.jpg',\n",
       "   1.8835],\n",
       "  ['depth_duration_stimuli/003092_2014-06-24_21-01-49_094959634447_rgbf000049-resize_2/003092_2014-06-24_21-01-49_094959634447_rgbf000049-resize_2-original.jpg',\n",
       "   1.666]],\n",
       " [['depth_duration_stimuli/000749_2014-06-08_21-55-06_260595134347_rgbf000070-resize_2/000749_2014-06-08_21-55-06_260595134347_rgbf000070-resize_2-original.jpg',\n",
       "   2.331],\n",
       "  ['depth_duration_stimuli/000103_2014-05-14_22-01-17_260595134347_rgbf000152-resize_5/000103_2014-05-14_22-01-17_260595134347_rgbf000152-resize_5-original.jpg',\n",
       "   1.9929999999999999]],\n",
       " [['depth_duration_stimuli/002875_2014-06-01_15-19-00_094959634447_rgbf000151-resize_1/002875_2014-06-01_15-19-00_094959634447_rgbf000151-resize_1-original.jpg',\n",
       "   1.9675],\n",
       "  ['depth_duration_stimuli/000927_2014-06-09_16-32-30_260595134347_rgbf000123-resize_3/000927_2014-06-09_16-32-30_260595134347_rgbf000123-resize_3-original.jpg',\n",
       "   2.6785]],\n",
       " [['depth_duration_stimuli/001447_2014-06-19_17-00-32_260595134347_rgbf000082-resize_5/001447_2014-06-19_17-00-32_260595134347_rgbf000082-resize_5-original.jpg',\n",
       "   4.1377500000000005],\n",
       "  ['depth_duration_stimuli/000493_2014-06-09_21-01-18_260595134347_rgbf000196-resize_3/000493_2014-06-09_21-01-18_260595134347_rgbf000196-resize_3-original.jpg',\n",
       "   3.4400000000000004]],\n",
       " [['depth_duration_stimuli/002213_2014-06-28_18-37-58_260595134347_rgbf000055-resize_1/002213_2014-06-28_18-37-58_260595134347_rgbf000055-resize_1-original.jpg',\n",
       "   3.62],\n",
       "  ['depth_duration_stimuli/003546_2014-05-22_15-48-53_094959634447_rgbf004816-resize_3/003546_2014-05-22_15-48-53_094959634447_rgbf004816-resize_3-original.jpg',\n",
       "   2.6262499999999998]],\n",
       " [['depth_duration_stimuli/001132_2014-06-17_14-48-54_260595134347_rgbf000100-resize_2/001132_2014-06-17_14-48-54_260595134347_rgbf000100-resize_2-original.jpg',\n",
       "   3.753],\n",
       "  ['depth_duration_stimuli/002748_2014-06-22_19-07-22_094959634447_rgbf000078-resize_1/002748_2014-06-22_19-07-22_094959634447_rgbf000078-resize_1-original.jpg',\n",
       "   4.6705000000000005]],\n",
       " [['depth_duration_stimuli/000555_2014-06-09_22-42-23_260595134347_rgbf000037-resize_4/000555_2014-06-09_22-42-23_260595134347_rgbf000037-resize_4-original.jpg',\n",
       "   1.9765],\n",
       "  ['depth_duration_stimuli/000906_2014-06-08_13-35-43_260595134347_rgbf000155-resize_1/000906_2014-06-08_13-35-43_260595134347_rgbf000155-resize_1-original.jpg',\n",
       "   2.849]],\n",
       " [['depth_duration_stimuli/002464_2014-06-28_20-36-57_260595134347_rgbf000029-resize_0/002464_2014-06-28_20-36-57_260595134347_rgbf000029-resize_0-original.jpg',\n",
       "   3.9524999999999997],\n",
       "  ['depth_duration_stimuli/000542_2014-06-08_18-27-08_260595134347_rgbf000118-resize_1/000542_2014-06-08_18-27-08_260595134347_rgbf000118-resize_1-original.jpg',\n",
       "   3.0]],\n",
       " [['depth_duration_stimuli/003492_2014-05-21_15-50-55_094959634447_rgbf000828-resize_1/003492_2014-05-21_15-50-55_094959634447_rgbf000828-resize_1-original.jpg',\n",
       "   4.0687500000000005],\n",
       "  ['depth_duration_stimuli/000505_2014-06-08_23-03-23_260595134347_rgbf000091-resize_0/000505_2014-06-08_23-03-23_260595134347_rgbf000091-resize_0-original.jpg',\n",
       "   3.3105]],\n",
       " [['depth_duration_stimuli/000109_2014-05-14_23-41-52_260595134347_rgbf000035-resize_9/000109_2014-05-14_23-41-52_260595134347_rgbf000035-resize_9-original.jpg',\n",
       "   1.3545],\n",
       "  ['depth_duration_stimuli/000709_2014-06-08_13-51-55_260595134347_rgbf000068-resize_3/000709_2014-06-08_13-51-55_260595134347_rgbf000068-resize_3-original.jpg',\n",
       "   1.803]],\n",
       " [['depth_duration_stimuli/000866_2014-06-09_20-45-42_260595134347_rgbf000139-resize_1/000866_2014-06-09_20-45-42_260595134347_rgbf000139-resize_1-original.jpg',\n",
       "   3.2155],\n",
       "  ['depth_duration_stimuli/001235_2014-06-17_16-37-36_260595134347_rgbf000084-resize_4/001235_2014-06-17_16-37-36_260595134347_rgbf000084-resize_4-original.jpg',\n",
       "   3.6605]],\n",
       " [['depth_duration_stimuli/002964_2014-06-08_17-46-11_094959634447_rgbf000091-resize_4/002964_2014-06-08_17-46-11_094959634447_rgbf000091-resize_4-original.jpg',\n",
       "   1.6909999999999998],\n",
       "  ['depth_duration_stimuli/002199_2014-06-28_18-33-56_260595134347_rgbf000074-resize_0/002199_2014-06-28_18-33-56_260595134347_rgbf000074-resize_0-original.jpg',\n",
       "   1.996]],\n",
       " [['depth_duration_stimuli/002725_2014-06-22_11-47-51_094959634447_rgbf000070-resize_1/002725_2014-06-22_11-47-51_094959634447_rgbf000070-resize_1-original.jpg',\n",
       "   2.1950000000000003],\n",
       "  ['depth_duration_stimuli/000483_2014-06-09_20-41-45_260595134347_rgbf000116-resize_4/000483_2014-06-09_20-41-45_260595134347_rgbf000116-resize_4-original.jpg',\n",
       "   1.3370000000000002]],\n",
       " [['depth_duration_stimuli/001055_2014-06-08_18-45-35_260595134347_rgbf000111-resize_4/001055_2014-06-08_18-45-35_260595134347_rgbf000111-resize_4-original.jpg',\n",
       "   2.429],\n",
       "  ['depth_duration_stimuli/003495_2014-05-21_16-01-51_094959634447_rgbf000100-resize_3/003495_2014-05-21_16-01-51_094959634447_rgbf000100-resize_3-original.jpg',\n",
       "   1.6255000000000002]],\n",
       " [['depth_duration_stimuli/001244_2014-06-17_16-47-45_260595134347_rgbf000030-resize_4/001244_2014-06-17_16-47-45_260595134347_rgbf000030-resize_4-original.jpg',\n",
       "   2.0425],\n",
       "  ['depth_duration_stimuli/002763_2014-06-22_19-13-10_094959634447_rgbf000075-resize_4/002763_2014-06-22_19-13-10_094959634447_rgbf000075-resize_4-original.jpg',\n",
       "   1.68375]],\n",
       " [['depth_duration_stimuli/001100_2014-06-15_17-46-26_260595134347_rgbf000225-resize_2/001100_2014-06-15_17-46-26_260595134347_rgbf000225-resize_2-original.jpg',\n",
       "   2.2399999999999998],\n",
       "  ['depth_duration_stimuli/002905_2014-06-03_18-04-43_094959634447_rgbf000151-resize_2/002905_2014-06-03_18-04-43_094959634447_rgbf000151-resize_2-original.jpg',\n",
       "   2.0295]],\n",
       " [['depth_duration_stimuli/000470_2014-06-09_19-42-40_260595134347_rgbf000094-resize_1/000470_2014-06-09_19-42-40_260595134347_rgbf000094-resize_1-original.jpg',\n",
       "   1.831],\n",
       "  ['depth_duration_stimuli/000682_2014-06-08_23-14-58_260595134347_rgbf000041-resize_5/000682_2014-06-08_23-14-58_260595134347_rgbf000041-resize_5-original.jpg',\n",
       "   2.724]],\n",
       " [['depth_duration_stimuli/001059_2014-06-08_21-53-27_260595134347_rgbf000061-resize_4/001059_2014-06-08_21-53-27_260595134347_rgbf000061-resize_4-original.jpg',\n",
       "   2.4185],\n",
       "  ['depth_duration_stimuli/001092_2014-06-15_17-34-58_260595134347_rgbf000171-resize_3/001092_2014-06-15_17-34-58_260595134347_rgbf000171-resize_3-original.jpg',\n",
       "   2.6935000000000002]],\n",
       " [['depth_duration_stimuli/000773_2014-06-08_22-24-54_260595134347_rgbf000093-resize_1/000773_2014-06-08_22-24-54_260595134347_rgbf000093-resize_1-original.jpg',\n",
       "   4.973],\n",
       "  ['depth_duration_stimuli/000447_2014-06-08_16-15-46_260595134347_rgbf000130-resize_1/000447_2014-06-08_16-15-46_260595134347_rgbf000130-resize_1-original.jpg',\n",
       "   4.479]],\n",
       " [['depth_duration_stimuli/001066_2014-06-08_22-03-20_260595134347_rgbf000066-resize_4/001066_2014-06-08_22-03-20_260595134347_rgbf000066-resize_4-original.jpg',\n",
       "   4.2330000000000005],\n",
       "  ['depth_duration_stimuli/002988_2014-06-15_12-24-20_094959634447_rgbf000150-resize_1/002988_2014-06-15_12-24-20_094959634447_rgbf000150-resize_1-original.jpg',\n",
       "   4.7669999999999995]],\n",
       " [['depth_duration_stimuli/002340_2014-06-28_20-05-46_260595134347_rgbf000113-resize_0/002340_2014-06-28_20-05-46_260595134347_rgbf000113-resize_0-original.jpg',\n",
       "   2.4735],\n",
       "  ['depth_duration_stimuli/002637_2014-06-24_14-51-13_094959634447_rgbf000066-resize_4/002637_2014-06-24_14-51-13_094959634447_rgbf000066-resize_4-original.jpg',\n",
       "   1.9954999999999998]],\n",
       " [['depth_duration_stimuli/000009_2014-05-26_14-32-05_260595134347_rgbf000034-resize_3/000009_2014-05-26_14-32-05_260595134347_rgbf000034-resize_3-original.jpg',\n",
       "   3.8715],\n",
       "  ['depth_duration_stimuli/001570_2014-06-20_17-21-09_260595134347_rgbf000135-resize_4/001570_2014-06-20_17-21-09_260595134347_rgbf000135-resize_4-original.jpg',\n",
       "   4.467]],\n",
       " [['depth_duration_stimuli/002043_2014-06-24_20-29-38_260595134347_rgbf000039-resize_4/002043_2014-06-24_20-29-38_260595134347_rgbf000039-resize_4-original.jpg',\n",
       "   2.8435],\n",
       "  ['depth_duration_stimuli/002136_2014-06-25_21-18-03_260595134347_rgbf000109-resize_3/002136_2014-06-25_21-18-03_260595134347_rgbf000109-resize_3-original.jpg',\n",
       "   1.9569999999999999]],\n",
       " [['depth_duration_stimuli/000522_2014-06-08_13-35-06_260595134347_rgbf000244-resize_1/000522_2014-06-08_13-35-06_260595134347_rgbf000244-resize_1-original.jpg',\n",
       "   2.3715],\n",
       "  ['depth_duration_stimuli/001806_2014-06-26_20-50-20_260595134347_rgbf000091-resize_1/001806_2014-06-26_20-50-20_260595134347_rgbf000091-resize_1-original.jpg',\n",
       "   2.7305]],\n",
       " [['depth_duration_stimuli/002600_2014-06-24_14-27-04_094959634447_rgbf000074-resize_2/002600_2014-06-24_14-27-04_094959634447_rgbf000074-resize_2-original.jpg',\n",
       "   2.7575000000000003],\n",
       "  ['depth_duration_stimuli/003490_2014-05-21_15-50-11_094959634447_rgbf000101-resize_3/003490_2014-05-21_15-50-11_094959634447_rgbf000101-resize_3-original.jpg',\n",
       "   3.6445]],\n",
       " [['depth_duration_stimuli/001650_2014-06-20_12-09-00_260595134347_rgbf000087-resize_3/001650_2014-06-20_12-09-00_260595134347_rgbf000087-resize_3-original.jpg',\n",
       "   1.9505],\n",
       "  ['depth_duration_stimuli/002549_2014-06-24_13-41-39_094959634447_rgbf000022-resize_3/002549_2014-06-24_13-41-39_094959634447_rgbf000022-resize_3-original.jpg',\n",
       "   1.476]],\n",
       " [['depth_duration_stimuli/000409_2014-06-04_19-23-33_260595134347_rgbf000067-resize_0/000409_2014-06-04_19-23-33_260595134347_rgbf000067-resize_0-original.jpg',\n",
       "   3.7335000000000003],\n",
       "  ['depth_duration_stimuli/001808_2014-06-26_20-50-58_260595134347_rgbf000029-resize_1/001808_2014-06-26_20-50-58_260595134347_rgbf000029-resize_1-original.jpg',\n",
       "   4.249]],\n",
       " [['depth_duration_stimuli/002305_2014-06-28_19-56-50_260595134347_rgbf000102-resize_7/002305_2014-06-28_19-56-50_260595134347_rgbf000102-resize_7-original.jpg',\n",
       "   4.8725],\n",
       "  ['depth_duration_stimuli/000742_2014-06-08_18-48-09_260595134347_rgbf000164-resize_4/000742_2014-06-08_18-48-09_260595134347_rgbf000164-resize_4-original.jpg',\n",
       "   4.632]],\n",
       " [['depth_duration_stimuli/003587_2014-05-23_16-48-02_094959634447_rgbf002384-resize_2/003587_2014-05-23_16-48-02_094959634447_rgbf002384-resize_2-original.jpg',\n",
       "   1.357],\n",
       "  ['depth_duration_stimuli/002788_2014-06-22_19-36-03_094959634447_rgbf000088-resize_2/002788_2014-06-22_19-36-03_094959634447_rgbf000088-resize_2-original.jpg',\n",
       "   1.6464999999999999]],\n",
       " [['depth_duration_stimuli/002460_2014-06-28_20-35-43_260595134347_rgbf000028-resize_4/002460_2014-06-28_20-35-43_260595134347_rgbf000028-resize_4-original.jpg',\n",
       "   2.269],\n",
       "  ['depth_duration_stimuli/000830_2014-06-04_19-49-31_260595134347_rgbf000096-resize_2/000830_2014-06-04_19-49-31_260595134347_rgbf000096-resize_2-original.jpg',\n",
       "   2.635333333333333]],\n",
       " [['depth_duration_stimuli/003081_2014-06-15_15-19-16_094959634447_rgbf000150-resize_1/003081_2014-06-15_15-19-16_094959634447_rgbf000150-resize_1-original.jpg',\n",
       "   3.9124999999999996],\n",
       "  ['depth_duration_stimuli/000414_2014-06-04_19-49-13_260595134347_rgbf000044-resize_0/000414_2014-06-04_19-49-13_260595134347_rgbf000044-resize_0-original.jpg',\n",
       "   4.329]],\n",
       " [['depth_duration_stimuli/000636_2014-06-08_16-39-02_260595134347_rgbf000108-resize_4/000636_2014-06-08_16-39-02_260595134347_rgbf000108-resize_4-original.jpg',\n",
       "   2.682],\n",
       "  ['depth_duration_stimuli/002131_2014-06-25_21-12-01_260595134347_rgbf000083-resize_0/002131_2014-06-25_21-12-01_260595134347_rgbf000083-resize_0-original.jpg',\n",
       "   1.7685]],\n",
       " [['depth_duration_stimuli/000368_2014-06-09_15-53-01_260595134347_rgbf000155-resize_2/000368_2014-06-09_15-53-01_260595134347_rgbf000155-resize_2-original.jpg',\n",
       "   2.4859999999999998],\n",
       "  ['depth_duration_stimuli/001571_2014-06-20_17-21-32_260595134347_rgbf000089-resize_1/001571_2014-06-20_17-21-32_260595134347_rgbf000089-resize_1-original.jpg',\n",
       "   1.8599999999999999]],\n",
       " [['depth_duration_stimuli/002103_2014-06-25_20-00-40_260595134347_rgbf000049-resize_0/002103_2014-06-25_20-00-40_260595134347_rgbf000049-resize_0-original.jpg',\n",
       "   4.105],\n",
       "  ['depth_duration_stimuli/001828_2014-06-26_21-40-03_260595134347_rgbf000024-resize_0/001828_2014-06-26_21-40-03_260595134347_rgbf000024-resize_0-original.jpg',\n",
       "   4.8260000000000005]],\n",
       " [['depth_duration_stimuli/001158_2014-06-17_15-32-16_260595134347_rgbf000138-resize_2/001158_2014-06-17_15-32-16_260595134347_rgbf000138-resize_2-original.jpg',\n",
       "   4.5315],\n",
       "  ['depth_duration_stimuli/002663_2014-06-13_15-50-26_094959634447_rgbf000075-resize_1/002663_2014-06-13_15-50-26_094959634447_rgbf000075-resize_1-original.jpg',\n",
       "   4.749499999999999]],\n",
       " [['depth_duration_stimuli/000736_2014-06-08_18-24-15_260595134347_rgbf000206-resize_3/000736_2014-06-08_18-24-15_260595134347_rgbf000206-resize_3-original.jpg',\n",
       "   3.515],\n",
       "  ['depth_duration_stimuli/003079_2014-06-15_15-18-20_094959634447_rgbf000152-resize_8/003079_2014-06-15_15-18-20_094959634447_rgbf000152-resize_8-original.jpg',\n",
       "   2.8775]],\n",
       " [['depth_duration_stimuli/000692_2014-06-08_13-09-42_260595134347_rgbf000199-resize_2/000692_2014-06-08_13-09-42_260595134347_rgbf000199-resize_2-original.jpg',\n",
       "   3.661],\n",
       "  ['depth_duration_stimuli/003288_2014-05-14_21-50-30_094959634447_rgbf000028-resize_3/003288_2014-05-14_21-50-30_094959634447_rgbf000028-resize_3-original.jpg',\n",
       "   3.877]],\n",
       " [['depth_duration_stimuli/001618_2014-06-20_11-37-31_260595134347_rgbf000027-resize_3/001618_2014-06-20_11-37-31_260595134347_rgbf000027-resize_3-original.jpg',\n",
       "   1.8725],\n",
       "  ['depth_duration_stimuli/000635_2014-06-08_16-38-42_260595134347_rgbf000106-resize_1/000635_2014-06-08_16-38-42_260595134347_rgbf000106-resize_1-original.jpg',\n",
       "   2.074]],\n",
       " [['depth_duration_stimuli/000720_2014-06-08_18-37-27_260595134347_rgbf000203-resize_4/000720_2014-06-08_18-37-27_260595134347_rgbf000203-resize_4-original.jpg',\n",
       "   1.5579999999999998],\n",
       "  ['depth_duration_stimuli/002784_2014-06-22_19-26-30_094959634447_rgbf000083-resize_3/002784_2014-06-22_19-26-30_094959634447_rgbf000083-resize_3-original.jpg',\n",
       "   1.8046666666666666]],\n",
       " [['depth_duration_stimuli/000486_2014-06-09_20-47-20_260595134347_rgbf000143-resize_2/000486_2014-06-09_20-47-20_260595134347_rgbf000143-resize_2-original.jpg',\n",
       "   4.8325],\n",
       "  ['depth_duration_stimuli/001181_2014-06-17_15-50-57_260595134347_rgbf000106-resize_4/001181_2014-06-17_15-50-57_260595134347_rgbf000106-resize_4-original.jpg',\n",
       "   4.149]],\n",
       " [['depth_duration_stimuli/002805_2014-06-22_19-54-03_094959634447_rgbf000079-resize_1/002805_2014-06-22_19-54-03_094959634447_rgbf000079-resize_1-original.jpg',\n",
       "   3.144],\n",
       "  ['depth_duration_stimuli/002375_2014-06-28_20-13-44_260595134347_rgbf000032-resize_1/002375_2014-06-28_20-13-44_260595134347_rgbf000032-resize_1-original.jpg',\n",
       "   4.0175]],\n",
       " [['depth_duration_stimuli/002445_2014-06-28_20-32-16_260595134347_rgbf000029-resize_4/002445_2014-06-28_20-32-16_260595134347_rgbf000029-resize_4-original.jpg',\n",
       "   2.5315],\n",
       "  ['depth_duration_stimuli/001555_2014-06-20_17-12-10_260595134347_rgbf000065-resize_4/001555_2014-06-20_17-12-10_260595134347_rgbf000065-resize_4-original.jpg',\n",
       "   1.633]],\n",
       " [['depth_duration_stimuli/000735_2014-06-08_18-23-50_260595134347_rgbf000163-resize_2/000735_2014-06-08_18-23-50_260595134347_rgbf000163-resize_2-original.jpg',\n",
       "   4.1695],\n",
       "  ['depth_duration_stimuli/001449_2014-06-19_17-01-27_260595134347_rgbf000116-resize_2/001449_2014-06-19_17-01-27_260595134347_rgbf000116-resize_2-original.jpg',\n",
       "   3.452]],\n",
       " [['depth_duration_stimuli/000556_2014-06-09_22-42-56_260595134347_rgbf000214-resize_1/000556_2014-06-09_22-42-56_260595134347_rgbf000214-resize_1-original.jpg',\n",
       "   4.8415],\n",
       "  ['depth_duration_stimuli/001052_2014-06-08_18-24-54_260595134347_rgbf000130-resize_1/001052_2014-06-08_18-24-54_260595134347_rgbf000130-resize_1-original.jpg',\n",
       "   4.1045]],\n",
       " [['depth_duration_stimuli/003534_2014-05-22_15-06-10_094959634447_rgbf000102-resize_4/003534_2014-05-22_15-06-10_094959634447_rgbf000102-resize_4-original.jpg',\n",
       "   1.4260000000000002],\n",
       "  ['depth_duration_stimuli/001167_2014-06-17_15-38-07_260595134347_rgbf000108-resize_0/001167_2014-06-17_15-38-07_260595134347_rgbf000108-resize_0-original.jpg',\n",
       "   1.8504999999999998]],\n",
       " [['depth_duration_stimuli/002790_2014-06-22_19-36-35_094959634447_rgbf000074-resize_4/002790_2014-06-22_19-36-35_094959634447_rgbf000074-resize_4-original.jpg',\n",
       "   3.5119999999999996],\n",
       "  ['depth_duration_stimuli/002989_2014-06-15_12-25-03_094959634447_rgbf000150-resize_3/002989_2014-06-15_12-25-03_094959634447_rgbf000150-resize_3-original.jpg',\n",
       "   4.1975]],\n",
       " [['depth_duration_stimuli/002630_2014-06-24_14-47-50_094959634447_rgbf000055-resize_1/002630_2014-06-24_14-47-50_094959634447_rgbf000055-resize_1-original.jpg',\n",
       "   3.0095],\n",
       "  ['depth_duration_stimuli/001199_2014-06-17_16-03-48_260595134347_rgbf000077-resize_0/001199_2014-06-17_16-03-48_260595134347_rgbf000077-resize_0-original.jpg',\n",
       "   3.4375]],\n",
       " [['depth_duration_stimuli/002509_2014-06-24_13-19-22_094959634447_rgbf000077-resize_0/002509_2014-06-24_13-19-22_094959634447_rgbf000077-resize_0-original.jpg',\n",
       "   1.3065],\n",
       "  ['depth_duration_stimuli/003338_2014-05-20_11-01-23_094959634447_rgbf000051-resize_6/003338_2014-05-20_11-01-23_094959634447_rgbf000051-resize_6-original.jpg',\n",
       "   1.693]],\n",
       " [['depth_duration_stimuli/002953_2014-06-08_17-32-18_094959634447_rgbf000059-resize_5/002953_2014-06-08_17-32-18_094959634447_rgbf000059-resize_5-original.jpg',\n",
       "   1.551],\n",
       "  ['depth_duration_stimuli/002949_2014-06-26_15-57-42_094959634447_rgbf000079-resize_1/002949_2014-06-26_15-57-42_094959634447_rgbf000079-resize_1-original.jpg',\n",
       "   1.8915000000000002]],\n",
       " [['depth_duration_stimuli/003069_2014-06-15_14-57-50_094959634447_rgbf000150-resize_4/003069_2014-06-15_14-57-50_094959634447_rgbf000150-resize_4-original.jpg',\n",
       "   4.208],\n",
       "  ['depth_duration_stimuli/000758_2014-06-08_22-05-08_260595134347_rgbf000085-resize_0/000758_2014-06-08_22-05-08_260595134347_rgbf000085-resize_0-original.jpg',\n",
       "   3.3810000000000002]],\n",
       " [['depth_duration_stimuli/002750_2014-06-22_19-08-03_094959634447_rgbf000094-resize_4/002750_2014-06-22_19-08-03_094959634447_rgbf000094-resize_4-original.jpg',\n",
       "   2.354],\n",
       "  ['depth_duration_stimuli/000665_2014-06-09_20-42-35_260595134347_rgbf000110-resize_1/000665_2014-06-09_20-42-35_260595134347_rgbf000110-resize_1-original.jpg',\n",
       "   3.057]],\n",
       " [['depth_duration_stimuli/003048_2014-06-15_13-49-43_094959634447_rgbf000150-resize_1/003048_2014-06-15_13-49-43_094959634447_rgbf000150-resize_1-original.jpg',\n",
       "   4.0035],\n",
       "  ['depth_duration_stimuli/003010_2014-06-15_12-54-35_094959634447_rgbf000112-resize_0/003010_2014-06-15_12-54-35_094959634447_rgbf000112-resize_0-original.jpg',\n",
       "   3.1185]],\n",
       " [['depth_duration_stimuli/000943_2014-06-09_19-31-07_260595134347_rgbf000128-resize_1/000943_2014-06-09_19-31-07_260595134347_rgbf000128-resize_1-original.jpg',\n",
       "   1.9765],\n",
       "  ['depth_duration_stimuli/001056_2014-06-08_18-46-44_260595134347_rgbf000068-resize_0/001056_2014-06-08_18-46-44_260595134347_rgbf000068-resize_0-original.jpg',\n",
       "   2.6625]],\n",
       " [['depth_duration_stimuli/002468_2014-06-28_20-38-39_260595134347_rgbf000045-resize_1/002468_2014-06-28_20-38-39_260595134347_rgbf000045-resize_1-original.jpg',\n",
       "   1.956],\n",
       "  ['depth_duration_stimuli/000469_2014-06-09_19-42-10_260595134347_rgbf000081-resize_1/000469_2014-06-09_19-42-10_260595134347_rgbf000081-resize_1-original.jpg',\n",
       "   1.6520000000000001]],\n",
       " [['depth_duration_stimuli/001516_2014-06-20_16-25-09_260595134347_rgbf000076-resize_2/001516_2014-06-20_16-25-09_260595134347_rgbf000076-resize_2-original.jpg',\n",
       "   1.7445],\n",
       "  ['depth_duration_stimuli/000810_2014-06-08_17-20-01_260595134347_rgbf000105-resize_0/000810_2014-06-08_17-20-01_260595134347_rgbf000105-resize_0-original.jpg',\n",
       "   1.4865]],\n",
       " [['depth_duration_stimuli/002657_2014-06-13_15-29-54_094959634447_rgbf000150-resize_1/002657_2014-06-13_15-29-54_094959634447_rgbf000150-resize_1-original.jpg',\n",
       "   4.9190000000000005],\n",
       "  ['depth_duration_stimuli/001148_2014-06-17_15-26-42_260595134347_rgbf000129-resize_0/001148_2014-06-17_15-26-42_260595134347_rgbf000129-resize_0-original.jpg',\n",
       "   4.368]]]"
      ]
     },
     "execution_count": 13,
     "metadata": {},
     "output_type": "execute_result"
    }
   ],
   "source": [
    "discrim_trials = []\n",
    "\n",
    "for combo in final_picks:\n",
    "    i0 = combo[0]\n",
    "    i1 = combo[1]\n",
    "    dtrial = [sorted_VE_seq[i0], sorted_VE_seq[i1]]\n",
    "    discrim_trials.append(dtrial)\n",
    "\n",
    "discrim_trials"
   ]
  },
  {
   "cell_type": "code",
   "execution_count": 14,
   "metadata": {},
   "outputs": [
    {
     "data": {
      "text/plain": [
       "['depth_duration_stimuli/002750_2014-06-22_19-08-03_094959634447_rgbf000094-resize_4/002750_2014-06-22_19-08-03_094959634447_rgbf000094-resize_4-original.jpg',\n",
       " 2.354]"
      ]
     },
     "execution_count": 14,
     "metadata": {},
     "output_type": "execute_result"
    }
   ],
   "source": [
    "VE_seq[0]"
   ]
  },
  {
   "cell_type": "code",
   "execution_count": 64,
   "metadata": {},
   "outputs": [],
   "source": [
    "solution5 = copy.deepcopy(final_picks)\n",
    "\n",
    "solution5_arr = np.array(solution5)\n",
    "\n",
    "with open('solution5_discrimination.npy', 'wb') as f:\n",
    "    np.save(f, solution5_arr)"
   ]
  },
  {
   "cell_type": "code",
   "execution_count": 15,
   "metadata": {},
   "outputs": [],
   "source": [
    "solution3 = copy.deepcopy(final_picks)\n",
    "\n",
    "solution3_arr = np.array(solution3)\n",
    "\n",
    "with open('solution3_discrimination.npy', 'wb') as f:\n",
    "    np.save(f, solution3_arr)"
   ]
  },
  {
   "cell_type": "code",
   "execution_count": 933,
   "metadata": {},
   "outputs": [],
   "source": [
    "# sol2_discrim_trials = []\n",
    "\n",
    "# for combo in solution2:\n",
    "#     i0 = combo[0]\n",
    "#     i1 = combo[1]\n",
    "#     dtrial = [VE_seq[i0], VE_seq[i1]]\n",
    "#     sol2_discrim_trials.append(dtrial)\n",
    "    \n",
    "    "
   ]
  },
  {
   "cell_type": "code",
   "execution_count": 925,
   "metadata": {},
   "outputs": [
    {
     "data": {
      "text/plain": [
       "[['depth_duration_stimuli/001447_2014-06-19_17-00-32_260595134347_rgbf000082-resize_5/001447_2014-06-19_17-00-32_260595134347_rgbf000082-resize_5-original.jpg',\n",
       "  4.1377500000000005],\n",
       " ['depth_duration_stimuli/001650_2014-06-20_12-09-00_260595134347_rgbf000087-resize_3/001650_2014-06-20_12-09-00_260595134347_rgbf000087-resize_3-original.jpg',\n",
       "  1.9505]]"
      ]
     },
     "execution_count": 925,
     "metadata": {},
     "output_type": "execute_result"
    }
   ],
   "source": [
    "sol2_discrim_trials[1]"
   ]
  },
  {
   "cell_type": "code",
   "execution_count": null,
   "metadata": {},
   "outputs": [],
   "source": []
  },
  {
   "cell_type": "code",
   "execution_count": 897,
   "metadata": {},
   "outputs": [],
   "source": [
    "solution1 = copy.deepcopy(final_picks)\n",
    "\n",
    "solution1_arr = np.array(solution1)"
   ]
  },
  {
   "cell_type": "code",
   "execution_count": 898,
   "metadata": {},
   "outputs": [],
   "source": [
    "with open('solution1_discrimination.npy', 'wb') as f:\n",
    "    np.save(f, solution1_arr)"
   ]
  },
  {
   "cell_type": "code",
   "execution_count": 994,
   "metadata": {},
   "outputs": [],
   "source": [
    "solution5 = np.load('solution5_discrimination.npy')\n",
    "\n"
   ]
  },
  {
   "cell_type": "code",
   "execution_count": 995,
   "metadata": {},
   "outputs": [],
   "source": [
    "sol5_discrim_trials = []\n",
    "\n",
    "for combo in solution5:\n",
    "    i0 = combo[0]\n",
    "    i1 = combo[1]\n",
    "    dtrial = [sorted_VE_seq[i0], sorted_VE_seq[i1]]\n",
    "    sol5_discrim_trials.append(dtrial)\n",
    "\n",
    "    \n"
   ]
  },
  {
   "cell_type": "code",
   "execution_count": 996,
   "metadata": {},
   "outputs": [
    {
     "name": "stdout",
     "output_type": "stream",
     "text": [
      "0.6880882092198581 0.28657099530877167\n"
     ]
    },
    {
     "data": {
      "image/png": "[encoded data removed]",
      "text/plain": [
       "<Figure size 432x288 with 1 Axes>"
      ]
     },
     "metadata": {
      "needs_background": "light"
     },
     "output_type": "display_data"
    }
   ],
   "source": [
    "    \n",
    "# look at distribution of depth differences in the random sequence\n",
    "\n",
    "differences = []\n",
    "\n",
    "for trial in sol5_discrim_trials:\n",
    "    depth0 = float(trial[0][1])\n",
    "    depth1 = float(trial[1][1])\n",
    "    \n",
    "    diff = abs(depth0-depth1)\n",
    "    differences.append(diff)\n",
    "\n",
    "    \n",
    "    \n",
    "plt.figure()\n",
    "\n",
    "\n",
    "plt.hist(differences)\n",
    "plt.title('Distribution of Depth Differences')\n",
    "\n",
    "\n",
    "print(np.array(differences).mean(),np.array(differences).std())\n",
    "\n",
    "plt.show()"
   ]
  },
  {
   "cell_type": "code",
   "execution_count": 44,
   "metadata": {},
   "outputs": [
    {
     "name": "stdout",
     "output_type": "stream",
     "text": [
      "85\n"
     ]
    }
   ],
   "source": [
    "print(len(sol4_discrim_trials))"
   ]
  },
  {
   "cell_type": "code",
   "execution_count": 1066,
   "metadata": {},
   "outputs": [
    {
     "data": {
      "text/plain": [
       "0.266"
      ]
     },
     "execution_count": 1066,
     "metadata": {},
     "output_type": "execute_result"
    }
   ],
   "source": [
    "np.array(differences).min()"
   ]
  },
  {
   "cell_type": "code",
   "execution_count": null,
   "metadata": {},
   "outputs": [],
   "source": []
  },
  {
   "cell_type": "code",
   "execution_count": null,
   "metadata": {},
   "outputs": [],
   "source": []
  },
  {
   "cell_type": "markdown",
   "metadata": {},
   "source": [
    "## Load Raw TAC Verbal Judgement Data"
   ]
  },
  {
   "cell_type": "code",
   "execution_count": 997,
   "metadata": {},
   "outputs": [],
   "source": [
    "# TAC_raw_individual_trial_data_path  = '/Users/pmahableshwarkar/Documents/Depth_Project/depth_duration_analysis/TAC_npy_files/TAC_raw_individual_trial_data/'\n",
    "\n",
    "TAC_raw_individual_trial_data_path = '/Users/prachimahableshwarkar/Documents/GW/Depth_MTurk/depth_duration_analysis/TAC_npy_files/TAC_raw_individual_trial_data/'\n",
    "\n",
    "# TAC_raw_individual_trial_data_path = '/Users/prachi/Documents/depth_duration/depth_duration_analysis/TAC_npy_files/TAC_raw_individual_trial_data/'\n",
    "\n",
    "# x data\n",
    "with open(TAC_raw_individual_trial_data_path + 'X_250.npy' , 'rb') as f:\n",
    "    TAC_X_250 = np.load(f, allow_pickle=True)\n",
    "\n",
    "with open(TAC_raw_individual_trial_data_path + 'X_500.npy' , 'rb') as f:\n",
    "    TAC_X_500 = np.load(f, allow_pickle=True)\n",
    "    \n",
    "with open(TAC_raw_individual_trial_data_path + 'X_750.npy' , 'rb') as f:\n",
    "    TAC_X_750 = np.load(f, allow_pickle=True)\n",
    "\n",
    "with open(TAC_raw_individual_trial_data_path + 'X_1000.npy' , 'rb') as f:\n",
    "    TAC_X_1000 = np.load(f, allow_pickle=True)\n",
    "# y data \n",
    "with open(TAC_raw_individual_trial_data_path + 'final_y_250.npy' , 'rb') as f:\n",
    "    TAC_final_y_250 = np.load(f, allow_pickle=True)\n",
    "    \n",
    "with open(TAC_raw_individual_trial_data_path + 'final_y_500.npy' , 'rb') as f:\n",
    "    TAC_final_y_500 = np.load(f, allow_pickle=True)\n",
    "    \n",
    "with open(TAC_raw_individual_trial_data_path + 'final_y_750.npy' , 'rb') as f:\n",
    "    TAC_final_y_750 = np.load(f, allow_pickle=True)\n",
    "    \n",
    "with open(TAC_raw_individual_trial_data_path + 'final_y_1000.npy' , 'rb') as f:\n",
    "    TAC_final_y_1000= np.load(f, allow_pickle=True)\n",
    "    \n",
    "with open(TAC_raw_individual_trial_data_path + 'final_stim_250.npy', 'rb') as f:\n",
    "    TAC_final_stim_250 = np.load(f, allow_pickle=True)\n",
    "    \n",
    "with open(TAC_raw_individual_trial_data_path + 'final_stim_500.npy', 'rb') as f:\n",
    "    TAC_final_stim_500 = np.load(f, allow_pickle=True)\n",
    "    \n",
    "with open(TAC_raw_individual_trial_data_path + 'final_stim_750.npy', 'rb') as f:\n",
    "    TAC_final_stim_750 = np.load(f, allow_pickle=True)\n",
    "    \n",
    "with open(TAC_raw_individual_trial_data_path + 'final_stim_1000.npy', 'rb') as f:\n",
    "    TAC_final_stim_1000 = np.load(f, allow_pickle=True)\n",
    "    \n",
    "# std data\n",
    "with open(TAC_raw_individual_trial_data_path + 'std_250.npy' , 'rb') as f:\n",
    "    TAC_std_250 = np.load(f, allow_pickle=True)\n",
    "\n",
    "with open(TAC_raw_individual_trial_data_path + 'std_500.npy' , 'rb') as f:\n",
    "    TAC_std_500 = np.load(f, allow_pickle=True)\n",
    "    \n",
    "with open(TAC_raw_individual_trial_data_path + 'std_750.npy' , 'rb') as f:\n",
    "    TAC_std_750 = np.load(f, allow_pickle=True)\n",
    "\n",
    "with open(TAC_raw_individual_trial_data_path + 'std_1000.npy' , 'rb') as f:\n",
    "    TAC_std_1000 = np.load(f, allow_pickle=True)"
   ]
  },
  {
   "cell_type": "markdown",
   "metadata": {},
   "source": [
    "## Load Normalized TAC Verbal Judgement Data\n"
   ]
  },
  {
   "cell_type": "code",
   "execution_count": 998,
   "metadata": {},
   "outputs": [],
   "source": [
    "# TAC_normed_individual_trial_data_path = '/Users/pmahableshwarkar/Documents/Depth_Project/depth_duration_analysis/TAC_npy_files/TAC_normalized_individual_trial_data/'\n",
    "\n",
    "TAC_normed_individual_trial_data_path = '/Users/prachimahableshwarkar/Documents/GW/Depth_MTurk/depth_duration_analysis/TAC_npy_files/TAC_normalized_individual_trial_data/'\n",
    "\n",
    "# TAC_normed_individual_trial_data_path = '/Users/prachi/Documents/depth_duration/depth_duration_analysis/TAC_npy_files/TAC_normalized_individual_trial_data/'\n",
    "\n",
    "\n",
    "# x data\n",
    "with open(TAC_normed_individual_trial_data_path + 'n_X_250.npy' , 'rb') as f:\n",
    "    n_TAC_X_250 = np.load(f, allow_pickle=True)\n",
    "\n",
    "with open(TAC_normed_individual_trial_data_path + 'n_X_500.npy' , 'rb') as f:\n",
    "    n_TAC_X_500 = np.load(f, allow_pickle=True)\n",
    "    \n",
    "with open(TAC_normed_individual_trial_data_path + 'n_X_750.npy' , 'rb') as f:\n",
    "    n_TAC_X_750 = np.load(f, allow_pickle=True)\n",
    "\n",
    "with open(TAC_normed_individual_trial_data_path + 'n_X_1000.npy' , 'rb') as f:\n",
    "    n_TAC_X_1000 = np.load(f, allow_pickle=True)\n",
    "# y data \n",
    "with open(TAC_normed_individual_trial_data_path + 'n_final_y_250.npy' , 'rb') as f:\n",
    "    n_TAC_final_y_250 = np.load(f, allow_pickle=True)\n",
    "    \n",
    "with open(TAC_normed_individual_trial_data_path + 'n_final_y_500.npy' , 'rb') as f:\n",
    "    n_TAC_final_y_500 = np.load(f, allow_pickle=True)\n",
    "    \n",
    "with open(TAC_normed_individual_trial_data_path + 'n_final_y_750.npy' , 'rb') as f:\n",
    "    n_TAC_final_y_750 = np.load(f, allow_pickle=True)\n",
    "    \n",
    "with open(TAC_normed_individual_trial_data_path + 'n_final_y_1000.npy' , 'rb') as f:\n",
    "    n_TAC_final_y_1000= np.load(f, allow_pickle=True)\n",
    "\n",
    "# std data\n",
    "with open(TAC_normed_individual_trial_data_path + 'n_std_250.npy' , 'rb') as f:\n",
    "    n_TAC_std_250 = np.load(f, allow_pickle=True)\n",
    "\n",
    "\n",
    "with open(TAC_normed_individual_trial_data_path + 'n_std_1000.npy' , 'rb') as f:\n",
    "    n_TAC_std_1000 = np.load(f, allow_pickle=True)\n",
    "    \n",
    "    \n",
    "# ste data\n",
    "with open(TAC_normed_individual_trial_data_path + 'n_ste_250.npy' , 'rb') as f:\n",
    "    n_TAC_ste_250 = np.load(f, allow_pickle=True)\n",
    "\n",
    "\n",
    "with open(TAC_normed_individual_trial_data_path + 'n_ste_1000.npy' , 'rb') as f:\n",
    "    n_TAC_ste_1000 = np.load(f, allow_pickle=True)"
   ]
  },
  {
   "cell_type": "code",
   "execution_count": 128,
   "metadata": {},
   "outputs": [
    {
     "data": {
      "text/plain": [
       "'depth_duration_stimuli/002272_2014-06-28_18-53-56_260595134347_rgbf000067-resize_2/002272_2014-06-28_18-53-56_260595134347_rgbf000067-resize_2-target.png'"
      ]
     },
     "execution_count": 128,
     "metadata": {},
     "output_type": "execute_result"
    }
   ],
   "source": [
    "TAC_final_stim_1000[0]"
   ]
  },
  {
   "cell_type": "code",
   "execution_count": null,
   "metadata": {},
   "outputs": [],
   "source": []
  },
  {
   "cell_type": "code",
   "execution_count": 999,
   "metadata": {},
   "outputs": [],
   "source": [
    "n_VE_answerkey_1000 = {} # corresponding answer key for discrimination trials  \n",
    "\n",
    "for combo in sol5_discrim_trials:\n",
    "    depth_dur_path0 = combo[0][0][:-13] + '-target.png'\n",
    "    targetimg0 = depth_dur_path0.split('/')[-1]\n",
    "    idx0 = np.where(TAC_final_stim_1000 == depth_dur_path0)[0][0]\n",
    "    avg_estim_stim0 = n_TAC_final_y_1000[idx0]\n",
    "    std0 = n_TAC_std_1000[idx0]\n",
    "\n",
    "\n",
    "    depth_dur_path1 = combo[1][0][:-13] + '-target.png'\n",
    "    targetimg1 = depth_dur_path1.split('/')[-1]\n",
    "    idx1= np.where(TAC_final_stim_1000 == depth_dur_path1)[0][0]\n",
    "    avg_estim_stim1 = n_TAC_final_y_1000[idx1]\n",
    "    std1 = n_TAC_std_1000[idx1]\n",
    "    \n",
    "    if avg_estim_stim0 < avg_estim_stim1:\n",
    "        # Which target is CLOSER to you?\n",
    "        answer = targetimg0\n",
    "    if avg_estim_stim0 == avg_estim_stim1:\n",
    "        print(targetimg0, targetimg1)\n",
    "    if avg_estim_stim0 > avg_estim_stim1:\n",
    "        answer = targetimg1\n",
    "\n",
    "    n_VE_answerkey_1000[targetimg0] = {'stimulus_1': targetimg1,\n",
    "                             'stimulus_0_avg_estim': avg_estim_stim0,\n",
    "                             'stimulus_1_avg_estim': avg_estim_stim1,\n",
    "                             'answer': answer,\n",
    "                             'std0': std0,\n",
    "                             'std1': std1,\n",
    "                             'VE_depth_diff': abs(avg_estim_stim0-avg_estim_stim1)}"
   ]
  },
  {
   "cell_type": "code",
   "execution_count": 1000,
   "metadata": {},
   "outputs": [],
   "source": [
    "all_VE_depthdiffs = []\n",
    "\n",
    "for key in n_VE_answerkey_1000.keys():\n",
    "    VE_depthdiff = n_VE_answerkey_1000[key]['VE_depth_diff']\n",
    "    all_VE_depthdiffs.append(VE_depthdiff)\n",
    "    "
   ]
  },
  {
   "cell_type": "code",
   "execution_count": 1001,
   "metadata": {},
   "outputs": [
    {
     "data": {
      "image/png": "[encoded data removed]",
      "text/plain": [
       "<Figure size 432x288 with 1 Axes>"
      ]
     },
     "metadata": {
      "needs_background": "light"
     },
     "output_type": "display_data"
    }
   ],
   "source": [
    "plt.figure()\n",
    "\n",
    "\n",
    "plt.hist(all_VE_depthdiffs, color='green')\n",
    "plt.title('Distribution of Verbal Judgement Depth Differences')\n",
    "\n",
    "\n",
    "plt.show()"
   ]
  },
  {
   "cell_type": "code",
   "execution_count": 70,
   "metadata": {},
   "outputs": [
    {
     "data": {
      "text/plain": [
       "0.014427135057425988"
      ]
     },
     "execution_count": 70,
     "metadata": {},
     "output_type": "execute_result"
    }
   ],
   "source": [
    "np.min(np.array(all_VE_depthdiffs))"
   ]
  },
  {
   "cell_type": "code",
   "execution_count": null,
   "metadata": {},
   "outputs": [],
   "source": []
  },
  {
   "cell_type": "code",
   "execution_count": 1006,
   "metadata": {},
   "outputs": [],
   "source": [
    "all_discrim_trials = []\n",
    "\n",
    "for trial in sol5_discrim_trials:\n",
    "    trial_dict = {}\n",
    "    stim1 = trial[0]\n",
    "    stim2 = trial[1]\n",
    "    \n",
    "    depth0 = float(trial[0][1])\n",
    "    depth1 = float(trial[1][1])\n",
    "    \n",
    "    diff = abs(depth0-depth1)\n",
    "    \n",
    "    if depth0 < depth1:  \n",
    "        trial_dict['stim1'] = [stim1[0].split('/')[-1][:-13], stim1[1]]\n",
    "        trial_dict['stim2'] = [stim2[0].split('/')[-1][:-13], stim2[1]]\n",
    "    else:\n",
    "        trial_dict['stim1'] = [stim2[0].split('/')[-1][:-13], stim2[1]]\n",
    "        trial_dict['stim2'] = [stim1[0].split('/')[-1][:-13], stim1[1]]\n",
    "    \n",
    "    trial_dict['diff'] = diff\n",
    "    \n",
    "    all_discrim_trials.append(trial_dict)\n",
    "    \n",
    "random.shuffle(all_discrim_trials)"
   ]
  },
  {
   "cell_type": "code",
   "execution_count": 1008,
   "metadata": {},
   "outputs": [
    {
     "data": {
      "text/plain": [
       "[{'stim1': ['000854_2014-06-09_19-43-13_260595134347_rgbf000066-resize_0',\n",
       "   3.068],\n",
       "  'stim2': ['000758_2014-06-08_22-05-08_260595134347_rgbf000085-resize_0',\n",
       "   3.3810000000000002],\n",
       "  'diff': 0.31300000000000017},\n",
       " {'stim1': ['001110_2014-06-15_17-25-28_260595134347_rgbf000150-resize_1',\n",
       "   1.7115],\n",
       "  'stim2': ['000927_2014-06-09_16-32-30_260595134347_rgbf000123-resize_3',\n",
       "   2.6785],\n",
       "  'diff': 0.9670000000000001}]"
      ]
     },
     "execution_count": 1008,
     "metadata": {},
     "output_type": "execute_result"
    }
   ],
   "source": [
    "all_discrim_trials[0:2]"
   ]
  },
  {
   "cell_type": "code",
   "execution_count": 1004,
   "metadata": {},
   "outputs": [],
   "source": [
    "destination = '/Users/prachimahableshwarkar/Documents/GW/Depth_MTurk/depth_discrimination/discrimination_sequences/january2022'\n",
    "\n",
    "# destination = '/Users/prachi/Documents/depth_duration/depth_discrimination/discrimination_sequences/january2022'\n"
   ]
  },
  {
   "cell_type": "code",
   "execution_count": 1009,
   "metadata": {},
   "outputs": [
    {
     "data": {
      "text/plain": [
       "(94,\n",
       " {'stim1': ['000854_2014-06-09_19-43-13_260595134347_rgbf000066-resize_0',\n",
       "   3.068],\n",
       "  'stim2': ['000758_2014-06-08_22-05-08_260595134347_rgbf000085-resize_0',\n",
       "   3.3810000000000002],\n",
       "  'diff': 0.31300000000000017})"
      ]
     },
     "execution_count": 1009,
     "metadata": {},
     "output_type": "execute_result"
    }
   ],
   "source": [
    "len(all_discrim_trials), all_discrim_trials[0]"
   ]
  },
  {
   "cell_type": "code",
   "execution_count": 160,
   "metadata": {},
   "outputs": [],
   "source": [
    "blocks = all_discrim_trials"
   ]
  },
  {
   "cell_type": "code",
   "execution_count": 1043,
   "metadata": {},
   "outputs": [],
   "source": [
    "sequence_dictionaries = []\n",
    "rotated_sequence_dictionaries = [] # order of images is flipped\n",
    "seq_names = ['j13']\n",
    "durations = [250, 1000] * 47\n",
    "\n",
    "\n",
    "# shuffle durations \n",
    "random.shuffle(durations)\n",
    "\n",
    "seq = [] \n",
    "rotated_seq = []\n",
    "sequence_name = seq_names[i]\n",
    "rotated_seq_name = seq_names[i] + '_rotated' # order rotated\n",
    "num = 0 # iterator for bins (48 total)\n",
    "dur_num = 0 # iterator that ensures each mask is unique and is the index for durations (list)\n",
    "count0 = 0\n",
    "for trial in all_discrim_trials:\n",
    "    img0 = trial['stim1'][0]\n",
    "    img1 = trial['stim2'][0]\n",
    "    \n",
    "    dict_trial = {}\n",
    "    dict_trial[\"sequence\"] = sequence_name\n",
    "    dict_trial[\"duration\"] = durations[dur_num]\n",
    "    depth0 = trial['stim1'][1]\n",
    "    depth1 = trial['stim2'][1]\n",
    "    \n",
    "        \n",
    "    if depth0 < depth1:\n",
    "        count0 += 1\n",
    "        # if even, then keep image order as is \n",
    "        # else flip image order so that there is a 50/50 split in the correct response distribution\n",
    "        if (count0 % 2) == 0:\n",
    "            dict_trial[\"depth_0\"] = depth0\n",
    "            dict_trial[\"depth_1\"] = depth1\n",
    "\n",
    "            # this has to be the path on the server\n",
    "            targetimg_0_path = \"depth_discrimination_stimuli/\" + img0 + '/' + img0 + '-target.png'\n",
    "            targetimg_1_path = \"depth_discrimination_stimuli/\" + img1 + '/' + img1 + '-target.png'\n",
    "\n",
    "            dict_trial[\"image_path_target_0\"] = targetimg_0_path\n",
    "            dict_trial[\"image_path_target_1\"] = targetimg_1_path\n",
    "\n",
    "            dict_trial[\"mask_path\"] = \"masks/mask_\" + str(num) + \".jpg\"\n",
    "            dict_trial[\"fixation_path\"] = \"fixation.jpg\"\n",
    "\n",
    "            seq.append(dict_trial)\n",
    "    \n",
    "    \n",
    "\n",
    "            ###################### Rotated sequence ######################\n",
    "            rotated_dict_trial = {}\n",
    "            rotated_dict_trial[\"sequence\"] = rotated_seq_name\n",
    "            rotated_dict_trial[\"duration\"] = durations[dur_num]\n",
    "            dur_num += 1\n",
    "            rotated_dict_trial[\"depth_0\"] = depth1\n",
    "            rotated_dict_trial[\"depth_1\"] = depth0\n",
    "\n",
    "            # this has to be the path on the server\n",
    "            r_targetimg_0_path = \"depth_discrimination_stimuli/\" + img1 + '/' + img1 + '-target.png'\n",
    "            r_targetimg_1_path = \"depth_discrimination_stimuli/\" + img0 + '/' + img0 + '-target.png'\n",
    "\n",
    "            rotated_dict_trial[\"image_path_target_0\"] = r_targetimg_0_path\n",
    "            rotated_dict_trial[\"image_path_target_1\"] = r_targetimg_1_path\n",
    "\n",
    "            rotated_dict_trial[\"mask_path\"] = \"masks/mask_\" + str(dur_num) + \".jpg\"\n",
    "            rotated_dict_trial[\"fixation_path\"] = \"fixation.jpg\"\n",
    "\n",
    "            rotated_seq.append(rotated_dict_trial)\n",
    "            \n",
    "            num += 1\n",
    "                \n",
    "        else: # FLIP IMAGE ORDER --> so that there is an even 50/50 balance of image0 and image1 correct answers\n",
    "            dict_trial[\"depth_0\"] = depth1\n",
    "            dict_trial[\"depth_1\"] = depth0\n",
    "\n",
    "\n",
    "            # this has to be the path on the server\n",
    "            targetimg_0_path = \"depth_discrimination_stimuli/\" + img1 + '/' + img1 + '-target.png'\n",
    "            targetimg_1_path = \"depth_discrimination_stimuli/\" + img0 + '/' + img0 + '-target.png'\n",
    "\n",
    "            dict_trial[\"image_path_target_0\"] = targetimg_0_path\n",
    "            dict_trial[\"image_path_target_1\"] = targetimg_1_path\n",
    "\n",
    "            dict_trial[\"mask_path\"] = \"masks/mask_\" + str(num) + \".jpg\"\n",
    "            dict_trial[\"fixation_path\"] = \"fixation.jpg\"\n",
    "\n",
    "            seq.append(dict_trial)\n",
    "            ###################### Rotated sequence ######################\n",
    "            rotated_dict_trial = {}\n",
    "            rotated_dict_trial[\"sequence\"] = rotated_seq_name\n",
    "            rotated_dict_trial[\"duration\"] = durations[dur_num]\n",
    "            rotated_dict_trial[\"depth_0\"] = depth0\n",
    "            rotated_dict_trial[\"depth_1\"] = depth1\n",
    "            dur_num += 1\n",
    "\n",
    "            # this has to be the path on the server\n",
    "            r_targetimg_0_path = \"depth_discrimination_stimuli/\" + img0 + '/' + img0 + '-target.png'\n",
    "            r_targetimg_1_path = \"depth_discrimination_stimuli/\" + img1 + '/' + img1 + '-target.png'\n",
    "\n",
    "            rotated_dict_trial[\"image_path_target_0\"] = r_targetimg_0_path\n",
    "            rotated_dict_trial[\"image_path_target_1\"] = r_targetimg_1_path\n",
    "\n",
    "            rotated_dict_trial[\"mask_path\"] = \"masks/mask_\" + str(dur_num) + \".jpg\"\n",
    "            rotated_dict_trial[\"fixation_path\"] = \"fixation.jpg\"\n",
    "\n",
    "            rotated_seq.append(rotated_dict_trial)\n",
    "            \n",
    "    num += 1\n",
    "\n",
    "# # shuffle the order of trials so that trials are not in order of increasing depth \n",
    "# # use the same random seed for sequence & it's rotation so trials match in images \n",
    "random.Random(i).shuffle(seq)\n",
    "random.Random(i).shuffle(rotated_seq)\n",
    "    \n",
    "sequence_dictionaries.append(seq)\n",
    "rotated_sequence_dictionaries.append(rotated_seq)\n",
    "\n",
    "    \n",
    "for sequence in sequence_dictionaries:\n",
    "    name = sequence[0][\"sequence\"]\n",
    "    path = destination + '/' + name + '.json'\n",
    "    # creates json file for the sequence \n",
    "    with open(path, 'w') as f:\n",
    "        json.dump(sequence , f)  \n",
    "        \n",
    "for rotated_sequence in rotated_sequence_dictionaries:\n",
    "    rotated_name = rotated_sequence[0][\"sequence\"]\n",
    "    rotated_path = destination + '/' + rotated_name + '.json'\n",
    "    # creates json file for the sequence \n",
    "    with open(rotated_path, 'w') as f:\n",
    "        json.dump(rotated_sequence , f) "
   ]
  },
  {
   "cell_type": "code",
   "execution_count": 1044,
   "metadata": {},
   "outputs": [
    {
     "data": {
      "text/plain": [
       "(94, 94)"
      ]
     },
     "execution_count": 1044,
     "metadata": {},
     "output_type": "execute_result"
    }
   ],
   "source": [
    "len(seq), len(rotated_seq)"
   ]
  },
  {
   "cell_type": "code",
   "execution_count": 161,
   "metadata": {
    "jupyter": {
     "source_hidden": true
    }
   },
   "outputs": [],
   "source": [
    "sequence_dictionaries = []\n",
    "rotated_sequence_dictionaries = [] # order of images is flipped\n",
    "seq_names = ['j13']\n",
    "durations = [250, 1000] * 47\n",
    "\n",
    "\n",
    "# shuffle durations \n",
    "random.shuffle(durations)\n",
    "\n",
    "for i in range(len(seq_names)):\n",
    "    seq = [] \n",
    "    rotated_seq = []\n",
    "    sequence_name = seq_names[i]\n",
    "    rotated_seq_name = seq_names[i] + '_rotated' # order rotated\n",
    "    num = 0 # iterator for bins (48 total)\n",
    "    dur_num = 0 # iterator that ensures each mask is unique and is the index for durations (list)\n",
    "    count0 = 0\n",
    "    for trial in blocks:\n",
    "        img0 = trial['stim1'][0]\n",
    "        img1 = trial['stim2'][0]\n",
    "        dict_trial = {}\n",
    "        dict_trial[\"sequence\"] = sequence_name\n",
    "        dict_trial[\"duration\"] = durations[dur_num]\n",
    "        depth0 = trial['stim1'][1]\n",
    "        depth1 = trial['stim2'][1]\n",
    "        \n",
    "        if depth0 < depth1:\n",
    "            count0 += 1\n",
    "            # if even, then keep image order as is \n",
    "            # else flip image order so that there is a 50/50 split in the correct response distribution\n",
    "            if (count0 % 2) == 0:\n",
    "                dict_trial[\"depth_0\"] = depth0\n",
    "                dict_trial[\"depth_1\"] = depth1\n",
    "\n",
    "                # this has to be the path on the server\n",
    "                targetimg_0_path = \"depth_discrimination_stimuli/\" + img0 + '/' + img0 + '-target.png'\n",
    "                targetimg_1_path = \"depth_discrimination_stimuli/\" + img1 + '/' + img1 + '-target.png'\n",
    "\n",
    "                dict_trial[\"image_path_target_0\"] = targetimg_0_path\n",
    "                dict_trial[\"image_path_target_1\"] = targetimg_1_path\n",
    "\n",
    "                dict_trial[\"mask_path\"] = \"masks/mask_\" + str(num) + \".jpg\"\n",
    "                dict_trial[\"fixation_path\"] = \"fixation.jpg\"\n",
    "\n",
    "                seq.append(dict_trial)\n",
    "    \n",
    "    \n",
    "\n",
    "                ###################### Rotated sequence ######################\n",
    "                rotated_dict_trial = {}\n",
    "                rotated_dict_trial[\"sequence\"] = rotated_seq_name\n",
    "                rotated_dict_trial[\"duration\"] = durations[dur_num]\n",
    "                dur_num += 1\n",
    "                rotated_dict_trial[\"depth_0\"] = depth1\n",
    "                rotated_dict_trial[\"depth_1\"] = depth0\n",
    "\n",
    "                # this has to be the path on the server\n",
    "                r_targetimg_0_path = \"depth_discrimination_stimuli/\" + img1 + '/' + img1 + '-target.png'\n",
    "                r_targetimg_1_path = \"depth_discrimination_stimuli/\" + img0 + '/' + img0 + '-target.png'\n",
    "\n",
    "                rotated_dict_trial[\"image_path_target_0\"] = r_targetimg_0_path\n",
    "                rotated_dict_trial[\"image_path_target_1\"] = r_targetimg_1_path\n",
    "\n",
    "                rotated_dict_trial[\"mask_path\"] = \"masks/mask_\" + str(dur_num) + \".jpg\"\n",
    "                rotated_dict_trial[\"fixation_path\"] = \"fixation.jpg\"\n",
    "\n",
    "                rotated_seq.append(rotated_dict_trial)\n",
    "                \n",
    "            else: # FLIP IMAGE ORDER --> so that there is an even 50/50 balance of image0 and image1 correct answers\n",
    "                \n",
    "                dict_trial[\"depth_0\"] = depth1\n",
    "                dict_trial[\"depth_1\"] = depth0\n",
    "\n",
    "\n",
    "                # this has to be the path on the server\n",
    "                targetimg_0_path = \"depth_discrimination_stimuli/\" + img1 + '/' + img1 + '-target.png'\n",
    "                targetimg_1_path = \"depth_discrimination_stimuli/\" + img0 + '/' + img0 + '-target.png'\n",
    "\n",
    "                dict_trial[\"image_path_target_0\"] = targetimg_0_path\n",
    "                dict_trial[\"image_path_target_1\"] = targetimg_1_path\n",
    "\n",
    "                dict_trial[\"mask_path\"] = \"masks/mask_\" + str(num) + \".jpg\"\n",
    "                dict_trial[\"fixation_path\"] = \"fixation.jpg\"\n",
    "\n",
    "                seq.append(dict_trial)\n",
    "                ###################### Rotated sequence ######################\n",
    "                rotated_dict_trial = {}\n",
    "                rotated_dict_trial[\"sequence\"] = rotated_seq_name\n",
    "                rotated_dict_trial[\"duration\"] = durations[dur_num]\n",
    "                rotated_dict_trial[\"depth_0\"] = depth0\n",
    "                rotated_dict_trial[\"depth_1\"] = depth1\n",
    "                dur_num += 1\n",
    "\n",
    "                # this has to be the path on the server\n",
    "                r_targetimg_0_path = \"depth_discrimination_stimuli/\" + img0 + '/' + img0 + '-target.png'\n",
    "                r_targetimg_1_path = \"depth_discrimination_stimuli/\" + img1 + '/' + img1 + '-target.png'\n",
    "\n",
    "                rotated_dict_trial[\"image_path_target_0\"] = r_targetimg_0_path\n",
    "                rotated_dict_trial[\"image_path_target_1\"] = r_targetimg_1_path\n",
    "\n",
    "                rotated_dict_trial[\"mask_path\"] = \"masks/mask_\" + str(dur_num) + \".jpg\"\n",
    "                rotated_dict_trial[\"fixation_path\"] = \"fixation.jpg\"\n",
    "\n",
    "                rotated_seq.append(rotated_dict_trial)\n",
    "\n",
    "        num += 1\n",
    "\n",
    "    # shuffle the order of trials so that trials are not in order of increasing depth \n",
    "    # use the same random seed for sequence & it's rotation so trials match in images \n",
    "    random.Random(i).shuffle(seq)\n",
    "    random.Random(i).shuffle(rotated_seq)\n",
    "    random.Random(i).shuffle(seq)\n",
    "    random.Random(i).shuffle(rotated_seq)\n",
    "\n",
    "    \n",
    "    sequence_dictionaries.append(seq)\n",
    "    rotated_sequence_dictionaries.append(rotated_seq)\n",
    "\n",
    "    \n",
    "for sequence in sequence_dictionaries:\n",
    "    name = sequence[0][\"sequence\"]\n",
    "    path = destination + '/' + name + '.json'\n",
    "    # creates json file for the sequence \n",
    "    with open(path, 'w') as f:\n",
    "        json.dump(sequence , f)  \n",
    "        \n",
    "for rotated_sequence in rotated_sequence_dictionaries:\n",
    "    rotated_name = rotated_sequence[0][\"sequence\"]\n",
    "    rotated_path = destination + '/' + rotated_name + '.json'\n",
    "    # creates json file for the sequence \n",
    "    with open(rotated_path, 'w') as f:\n",
    "        json.dump(rotated_sequence , f) "
   ]
  },
  {
   "cell_type": "code",
   "execution_count": null,
   "metadata": {},
   "outputs": [],
   "source": []
  },
  {
   "cell_type": "markdown",
   "metadata": {},
   "source": [
    "### Rotate Sequence by Duration"
   ]
  },
  {
   "cell_type": "code",
   "execution_count": 1045,
   "metadata": {},
   "outputs": [],
   "source": [
    "import os \n",
    "\n",
    "def load_sequence(jsonpath):\n",
    "    return json.load(open(jsonpath))\n",
    "\n",
    "def rotate_sequence(previous_seq):\n",
    "    \"\"\"\n",
    "    Rotates each trial's duration assignment based on previous sequence \n",
    "    250 --> 1000\n",
    "    1000 --> 250\n",
    "    \"\"\"\n",
    "    rotated = previous_seq\n",
    "    for i in range(len(previous_seq)):\n",
    "        duration = previous_seq[i]['duration']\n",
    "        if duration == 1000:\n",
    "            new_duration = 250\n",
    "        else:\n",
    "            new_duration = 1000\n",
    "        rotated[i]['duration'] = new_duration\n",
    "        \n",
    "    return rotated\n",
    "\n",
    "def create_duration_rotations(jsonpath, exit, name):\n",
    "    \"\"\"\n",
    "    Args:\n",
    "        jsonpath = path to master json created through sequence pipeline\n",
    "        exit = destination path for new jsons \n",
    "        name = i.e. V1 \n",
    "    \n",
    "    Creates sequences rotated by duration so that all images in the master sequence are seen at each duration\n",
    "    (across participants)\n",
    "        \n",
    "    \"\"\"\n",
    "    master = load_sequence(jsonpath)\n",
    "    \n",
    "    r = rotate_sequence(master)\n",
    "    r_path = exit + '/' + name + '_dr.json' # duration rotated sequence\n",
    "    #creates json file for the sequence \n",
    "    with open(r_path, 'w') as f:\n",
    "        json.dump(r , f)\n",
    "\n",
    "        \n",
    "def main_seq_rotations(json_folderpath, exit):\n",
    "    \"\"\"\n",
    "    Create rotated sequence for each sequence in the folder\n",
    "    \"\"\"\n",
    "    for file in os.listdir(json_folderpath):\n",
    "        name = file.split(\".\")[0]\n",
    "        jsonpath = json_folderpath + \"/\" + file\n",
    "        try:\n",
    "            create_duration_rotations(jsonpath, exit, name)\n",
    "        except:\n",
    "            print(\"Failed to create json rotations for: \", file)"
   ]
  },
  {
   "cell_type": "code",
   "execution_count": 1046,
   "metadata": {},
   "outputs": [
    {
     "name": "stdout",
     "output_type": "stream",
     "text": [
      "Failed to create json rotations for:  j13\n",
      "Failed to create json rotations for:  .DS_Store\n",
      "Failed to create json rotations for:  .ipynb_checkpoints\n"
     ]
    }
   ],
   "source": [
    "main_seq_rotations(destination,destination)"
   ]
  },
  {
   "cell_type": "code",
   "execution_count": null,
   "metadata": {},
   "outputs": [],
   "source": []
  },
  {
   "cell_type": "code",
   "execution_count": null,
   "metadata": {},
   "outputs": [],
   "source": []
  },
  {
   "cell_type": "markdown",
   "metadata": {},
   "source": []
  },
  {
   "cell_type": "markdown",
   "metadata": {},
   "source": [
    "## Check Accuracy Distribution for each sequence (Image 1 vs. 2) \n",
    "\n",
    "Ideally it should be 50/50"
   ]
  },
  {
   "cell_type": "code",
   "execution_count": 1047,
   "metadata": {},
   "outputs": [],
   "source": [
    "def Discrimination_AccurateResponse_Distribution(jsondata):\n",
    "    \"\"\"\n",
    "    args: json data in a dictionary format\n",
    "    returns: [count0,count1] \n",
    "             where count0 is the number of trials where image 0 is the correct answer \n",
    "             where count1 is the number of trials where image 1 is the correct answer\n",
    "             \n",
    "    Question: Which target is CLOSER to you? \n",
    "    \"\"\"\n",
    "    count0 = 0\n",
    "    count1 = 0\n",
    "    equal = 0\n",
    "    \n",
    "    for trial in jsondata:\n",
    "        depth0 = trial['depth_0']\n",
    "        depth1 = trial['depth_1']\n",
    "        if depth0 < depth1:\n",
    "            count0 += 1\n",
    "        if depth0 > depth1:\n",
    "            count1 += 1\n",
    "        if depth0 == depth1:\n",
    "            equal += 1\n",
    "    return [count0, count1, equal]"
   ]
  },
  {
   "cell_type": "code",
   "execution_count": 1048,
   "metadata": {},
   "outputs": [
    {
     "data": {
      "text/plain": [
       "{'j13_dr.json': [47, 47, 0],\n",
       " 'j13_rotated_dr.json': [47, 47, 0],\n",
       " 'j13_rotated.json': [47, 47, 0],\n",
       " 'j13.json': [47, 47, 0]}"
      ]
     },
     "execution_count": 1048,
     "metadata": {},
     "output_type": "execute_result"
    }
   ],
   "source": [
    "main_distribution = {}\n",
    "\n",
    "for js in os.listdir(destination):\n",
    "    if '.json' in js:\n",
    "        j_path = destination + '/' + js\n",
    "        with open(j_path) as f:\n",
    "            data = json.load(f)\n",
    "            main_distribution[js] = Discrimination_AccurateResponse_Distribution(data)\n",
    "\n",
    "main_distribution            \n",
    "# 88 real trials and 8 catch trials per sequence\n",
    "# distribution should be 50/50  "
   ]
  },
  {
   "cell_type": "code",
   "execution_count": null,
   "metadata": {},
   "outputs": [],
   "source": []
  },
  {
   "cell_type": "markdown",
   "metadata": {},
   "source": [
    "# Catch Trials\n",
    "\n",
    "These trials are added to ensure that the participant is paying attention. There will be 8 catch trials, with 2 in each block. Catch trials have the same image presented twice. Participants should press the spacebar to indicate that the same image was shown."
   ]
  },
  {
   "cell_type": "code",
   "execution_count": 1024,
   "metadata": {},
   "outputs": [],
   "source": [
    "kinect2 = '/Users/prachi/Documents/depth_duration/SUNRGBD/kv2/kinect2data'\n",
    "\n",
    "sampled_stimuli_path = '/Users/prachi/Documents/depth_duration/mar3_depthDuration_stimuli/final_stimuli'\n",
    "\n",
    "target_stimuli = '/Users/prachi/Documents/depth_duration/mar3_depthDuration_stimuli/targetImages_kinect2data_subset'\n",
    "\n",
    "# catch trials should NOT have stimuli from the final set of stimuli for the discrimination and verbal judgement\n"
   ]
  },
  {
   "cell_type": "code",
   "execution_count": null,
   "metadata": {},
   "outputs": [],
   "source": []
  },
  {
   "cell_type": "code",
   "execution_count": 1025,
   "metadata": {},
   "outputs": [
    {
     "data": {
      "text/plain": [
       "8"
      ]
     },
     "execution_count": 1025,
     "metadata": {},
     "output_type": "execute_result"
    }
   ],
   "source": [
    "final_long = ['/Users/prachi/Documents/depth_duration/depth_discrimination/depth_discrimination_MTurk/discrimination_catch_trials/000375_2014-06-08_11-17-29_260595134347_rgbf000133-resize_2',\n",
    "              '/Users/prachi/Documents/depth_duration/depth_discrimination/depth_discrimination_MTurk/discrimination_catch_trials/000569_2014-06-09_22-51-47_260595134347_rgbf000141-resize_3',\n",
    "              '/Users/prachi/Documents/depth_duration/depth_discrimination/depth_discrimination_MTurk/discrimination_catch_trials/000787_2014-06-08_22-33-53_260595134347_rgbf000175-resize_1',\n",
    "              '/Users/prachi/Documents/depth_duration/depth_discrimination/depth_discrimination_MTurk/discrimination_catch_trials/002072_2014-06-24_21-48-06_260595134347_rgbf000115-resize_0',\n",
    "              '/Users/prachi/Documents/depth_duration/depth_discrimination/depth_discrimination_MTurk/discrimination_catch_trials/002364_2014-06-28_20-11-05_260595134347_rgbf000042-resize_0',\n",
    "              '/Users/prachi/Documents/depth_duration/depth_discrimination/depth_discrimination_MTurk/discrimination_catch_trials/002675_2014-06-13_16-08-49_094959634447_rgbf000151-resize_2',\n",
    "              '/Users/prachi/Documents/depth_duration/depth_discrimination/depth_discrimination_MTurk/discrimination_catch_trials/003125_2014-05-12_10-39-22_094959634447_rgbf000100-resize_0',\n",
    "              '/Users/prachi/Documents/depth_duration/depth_discrimination/depth_discrimination_MTurk/discrimination_catch_trials/003395_2014-05-20_15-39-18_094959634447_rgbf000101-resize_0']\n",
    "len(final_long)"
   ]
  },
  {
   "cell_type": "code",
   "execution_count": 1026,
   "metadata": {},
   "outputs": [
    {
     "data": {
      "text/plain": [
       "['000375_2014-06-08_11-17-29_260595134347_rgbf000133-resize',\n",
       " '000569_2014-06-09_22-51-47_260595134347_rgbf000141-resize',\n",
       " '000787_2014-06-08_22-33-53_260595134347_rgbf000175-resize',\n",
       " '002072_2014-06-24_21-48-06_260595134347_rgbf000115-resize',\n",
       " '002364_2014-06-28_20-11-05_260595134347_rgbf000042-resize',\n",
       " '002675_2014-06-13_16-08-49_094959634447_rgbf000151-resize',\n",
       " '003125_2014-05-12_10-39-22_094959634447_rgbf000100-resize',\n",
       " '003395_2014-05-20_15-39-18_094959634447_rgbf000101-resize']"
      ]
     },
     "execution_count": 1026,
     "metadata": {},
     "output_type": "execute_result"
    }
   ],
   "source": [
    "final_long_images = [elem.split('/')[-1][:-2] for elem in final_long]\n",
    "final_long_images"
   ]
  },
  {
   "cell_type": "code",
   "execution_count": null,
   "metadata": {},
   "outputs": [],
   "source": []
  },
  {
   "cell_type": "code",
   "execution_count": 1027,
   "metadata": {},
   "outputs": [],
   "source": [
    "final_short = ['/Users/prachi/Documents/depth_duration/depth_discrimination/depth_discrimination_MTurk/discrimination_catch_trials/000454_2014-06-08_16-37-28_260595134347_rgbf000048-resize_2',\n",
    "               '/Users/prachi/Documents/depth_duration/depth_discrimination/depth_discrimination_MTurk/discrimination_catch_trials/000868_2014-06-09_20-49-52_260595134347_rgbf000064-resize_4',\n",
    "               '/Users/prachi/Documents/depth_duration/depth_discrimination/depth_discrimination_MTurk/discrimination_catch_trials/000953_2014-06-08_11-42-19_260595134347_rgbf000083-resize_0',\n",
    "               '/Users/prachi/Documents/depth_duration/depth_discrimination/depth_discrimination_MTurk/discrimination_catch_trials/001012_2014-06-08_23-19-38_260595134347_rgbf000057-resize_0',\n",
    "               '/Users/prachi/Documents/depth_duration/depth_discrimination/depth_discrimination_MTurk/discrimination_catch_trials/001170_2014-06-17_15-43-44_260595134347_rgbf000096-resize_6',\n",
    "               '/Users/prachi/Documents/depth_duration/depth_discrimination/depth_discrimination_MTurk/discrimination_catch_trials/001222_2014-06-17_16-24-06_260595134347_rgbf000073-resize_0',\n",
    "               '/Users/prachi/Documents/depth_duration/depth_discrimination/depth_discrimination_MTurk/discrimination_catch_trials/001498_2014-06-19_17-45-14_260595134347_rgbf000129-resize_4',\n",
    "               '/Users/prachi/Documents/depth_duration/depth_discrimination/depth_discrimination_MTurk/discrimination_catch_trials/001540_2014-06-20_17-01-05_260595134347_rgbf000086-resize_2']\n"
   ]
  },
  {
   "cell_type": "code",
   "execution_count": 1028,
   "metadata": {},
   "outputs": [
    {
     "data": {
      "text/plain": [
       "8"
      ]
     },
     "execution_count": 1028,
     "metadata": {},
     "output_type": "execute_result"
    }
   ],
   "source": [
    "len(final_short)"
   ]
  },
  {
   "cell_type": "code",
   "execution_count": 1032,
   "metadata": {},
   "outputs": [
    {
     "data": {
      "text/plain": [
       "True"
      ]
     },
     "execution_count": 1032,
     "metadata": {},
     "output_type": "execute_result"
    }
   ],
   "source": [
    "final_a = ['/Users/prachimahableshwarkar/Documents/GW/Depth_MTurk/depth_discrimination/depth_discrimination_MTurk/discrimination_catch_trials/000375_2014-06-08_11-17-29_260595134347_rgbf000133-resize_2',\n",
    "           '/Users/prachimahableshwarkar/Documents/GW/Depth_MTurk/depth_discrimination/depth_discrimination_MTurk/discrimination_catch_trials/000569_2014-06-09_22-51-47_260595134347_rgbf000141-resize_3',\n",
    "           '/Users/prachimahableshwarkar/Documents/GW/Depth_MTurk/depth_discrimination/depth_discrimination_MTurk/discrimination_catch_trials/000787_2014-06-08_22-33-53_260595134347_rgbf000175-resize_1',\n",
    "           '/Users/prachimahableshwarkar/Documents/GW/Depth_MTurk/depth_discrimination/depth_discrimination_MTurk/discrimination_catch_trials/002072_2014-06-24_21-48-06_260595134347_rgbf000115-resize_0',\n",
    "           '/Users/prachimahableshwarkar/Documents/GW/Depth_MTurk/depth_discrimination/depth_discrimination_MTurk/discrimination_catch_trials/001170_2014-06-17_15-43-44_260595134347_rgbf000096-resize_6',\n",
    "           '/Users/prachimahableshwarkar/Documents/GW/Depth_MTurk/depth_discrimination/depth_discrimination_MTurk/discrimination_catch_trials/001222_2014-06-17_16-24-06_260595134347_rgbf000073-resize_0',\n",
    "           '/Users/prachimahableshwarkar/Documents/GW/Depth_MTurk/depth_discrimination/depth_discrimination_MTurk/discrimination_catch_trials/001498_2014-06-19_17-45-14_260595134347_rgbf000129-resize_4',\n",
    "           '/Users/prachimahableshwarkar/Documents/GW/Depth_MTurk/depth_discrimination/depth_discrimination_MTurk/discrimination_catch_trials/001540_2014-06-20_17-01-05_260595134347_rgbf000086-resize_2']\n",
    "           \n",
    "random.shuffle(final_a)\n",
    "final_b = final_a\n",
    "final_a == final_b"
   ]
  },
  {
   "cell_type": "code",
   "execution_count": 1040,
   "metadata": {},
   "outputs": [
    {
     "data": {
      "text/plain": [
       "8"
      ]
     },
     "execution_count": 1040,
     "metadata": {},
     "output_type": "execute_result"
    }
   ],
   "source": [
    "len(final_a)"
   ]
  },
  {
   "cell_type": "code",
   "execution_count": 1033,
   "metadata": {},
   "outputs": [],
   "source": [
    "final_catch = [[final_a[i], final_b[i]] for i in range(len(final_a))]\n"
   ]
  },
  {
   "cell_type": "code",
   "execution_count": 109,
   "metadata": {},
   "outputs": [],
   "source": [
    "# for file in possible:\n",
    "#     with open(file + '/' + 'data.json') as f:\n",
    "#         data = json.load(f)\n",
    "#         depth = data['objects'][0]['crossing_point'][0]['depth']"
   ]
  },
  {
   "cell_type": "code",
   "execution_count": 1049,
   "metadata": {},
   "outputs": [],
   "source": [
    "import random\n",
    "catch_trials = []\n",
    "count = 0\n",
    "durations = [250, 250, 250, 250, 1000, 1000, 1000, 1000]\n",
    "random.shuffle(durations)\n",
    "\n",
    "for ctrial in final_catch:\n",
    "    if count % 2 == 0:\n",
    "        dict_ctrial = {}\n",
    "        cimg0 = ctrial[0]\n",
    "        cimg1 = ctrial[1]\n",
    "        dict_ctrial[\"sequence\"] = 'catch_trial'\n",
    "        dict_ctrial[\"duration\"] = durations[count]\n",
    "        \n",
    "        with open(cimg0 + '/' + 'data.json') as f:\n",
    "            data = json.load(f)\n",
    "            depth0 = data['objects'][0]['crossing_point'][0]['depth']\n",
    "        with open(cimg1 + '/' + 'data.json') as f:\n",
    "            data = json.load(f)\n",
    "            depth1 = data['objects'][0]['crossing_point'][0]['depth']\n",
    "        \n",
    "        dict_ctrial[\"depth_0\"] = depth0\n",
    "        dict_ctrial[\"depth_1\"] = depth1\n",
    "        \n",
    "        c0 = cimg0.split('/')[-1]\n",
    "        c1 = cimg1.split('/')[-1]\n",
    "        # this has to be the path on the server\n",
    "        ctargetimg_0_path = \"depth_discrimination_stimuli/\" + c0 + '/' + c0 + '-target.png'\n",
    "        ctargetimg_1_path = \"depth_discrimination_stimuli/\" + c1 + '/' + c1 + '-target.png'\n",
    "\n",
    "        dict_ctrial[\"image_path_target_0\"] = ctargetimg_0_path\n",
    "        dict_ctrial[\"image_path_target_1\"] = ctargetimg_1_path\n",
    "\n",
    "        dict_ctrial[\"mask_path\"] = \"masks/mask_\" + str(count) + \".jpg\"\n",
    "        dict_ctrial[\"fixation_path\"] = \"fixation.jpg\"\n",
    "        \n",
    "    else:\n",
    "        dict_ctrial = {}\n",
    "        cimg0 = ctrial[1]\n",
    "        cimg1 = ctrial[0]\n",
    "        dict_ctrial[\"sequence\"] = 'catch_trial'\n",
    "        dict_ctrial[\"duration\"] = durations[count]\n",
    "        \n",
    "        with open(cimg0 + '/' + 'data.json') as f:\n",
    "            data = json.load(f)\n",
    "            depth0 = data['objects'][0]['crossing_point'][0]['depth']\n",
    "        with open(cimg1 + '/' + 'data.json') as f:\n",
    "            data = json.load(f)\n",
    "            depth1 = data['objects'][0]['crossing_point'][0]['depth']\n",
    "            \n",
    "        dict_ctrial[\"depth_0\"] = depth0\n",
    "        dict_ctrial[\"depth_1\"] = depth1\n",
    "        \n",
    "        c0 = cimg0.split('/')[-1]\n",
    "        c1 = cimg1.split('/')[-1]\n",
    "        # this has to be the path on the server\n",
    "        ctargetimg_0_path = \"depth_discrimination_stimuli/\" + c0 + '/' + c0 + '-target.png'\n",
    "        ctargetimg_1_path = \"depth_discrimination_stimuli/\" + c1 + '/' + c1 + '-target.png'\n",
    "\n",
    "        dict_ctrial[\"image_path_target_0\"] = ctargetimg_0_path\n",
    "        dict_ctrial[\"image_path_target_1\"] = ctargetimg_1_path\n",
    "\n",
    "        dict_ctrial[\"mask_path\"] = \"masks/mask_\" + str(count) + \".jpg\"\n",
    "        dict_ctrial[\"fixation_path\"] = \"fixation.jpg\"\n",
    "        \n",
    "    count += 1\n",
    "\n",
    "    catch_trials.append(dict_ctrial)\n",
    "\n",
    "random.shuffle(catch_trials)"
   ]
  },
  {
   "cell_type": "code",
   "execution_count": 1050,
   "metadata": {},
   "outputs": [
    {
     "data": {
      "text/plain": [
       "8"
      ]
     },
     "execution_count": 1050,
     "metadata": {},
     "output_type": "execute_result"
    }
   ],
   "source": [
    "len(catch_trials)"
   ]
  },
  {
   "cell_type": "code",
   "execution_count": 1056,
   "metadata": {},
   "outputs": [
    {
     "data": {
      "text/plain": [
       "94"
      ]
     },
     "execution_count": 1056,
     "metadata": {},
     "output_type": "execute_result"
    }
   ],
   "source": [
    "with open('/Users/prachimahableshwarkar/Documents/GW/Depth_MTurk/depth_discrimination/discrimination_sequences/january2022/j13_dr.json') as f:\n",
    "    t = json.load(f)\n",
    "    \n",
    "len(t)   "
   ]
  },
  {
   "cell_type": "code",
   "execution_count": 1059,
   "metadata": {},
   "outputs": [
    {
     "data": {
      "text/plain": [
       "25"
      ]
     },
     "execution_count": 1059,
     "metadata": {},
     "output_type": "execute_result"
    }
   ],
   "source": [
    "94-69"
   ]
  },
  {
   "cell_type": "markdown",
   "metadata": {},
   "source": [
    "## Add catch trials"
   ]
  },
  {
   "cell_type": "code",
   "execution_count": 1052,
   "metadata": {},
   "outputs": [],
   "source": [
    "v3_seq = destination\n",
    "v4_seq = '/Users/prachimahableshwarkar/Documents/GW/Depth_MTurk/depth_discrimination/discrimination_sequences/january2022/j13'\n",
    "\n"
   ]
  },
  {
   "cell_type": "code",
   "execution_count": 1060,
   "metadata": {},
   "outputs": [
    {
     "name": "stdout",
     "output_type": "stream",
     "text": [
      "94\n",
      "94\n",
      "94\n",
      "94\n"
     ]
    }
   ],
   "source": [
    "v4_sequences = {}\n",
    "for seq in os.listdir(v3_seq):\n",
    "    if '.json' in seq:\n",
    "        with open(v3_seq + '/' + seq) as f:\n",
    "            data = json.load(f)\n",
    "            print(len(data))\n",
    "            \n",
    "            block1 = data[0:23]\n",
    "            block2 = data[23:46]\n",
    "            block3 = data[46:69]\n",
    "            block4 = data[69:]\n",
    "            block1 += catch_trials[0:2]\n",
    "            block2 += catch_trials[2:4]\n",
    "            block3 += catch_trials[4:6]\n",
    "            block4 += catch_trials[6:8]\n",
    "            random.shuffle(block1)\n",
    "            random.shuffle(block2)\n",
    "            random.shuffle(block3)\n",
    "            random.shuffle(block4)\n",
    "            \n",
    "            # does not work when len(data) is not a multiple of 4\n",
    "#             block1 = data[0:len(data)//4]\n",
    "#             block2 = data[(len(data)//4):(len(data)//4)*2]\n",
    "#             block3 = data[(len(data)//4)*2:(len(data)//4)*3]\n",
    "#             block4 = data[(len(data)//4)*3:(len(data)//4)*4]\n",
    "#             block1 += catch_trials[0:2]\n",
    "#             block2 += catch_trials[2:4]\n",
    "#             block3 += catch_trials[4:6]\n",
    "#             block4 += catch_trials[6:8]\n",
    "#             random.shuffle(block1)\n",
    "#             random.shuffle(block2)\n",
    "#             random.shuffle(block3)\n",
    "#             random.shuffle(block4)\n",
    "            \n",
    "            new_seq = block1 + block2 + block3 + block4\n",
    "            v4_sequences[seq] = new_seq"
   ]
  },
  {
   "cell_type": "code",
   "execution_count": 1061,
   "metadata": {},
   "outputs": [
    {
     "name": "stdout",
     "output_type": "stream",
     "text": [
      "102\n",
      "102\n",
      "102\n",
      "102\n"
     ]
    }
   ],
   "source": [
    "for seq in v4_sequences:\n",
    "    print(len(v4_sequences[seq]))"
   ]
  },
  {
   "cell_type": "code",
   "execution_count": 1063,
   "metadata": {},
   "outputs": [],
   "source": [
    "# creates json file for the sequence \n",
    "for seq in v4_sequences:\n",
    "    if 'json' in seq:\n",
    "        dest = v4_seq + '/' + seq\n",
    "        with open(dest, 'w') as f:\n",
    "            json.dump(v4_sequences[seq] , f)  "
   ]
  },
  {
   "cell_type": "code",
   "execution_count": null,
   "metadata": {},
   "outputs": [],
   "source": []
  },
  {
   "cell_type": "code",
   "execution_count": null,
   "metadata": {},
   "outputs": [],
   "source": []
  },
  {
   "cell_type": "code",
   "execution_count": null,
   "metadata": {},
   "outputs": [],
   "source": []
  }
 ],
 "metadata": {
  "kernelspec": {
   "display_name": "Python 3",
   "language": "python",
   "name": "python3"
  },
  "language_info": {
   "codemirror_mode": {
    "name": "ipython",
    "version": 3
   },
   "file_extension": ".py",
   "mimetype": "text/x-python",
   "name": "python",
   "nbconvert_exporter": "python",
   "pygments_lexer": "ipython3",
   "version": "3.6.1"
  }
 },
 "nbformat": 4,
 "nbformat_minor": 4
}
