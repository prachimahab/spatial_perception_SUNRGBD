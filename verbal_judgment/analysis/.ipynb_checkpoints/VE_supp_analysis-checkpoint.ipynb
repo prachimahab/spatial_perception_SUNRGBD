{
 "cells": [
  {
   "cell_type": "markdown",
   "metadata": {},
   "source": [
    "# VE Supplementary Analyses"
   ]
  },
  {
   "cell_type": "code",
   "execution_count": 1,
   "metadata": {},
   "outputs": [],
   "source": [
    "import os \n",
    "import pandas as pd\n",
    "import numpy as np\n",
    "import math\n",
    "import matplotlib.pyplot as plt\n",
    "import scipy \n",
    "import scipy.stats as stats\n",
    "from scipy import stats\n",
    "from statsmodels.stats.anova import AnovaRM\n",
    "import copy"
   ]
  },
  {
   "cell_type": "code",
   "execution_count": 2,
   "metadata": {},
   "outputs": [],
   "source": [
    "_dir = '/Users/prachimahableshwarkar/Documents/GW/Depth_MTurk/verbal_judgement_analysis'\n",
    "raw_dir = _dir + '/data/finalVEMatched/raw'\n",
    "zs_dir = _dir + '/data/finalVEMatched/z_scored'\n",
    "\n",
    "final_data = pd.read_csv (raw_dir + '/raw_data.csv')\n",
    "zscored_data = pd.read_csv (zs_dir + '/z_scored_data.csv')"
   ]
  },
  {
   "cell_type": "code",
   "execution_count": null,
   "metadata": {},
   "outputs": [],
   "source": []
  }
 ],
 "metadata": {
  "kernelspec": {
   "display_name": "Python 3",
   "language": "python",
   "name": "python3"
  },
  "language_info": {
   "codemirror_mode": {
    "name": "ipython",
    "version": 3
   },
   "file_extension": ".py",
   "mimetype": "text/x-python",
   "name": "python",
   "nbconvert_exporter": "python",
   "pygments_lexer": "ipython3",
   "version": "3.7.4"
  }
 },
 "nbformat": 4,
 "nbformat_minor": 4
}
