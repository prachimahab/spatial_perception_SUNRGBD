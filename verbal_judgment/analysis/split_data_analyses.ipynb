{
 "cells": [
  {
   "cell_type": "code",
   "execution_count": 140,
   "metadata": {},
   "outputs": [],
   "source": [
    "import numpy as np\n",
    "import pandas as pd\n",
    "from scipy.stats import stats\n",
    "from sklearn.linear_model import LinearRegression\n",
    "import random\n",
    "import matplotlib.pyplot as plt\n",
    "import seaborn as sns\n",
    "import scipy.stats\n",
    "from time import process_time\n"
   ]
  },
  {
   "cell_type": "markdown",
   "metadata": {},
   "source": [
    "# Load in z-scored VE data "
   ]
  },
  {
   "cell_type": "code",
   "execution_count": 141,
   "metadata": {},
   "outputs": [],
   "source": [
    "_dir = '/Users/pmahableshwarkar/Documents/Depth_Project'\n",
    "# _dir = '/Users/prachimahableshwarkar/Documents/GW/Depth_MTurk'\n",
    "\n",
    "VE_data_125_path = _dir + '/verbal_judgement_analysis/data/finalVEMatched/z_scored/z_scored_125_data.csv'\n",
    "\n",
    "VE_data_250_path = _dir + '/verbal_judgement_analysis/data/finalVEMatched/z_scored/z_scored_250_data.csv'\n",
    "\n",
    "VE_data_1000_path = _dir + '/verbal_judgement_analysis/data/finalVEMatched/z_scored/z_scored_1000_data.csv'\n",
    "\n",
    "VE_data_125 = pd.read_csv(VE_data_125_path)\n",
    "VE_data_250 = pd.read_csv(VE_data_250_path)\n",
    "VE_data_1000 = pd.read_csv(VE_data_1000_path)"
   ]
  },
  {
   "cell_type": "code",
   "execution_count": 142,
   "metadata": {},
   "outputs": [],
   "source": [
    "rm = ['Unnamed: 0', 'workerId', 'experimentName', 'versionName',\n",
    "       'sequenceName', 'url', 'selected_row', 'windowWidth', 'windowHeight',\n",
    "       'screenWidth', 'screenHeight', 'startDate', 'startTime', 'trial',\n",
    "       'log_sceneDuration', 'unitSelection', 'seq_filepath', 'experimentTime',\n",
    "       'totalTime', 'age', 'gender']"
   ]
  },
  {
   "cell_type": "code",
   "execution_count": 143,
   "metadata": {},
   "outputs": [],
   "source": [
    "VE_data_125.drop(columns=rm, inplace=True)\n",
    "VE_data_250.drop(columns=rm, inplace=True)\n",
    "VE_data_1000.drop(columns=rm, inplace=True)"
   ]
  },
  {
   "cell_type": "code",
   "execution_count": 144,
   "metadata": {},
   "outputs": [
    {
     "data": {
      "text/plain": [
       "(23615, 23615, 23615)"
      ]
     },
     "execution_count": 144,
     "metadata": {},
     "output_type": "execute_result"
    }
   ],
   "source": [
    "# make all duration dfs the same size \n",
    "\n",
    "smallest_num_rows = min(VE_data_125.shape[0], VE_data_250.shape[0], VE_data_1000.shape[0])\n",
    "\n",
    "VE_data_125 = VE_data_125.sample(frac=1).reset_index(drop=True)\n",
    "VE_data_250 = VE_data_250.sample(frac=1).reset_index(drop=True)\n",
    "VE_data_1000 = VE_data_1000.sample(frac=1).reset_index(drop=True)\n",
    "\n",
    "trunc_VE_data_125 = VE_data_250.truncate(after=smallest_num_rows-1)\n",
    "trunc_VE_data_250 = VE_data_250.truncate(after=smallest_num_rows-1)\n",
    "trunc_VE_data_1000 = VE_data_250.truncate(after=smallest_num_rows-1)\n",
    "\n",
    "\n",
    "trunc_VE_data_125.shape[0], trunc_VE_data_250.shape[0], trunc_VE_data_1000.shape[0]"
   ]
  },
  {
   "cell_type": "code",
   "execution_count": 164,
   "metadata": {},
   "outputs": [],
   "source": [
    "def split_data(df):\n",
    "    \n",
    "    # shuffle df rows and reset index\n",
    "    df = df.sample(frac=1 ).reset_index(drop=True)\n",
    "    \n",
    "    # if df has an odd number of \n",
    "    if df.shape[0]%2 == 1:\n",
    "        df.drop(df.tail(1).index,inplace=True) # drop last n rows\n",
    "    \n",
    "    # values of original dataframe\n",
    "    part_50 = df.sample(frac = 0.5)\n",
    "\n",
    "    # Creating dataframe with\n",
    "    # rest of the 50% values\n",
    "    rest_part_50 = df.drop(part_50.index)\n",
    "    \n",
    "    return part_50, rest_part_50\n",
    "        "
   ]
  },
  {
   "cell_type": "code",
   "execution_count": 184,
   "metadata": {},
   "outputs": [],
   "source": [
    "s0_125, s1_125 = split_data(trunc_VE_data_125)\n",
    "s0_250, s1_250 = split_data(trunc_VE_data_250)\n",
    "s0_1000, s1_1000 = split_data(trunc_VE_data_1000)"
   ]
  },
  {
   "cell_type": "code",
   "execution_count": 185,
   "metadata": {},
   "outputs": [
    {
     "name": "stdout",
     "output_type": "stream",
     "text": [
      "(0.020470726198445522, 0.026125101422772863)\n",
      "(-0.0020767950051123595, 0.821480697555003)\n",
      "(-0.00598737533292031, 0.5153529813340315)\n"
     ]
    }
   ],
   "source": [
    "print(stats.pearsonr(list(s0_125['trial_RT']),list(s1_125['trial_RT'])))\n",
    "print(stats.pearsonr(list(s1_125['trial_RT']),list(s1_250['trial_RT'])))\n",
    "print(stats.pearsonr(list(s1_125['trial_RT']),list(s1_1000['trial_RT'])))"
   ]
  },
  {
   "cell_type": "code",
   "execution_count": 167,
   "metadata": {},
   "outputs": [],
   "source": [
    "s0_duration_data = [s0_125, s0_250, s0_1000]\n",
    "s1_duration_data = [s1_125, s1_250, s1_1000]"
   ]
  },
  {
   "cell_type": "code",
   "execution_count": 186,
   "metadata": {},
   "outputs": [],
   "source": [
    "def trial_pivotTable(data):\n",
    "    \"\"\"\n",
    "    Generate pivot tables from data after cleaning and outlier removal \n",
    "    Organizes data such that for each individual target (stimulus) the following is calulated:\n",
    "    - average depth estimation\n",
    "    - standard deviation\n",
    "    - standard error \n",
    "    \"\"\"\n",
    "    \n",
    "    avg_tables = []\n",
    "    std_tables = []\n",
    "    result_tables = []\n",
    "    ###### CREATE DF WITH DATA STATISTICS AFTER OUTLIER REMOVAL ######\n",
    "    cond = 0\n",
    "    for duration in data: #generate pivot tables for data statistics (avg, std, sem)\n",
    "        actual = pd.pivot_table(duration,  values = [\"actual_depth\"], columns=['stimulus'], aggfunc=np.mean)\n",
    "        actual.reset_index()\n",
    "        actual_renamed = actual.rename(index={'actual_depth': 'Actual Depth'})\n",
    "        \n",
    "        avg = pd.pivot_table(duration,  values = [\"depth_estimate\"], columns=['stimulus'], aggfunc=np.mean)\n",
    "        avg.reset_index()\n",
    "        avg_renamed = avg.rename(index={'depth_estimate': 'Average Estimated Depth'})\n",
    "        \n",
    "        RT = pd.pivot_table(duration,  values = [\"trial_RT\"], columns=['stimulus'], aggfunc=np.mean)\n",
    "        RT.reset_index()\n",
    "        RT_renamed = RT.rename(index={'trial_RT': 'Average Trial RT'})\n",
    "        \n",
    "        std = pd.pivot_table(duration, values = [\"depth_estimate\"], columns = [\"stimulus\"], aggfunc = np.std)\n",
    "        #note - std is normalized byN-1 by default (ddof parameter = 1 by default)\n",
    "        std.reset_index()\n",
    "        std_renamed = std.rename(index={'depth_estimate': 'Standard Deviation'})\n",
    "        \n",
    "        sem = pd.pivot_table(duration, values = [\"depth_estimate\"], columns = [\"stimulus\"], aggfunc = 'sem')\n",
    "        sem.reset_index()\n",
    "        sem_renamed = sem.rename(index={'depth_estimate': 'Standard Error'})\n",
    "        \n",
    "        frames = [avg_renamed, std_renamed, sem_renamed, actual_renamed, RT_renamed] #list of pivot tables for a given duration\n",
    "        result = pd.concat(frames) #merge the pivot tables for a given duration \n",
    "        result = result.T #transpose \n",
    "        result = result.sort_values(by=['Actual Depth'])\n",
    "\n",
    "        #Label the data by duration based on condition counter (cond)\n",
    "        if cond == 0:\n",
    "            result[\"Duration\"] = 125\n",
    "        if cond == 1:\n",
    "            result[\"Duration\"] = 250\n",
    "        if cond == 2:\n",
    "            result[\"Duration\"] = 1000\n",
    "        \n",
    "        avg_tables.append(avg_renamed) #created for reference (not used in code)\n",
    "        std_tables.append(std_renamed) #created for reference (not used in code)\n",
    "        result_tables.append(result) #list of results for all durations \n",
    "        cond += 1 \n",
    "        \n",
    "    \n",
    "    return result_tables"
   ]
  },
  {
   "cell_type": "code",
   "execution_count": 187,
   "metadata": {},
   "outputs": [],
   "source": [
    "s0_zscored_trial_pivot = trial_pivotTable(s0_duration_data)\n",
    "s1_zscored_trial_pivot = trial_pivotTable(s1_duration_data)\n"
   ]
  },
  {
   "cell_type": "code",
   "execution_count": null,
   "metadata": {},
   "outputs": [],
   "source": []
  },
  {
   "cell_type": "code",
   "execution_count": 188,
   "metadata": {},
   "outputs": [],
   "source": [
    "def trial_getxy(data):\n",
    "    \"\"\"\n",
    "    Extracts the data from the dataframes to a list format for plotting. \n",
    "    Args:\n",
    "        df = [125, 250, 1000]\n",
    "        These data frames are POST all outlier cleaning. \n",
    "        \n",
    "    Returns:\n",
    "        actualdepths = [x_125, x_250, x_1000]\n",
    "        xs = [list of individual targets]\n",
    "        ys = [y_125, y_250, y_1000]\n",
    "        stes = [ste_125, ste_250, ste_1000]\n",
    "        \n",
    "    \"\"\"\n",
    "    xs = []\n",
    "    ys = []\n",
    "    stes = []\n",
    "    stds = []\n",
    "    actualdepths = []\n",
    "    trial_RTs = []\n",
    "    for table in data:\n",
    "        x = []\n",
    "        y = []\n",
    "        ste = []\n",
    "        std = []\n",
    "        depths = []\n",
    "        RT = []\n",
    "        for idx, row in table.iterrows():\n",
    "            \n",
    "            x.append(idx) #idx is the target (stimulus path)\n",
    "            \n",
    "            estim_avg = row[\"Average Estimated Depth\"]\n",
    "            y.append(estim_avg)\n",
    "            \n",
    "            standard_error = row[\"Standard Error\"]\n",
    "            ste.append(standard_error)\n",
    "            \n",
    "            depth = row[\"Actual Depth\"]\n",
    "            depths.append(depth)\n",
    "            \n",
    "            standard_deviation = row[\"Standard Deviation\"]\n",
    "            std.append(standard_deviation)       \n",
    "            \n",
    "            reactionTime = row[\"Average Trial RT\"]\n",
    "            RT.append(reactionTime)  \n",
    "            \n",
    "        xs.append(x)\n",
    "        ys.append(y)\n",
    "        stes.append(ste)\n",
    "        actualdepths.append(depths)\n",
    "        stds.append(std)\n",
    "        trial_RTs.append(RT)\n",
    "\n",
    "    return xs, ys, stes, actualdepths, stds, trial_RTs"
   ]
  },
  {
   "cell_type": "code",
   "execution_count": 189,
   "metadata": {},
   "outputs": [],
   "source": [
    "s0_trial_zscored_final = trial_getxy(s0_zscored_trial_pivot)\n",
    "s1_trial_zscored_final = trial_getxy(s1_zscored_trial_pivot)\n"
   ]
  },
  {
   "cell_type": "code",
   "execution_count": 190,
   "metadata": {},
   "outputs": [
    {
     "name": "stdout",
     "output_type": "stream",
     "text": [
      "(0.7784273384271736, 5.915501185017958e-33)\n",
      "(0.5665074804772846, 1.2762847669176127e-14)\n"
     ]
    }
   ],
   "source": [
    "print(stats.pearsonr(s0_trial_zscored_final[5][0], s1_trial_zscored_final[5][1]))\n",
    "print(stats.pearsonr(s0_trial_zscored_final[5][0], s1_trial_zscored_final[5][0]))"
   ]
  },
  {
   "cell_type": "code",
   "execution_count": 191,
   "metadata": {},
   "outputs": [],
   "source": [
    "data = {'s0_y_125': s0_trial_zscored_final[1][0],\n",
    "'s0_RT_125': s0_trial_zscored_final[5][0],\n",
    "'s0_y_250': s0_trial_zscored_final[1][1],\n",
    "'s0_RT_250': s0_trial_zscored_final[5][1],\n",
    "'s0_y_1000': s0_trial_zscored_final[1][2],\n",
    "'s0_RT_1000': s0_trial_zscored_final[5][2],\n",
    "'s1_y_125': s1_trial_zscored_final[1][0],\n",
    "'s1_RT_125': s1_trial_zscored_final[5][0],\n",
    "'s1_y_250': s1_trial_zscored_final[1][1],\n",
    "'s1_RT_250': s1_trial_zscored_final[5][1],\n",
    "'s1_y_1000': s1_trial_zscored_final[1][2],\n",
    "'s1_RT_1000': s1_trial_zscored_final[5][2]}"
   ]
  },
  {
   "cell_type": "code",
   "execution_count": null,
   "metadata": {},
   "outputs": [],
   "source": []
  },
  {
   "cell_type": "code",
   "execution_count": 192,
   "metadata": {},
   "outputs": [
    {
     "name": "stdout",
     "output_type": "stream",
     "text": [
      "Rep completed : 0\n",
      "Rep completed : 1\n",
      "Rep completed : 2\n",
      "Rep completed : 3\n",
      "Rep completed : 4\n",
      "Rep completed : 5\n",
      "Rep completed : 6\n",
      "Rep completed : 7\n",
      "Rep completed : 8\n",
      "Rep completed : 9\n",
      "10\n",
      "CPU times: user 15.2 ms, sys: 21.5 ms, total: 36.7 ms\n",
      "Wall time: 702 ms\n"
     ]
    }
   ],
   "source": [
    "%%time\n",
    "from concurrent.futures import ThreadPoolExecutor, ProcessPoolExecutor, wait, as_completed\n",
    "\n",
    "\n",
    "dfs = [] \n",
    "    \n",
    "def run_analysis():\n",
    "    \n",
    "    s0_125, s1_125 = split_data(trunc_VE_data_125)\n",
    "    s0_250, s1_250 = split_data(trunc_VE_data_250)\n",
    "    s0_1000, s1_1000 = split_data(trunc_VE_data_1000)\n",
    "    \n",
    "    s0_duration_data = [s0_125, s0_250, s0_1000]\n",
    "    s1_duration_data = [s1_125, s1_250, s1_1000]\n",
    "    \n",
    "    s0_zscored_trial_pivot = trial_pivotTable(s0_duration_data)\n",
    "    s1_zscored_trial_pivot = trial_pivotTable(s1_duration_data)\n",
    "    \n",
    "    s0_trial_zscored_final = trial_getxy(s0_zscored_trial_pivot)\n",
    "    s1_trial_zscored_final = trial_getxy(s1_zscored_trial_pivot)\n",
    "    \n",
    "\n",
    "    data = {'s0_y_125': s0_trial_zscored_final[1][0],\n",
    "            's0_RT_125': s0_trial_zscored_final[5][0],\n",
    "            's0_y_250': s0_trial_zscored_final[1][1],\n",
    "            's0_RT_250': s0_trial_zscored_final[5][1],\n",
    "            's0_y_1000': s0_trial_zscored_final[1][2],\n",
    "            's0_RT_1000': s0_trial_zscored_final[5][2],\n",
    "            's1_y_125': s1_trial_zscored_final[1][0],\n",
    "            's1_RT_125': s1_trial_zscored_final[5][0],\n",
    "            's1_y_250': s1_trial_zscored_final[1][1],\n",
    "            's1_RT_250': s1_trial_zscored_final[5][1],\n",
    "            's1_y_1000': s1_trial_zscored_final[1][2],\n",
    "            's1_RT_1000': s1_trial_zscored_final[5][2]}\n",
    "\n",
    "    \n",
    "    data_df = pd.DataFrame(data,columns=['s0_y_125', 's0_y_250', 's0_y_1000', 's0_RT_125', 's0_RT_250', 's0_RT_1000',\n",
    "                                         's1_y_125', 's1_y_250', 's1_y_1000', 's1_RT_125', 's1_RT_250', 's1_RT_1000'])\n",
    "\n",
    "    df_corr = data_df.corr()\n",
    "    \n",
    "    return df_corr    \n",
    "\n",
    "\n",
    "reps = 10\n",
    "dfs = []\n",
    "\n",
    "\n",
    "import multiprocessing as mp\n",
    "\n",
    "executor = ProcessPoolExecutor(max_workers=mp.cpu_count()//4)\n",
    "for i in range(reps):\n",
    "#     print(\"Enqueuing run_analysis rep: \", i)\n",
    "    dfs.append(executor.submit(run_analysis))\n",
    "\n",
    "for count, future in enumerate(as_completed(dfs)):\n",
    "    print(\"Rep completed :\", count)\n",
    "    \n",
    "print(len(dfs))\n",
    "    \n",
    "df_sum = 0\n",
    "for i, df in enumerate(dfs):\n",
    "    df_sum += df.result()\n",
    "\n",
    "mean_df_corr = df_sum / len(dfs)\n",
    "executor.shutdown(wait=True)\n",
    "\n",
    "# mean_df_corr.to_csv('VE_avg_randSplitMatrix_n' + str(reps) + '.csv')"
   ]
  },
  {
   "cell_type": "code",
   "execution_count": null,
   "metadata": {},
   "outputs": [],
   "source": []
  },
  {
   "cell_type": "code",
   "execution_count": 193,
   "metadata": {},
   "outputs": [
    {
     "data": {
      "image/png": "[encoded data removed]",
      "text/plain": [
       "<Figure size 1800x1800 with 2 Axes>"
      ]
     },
     "metadata": {
      "needs_background": "light"
     },
     "output_type": "display_data"
    }
   ],
   "source": [
    "plt.figure(figsize=[25,25])\n",
    "\n",
    "ax = sns.heatmap(mean_df_corr, annot=True, fmt=\".2f\", cmap= \"seismic\", square=True, center=0, vmin=-1, vmax=1, edgecolors='w', linewidths=3, cbar_kws={\"shrink\": .82}, ) #notation: \"annot\" not \"annote\"\n",
    "bottom, top = ax.get_ylim()\n",
    "ax.set_ylim(bottom + 0.5, top - 0.5)\n",
    "\n",
    "\n",
    "plt.show();"
   ]
  },
  {
   "cell_type": "code",
   "execution_count": 163,
   "metadata": {},
   "outputs": [],
   "source": [
    "bottom_mean_df_corr = mean_df_corr.tail(6)\n",
    "bottom_mean_df_corr = bottom_mean_df_corr.drop(columns = ['s1_y_125', 's1_y_250', 's1_y_1000',\n",
    "                                                          's1_RT_125', 's1_RT_250', 's1_RT_1000'])"
   ]
  },
  {
   "cell_type": "code",
   "execution_count": 164,
   "metadata": {},
   "outputs": [
    {
     "data": {
      "text/html": [
       "<div>\n",
       "<style scoped>\n",
       "    .dataframe tbody tr th:only-of-type {\n",
       "        vertical-align: middle;\n",
       "    }\n",
       "\n",
       "    .dataframe tbody tr th {\n",
       "        vertical-align: top;\n",
       "    }\n",
       "\n",
       "    .dataframe thead th {\n",
       "        text-align: right;\n",
       "    }\n",
       "</style>\n",
       "<table border=\"1\" class=\"dataframe\">\n",
       "  <thead>\n",
       "    <tr style=\"text-align: right;\">\n",
       "      <th></th>\n",
       "      <th>s0_y_125</th>\n",
       "      <th>s0_y_250</th>\n",
       "      <th>s0_y_1000</th>\n",
       "      <th>s0_RT_125</th>\n",
       "      <th>s0_RT_250</th>\n",
       "      <th>s0_RT_1000</th>\n",
       "    </tr>\n",
       "  </thead>\n",
       "  <tbody>\n",
       "    <tr>\n",
       "      <th>s1_y_125</th>\n",
       "      <td>0.981014</td>\n",
       "      <td>0.990654</td>\n",
       "      <td>0.990471</td>\n",
       "      <td>0.733114</td>\n",
       "      <td>0.733046</td>\n",
       "      <td>0.735709</td>\n",
       "    </tr>\n",
       "    <tr>\n",
       "      <th>s1_y_250</th>\n",
       "      <td>0.990798</td>\n",
       "      <td>0.980190</td>\n",
       "      <td>0.990322</td>\n",
       "      <td>0.738676</td>\n",
       "      <td>0.729814</td>\n",
       "      <td>0.736649</td>\n",
       "    </tr>\n",
       "    <tr>\n",
       "      <th>s1_y_1000</th>\n",
       "      <td>0.990727</td>\n",
       "      <td>0.990448</td>\n",
       "      <td>0.982773</td>\n",
       "      <td>0.739644</td>\n",
       "      <td>0.733910</td>\n",
       "      <td>0.740139</td>\n",
       "    </tr>\n",
       "    <tr>\n",
       "      <th>s1_RT_125</th>\n",
       "      <td>0.730919</td>\n",
       "      <td>0.733637</td>\n",
       "      <td>0.729081</td>\n",
       "      <td>0.582999</td>\n",
       "      <td>0.799153</td>\n",
       "      <td>0.799578</td>\n",
       "    </tr>\n",
       "    <tr>\n",
       "      <th>s1_RT_250</th>\n",
       "      <td>0.760434</td>\n",
       "      <td>0.754314</td>\n",
       "      <td>0.752934</td>\n",
       "      <td>0.797945</td>\n",
       "      <td>0.607730</td>\n",
       "      <td>0.782317</td>\n",
       "    </tr>\n",
       "    <tr>\n",
       "      <th>s1_RT_1000</th>\n",
       "      <td>0.745143</td>\n",
       "      <td>0.741847</td>\n",
       "      <td>0.740810</td>\n",
       "      <td>0.798799</td>\n",
       "      <td>0.778033</td>\n",
       "      <td>0.598973</td>\n",
       "    </tr>\n",
       "  </tbody>\n",
       "</table>\n",
       "</div>"
      ],
      "text/plain": [
       "            s0_y_125  s0_y_250  s0_y_1000  s0_RT_125  s0_RT_250  s0_RT_1000\n",
       "s1_y_125    0.981014  0.990654   0.990471   0.733114   0.733046    0.735709\n",
       "s1_y_250    0.990798  0.980190   0.990322   0.738676   0.729814    0.736649\n",
       "s1_y_1000   0.990727  0.990448   0.982773   0.739644   0.733910    0.740139\n",
       "s1_RT_125   0.730919  0.733637   0.729081   0.582999   0.799153    0.799578\n",
       "s1_RT_250   0.760434  0.754314   0.752934   0.797945   0.607730    0.782317\n",
       "s1_RT_1000  0.745143  0.741847   0.740810   0.798799   0.778033    0.598973"
      ]
     },
     "execution_count": 164,
     "metadata": {},
     "output_type": "execute_result"
    }
   ],
   "source": [
    "bottom_mean_df_corr"
   ]
  },
  {
   "cell_type": "code",
   "execution_count": 165,
   "metadata": {},
   "outputs": [
    {
     "data": {
      "image/png": "[encoded data removed]",
      "text/plain": [
       "<Figure size 1080x1080 with 2 Axes>"
      ]
     },
     "metadata": {
      "needs_background": "light"
     },
     "output_type": "display_data"
    }
   ],
   "source": [
    "plt.figure(figsize=[15,15])\n",
    "\n",
    "ax = sns.heatmap(bottom_mean_df_corr, annot=True, fmt=\".3f\", cmap= \"seismic\", square=True, center=0, vmin=-1, vmax=1, edgecolors='w', linewidths=3, cbar_kws={\"shrink\": .82}, ) #notation: \"annot\" not \"annote\"\n",
    "bottom, top = ax.get_ylim()\n",
    "ax.set_ylim(bottom + 0.5, top - 0.5)\n",
    "\n",
    "\n",
    "# plt.savefig('rand_5000.png')\n",
    "plt.show();\n"
   ]
  },
  {
   "cell_type": "code",
   "execution_count": 133,
   "metadata": {},
   "outputs": [],
   "source": [
    "sample_df = dfs[0].result()"
   ]
  },
  {
   "cell_type": "code",
   "execution_count": 134,
   "metadata": {},
   "outputs": [
    {
     "data": {
      "text/html": [
       "<div>\n",
       "<style scoped>\n",
       "    .dataframe tbody tr th:only-of-type {\n",
       "        vertical-align: middle;\n",
       "    }\n",
       "\n",
       "    .dataframe tbody tr th {\n",
       "        vertical-align: top;\n",
       "    }\n",
       "\n",
       "    .dataframe thead th {\n",
       "        text-align: right;\n",
       "    }\n",
       "</style>\n",
       "<table border=\"1\" class=\"dataframe\">\n",
       "  <thead>\n",
       "    <tr style=\"text-align: right;\">\n",
       "      <th></th>\n",
       "      <th>s0_y_125</th>\n",
       "      <th>s0_y_250</th>\n",
       "      <th>s0_y_1000</th>\n",
       "      <th>s0_RT_125</th>\n",
       "      <th>s0_RT_250</th>\n",
       "      <th>s0_RT_1000</th>\n",
       "      <th>s1_y_125</th>\n",
       "      <th>s1_y_250</th>\n",
       "      <th>s1_y_1000</th>\n",
       "      <th>s1_RT_125</th>\n",
       "      <th>s1_RT_250</th>\n",
       "      <th>s1_RT_1000</th>\n",
       "    </tr>\n",
       "  </thead>\n",
       "  <tbody>\n",
       "    <tr>\n",
       "      <th>s0_y_125</th>\n",
       "      <td>1.000000</td>\n",
       "      <td>0.990467</td>\n",
       "      <td>0.990458</td>\n",
       "      <td>0.742140</td>\n",
       "      <td>0.735358</td>\n",
       "      <td>0.719558</td>\n",
       "      <td>0.978278</td>\n",
       "      <td>0.989456</td>\n",
       "      <td>0.989658</td>\n",
       "      <td>0.754655</td>\n",
       "      <td>0.751978</td>\n",
       "      <td>0.743393</td>\n",
       "    </tr>\n",
       "    <tr>\n",
       "      <th>s0_y_250</th>\n",
       "      <td>0.990467</td>\n",
       "      <td>1.000000</td>\n",
       "      <td>0.991262</td>\n",
       "      <td>0.738367</td>\n",
       "      <td>0.730797</td>\n",
       "      <td>0.717617</td>\n",
       "      <td>0.988605</td>\n",
       "      <td>0.981423</td>\n",
       "      <td>0.989854</td>\n",
       "      <td>0.739377</td>\n",
       "      <td>0.739977</td>\n",
       "      <td>0.729745</td>\n",
       "    </tr>\n",
       "    <tr>\n",
       "      <th>s0_y_1000</th>\n",
       "      <td>0.990458</td>\n",
       "      <td>0.991262</td>\n",
       "      <td>1.000000</td>\n",
       "      <td>0.740904</td>\n",
       "      <td>0.730302</td>\n",
       "      <td>0.714611</td>\n",
       "      <td>0.988970</td>\n",
       "      <td>0.990426</td>\n",
       "      <td>0.981822</td>\n",
       "      <td>0.748088</td>\n",
       "      <td>0.749461</td>\n",
       "      <td>0.741073</td>\n",
       "    </tr>\n",
       "    <tr>\n",
       "      <th>s0_RT_125</th>\n",
       "      <td>0.742140</td>\n",
       "      <td>0.738367</td>\n",
       "      <td>0.740904</td>\n",
       "      <td>1.000000</td>\n",
       "      <td>0.833774</td>\n",
       "      <td>0.814547</td>\n",
       "      <td>0.735621</td>\n",
       "      <td>0.741431</td>\n",
       "      <td>0.739304</td>\n",
       "      <td>0.619685</td>\n",
       "      <td>0.788279</td>\n",
       "      <td>0.787086</td>\n",
       "    </tr>\n",
       "    <tr>\n",
       "      <th>s0_RT_250</th>\n",
       "      <td>0.735358</td>\n",
       "      <td>0.730797</td>\n",
       "      <td>0.730302</td>\n",
       "      <td>0.833774</td>\n",
       "      <td>1.000000</td>\n",
       "      <td>0.807767</td>\n",
       "      <td>0.725230</td>\n",
       "      <td>0.732833</td>\n",
       "      <td>0.733920</td>\n",
       "      <td>0.776506</td>\n",
       "      <td>0.611043</td>\n",
       "      <td>0.781543</td>\n",
       "    </tr>\n",
       "    <tr>\n",
       "      <th>s0_RT_1000</th>\n",
       "      <td>0.719558</td>\n",
       "      <td>0.717617</td>\n",
       "      <td>0.714611</td>\n",
       "      <td>0.814547</td>\n",
       "      <td>0.807767</td>\n",
       "      <td>1.000000</td>\n",
       "      <td>0.704831</td>\n",
       "      <td>0.708024</td>\n",
       "      <td>0.712461</td>\n",
       "      <td>0.764662</td>\n",
       "      <td>0.770854</td>\n",
       "      <td>0.574664</td>\n",
       "    </tr>\n",
       "    <tr>\n",
       "      <th>s1_y_125</th>\n",
       "      <td>0.978278</td>\n",
       "      <td>0.988605</td>\n",
       "      <td>0.988970</td>\n",
       "      <td>0.735621</td>\n",
       "      <td>0.725230</td>\n",
       "      <td>0.704831</td>\n",
       "      <td>1.000000</td>\n",
       "      <td>0.990660</td>\n",
       "      <td>0.990459</td>\n",
       "      <td>0.746930</td>\n",
       "      <td>0.753906</td>\n",
       "      <td>0.750532</td>\n",
       "    </tr>\n",
       "    <tr>\n",
       "      <th>s1_y_250</th>\n",
       "      <td>0.989456</td>\n",
       "      <td>0.981423</td>\n",
       "      <td>0.990426</td>\n",
       "      <td>0.741431</td>\n",
       "      <td>0.732833</td>\n",
       "      <td>0.708024</td>\n",
       "      <td>0.990660</td>\n",
       "      <td>1.000000</td>\n",
       "      <td>0.991422</td>\n",
       "      <td>0.764770</td>\n",
       "      <td>0.765676</td>\n",
       "      <td>0.764961</td>\n",
       "    </tr>\n",
       "    <tr>\n",
       "      <th>s1_y_1000</th>\n",
       "      <td>0.989658</td>\n",
       "      <td>0.989854</td>\n",
       "      <td>0.981822</td>\n",
       "      <td>0.739304</td>\n",
       "      <td>0.733920</td>\n",
       "      <td>0.712461</td>\n",
       "      <td>0.990459</td>\n",
       "      <td>0.991422</td>\n",
       "      <td>1.000000</td>\n",
       "      <td>0.755773</td>\n",
       "      <td>0.755337</td>\n",
       "      <td>0.752536</td>\n",
       "    </tr>\n",
       "    <tr>\n",
       "      <th>s1_RT_125</th>\n",
       "      <td>0.754655</td>\n",
       "      <td>0.739377</td>\n",
       "      <td>0.748088</td>\n",
       "      <td>0.619685</td>\n",
       "      <td>0.776506</td>\n",
       "      <td>0.764662</td>\n",
       "      <td>0.746930</td>\n",
       "      <td>0.764770</td>\n",
       "      <td>0.755773</td>\n",
       "      <td>1.000000</td>\n",
       "      <td>0.821068</td>\n",
       "      <td>0.814116</td>\n",
       "    </tr>\n",
       "    <tr>\n",
       "      <th>s1_RT_250</th>\n",
       "      <td>0.751978</td>\n",
       "      <td>0.739977</td>\n",
       "      <td>0.749461</td>\n",
       "      <td>0.788279</td>\n",
       "      <td>0.611043</td>\n",
       "      <td>0.770854</td>\n",
       "      <td>0.753906</td>\n",
       "      <td>0.765676</td>\n",
       "      <td>0.755337</td>\n",
       "      <td>0.821068</td>\n",
       "      <td>1.000000</td>\n",
       "      <td>0.819288</td>\n",
       "    </tr>\n",
       "    <tr>\n",
       "      <th>s1_RT_1000</th>\n",
       "      <td>0.743393</td>\n",
       "      <td>0.729745</td>\n",
       "      <td>0.741073</td>\n",
       "      <td>0.787086</td>\n",
       "      <td>0.781543</td>\n",
       "      <td>0.574664</td>\n",
       "      <td>0.750532</td>\n",
       "      <td>0.764961</td>\n",
       "      <td>0.752536</td>\n",
       "      <td>0.814116</td>\n",
       "      <td>0.819288</td>\n",
       "      <td>1.000000</td>\n",
       "    </tr>\n",
       "  </tbody>\n",
       "</table>\n",
       "</div>"
      ],
      "text/plain": [
       "            s0_y_125  s0_y_250  s0_y_1000  s0_RT_125  s0_RT_250  s0_RT_1000  \\\n",
       "s0_y_125    1.000000  0.990467   0.990458   0.742140   0.735358    0.719558   \n",
       "s0_y_250    0.990467  1.000000   0.991262   0.738367   0.730797    0.717617   \n",
       "s0_y_1000   0.990458  0.991262   1.000000   0.740904   0.730302    0.714611   \n",
       "s0_RT_125   0.742140  0.738367   0.740904   1.000000   0.833774    0.814547   \n",
       "s0_RT_250   0.735358  0.730797   0.730302   0.833774   1.000000    0.807767   \n",
       "s0_RT_1000  0.719558  0.717617   0.714611   0.814547   0.807767    1.000000   \n",
       "s1_y_125    0.978278  0.988605   0.988970   0.735621   0.725230    0.704831   \n",
       "s1_y_250    0.989456  0.981423   0.990426   0.741431   0.732833    0.708024   \n",
       "s1_y_1000   0.989658  0.989854   0.981822   0.739304   0.733920    0.712461   \n",
       "s1_RT_125   0.754655  0.739377   0.748088   0.619685   0.776506    0.764662   \n",
       "s1_RT_250   0.751978  0.739977   0.749461   0.788279   0.611043    0.770854   \n",
       "s1_RT_1000  0.743393  0.729745   0.741073   0.787086   0.781543    0.574664   \n",
       "\n",
       "            s1_y_125  s1_y_250  s1_y_1000  s1_RT_125  s1_RT_250  s1_RT_1000  \n",
       "s0_y_125    0.978278  0.989456   0.989658   0.754655   0.751978    0.743393  \n",
       "s0_y_250    0.988605  0.981423   0.989854   0.739377   0.739977    0.729745  \n",
       "s0_y_1000   0.988970  0.990426   0.981822   0.748088   0.749461    0.741073  \n",
       "s0_RT_125   0.735621  0.741431   0.739304   0.619685   0.788279    0.787086  \n",
       "s0_RT_250   0.725230  0.732833   0.733920   0.776506   0.611043    0.781543  \n",
       "s0_RT_1000  0.704831  0.708024   0.712461   0.764662   0.770854    0.574664  \n",
       "s1_y_125    1.000000  0.990660   0.990459   0.746930   0.753906    0.750532  \n",
       "s1_y_250    0.990660  1.000000   0.991422   0.764770   0.765676    0.764961  \n",
       "s1_y_1000   0.990459  0.991422   1.000000   0.755773   0.755337    0.752536  \n",
       "s1_RT_125   0.746930  0.764770   0.755773   1.000000   0.821068    0.814116  \n",
       "s1_RT_250   0.753906  0.765676   0.755337   0.821068   1.000000    0.819288  \n",
       "s1_RT_1000  0.750532  0.764961   0.752536   0.814116   0.819288    1.000000  "
      ]
     },
     "execution_count": 134,
     "metadata": {},
     "output_type": "execute_result"
    }
   ],
   "source": [
    "sample_df"
   ]
  },
  {
   "cell_type": "code",
   "execution_count": 7,
   "metadata": {},
   "outputs": [],
   "source": [
    "# r2_100_05 = generate_n_split_r2(100, zs_df, 0.5)\n",
    "# r2_100_04 = generate_n_split_r2(100, zs_df, 0.4)\n",
    "# r2_100_03 = generate_n_split_r2(100, zs_df, 0.3)\n",
    "# r2_100_02 = generate_n_split_r2(100, zs_df, 0.2)\n",
    "\n",
    "r2_100_05 = generate_n_split_r2(10, zs_df, 0.5)\n"
   ]
  },
  {
   "cell_type": "code",
   "execution_count": 51,
   "metadata": {},
   "outputs": [
    {
     "data": {
      "image/png": "[encoded data removed]",
      "text/plain": [
       "<Figure size 432x288 with 1 Axes>"
      ]
     },
     "metadata": {
      "needs_background": "light"
     },
     "output_type": "display_data"
    }
   ],
   "source": [
    "durations = ['125 ms', '250 ms', '1000 ms']\n",
    "plt.plot(durations, r2_100_05[1], color = 'green', label= 'fraction = 0.5')\n",
    "plt.plot(durations, r2_100_04[1], color = 'blue', label= 'fraction = 0.4')\n",
    "plt.plot(durations, r2_100_03[1], color = 'purple', label= 'fraction = 0.3')\n",
    "plt.plot(durations, r2_100_02[1], color = 'orange', label= 'fraction = 0.2')\n",
    "plt.title('Average Residual R-Squared')\n",
    "plt.legend(fontsize = 9)\n",
    "plt.show()"
   ]
  },
  {
   "cell_type": "code",
   "execution_count": 64,
   "metadata": {},
   "outputs": [
    {
     "data": {
      "text/plain": [
       "Text(0.5, 1, 'Raw Split Residual R-Squared')"
      ]
     },
     "execution_count": 64,
     "metadata": {},
     "output_type": "execute_result"
    },
    {
     "data": {
      "image/png": "[encoded data removed]",
      "text/plain": [
       "<Figure size 576x504 with 2 Axes>"
      ]
     },
     "metadata": {
      "needs_background": "light"
     },
     "output_type": "display_data"
    }
   ],
   "source": [
    "import seaborn as sns\n",
    "\n",
    "plt.figure(figsize = [8, 7])\n",
    "a = [r2_100_05[1], r2_100_04[1], r2_100_03[1], r2_100_02[1]]\n",
    "\n",
    "ax = sns.heatmap(a, annot=True, fmt=\".2f\", annot_kws={\"fontsize\":22}, cmap= \"PRGn\", square=False, center=0, vmin=-1, vmax=1, edgecolors='w', linewidths=2, cbar_kws={\"shrink\": .82}) #notation: \"annot\" not \"annote\"\n",
    "bottom, top = ax.get_ylim()\n",
    "ax.set_ylim(bottom + 0.5, top - 0.5)\n",
    "\n",
    "# ax = sns.heatmap(a, linewidth=0.5, annot=True, cmap='coolwarm')\n",
    "# bottom, top = ax.get_ylim()\n",
    "# ax.set_ylim(bottom + 0.5, top - 0.5)\n",
    "\n",
    "plt.xlabel('Duration', fontsize = 14)\n",
    "\n",
    "plt.ylabel('Fraction', fontsize = 14)\n",
    "\n",
    "\n",
    "\n",
    "plt.title('Raw Split Residual R-Squared', fontsize = 15)"
   ]
  },
  {
   "cell_type": "code",
   "execution_count": null,
   "metadata": {},
   "outputs": [],
   "source": []
  }
 ],
 "metadata": {
  "kernelspec": {
   "display_name": "Python 3",
   "language": "python",
   "name": "python3"
  },
  "language_info": {
   "codemirror_mode": {
    "name": "ipython",
    "version": 3
   },
   "file_extension": ".py",
   "mimetype": "text/x-python",
   "name": "python",
   "nbconvert_exporter": "python",
   "pygments_lexer": "ipython3",
   "version": "3.7.6"
  }
 },
 "nbformat": 4,
 "nbformat_minor": 4
}
