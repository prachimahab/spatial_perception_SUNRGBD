{
 "cells": [
  {
   "cell_type": "markdown",
   "metadata": {},
   "source": [
    "## Create data csv for LME: Actual x Estim\n",
    "\n",
    "Models:\n",
    "1. raw_estim ~ duration*actual_depth + (1|subjID) \n",
    "2. zs_estim ~ duration*actual_depth + (1|subjID) \n",
    "3. zs_estim ~ duration*zs_actual_depth + (1|subjID) "
   ]
  },
  {
   "cell_type": "code",
   "execution_count": 1,
   "metadata": {},
   "outputs": [],
   "source": [
    "import csv\n",
    "import os\n",
    "import pandas as pd\n",
    "import numpy as np\n"
   ]
  },
  {
   "cell_type": "code",
   "execution_count": 18,
   "metadata": {},
   "outputs": [],
   "source": [
    "rp = '/Users/prachimahableshwarkar/Documents/GW/Depth_MTurk/verbal_judgement_analysis/data/finalVEMatched/raw/raw_data.csv'\n",
    "raw_data = pd.read_csv(rp)\n",
    "\n",
    "zp = '/Users/prachimahableshwarkar/Documents/GW/Depth_MTurk/verbal_judgement_analysis/data/finalVEMatched/z_scored/z_scored_data.csv'   \n",
    "zs_data = pd.read_csv(zp)\n",
    "\n"
   ]
  },
  {
   "cell_type": "code",
   "execution_count": 19,
   "metadata": {},
   "outputs": [
    {
     "data": {
      "text/plain": [
       "Index(['Unnamed: 0', 'subjID', 'workerId', 'experimentName', 'versionName',\n",
       "       'sequenceName', 'url', 'selected_row', 'windowWidth', 'windowHeight',\n",
       "       'screenWidth', 'screenHeight', 'startDate', 'startTime', 'trial',\n",
       "       'stimulus', 'duration', 'actual_depth', 'depth_estimate', 'trial_RT',\n",
       "       'log_sceneDuration', 'unitSelection', 'seq_filepath', 'experimentTime',\n",
       "       'totalTime', 'age', 'gender'],\n",
       "      dtype='object')"
      ]
     },
     "execution_count": 19,
     "metadata": {},
     "output_type": "execute_result"
    }
   ],
   "source": [
    "zs_data.columns"
   ]
  },
  {
   "cell_type": "code",
   "execution_count": 20,
   "metadata": {},
   "outputs": [],
   "source": [
    "zs_data = zs_data.rename(columns={\"depth_estimate\": \"zs_depth_estimate\"})"
   ]
  },
  {
   "cell_type": "markdown",
   "metadata": {},
   "source": [
    "## Add z-scored actual_depth to the dataframe"
   ]
  },
  {
   "cell_type": "code",
   "execution_count": 24,
   "metadata": {},
   "outputs": [],
   "source": [
    "avg_AD = zs_data['actual_depth'].mean()\n",
    "std_AD = zs_data['actual_depth'].std()\n",
    "ADs = np.array(list(zs_data[\"actual_depth\"]))\n",
    "zs_ADs = (ADs - avg_AD)/std_AD"
   ]
  },
  {
   "cell_type": "code",
   "execution_count": 25,
   "metadata": {},
   "outputs": [],
   "source": [
    "zs_data['zs_actual_depth'] = zs_ADs"
   ]
  },
  {
   "cell_type": "code",
   "execution_count": 27,
   "metadata": {},
   "outputs": [],
   "source": [
    "zs_data.to_csv('zscored_data.csv')\n"
   ]
  },
  {
   "cell_type": "code",
   "execution_count": null,
   "metadata": {},
   "outputs": [],
   "source": []
  }
 ],
 "metadata": {
  "kernelspec": {
   "display_name": "Python 3",
   "language": "python",
   "name": "python3"
  },
  "language_info": {
   "codemirror_mode": {
    "name": "ipython",
    "version": 3
   },
   "file_extension": ".py",
   "mimetype": "text/x-python",
   "name": "python",
   "nbconvert_exporter": "python",
   "pygments_lexer": "ipython3",
   "version": "3.7.5"
  }
 },
 "nbformat": 4,
 "nbformat_minor": 4
}
