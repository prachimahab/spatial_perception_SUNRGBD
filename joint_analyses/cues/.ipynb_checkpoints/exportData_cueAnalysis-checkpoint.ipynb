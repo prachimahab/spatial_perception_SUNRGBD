{
 "cells": [
  {
   "cell_type": "markdown",
   "metadata": {},
   "source": [
    "# Export VE Data as DataFrame for LME Cue Analysis"
   ]
  },
  {
   "cell_type": "code",
   "execution_count": 1,
   "metadata": {},
   "outputs": [],
   "source": [
    "import csv\n",
    "import pandas as pd\n",
    "import numpy as np\n",
    "import os\n",
    "import json\n",
    "import matplotlib.pyplot as plt\n",
    "import seaborn as sns"
   ]
  },
  {
   "cell_type": "code",
   "execution_count": 2,
   "metadata": {},
   "outputs": [],
   "source": [
    "# residuals, clutter, complete ground plane, viewing duration, stimulus "
   ]
  },
  {
   "cell_type": "code",
   "execution_count": 3,
   "metadata": {},
   "outputs": [],
   "source": [
    "dpath = '/Users/prachimahableshwarkar/Documents/GW/Depth_MTurk/verbal_judgement_analysis/data/finalVEMatched/z_scored/'\n",
    "\n",
    "# dpath = '/Users/pmahableshwarkar/Documents/Depth_Project/verbal_judgement_analysis/data/finalVEMatched/z_scored/'\n",
    "\n",
    "# stim \n",
    "with open(dpath + 'z_final_stim_125.npy' , 'rb') as f:\n",
    "    stim_125 = np.load(f, allow_pickle=True)\n",
    "    \n",
    "with open(dpath + 'z_final_stim_250.npy' , 'rb') as f:\n",
    "    stim_250 = np.load(f, allow_pickle=True)\n",
    "\n",
    "with open(dpath + 'z_final_stim_1000.npy' , 'rb') as f:\n",
    "    stim_1000 = np.load(f, allow_pickle=True)\n",
    "    \n",
    "# residuals\n",
    "with open(dpath + 'residuals/'+ 'z_residuals_125.npy' , 'rb') as f:\n",
    "    residuals_125 = np.load(f, allow_pickle=True)\n",
    "with open(dpath + 'residuals/'+ 'z_residuals_250.npy' , 'rb') as f:\n",
    "    residuals_250 = np.load(f, allow_pickle=True) \n",
    "with open(dpath + 'residuals/'+ 'z_residuals_1000.npy' , 'rb') as f:\n",
    "    residuals_1000= np.load(f, allow_pickle=True)\n",
    "    \n",
    "# difference between z-scored estimate and z-scored actual depth\n",
    "with open(dpath + '/diff_125.npy' , 'rb') as f:\n",
    "    diff_125 = np.load(f, allow_pickle=True)\n",
    "with open(dpath + '/diff_250.npy' , 'rb') as f:\n",
    "    diff_250 = np.load(f, allow_pickle=True) \n",
    "with open(dpath + '/diff_1000.npy' , 'rb') as f:\n",
    "    diff_1000= np.load(f, allow_pickle=True)\n",
    "    \n",
    "# difference between raw estimate and raw actual depth\n",
    "# with open('/Users/prachimahableshwarkar/Documents/GW/Depth_MTurk/verbal_judgement_analysis/data/finalVEMatched/raw' + '/raw_diff_125.npy' , 'rb') as f:\n",
    "#     raw_diff_125 = np.load(f, allow_pickle=True)\n",
    "# with open('/Users/prachimahableshwarkar/Documents/GW/Depth_MTurk/verbal_judgement_analysis/data/finalVEMatched/raw' + '/raw_diff_250.npy' , 'rb') as f:\n",
    "#     raw_diff_250 = np.load(f, allow_pickle=True) \n",
    "# with open('/Users/prachimahableshwarkar/Documents/GW/Depth_MTurk/verbal_judgement_analysis/data/finalVEMatched/raw' + '/raw_diff_1000.npy' , 'rb') as f:\n",
    "#     raw_diff_1000= np.load(f, allow_pickle=True)"
   ]
  },
  {
   "cell_type": "code",
   "execution_count": null,
   "metadata": {},
   "outputs": [],
   "source": []
  },
  {
   "cell_type": "code",
   "execution_count": 4,
   "metadata": {},
   "outputs": [
    {
     "name": "stdout",
     "output_type": "stream",
     "text": [
      "002118_2014-06-25_20-32-08_260595134347_rgbf000078-resize excluded\n",
      "002657_2014-06-13_15-29-54_094959634447_rgbf000150-resize excluded\n"
     ]
    }
   ],
   "source": [
    "# path = '/Users/pmahableshwarkar/Documents/Depth_Project/SUN_scene_cue_coding/GP_size_dict.json'\n",
    "path = '/Users/prachimahableshwarkar/Documents/GW/Depth_MTurk/SUN_scene_cue_coding/GP_size_dict.json'\n",
    "\n",
    "gp_size_dict = json.load(open(path))\n",
    "\n",
    "# Find GP or VGP Outliers \n",
    "\n",
    "gpsize_list = [[key, gp_size_dict[key]] for key in gp_size_dict]\n",
    "gpsize_mean = np.mean(np.array([elem[1] for elem in gpsize_list]))\n",
    "gpsize_std = np.std(np.array([elem[1] for elem in gpsize_list]))\n",
    "\n",
    "gpsize_outlierRange = [gpsize_mean - (3*gpsize_std), gpsize_mean + (3*gpsize_std)]\n",
    "\n",
    "cleaned_gpsize_dict = {}\n",
    "for key in gp_size_dict:\n",
    "    if gpsize_outlierRange[0] < gp_size_dict[key] < gpsize_outlierRange[1]:\n",
    "        cleaned_gpsize_dict[key] = gp_size_dict[key]\n",
    "    else:\n",
    "        print(key, 'excluded')\n",
    "        \n",
    "ordered_gp_size = []\n",
    "gp_none = 0\n",
    "\n",
    "\n",
    "for folder in [elem.split('/')[1][:-2] for elem in stim_250]:\n",
    "    try:\n",
    "        ordered_gp_size.append(cleaned_gpsize_dict[folder])\n",
    "    except:\n",
    "        gp_none += 1\n",
    "        ordered_gp_size.append(None)"
   ]
  },
  {
   "cell_type": "code",
   "execution_count": 5,
   "metadata": {},
   "outputs": [
    {
     "data": {
      "text/plain": [
       "149"
      ]
     },
     "execution_count": 5,
     "metadata": {},
     "output_type": "execute_result"
    }
   ],
   "source": [
    "len(cleaned_gpsize_dict)"
   ]
  },
  {
   "cell_type": "code",
   "execution_count": 6,
   "metadata": {},
   "outputs": [],
   "source": [
    "# Opening JSON file\n",
    "f = open('/Users/prachimahableshwarkar/Documents/GW/Depth_MTurk/verbal_judgement_analysis/cue_analyses/cleaned_globalClutter.json')\n",
    "# f = open('/Users/pmahableshwarkar/Documents/Depth_Project/verbal_judgement_analysis/cue_analyses/cleaned_globalClutter.json')\n",
    "  \n",
    "# returns JSON object as \n",
    "# a dictionary\n",
    "cleaned_globalClutter = json.load(f)"
   ]
  },
  {
   "cell_type": "code",
   "execution_count": 7,
   "metadata": {},
   "outputs": [
    {
     "data": {
      "text/plain": [
       "140"
      ]
     },
     "execution_count": 7,
     "metadata": {},
     "output_type": "execute_result"
    }
   ],
   "source": [
    "len(cleaned_globalClutter)"
   ]
  },
  {
   "cell_type": "code",
   "execution_count": null,
   "metadata": {},
   "outputs": [],
   "source": []
  },
  {
   "cell_type": "code",
   "execution_count": 8,
   "metadata": {},
   "outputs": [
    {
     "data": {
      "text/plain": [
       "(113, 113, 113, 113, 113, 113)"
      ]
     },
     "execution_count": 8,
     "metadata": {},
     "output_type": "execute_result"
    }
   ],
   "source": [
    "globalClutter = []\n",
    "\n",
    "completeGP = []\n",
    "\n",
    "trunc_residuals_125 = []\n",
    "trunc_residuals_250 = []\n",
    "trunc_residuals_1000 = []\n",
    "\n",
    "stimulus = []\n",
    "\n",
    "for stim in cleaned_globalClutter:\n",
    "    if stim in list(cleaned_gpsize_dict.keys()):\n",
    "        index_125 = [elem.split('/')[1][:-2] for elem in stim_125].index(stim)\n",
    "        index_250 = [elem.split('/')[1][:-2] for elem in stim_250].index(stim)\n",
    "        index_1000 = [elem.split('/')[1][:-2] for elem in stim_1000].index(stim)\n",
    "        \n",
    "        trunc_residuals_125.append(residuals_125[index_125])\n",
    "        trunc_residuals_250.append(residuals_250[index_250])\n",
    "        trunc_residuals_1000.append(residuals_1000[index_1000])\n",
    "        \n",
    "        globalClutter.append(cleaned_globalClutter[stim])\n",
    "        completeGP.append(cleaned_gpsize_dict[stim])\n",
    "        \n",
    "        stimulus.append(stim)\n",
    "        \n",
    "    \n",
    "len(trunc_residuals_125), len(trunc_residuals_250), len(trunc_residuals_1000), len(globalClutter), len(completeGP), len(stimulus)"
   ]
  },
  {
   "cell_type": "code",
   "execution_count": 9,
   "metadata": {},
   "outputs": [
    {
     "data": {
      "text/plain": [
       "113"
      ]
     },
     "execution_count": 9,
     "metadata": {},
     "output_type": "execute_result"
    }
   ],
   "source": [
    "len([125] * len(trunc_residuals_125))"
   ]
  },
  {
   "cell_type": "code",
   "execution_count": 10,
   "metadata": {},
   "outputs": [
    {
     "data": {
      "text/plain": [
       "339"
      ]
     },
     "execution_count": 10,
     "metadata": {},
     "output_type": "execute_result"
    }
   ],
   "source": [
    "len(np.concatenate((np.abs(np.array(trunc_residuals_125)), np.abs(np.array(trunc_residuals_250)), np.abs(np.array(trunc_residuals_1000))), axis=0),)"
   ]
  },
  {
   "cell_type": "code",
   "execution_count": 11,
   "metadata": {},
   "outputs": [
    {
     "data": {
      "text/html": [
       "<div>\n",
       "<style scoped>\n",
       "    .dataframe tbody tr th:only-of-type {\n",
       "        vertical-align: middle;\n",
       "    }\n",
       "\n",
       "    .dataframe tbody tr th {\n",
       "        vertical-align: top;\n",
       "    }\n",
       "\n",
       "    .dataframe thead th {\n",
       "        text-align: right;\n",
       "    }\n",
       "</style>\n",
       "<table border=\"1\" class=\"dataframe\">\n",
       "  <thead>\n",
       "    <tr style=\"text-align: right;\">\n",
       "      <th></th>\n",
       "      <th>residuals</th>\n",
       "      <th>abs_residuals</th>\n",
       "      <th>duration</th>\n",
       "      <th>groundPlane</th>\n",
       "      <th>clutter</th>\n",
       "      <th>stimulus</th>\n",
       "    </tr>\n",
       "  </thead>\n",
       "  <tbody>\n",
       "    <tr>\n",
       "      <th>0</th>\n",
       "      <td>-0.099975</td>\n",
       "      <td>0.099975</td>\n",
       "      <td>125</td>\n",
       "      <td>8.082259</td>\n",
       "      <td>3</td>\n",
       "      <td>000866_2014-06-09_20-45-42_260595134347_rgbf00...</td>\n",
       "    </tr>\n",
       "    <tr>\n",
       "      <th>1</th>\n",
       "      <td>0.080464</td>\n",
       "      <td>0.080464</td>\n",
       "      <td>125</td>\n",
       "      <td>10.664824</td>\n",
       "      <td>19</td>\n",
       "      <td>003070_2014-06-15_14-58-27_094959634447_rgbf00...</td>\n",
       "    </tr>\n",
       "    <tr>\n",
       "      <th>2</th>\n",
       "      <td>-0.301428</td>\n",
       "      <td>0.301428</td>\n",
       "      <td>125</td>\n",
       "      <td>9.164038</td>\n",
       "      <td>11</td>\n",
       "      <td>001092_2014-06-15_17-34-58_260595134347_rgbf00...</td>\n",
       "    </tr>\n",
       "    <tr>\n",
       "      <th>3</th>\n",
       "      <td>-0.075657</td>\n",
       "      <td>0.075657</td>\n",
       "      <td>125</td>\n",
       "      <td>10.409246</td>\n",
       "      <td>14</td>\n",
       "      <td>002272_2014-06-28_18-53-56_260595134347_rgbf00...</td>\n",
       "    </tr>\n",
       "    <tr>\n",
       "      <th>4</th>\n",
       "      <td>-0.164808</td>\n",
       "      <td>0.164808</td>\n",
       "      <td>125</td>\n",
       "      <td>31.362143</td>\n",
       "      <td>23</td>\n",
       "      <td>000642_2014-06-08_16-59-25_260595134347_rgbf00...</td>\n",
       "    </tr>\n",
       "    <tr>\n",
       "      <th>...</th>\n",
       "      <td>...</td>\n",
       "      <td>...</td>\n",
       "      <td>...</td>\n",
       "      <td>...</td>\n",
       "      <td>...</td>\n",
       "      <td>...</td>\n",
       "    </tr>\n",
       "    <tr>\n",
       "      <th>334</th>\n",
       "      <td>0.084265</td>\n",
       "      <td>0.084265</td>\n",
       "      <td>1000</td>\n",
       "      <td>17.196771</td>\n",
       "      <td>12</td>\n",
       "      <td>001094_2014-06-15_17-36-00_260595134347_rgbf00...</td>\n",
       "    </tr>\n",
       "    <tr>\n",
       "      <th>335</th>\n",
       "      <td>0.127303</td>\n",
       "      <td>0.127303</td>\n",
       "      <td>1000</td>\n",
       "      <td>20.030652</td>\n",
       "      <td>24</td>\n",
       "      <td>001808_2014-06-26_20-50-58_260595134347_rgbf00...</td>\n",
       "    </tr>\n",
       "    <tr>\n",
       "      <th>336</th>\n",
       "      <td>0.341774</td>\n",
       "      <td>0.341774</td>\n",
       "      <td>1000</td>\n",
       "      <td>11.913177</td>\n",
       "      <td>14</td>\n",
       "      <td>000758_2014-06-08_22-05-08_260595134347_rgbf00...</td>\n",
       "    </tr>\n",
       "    <tr>\n",
       "      <th>337</th>\n",
       "      <td>0.322175</td>\n",
       "      <td>0.322175</td>\n",
       "      <td>1000</td>\n",
       "      <td>5.576512</td>\n",
       "      <td>7</td>\n",
       "      <td>000878_2014-06-08_22-52-45_260595134347_rgbf00...</td>\n",
       "    </tr>\n",
       "    <tr>\n",
       "      <th>338</th>\n",
       "      <td>-0.224550</td>\n",
       "      <td>0.224550</td>\n",
       "      <td>1000</td>\n",
       "      <td>12.019051</td>\n",
       "      <td>12</td>\n",
       "      <td>001167_2014-06-17_15-38-07_260595134347_rgbf00...</td>\n",
       "    </tr>\n",
       "  </tbody>\n",
       "</table>\n",
       "<p>339 rows × 6 columns</p>\n",
       "</div>"
      ],
      "text/plain": [
       "     residuals  abs_residuals  duration  groundPlane  clutter  \\\n",
       "0    -0.099975       0.099975       125     8.082259        3   \n",
       "1     0.080464       0.080464       125    10.664824       19   \n",
       "2    -0.301428       0.301428       125     9.164038       11   \n",
       "3    -0.075657       0.075657       125    10.409246       14   \n",
       "4    -0.164808       0.164808       125    31.362143       23   \n",
       "..         ...            ...       ...          ...      ...   \n",
       "334   0.084265       0.084265      1000    17.196771       12   \n",
       "335   0.127303       0.127303      1000    20.030652       24   \n",
       "336   0.341774       0.341774      1000    11.913177       14   \n",
       "337   0.322175       0.322175      1000     5.576512        7   \n",
       "338  -0.224550       0.224550      1000    12.019051       12   \n",
       "\n",
       "                                              stimulus  \n",
       "0    000866_2014-06-09_20-45-42_260595134347_rgbf00...  \n",
       "1    003070_2014-06-15_14-58-27_094959634447_rgbf00...  \n",
       "2    001092_2014-06-15_17-34-58_260595134347_rgbf00...  \n",
       "3    002272_2014-06-28_18-53-56_260595134347_rgbf00...  \n",
       "4    000642_2014-06-08_16-59-25_260595134347_rgbf00...  \n",
       "..                                                 ...  \n",
       "334  001094_2014-06-15_17-36-00_260595134347_rgbf00...  \n",
       "335  001808_2014-06-26_20-50-58_260595134347_rgbf00...  \n",
       "336  000758_2014-06-08_22-05-08_260595134347_rgbf00...  \n",
       "337  000878_2014-06-08_22-52-45_260595134347_rgbf00...  \n",
       "338  001167_2014-06-17_15-38-07_260595134347_rgbf00...  \n",
       "\n",
       "[339 rows x 6 columns]"
      ]
     },
     "execution_count": 11,
     "metadata": {},
     "output_type": "execute_result"
    }
   ],
   "source": [
    "# initialize data of lists.\n",
    "data = {'residuals': trunc_residuals_125+trunc_residuals_250+trunc_residuals_1000,\n",
    "        'abs_residuals': np.concatenate((np.abs(np.array(trunc_residuals_125)), np.abs(np.array(trunc_residuals_250)), np.abs(np.array(trunc_residuals_1000))), axis=0),\n",
    "        'duration': [125] * len(trunc_residuals_125) + [250] * len(trunc_residuals_250) + [1000] * len(trunc_residuals_1000),\n",
    "        'groundPlane': completeGP * 3,\n",
    "        'clutter': globalClutter * 3,\n",
    "        'stimulus': stimulus * 3}\n",
    "  \n",
    "# Create DataFrame\n",
    "df = pd.DataFrame(data)\n",
    "df"
   ]
  },
  {
   "cell_type": "code",
   "execution_count": 12,
   "metadata": {},
   "outputs": [
    {
     "data": {
      "text/plain": [
       "(0.3230816540755546, 386.40077064565435, 7.3032069249418825, 8.380988898546363)"
      ]
     },
     "execution_count": 12,
     "metadata": {},
     "output_type": "execute_result"
    }
   ],
   "source": [
    "np.std(np.array(df['residuals'])), np.std(np.array(df['duration'])), np.std(np.array(df['clutter'])), np.std(np.array(df['groundPlane']))\n"
   ]
  },
  {
   "cell_type": "code",
   "execution_count": 13,
   "metadata": {},
   "outputs": [],
   "source": [
    "df.to_csv('data_for_lme.csv', index=False)"
   ]
  },
  {
   "cell_type": "markdown",
   "metadata": {},
   "source": [
    "# Add Participant Residuals"
   ]
  },
  {
   "cell_type": "code",
   "execution_count": 109,
   "metadata": {},
   "outputs": [],
   "source": [
    "# p = '/Users/pmahableshwarkar/Documents/Depth_Project/verbal_judgement_analysis/data/finalVEMatched/z_scored/residuals/participant_residuals.csv'\n",
    "p = '/Users/prachimahableshwarkar/Documents/GW/Depth_MTurk/verbal_judgement_analysis/data/finalVEMatched/z_scored/residuals/participant_residuals.csv'\n",
    "\n",
    "p_data = pd.read_csv(p) \n",
    "p_stimuli = list(p_data.stimulus.unique())\n"
   ]
  },
  {
   "cell_type": "code",
   "execution_count": 110,
   "metadata": {},
   "outputs": [
    {
     "data": {
      "text/html": [
       "<div>\n",
       "<style scoped>\n",
       "    .dataframe tbody tr th:only-of-type {\n",
       "        vertical-align: middle;\n",
       "    }\n",
       "\n",
       "    .dataframe tbody tr th {\n",
       "        vertical-align: top;\n",
       "    }\n",
       "\n",
       "    .dataframe thead th {\n",
       "        text-align: right;\n",
       "    }\n",
       "</style>\n",
       "<table border=\"1\" class=\"dataframe\">\n",
       "  <thead>\n",
       "    <tr style=\"text-align: right;\">\n",
       "      <th></th>\n",
       "      <th>subjID</th>\n",
       "      <th>duration</th>\n",
       "      <th>s_residual</th>\n",
       "      <th>abs_s_residual</th>\n",
       "      <th>stimulus</th>\n",
       "      <th>error</th>\n",
       "      <th>abs_error</th>\n",
       "      <th>actual_depth</th>\n",
       "    </tr>\n",
       "  </thead>\n",
       "  <tbody>\n",
       "    <tr>\n",
       "      <th>0</th>\n",
       "      <td>541423.0</td>\n",
       "      <td>125</td>\n",
       "      <td>0.906977</td>\n",
       "      <td>0.906977</td>\n",
       "      <td>001808_2014-06-26_20-50-58_260595134347_rgbf00...</td>\n",
       "      <td>-2.759331</td>\n",
       "      <td>2.759331</td>\n",
       "      <td>4.2490</td>\n",
       "    </tr>\n",
       "    <tr>\n",
       "      <th>1</th>\n",
       "      <td>541423.0</td>\n",
       "      <td>125</td>\n",
       "      <td>1.590297</td>\n",
       "      <td>1.590297</td>\n",
       "      <td>001815_2014-06-26_20-52-55_260595134347_rgbf00...</td>\n",
       "      <td>-1.635132</td>\n",
       "      <td>1.635132</td>\n",
       "      <td>3.3865</td>\n",
       "    </tr>\n",
       "    <tr>\n",
       "      <th>2</th>\n",
       "      <td>541423.0</td>\n",
       "      <td>125</td>\n",
       "      <td>-0.355174</td>\n",
       "      <td>0.355174</td>\n",
       "      <td>001029_2014-06-08_13-17-57_260595134347_rgbf00...</td>\n",
       "      <td>-3.425721</td>\n",
       "      <td>3.425721</td>\n",
       "      <td>3.0835</td>\n",
       "    </tr>\n",
       "    <tr>\n",
       "      <th>3</th>\n",
       "      <td>541423.0</td>\n",
       "      <td>125</td>\n",
       "      <td>-0.847848</td>\n",
       "      <td>0.847848</td>\n",
       "      <td>000677_2014-06-08_23-10-32_260595134347_rgbf00...</td>\n",
       "      <td>-4.159920</td>\n",
       "      <td>4.159920</td>\n",
       "      <td>3.5560</td>\n",
       "    </tr>\n",
       "    <tr>\n",
       "      <th>4</th>\n",
       "      <td>541423.0</td>\n",
       "      <td>125</td>\n",
       "      <td>-0.403006</td>\n",
       "      <td>0.403006</td>\n",
       "      <td>002118_2014-06-25_20-32-08_260595134347_rgbf00...</td>\n",
       "      <td>-3.249920</td>\n",
       "      <td>3.249920</td>\n",
       "      <td>2.6460</td>\n",
       "    </tr>\n",
       "    <tr>\n",
       "      <th>...</th>\n",
       "      <td>...</td>\n",
       "      <td>...</td>\n",
       "      <td>...</td>\n",
       "      <td>...</td>\n",
       "      <td>...</td>\n",
       "      <td>...</td>\n",
       "      <td>...</td>\n",
       "      <td>...</td>\n",
       "    </tr>\n",
       "    <tr>\n",
       "      <th>71127</th>\n",
       "      <td>351649.0</td>\n",
       "      <td>250</td>\n",
       "      <td>0.593507</td>\n",
       "      <td>0.593507</td>\n",
       "      <td>002875_2014-06-01_15-19-00_094959634447_rgbf00...</td>\n",
       "      <td>-1.945729</td>\n",
       "      <td>1.945729</td>\n",
       "      <td>1.9675</td>\n",
       "    </tr>\n",
       "    <tr>\n",
       "      <th>71128</th>\n",
       "      <td>351649.0</td>\n",
       "      <td>250</td>\n",
       "      <td>-0.542151</td>\n",
       "      <td>0.542151</td>\n",
       "      <td>001092_2014-06-15_17-34-58_260595134347_rgbf00...</td>\n",
       "      <td>-3.426449</td>\n",
       "      <td>3.426449</td>\n",
       "      <td>2.6935</td>\n",
       "    </tr>\n",
       "    <tr>\n",
       "      <th>71129</th>\n",
       "      <td>351649.0</td>\n",
       "      <td>250</td>\n",
       "      <td>-0.513911</td>\n",
       "      <td>0.513911</td>\n",
       "      <td>002545_2014-06-24_13-38-53_094959634447_rgbf00...</td>\n",
       "      <td>-3.030808</td>\n",
       "      <td>3.030808</td>\n",
       "      <td>1.9205</td>\n",
       "    </tr>\n",
       "    <tr>\n",
       "      <th>71130</th>\n",
       "      <td>351649.0</td>\n",
       "      <td>250</td>\n",
       "      <td>0.277538</td>\n",
       "      <td>0.277538</td>\n",
       "      <td>001167_2014-06-17_15-38-07_260595134347_rgbf00...</td>\n",
       "      <td>-2.206089</td>\n",
       "      <td>2.206089</td>\n",
       "      <td>1.8505</td>\n",
       "    </tr>\n",
       "    <tr>\n",
       "      <th>71131</th>\n",
       "      <td>351649.0</td>\n",
       "      <td>250</td>\n",
       "      <td>-0.972956</td>\n",
       "      <td>0.972956</td>\n",
       "      <td>003587_2014-05-23_16-48-02_094959634447_rgbf00...</td>\n",
       "      <td>-3.222028</td>\n",
       "      <td>3.222028</td>\n",
       "      <td>1.3570</td>\n",
       "    </tr>\n",
       "  </tbody>\n",
       "</table>\n",
       "<p>71132 rows × 8 columns</p>\n",
       "</div>"
      ],
      "text/plain": [
       "         subjID  duration  s_residual  abs_s_residual  \\\n",
       "0      541423.0       125    0.906977        0.906977   \n",
       "1      541423.0       125    1.590297        1.590297   \n",
       "2      541423.0       125   -0.355174        0.355174   \n",
       "3      541423.0       125   -0.847848        0.847848   \n",
       "4      541423.0       125   -0.403006        0.403006   \n",
       "...         ...       ...         ...             ...   \n",
       "71127  351649.0       250    0.593507        0.593507   \n",
       "71128  351649.0       250   -0.542151        0.542151   \n",
       "71129  351649.0       250   -0.513911        0.513911   \n",
       "71130  351649.0       250    0.277538        0.277538   \n",
       "71131  351649.0       250   -0.972956        0.972956   \n",
       "\n",
       "                                                stimulus     error  abs_error  \\\n",
       "0      001808_2014-06-26_20-50-58_260595134347_rgbf00... -2.759331   2.759331   \n",
       "1      001815_2014-06-26_20-52-55_260595134347_rgbf00... -1.635132   1.635132   \n",
       "2      001029_2014-06-08_13-17-57_260595134347_rgbf00... -3.425721   3.425721   \n",
       "3      000677_2014-06-08_23-10-32_260595134347_rgbf00... -4.159920   4.159920   \n",
       "4      002118_2014-06-25_20-32-08_260595134347_rgbf00... -3.249920   3.249920   \n",
       "...                                                  ...       ...        ...   \n",
       "71127  002875_2014-06-01_15-19-00_094959634447_rgbf00... -1.945729   1.945729   \n",
       "71128  001092_2014-06-15_17-34-58_260595134347_rgbf00... -3.426449   3.426449   \n",
       "71129  002545_2014-06-24_13-38-53_094959634447_rgbf00... -3.030808   3.030808   \n",
       "71130  001167_2014-06-17_15-38-07_260595134347_rgbf00... -2.206089   2.206089   \n",
       "71131  003587_2014-05-23_16-48-02_094959634447_rgbf00... -3.222028   3.222028   \n",
       "\n",
       "       actual_depth  \n",
       "0            4.2490  \n",
       "1            3.3865  \n",
       "2            3.0835  \n",
       "3            3.5560  \n",
       "4            2.6460  \n",
       "...             ...  \n",
       "71127        1.9675  \n",
       "71128        2.6935  \n",
       "71129        1.9205  \n",
       "71130        1.8505  \n",
       "71131        1.3570  \n",
       "\n",
       "[71132 rows x 8 columns]"
      ]
     },
     "execution_count": 110,
     "metadata": {},
     "output_type": "execute_result"
    }
   ],
   "source": [
    "p_data"
   ]
  },
  {
   "cell_type": "code",
   "execution_count": 111,
   "metadata": {},
   "outputs": [
    {
     "data": {
      "text/plain": [
       "(43, 43)"
      ]
     },
     "execution_count": 111,
     "metadata": {},
     "output_type": "execute_result"
    }
   ],
   "source": [
    "incl_stimuli = stimulus\n",
    "\n",
    "# images that we do not have ground plane and/or clutter data for \n",
    "excluded_stimuli = [x for x in p_stimuli if x not in incl_stimuli]\n",
    "\n",
    "len(excluded_stimuli), 156-113"
   ]
  },
  {
   "cell_type": "code",
   "execution_count": 112,
   "metadata": {},
   "outputs": [
    {
     "data": {
      "text/plain": [
       "113"
      ]
     },
     "execution_count": 112,
     "metadata": {},
     "output_type": "execute_result"
    }
   ],
   "source": [
    "# remove all rows that have data for images that we do not have ground plane and/or clutter data for\n",
    "p_data = p_data[p_data.stimulus.isin(excluded_stimuli) == False]\n",
    "\n",
    "len(p_data.stimulus.unique())"
   ]
  },
  {
   "cell_type": "markdown",
   "metadata": {},
   "source": [
    "https://towardsdatascience.com/create-new-column-based-on-other-columns-pandas-5586d87de73d\n",
    "\n"
   ]
  },
  {
   "cell_type": "code",
   "execution_count": 113,
   "metadata": {},
   "outputs": [],
   "source": [
    "def assignGroundPlane(row):  \n",
    "    stim = row['stimulus']\n",
    "    groundPlane = cleaned_gpsize_dict[stim]\n",
    "    \n",
    "    return groundPlane\n",
    "\n",
    "def assignClutter(row):  \n",
    "    stim = row['stimulus']\n",
    "    clutter = cleaned_globalClutter[stim]\n",
    "    \n",
    "    return clutter\n"
   ]
  },
  {
   "cell_type": "code",
   "execution_count": 114,
   "metadata": {},
   "outputs": [
    {
     "name": "stderr",
     "output_type": "stream",
     "text": [
      "/Users/prachimahableshwarkar/opt/anaconda3/envs/defaultenv/lib/python3.7/site-packages/ipykernel_launcher.py:2: SettingWithCopyWarning: \n",
      "A value is trying to be set on a copy of a slice from a DataFrame.\n",
      "Try using .loc[row_indexer,col_indexer] = value instead\n",
      "\n",
      "See the caveats in the documentation: http://pandas.pydata.org/pandas-docs/stable/user_guide/indexing.html#returning-a-view-versus-a-copy\n",
      "  \n"
     ]
    }
   ],
   "source": [
    "# add groundPlane data to the df by referencing the GP value for each image\n",
    "p_data['groundPlane'] = p_data.apply(lambda row: assignGroundPlane(row), axis=1)\n"
   ]
  },
  {
   "cell_type": "code",
   "execution_count": 115,
   "metadata": {},
   "outputs": [
    {
     "name": "stderr",
     "output_type": "stream",
     "text": [
      "/Users/prachimahableshwarkar/opt/anaconda3/envs/defaultenv/lib/python3.7/site-packages/ipykernel_launcher.py:2: SettingWithCopyWarning: \n",
      "A value is trying to be set on a copy of a slice from a DataFrame.\n",
      "Try using .loc[row_indexer,col_indexer] = value instead\n",
      "\n",
      "See the caveats in the documentation: http://pandas.pydata.org/pandas-docs/stable/user_guide/indexing.html#returning-a-view-versus-a-copy\n",
      "  \n"
     ]
    }
   ],
   "source": [
    "# add clutter data to the df by referencing the GP value for each image\n",
    "p_data['clutter'] = p_data.apply(lambda row: assignClutter(row), axis=1)\n"
   ]
  },
  {
   "cell_type": "code",
   "execution_count": null,
   "metadata": {},
   "outputs": [],
   "source": []
  },
  {
   "cell_type": "code",
   "execution_count": 116,
   "metadata": {},
   "outputs": [
    {
     "data": {
      "text/plain": [
       "(24, 20.030651550568866)"
      ]
     },
     "execution_count": 116,
     "metadata": {},
     "output_type": "execute_result"
    }
   ],
   "source": [
    "cleaned_globalClutter['001808_2014-06-26_20-50-58_260595134347_rgbf000029-resize'], cleaned_gpsize_dict['001808_2014-06-26_20-50-58_260595134347_rgbf000029-resize']"
   ]
  },
  {
   "cell_type": "code",
   "execution_count": 117,
   "metadata": {},
   "outputs": [
    {
     "name": "stderr",
     "output_type": "stream",
     "text": [
      "/Users/prachimahableshwarkar/opt/anaconda3/envs/defaultenv/lib/python3.7/site-packages/ipykernel_launcher.py:1: SettingWithCopyWarning: \n",
      "A value is trying to be set on a copy of a slice from a DataFrame.\n",
      "Try using .loc[row_indexer,col_indexer] = value instead\n",
      "\n",
      "See the caveats in the documentation: http://pandas.pydata.org/pandas-docs/stable/user_guide/indexing.html#returning-a-view-versus-a-copy\n",
      "  \"\"\"Entry point for launching an IPython kernel.\n"
     ]
    }
   ],
   "source": [
    "p_data['duration'] = p_data['duration'].div(100)\n"
   ]
  },
  {
   "cell_type": "code",
   "execution_count": 118,
   "metadata": {},
   "outputs": [],
   "source": [
    "p_data.to_csv('participantData_for_lme.csv', index=False)"
   ]
  },
  {
   "cell_type": "code",
   "execution_count": 119,
   "metadata": {},
   "outputs": [],
   "source": [
    "cols = p_data.columns.tolist()\n",
    "cols = ['duration', 'subjID', 'stimulus', 's_residual', 'abs_s_residual', 'abs_error', 'error','groundPlane', 'clutter', 'actual_depth']\n",
    "\n",
    "p_data = p_data[cols]\n"
   ]
  },
  {
   "cell_type": "code",
   "execution_count": 120,
   "metadata": {},
   "outputs": [
    {
     "data": {
      "text/plain": [
       "Index(['duration', 'subjID', 'stimulus', 's_residual', 'abs_s_residual',\n",
       "       'abs_error', 'error', 'groundPlane', 'clutter', 'actual_depth'],\n",
       "      dtype='object')"
      ]
     },
     "execution_count": 120,
     "metadata": {},
     "output_type": "execute_result"
    }
   ],
   "source": [
    "p_data.columns[:]"
   ]
  },
  {
   "cell_type": "code",
   "execution_count": 121,
   "metadata": {},
   "outputs": [],
   "source": [
    "p_data_grouped = p_data.groupby('stimulus')[p_data.columns[2:]].mean()"
   ]
  },
  {
   "cell_type": "code",
   "execution_count": 122,
   "metadata": {},
   "outputs": [],
   "source": [
    "p_data_grouped.to_csv('participantData_grouped_for_lme.csv', index=False)"
   ]
  },
  {
   "cell_type": "code",
   "execution_count": 123,
   "metadata": {},
   "outputs": [
    {
     "name": "stdout",
     "output_type": "stream",
     "text": [
      "m: [0.45989185]\n",
      "b: 1.6541191685541274\n",
      "R-squared:  0.6794893878674382\n"
     ]
    },
    {
     "data": {
      "text/plain": [
       "0.679"
      ]
     },
     "execution_count": 123,
     "metadata": {},
     "output_type": "execute_result"
    },
    {
     "data": {
      "image/png": "[encoded data removed]",
      "text/plain": [
       "<Figure size 432x432 with 1 Axes>"
      ]
     },
     "metadata": {
      "needs_background": "light"
     },
     "output_type": "display_data"
    }
   ],
   "source": [
    "from sklearn.linear_model import LinearRegression\n",
    "\n",
    "fig, ax = plt.subplots(figsize=[6,6])\n",
    "ax.spines['right'].set_visible(False)\n",
    "ax.spines['top'].set_visible(False)\n",
    "\n",
    "for axis in ['bottom','left']:\n",
    "    ax.spines[axis].set_linewidth(2.3)\n",
    "\n",
    "#run regression\n",
    "X = np.array(p_data_grouped['actual_depth']).reshape(-1,1)\n",
    "y = np.array(p_data_grouped['abs_error'])\n",
    "\n",
    "\n",
    "reg = LinearRegression().fit(X, y)\n",
    "\n",
    "#Generated Predictions\n",
    "y_predicted = reg.predict(X)\n",
    "#Plot Our Actual and Predicted Values\n",
    "plt.plot(X, y, 'o', color='black', alpha = 0.5);\n",
    "plt.plot(X,y_predicted,color='brown', label = 'm = ' + str(round(reg.coef_[0], 3))\n",
    "         + '     r-squared = ' + str(round(float(reg.score(X, y)), 3)))\n",
    "\n",
    "plt.tight_layout()    \n",
    "\n",
    "plt.xticks(np.arange(1,5,0.5),fontsize=15)\n",
    "\n",
    "plt.yticks(np.arange(1,5,0.5),fontsize=15)\n",
    "\n",
    "\n",
    "plt.xlim(1,5)\n",
    "plt.ylim(1,5)\n",
    "\n",
    "plt.ylabel('Abs(Error)', fontsize=22)\n",
    "\n",
    "plt.xlabel('Actual Depth (m)', fontsize=22)\n",
    "\n",
    "legend = plt.legend(loc = 0, fontsize = 15, borderpad = 0.6, labelspacing = 1, frameon=False)\n",
    "\n",
    "#get coefficients and y intercept\n",
    "print(\"m: {0}\".format(reg.coef_))\n",
    "print(\"b: {0}\".format(reg.intercept_))\n",
    "\n",
    "#Returns the coefficient of determination R^2 of the prediction.\n",
    "print(\"R-squared: \", reg.score(X, y))\n",
    "\n",
    "round(float(reg.score(X, y)), 3)\n",
    "\n"
   ]
  },
  {
   "cell_type": "code",
   "execution_count": 124,
   "metadata": {},
   "outputs": [
    {
     "name": "stdout",
     "output_type": "stream",
     "text": [
      "m: [0.04670801]\n",
      "b: 0.4604774265532656\n",
      "R-squared:  0.1462269701606549\n"
     ]
    },
    {
     "data": {
      "text/plain": [
       "0.146"
      ]
     },
     "execution_count": 124,
     "metadata": {},
     "output_type": "execute_result"
    },
    {
     "data": {
      "image/png": "[encoded data removed]",
      "text/plain": [
       "<Figure size 432x432 with 1 Axes>"
      ]
     },
     "metadata": {
      "needs_background": "light"
     },
     "output_type": "display_data"
    }
   ],
   "source": [
    "from sklearn.linear_model import LinearRegression\n",
    "\n",
    "fig, ax = plt.subplots(figsize=[6,6])\n",
    "ax.spines['right'].set_visible(False)\n",
    "ax.spines['top'].set_visible(False)\n",
    "\n",
    "for axis in ['bottom','left']:\n",
    "    ax.spines[axis].set_linewidth(2.3)\n",
    "\n",
    "#run regression\n",
    "X = np.array(p_data_grouped['actual_depth']).reshape(-1,1)\n",
    "y = np.array(p_data_grouped['abs_s_residual'])\n",
    "\n",
    "\n",
    "reg = LinearRegression().fit(X, y)\n",
    "\n",
    "#Generated Predictions\n",
    "y_predicted = reg.predict(X)\n",
    "#Plot Our Actual and Predicted Values\n",
    "plt.plot(X, y, 'o', color='black', alpha = 0.5);\n",
    "plt.plot(X,y_predicted,color='gray', label = 'm = ' + str(round(reg.coef_[0], 3))\n",
    "         + '     r-squared = ' + str(round(float(reg.score(X, y)), 3)))\n",
    "\n",
    "plt.tight_layout()    \n",
    "\n",
    "plt.xticks(fontsize=15)\n",
    "\n",
    "plt.yticks(fontsize=15)\n",
    "\n",
    "\n",
    "plt.ylabel('Abs(Residual)', fontsize=22)\n",
    "\n",
    "plt.xlabel('Actual Depth (m)', fontsize=22)\n",
    "\n",
    "legend = plt.legend(loc = 0, fontsize = 15, borderpad = 0.6, labelspacing = 1, frameon=False)\n",
    "\n",
    "#get coefficients and y intercept\n",
    "print(\"m: {0}\".format(reg.coef_))\n",
    "print(\"b: {0}\".format(reg.intercept_))\n",
    "\n",
    "#Returns the coefficient of determination R^2 of the prediction.\n",
    "print(\"R-squared: \", reg.score(X, y))\n",
    "\n",
    "round(float(reg.score(X, y)), 3)"
   ]
  },
  {
   "cell_type": "code",
   "execution_count": null,
   "metadata": {},
   "outputs": [],
   "source": []
  },
  {
   "cell_type": "code",
   "execution_count": null,
   "metadata": {},
   "outputs": [],
   "source": []
  }
 ],
 "metadata": {
  "kernelspec": {
   "display_name": "Python 3",
   "language": "python",
   "name": "python3"
  },
  "language_info": {
   "codemirror_mode": {
    "name": "ipython",
    "version": 3
   },
   "file_extension": ".py",
   "mimetype": "text/x-python",
   "name": "python",
   "nbconvert_exporter": "python",
   "pygments_lexer": "ipython3",
   "version": "3.7.5"
  }
 },
 "nbformat": 4,
 "nbformat_minor": 4
}
