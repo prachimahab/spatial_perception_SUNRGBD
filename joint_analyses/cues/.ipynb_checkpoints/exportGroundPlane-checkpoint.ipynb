{
 "cells": [
  {
   "cell_type": "markdown",
   "metadata": {},
   "source": [
    "# Export VE Data as DataFrame for LME Cue Analysis"
   ]
  },
  {
   "cell_type": "code",
   "execution_count": 109,
   "metadata": {},
   "outputs": [],
   "source": [
    "import csv\n",
    "import pandas as pd\n",
    "import numpy as np\n",
    "import os\n",
    "import json\n",
    "import matplotlib.pyplot as plt\n",
    "import seaborn as sns\n",
    "import scipy.stats as stats\n"
   ]
  },
  {
   "cell_type": "code",
   "execution_count": 110,
   "metadata": {},
   "outputs": [],
   "source": [
    "# residuals, complete ground plane, viewing duration, stimulus "
   ]
  },
  {
   "cell_type": "code",
   "execution_count": 111,
   "metadata": {},
   "outputs": [],
   "source": [
    "dpath = '/Users/prachimahableshwarkar/Documents/GW/Depth_MTurk/verbal_judgement_analysis/data/finalVEMatched/z_scored/'\n",
    "\n",
    "# dpath = '/Users/pmahableshwarkar/Documents/Depth_Project/verbal_judgement_analysis/data/finalVEMatched/z_scored/'\n",
    "\n",
    "# stim \n",
    "with open(dpath + 'z_final_stim_125.npy' , 'rb') as f:\n",
    "    stim_125 = np.load(f, allow_pickle=True)\n",
    "    \n",
    "with open(dpath + 'z_final_stim_250.npy' , 'rb') as f:\n",
    "    stim_250 = np.load(f, allow_pickle=True)\n",
    "\n",
    "with open(dpath + 'z_final_stim_1000.npy' , 'rb') as f:\n",
    "    stim_1000 = np.load(f, allow_pickle=True)\n",
    "    \n",
    "# residuals\n",
    "with open(dpath + 'residuals/'+ 'z_residuals_125.npy' , 'rb') as f:\n",
    "    residuals_125 = np.load(f, allow_pickle=True)\n",
    "with open(dpath + 'residuals/'+ 'z_residuals_250.npy' , 'rb') as f:\n",
    "    residuals_250 = np.load(f, allow_pickle=True) \n",
    "with open(dpath + 'residuals/'+ 'z_residuals_1000.npy' , 'rb') as f:\n",
    "    residuals_1000= np.load(f, allow_pickle=True)\n",
    "    \n",
    "# difference between z-scored estimate and z-scored actual depth\n",
    "with open(dpath + '/diff_125.npy' , 'rb') as f:\n",
    "    diff_125 = np.load(f, allow_pickle=True)\n",
    "with open(dpath + '/diff_250.npy' , 'rb') as f:\n",
    "    diff_250 = np.load(f, allow_pickle=True) \n",
    "with open(dpath + '/diff_1000.npy' , 'rb') as f:\n",
    "    diff_1000= np.load(f, allow_pickle=True)\n",
    "    "
   ]
  },
  {
   "cell_type": "code",
   "execution_count": null,
   "metadata": {},
   "outputs": [],
   "source": []
  },
  {
   "cell_type": "code",
   "execution_count": 112,
   "metadata": {},
   "outputs": [
    {
     "name": "stdout",
     "output_type": "stream",
     "text": [
      "002118_2014-06-25_20-32-08_260595134347_rgbf000078-resize excluded\n",
      "002657_2014-06-13_15-29-54_094959634447_rgbf000150-resize excluded\n"
     ]
    }
   ],
   "source": [
    "# path = '/Users/pmahableshwarkar/Documents/Depth_Project/SUN_scene_cue_coding/GP_size_dict.json'\n",
    "path = '/Users/prachimahableshwarkar/Documents/GW/Depth_MTurk/SUN_scene_cue_coding/GP_size_dict.json'\n",
    "\n",
    "gp_size_dict = json.load(open(path))\n",
    "\n",
    "# Find GP or VGP Outliers \n",
    "\n",
    "gpsize_list = [[key, gp_size_dict[key]] for key in gp_size_dict]\n",
    "gpsize_mean = np.mean(np.array([elem[1] for elem in gpsize_list]))\n",
    "gpsize_std = np.std(np.array([elem[1] for elem in gpsize_list]))\n",
    "\n",
    "gpsize_outlierRange = [gpsize_mean - (3*gpsize_std), gpsize_mean + (3*gpsize_std)]\n",
    "\n",
    "cleaned_gpsize_dict = {}\n",
    "for key in gp_size_dict:\n",
    "    if gpsize_outlierRange[0] < gp_size_dict[key] < gpsize_outlierRange[1]:\n",
    "        cleaned_gpsize_dict[key] = gp_size_dict[key]\n",
    "    else:\n",
    "        print(key, 'excluded')\n",
    "        \n",
    "ordered_gp_size = []\n",
    "gp_none = 0\n",
    "\n",
    "\n",
    "for folder in [elem.split('/')[1][:-2] for elem in stim_250]:\n",
    "    try:\n",
    "        ordered_gp_size.append(cleaned_gpsize_dict[folder])\n",
    "    except:\n",
    "        gp_none += 1\n",
    "        ordered_gp_size.append(None)"
   ]
  },
  {
   "cell_type": "code",
   "execution_count": 113,
   "metadata": {},
   "outputs": [
    {
     "data": {
      "text/plain": [
       "149"
      ]
     },
     "execution_count": 113,
     "metadata": {},
     "output_type": "execute_result"
    }
   ],
   "source": [
    "len(cleaned_gpsize_dict)"
   ]
  },
  {
   "cell_type": "code",
   "execution_count": 114,
   "metadata": {},
   "outputs": [
    {
     "data": {
      "text/plain": [
       "(149, 149, 149, 149, 149)"
      ]
     },
     "execution_count": 114,
     "metadata": {},
     "output_type": "execute_result"
    }
   ],
   "source": [
    "\n",
    "completeGP = []\n",
    "\n",
    "trunc_residuals_125 = []\n",
    "trunc_residuals_250 = []\n",
    "trunc_residuals_1000 = []\n",
    "\n",
    "\n",
    "\n",
    "stimulus = []\n",
    "\n",
    "for stim in list(cleaned_gpsize_dict.keys()):\n",
    "    index_125 = [elem.split('/')[1][:-2] for elem in stim_125].index(stim)\n",
    "    index_250 = [elem.split('/')[1][:-2] for elem in stim_250].index(stim)\n",
    "    index_1000 = [elem.split('/')[1][:-2] for elem in stim_1000].index(stim)\n",
    "        \n",
    "    trunc_residuals_125.append(residuals_125[index_125])\n",
    "    trunc_residuals_250.append(residuals_250[index_250])\n",
    "    trunc_residuals_1000.append(residuals_1000[index_1000])\n",
    "        \n",
    "    completeGP.append(cleaned_gpsize_dict[stim])\n",
    "        \n",
    "    stimulus.append(stim)\n",
    "        \n",
    "    \n",
    "len(trunc_residuals_125), len(trunc_residuals_250), len(trunc_residuals_1000), len(completeGP), len(stimulus)"
   ]
  },
  {
   "cell_type": "code",
   "execution_count": 115,
   "metadata": {},
   "outputs": [
    {
     "data": {
      "text/plain": [
       "149"
      ]
     },
     "execution_count": 115,
     "metadata": {},
     "output_type": "execute_result"
    }
   ],
   "source": [
    "len([125] * len(trunc_residuals_125))"
   ]
  },
  {
   "cell_type": "code",
   "execution_count": 116,
   "metadata": {},
   "outputs": [
    {
     "data": {
      "text/plain": [
       "447"
      ]
     },
     "execution_count": 116,
     "metadata": {},
     "output_type": "execute_result"
    }
   ],
   "source": [
    "len(np.concatenate((np.abs(np.array(trunc_residuals_125)), np.abs(np.array(trunc_residuals_250)), np.abs(np.array(trunc_residuals_1000))), axis=0),)"
   ]
  },
  {
   "cell_type": "code",
   "execution_count": 117,
   "metadata": {},
   "outputs": [
    {
     "data": {
      "text/html": [
       "<div>\n",
       "<style scoped>\n",
       "    .dataframe tbody tr th:only-of-type {\n",
       "        vertical-align: middle;\n",
       "    }\n",
       "\n",
       "    .dataframe tbody tr th {\n",
       "        vertical-align: top;\n",
       "    }\n",
       "\n",
       "    .dataframe thead th {\n",
       "        text-align: right;\n",
       "    }\n",
       "</style>\n",
       "<table border=\"1\" class=\"dataframe\">\n",
       "  <thead>\n",
       "    <tr style=\"text-align: right;\">\n",
       "      <th></th>\n",
       "      <th>residuals</th>\n",
       "      <th>abs_residuals</th>\n",
       "      <th>duration</th>\n",
       "      <th>groundPlane</th>\n",
       "      <th>stimulus</th>\n",
       "    </tr>\n",
       "  </thead>\n",
       "  <tbody>\n",
       "    <tr>\n",
       "      <td>0</td>\n",
       "      <td>-0.583161</td>\n",
       "      <td>0.583161</td>\n",
       "      <td>125</td>\n",
       "      <td>11.910828</td>\n",
       "      <td>000854_2014-06-09_19-43-13_260595134347_rgbf00...</td>\n",
       "    </tr>\n",
       "    <tr>\n",
       "      <td>1</td>\n",
       "      <td>0.275925</td>\n",
       "      <td>0.275925</td>\n",
       "      <td>125</td>\n",
       "      <td>11.913177</td>\n",
       "      <td>000758_2014-06-08_22-05-08_260595134347_rgbf00...</td>\n",
       "    </tr>\n",
       "    <tr>\n",
       "      <td>2</td>\n",
       "      <td>-0.327997</td>\n",
       "      <td>0.327997</td>\n",
       "      <td>125</td>\n",
       "      <td>11.598019</td>\n",
       "      <td>002103_2014-06-25_20-00-40_260595134347_rgbf00...</td>\n",
       "    </tr>\n",
       "    <tr>\n",
       "      <td>3</td>\n",
       "      <td>-0.147574</td>\n",
       "      <td>0.147574</td>\n",
       "      <td>125</td>\n",
       "      <td>15.524304</td>\n",
       "      <td>002039_2014-06-24_20-22-38_260595134347_rgbf00...</td>\n",
       "    </tr>\n",
       "    <tr>\n",
       "      <td>4</td>\n",
       "      <td>-0.156264</td>\n",
       "      <td>0.156264</td>\n",
       "      <td>125</td>\n",
       "      <td>18.915500</td>\n",
       "      <td>000742_2014-06-08_18-48-09_260595134347_rgbf00...</td>\n",
       "    </tr>\n",
       "    <tr>\n",
       "      <td>...</td>\n",
       "      <td>...</td>\n",
       "      <td>...</td>\n",
       "      <td>...</td>\n",
       "      <td>...</td>\n",
       "      <td>...</td>\n",
       "    </tr>\n",
       "    <tr>\n",
       "      <td>442</td>\n",
       "      <td>-0.284820</td>\n",
       "      <td>0.284820</td>\n",
       "      <td>1000</td>\n",
       "      <td>28.953813</td>\n",
       "      <td>002964_2014-06-08_17-46-11_094959634447_rgbf00...</td>\n",
       "    </tr>\n",
       "    <tr>\n",
       "      <td>443</td>\n",
       "      <td>0.001737</td>\n",
       "      <td>0.001737</td>\n",
       "      <td>1000</td>\n",
       "      <td>15.893099</td>\n",
       "      <td>000943_2014-06-09_19-31-07_260595134347_rgbf00...</td>\n",
       "    </tr>\n",
       "    <tr>\n",
       "      <td>444</td>\n",
       "      <td>0.078397</td>\n",
       "      <td>0.078397</td>\n",
       "      <td>1000</td>\n",
       "      <td>10.664824</td>\n",
       "      <td>003070_2014-06-15_14-58-27_094959634447_rgbf00...</td>\n",
       "    </tr>\n",
       "    <tr>\n",
       "      <td>445</td>\n",
       "      <td>-0.068851</td>\n",
       "      <td>0.068851</td>\n",
       "      <td>1000</td>\n",
       "      <td>14.398279</td>\n",
       "      <td>001132_2014-06-17_14-48-54_260595134347_rgbf00...</td>\n",
       "    </tr>\n",
       "    <tr>\n",
       "      <td>446</td>\n",
       "      <td>-0.120543</td>\n",
       "      <td>0.120543</td>\n",
       "      <td>1000</td>\n",
       "      <td>26.759918</td>\n",
       "      <td>001133_2014-06-17_14-49-16_260595134347_rgbf00...</td>\n",
       "    </tr>\n",
       "  </tbody>\n",
       "</table>\n",
       "<p>447 rows × 5 columns</p>\n",
       "</div>"
      ],
      "text/plain": [
       "     residuals  abs_residuals  duration  groundPlane  \\\n",
       "0    -0.583161       0.583161       125    11.910828   \n",
       "1     0.275925       0.275925       125    11.913177   \n",
       "2    -0.327997       0.327997       125    11.598019   \n",
       "3    -0.147574       0.147574       125    15.524304   \n",
       "4    -0.156264       0.156264       125    18.915500   \n",
       "..         ...            ...       ...          ...   \n",
       "442  -0.284820       0.284820      1000    28.953813   \n",
       "443   0.001737       0.001737      1000    15.893099   \n",
       "444   0.078397       0.078397      1000    10.664824   \n",
       "445  -0.068851       0.068851      1000    14.398279   \n",
       "446  -0.120543       0.120543      1000    26.759918   \n",
       "\n",
       "                                              stimulus  \n",
       "0    000854_2014-06-09_19-43-13_260595134347_rgbf00...  \n",
       "1    000758_2014-06-08_22-05-08_260595134347_rgbf00...  \n",
       "2    002103_2014-06-25_20-00-40_260595134347_rgbf00...  \n",
       "3    002039_2014-06-24_20-22-38_260595134347_rgbf00...  \n",
       "4    000742_2014-06-08_18-48-09_260595134347_rgbf00...  \n",
       "..                                                 ...  \n",
       "442  002964_2014-06-08_17-46-11_094959634447_rgbf00...  \n",
       "443  000943_2014-06-09_19-31-07_260595134347_rgbf00...  \n",
       "444  003070_2014-06-15_14-58-27_094959634447_rgbf00...  \n",
       "445  001132_2014-06-17_14-48-54_260595134347_rgbf00...  \n",
       "446  001133_2014-06-17_14-49-16_260595134347_rgbf00...  \n",
       "\n",
       "[447 rows x 5 columns]"
      ]
     },
     "execution_count": 117,
     "metadata": {},
     "output_type": "execute_result"
    }
   ],
   "source": [
    "# initialize data of lists.\n",
    "data = {'residuals': trunc_residuals_125+trunc_residuals_250+trunc_residuals_1000,\n",
    "        'abs_residuals': np.concatenate((np.abs(np.array(trunc_residuals_125)), np.abs(np.array(trunc_residuals_250)), np.abs(np.array(trunc_residuals_1000))), axis=0),\n",
    "        'duration': [125] * len(trunc_residuals_125) + [250] * len(trunc_residuals_250) + [1000] * len(trunc_residuals_1000),\n",
    "        'groundPlane': completeGP * 3,\n",
    "        'stimulus': stimulus * 3}\n",
    "  \n",
    "# Create DataFrame\n",
    "df = pd.DataFrame(data)\n",
    "df"
   ]
  },
  {
   "cell_type": "code",
   "execution_count": null,
   "metadata": {},
   "outputs": [],
   "source": []
  },
  {
   "cell_type": "code",
   "execution_count": 11,
   "metadata": {},
   "outputs": [],
   "source": [
    "df.to_csv('groundPlane_data_for_lme.csv', index=False)"
   ]
  },
  {
   "cell_type": "code",
   "execution_count": null,
   "metadata": {},
   "outputs": [],
   "source": [
    "\n",
    "\n"
   ]
  },
  {
   "cell_type": "markdown",
   "metadata": {},
   "source": [
    "# Add Participant Residuals"
   ]
  },
  {
   "cell_type": "code",
   "execution_count": 118,
   "metadata": {},
   "outputs": [],
   "source": [
    "# p = '/Users/pmahableshwarkar/Documents/Depth_Project/verbal_judgement_analysis/data/finalVEMatched/z_scored/residuals/participant_residuals.csv'\n",
    "p = '/Users/prachimahableshwarkar/Documents/GW/Depth_MTurk/verbal_judgement_analysis/data/finalVEMatched/z_scored/residuals/participant_residuals.csv'\n",
    "\n",
    "p_data = pd.read_csv(p) \n",
    "p_stimuli = list(p_data.stimulus.unique())\n"
   ]
  },
  {
   "cell_type": "code",
   "execution_count": 119,
   "metadata": {},
   "outputs": [
    {
     "data": {
      "text/html": [
       "<div>\n",
       "<style scoped>\n",
       "    .dataframe tbody tr th:only-of-type {\n",
       "        vertical-align: middle;\n",
       "    }\n",
       "\n",
       "    .dataframe tbody tr th {\n",
       "        vertical-align: top;\n",
       "    }\n",
       "\n",
       "    .dataframe thead th {\n",
       "        text-align: right;\n",
       "    }\n",
       "</style>\n",
       "<table border=\"1\" class=\"dataframe\">\n",
       "  <thead>\n",
       "    <tr style=\"text-align: right;\">\n",
       "      <th></th>\n",
       "      <th>subjID</th>\n",
       "      <th>duration</th>\n",
       "      <th>s_residual</th>\n",
       "      <th>abs_s_residual</th>\n",
       "      <th>stimulus</th>\n",
       "      <th>error</th>\n",
       "      <th>abs_error</th>\n",
       "      <th>actual_depth</th>\n",
       "    </tr>\n",
       "  </thead>\n",
       "  <tbody>\n",
       "    <tr>\n",
       "      <td>0</td>\n",
       "      <td>541423.0</td>\n",
       "      <td>125</td>\n",
       "      <td>0.906977</td>\n",
       "      <td>0.906977</td>\n",
       "      <td>001808_2014-06-26_20-50-58_260595134347_rgbf00...</td>\n",
       "      <td>-2.759331</td>\n",
       "      <td>2.759331</td>\n",
       "      <td>4.2490</td>\n",
       "    </tr>\n",
       "    <tr>\n",
       "      <td>1</td>\n",
       "      <td>541423.0</td>\n",
       "      <td>125</td>\n",
       "      <td>1.590297</td>\n",
       "      <td>1.590297</td>\n",
       "      <td>001815_2014-06-26_20-52-55_260595134347_rgbf00...</td>\n",
       "      <td>-1.635132</td>\n",
       "      <td>1.635132</td>\n",
       "      <td>3.3865</td>\n",
       "    </tr>\n",
       "    <tr>\n",
       "      <td>2</td>\n",
       "      <td>541423.0</td>\n",
       "      <td>125</td>\n",
       "      <td>-0.355174</td>\n",
       "      <td>0.355174</td>\n",
       "      <td>001029_2014-06-08_13-17-57_260595134347_rgbf00...</td>\n",
       "      <td>-3.425721</td>\n",
       "      <td>3.425721</td>\n",
       "      <td>3.0835</td>\n",
       "    </tr>\n",
       "    <tr>\n",
       "      <td>3</td>\n",
       "      <td>541423.0</td>\n",
       "      <td>125</td>\n",
       "      <td>-0.847848</td>\n",
       "      <td>0.847848</td>\n",
       "      <td>000677_2014-06-08_23-10-32_260595134347_rgbf00...</td>\n",
       "      <td>-4.159920</td>\n",
       "      <td>4.159920</td>\n",
       "      <td>3.5560</td>\n",
       "    </tr>\n",
       "    <tr>\n",
       "      <td>4</td>\n",
       "      <td>541423.0</td>\n",
       "      <td>125</td>\n",
       "      <td>-0.403006</td>\n",
       "      <td>0.403006</td>\n",
       "      <td>002118_2014-06-25_20-32-08_260595134347_rgbf00...</td>\n",
       "      <td>-3.249920</td>\n",
       "      <td>3.249920</td>\n",
       "      <td>2.6460</td>\n",
       "    </tr>\n",
       "    <tr>\n",
       "      <td>...</td>\n",
       "      <td>...</td>\n",
       "      <td>...</td>\n",
       "      <td>...</td>\n",
       "      <td>...</td>\n",
       "      <td>...</td>\n",
       "      <td>...</td>\n",
       "      <td>...</td>\n",
       "      <td>...</td>\n",
       "    </tr>\n",
       "    <tr>\n",
       "      <td>71127</td>\n",
       "      <td>351649.0</td>\n",
       "      <td>250</td>\n",
       "      <td>0.593507</td>\n",
       "      <td>0.593507</td>\n",
       "      <td>002875_2014-06-01_15-19-00_094959634447_rgbf00...</td>\n",
       "      <td>-1.945729</td>\n",
       "      <td>1.945729</td>\n",
       "      <td>1.9675</td>\n",
       "    </tr>\n",
       "    <tr>\n",
       "      <td>71128</td>\n",
       "      <td>351649.0</td>\n",
       "      <td>250</td>\n",
       "      <td>-0.542151</td>\n",
       "      <td>0.542151</td>\n",
       "      <td>001092_2014-06-15_17-34-58_260595134347_rgbf00...</td>\n",
       "      <td>-3.426449</td>\n",
       "      <td>3.426449</td>\n",
       "      <td>2.6935</td>\n",
       "    </tr>\n",
       "    <tr>\n",
       "      <td>71129</td>\n",
       "      <td>351649.0</td>\n",
       "      <td>250</td>\n",
       "      <td>-0.513911</td>\n",
       "      <td>0.513911</td>\n",
       "      <td>002545_2014-06-24_13-38-53_094959634447_rgbf00...</td>\n",
       "      <td>-3.030808</td>\n",
       "      <td>3.030808</td>\n",
       "      <td>1.9205</td>\n",
       "    </tr>\n",
       "    <tr>\n",
       "      <td>71130</td>\n",
       "      <td>351649.0</td>\n",
       "      <td>250</td>\n",
       "      <td>0.277538</td>\n",
       "      <td>0.277538</td>\n",
       "      <td>001167_2014-06-17_15-38-07_260595134347_rgbf00...</td>\n",
       "      <td>-2.206089</td>\n",
       "      <td>2.206089</td>\n",
       "      <td>1.8505</td>\n",
       "    </tr>\n",
       "    <tr>\n",
       "      <td>71131</td>\n",
       "      <td>351649.0</td>\n",
       "      <td>250</td>\n",
       "      <td>-0.972956</td>\n",
       "      <td>0.972956</td>\n",
       "      <td>003587_2014-05-23_16-48-02_094959634447_rgbf00...</td>\n",
       "      <td>-3.222028</td>\n",
       "      <td>3.222028</td>\n",
       "      <td>1.3570</td>\n",
       "    </tr>\n",
       "  </tbody>\n",
       "</table>\n",
       "<p>71132 rows × 8 columns</p>\n",
       "</div>"
      ],
      "text/plain": [
       "         subjID  duration  s_residual  abs_s_residual  \\\n",
       "0      541423.0       125    0.906977        0.906977   \n",
       "1      541423.0       125    1.590297        1.590297   \n",
       "2      541423.0       125   -0.355174        0.355174   \n",
       "3      541423.0       125   -0.847848        0.847848   \n",
       "4      541423.0       125   -0.403006        0.403006   \n",
       "...         ...       ...         ...             ...   \n",
       "71127  351649.0       250    0.593507        0.593507   \n",
       "71128  351649.0       250   -0.542151        0.542151   \n",
       "71129  351649.0       250   -0.513911        0.513911   \n",
       "71130  351649.0       250    0.277538        0.277538   \n",
       "71131  351649.0       250   -0.972956        0.972956   \n",
       "\n",
       "                                                stimulus     error  abs_error  \\\n",
       "0      001808_2014-06-26_20-50-58_260595134347_rgbf00... -2.759331   2.759331   \n",
       "1      001815_2014-06-26_20-52-55_260595134347_rgbf00... -1.635132   1.635132   \n",
       "2      001029_2014-06-08_13-17-57_260595134347_rgbf00... -3.425721   3.425721   \n",
       "3      000677_2014-06-08_23-10-32_260595134347_rgbf00... -4.159920   4.159920   \n",
       "4      002118_2014-06-25_20-32-08_260595134347_rgbf00... -3.249920   3.249920   \n",
       "...                                                  ...       ...        ...   \n",
       "71127  002875_2014-06-01_15-19-00_094959634447_rgbf00... -1.945729   1.945729   \n",
       "71128  001092_2014-06-15_17-34-58_260595134347_rgbf00... -3.426449   3.426449   \n",
       "71129  002545_2014-06-24_13-38-53_094959634447_rgbf00... -3.030808   3.030808   \n",
       "71130  001167_2014-06-17_15-38-07_260595134347_rgbf00... -2.206089   2.206089   \n",
       "71131  003587_2014-05-23_16-48-02_094959634447_rgbf00... -3.222028   3.222028   \n",
       "\n",
       "       actual_depth  \n",
       "0            4.2490  \n",
       "1            3.3865  \n",
       "2            3.0835  \n",
       "3            3.5560  \n",
       "4            2.6460  \n",
       "...             ...  \n",
       "71127        1.9675  \n",
       "71128        2.6935  \n",
       "71129        1.9205  \n",
       "71130        1.8505  \n",
       "71131        1.3570  \n",
       "\n",
       "[71132 rows x 8 columns]"
      ]
     },
     "execution_count": 119,
     "metadata": {},
     "output_type": "execute_result"
    }
   ],
   "source": [
    "p_data"
   ]
  },
  {
   "cell_type": "code",
   "execution_count": 120,
   "metadata": {},
   "outputs": [
    {
     "data": {
      "text/plain": [
       "7"
      ]
     },
     "execution_count": 120,
     "metadata": {},
     "output_type": "execute_result"
    }
   ],
   "source": [
    "incl_stimuli = stimulus\n",
    "\n",
    "# images that we do not have ground plane and/or clutter data for \n",
    "excluded_stimuli = [x for x in p_stimuli if x not in incl_stimuli]\n",
    "\n",
    "len(excluded_stimuli)"
   ]
  },
  {
   "cell_type": "code",
   "execution_count": 121,
   "metadata": {},
   "outputs": [
    {
     "data": {
      "text/plain": [
       "149"
      ]
     },
     "execution_count": 121,
     "metadata": {},
     "output_type": "execute_result"
    }
   ],
   "source": [
    "# remove all rows that have data for images that we do not have ground plane and/or clutter data for\n",
    "p_data = p_data[p_data.stimulus.isin(excluded_stimuli) == False]\n",
    "\n",
    "len(p_data.stimulus.unique())"
   ]
  },
  {
   "cell_type": "markdown",
   "metadata": {},
   "source": [
    "https://towardsdatascience.com/create-new-column-based-on-other-columns-pandas-5586d87de73d\n",
    "\n"
   ]
  },
  {
   "cell_type": "code",
   "execution_count": 122,
   "metadata": {},
   "outputs": [],
   "source": [
    "def assignGroundPlane(row):  \n",
    "    stim = row['stimulus']\n",
    "    groundPlane = cleaned_gpsize_dict[stim]\n",
    "    \n",
    "    return groundPlane\n",
    "\n"
   ]
  },
  {
   "cell_type": "code",
   "execution_count": 123,
   "metadata": {},
   "outputs": [
    {
     "name": "stderr",
     "output_type": "stream",
     "text": [
      "/Users/prachimahableshwarkar/opt/anaconda3/lib/python3.7/site-packages/ipykernel_launcher.py:2: SettingWithCopyWarning: \n",
      "A value is trying to be set on a copy of a slice from a DataFrame.\n",
      "Try using .loc[row_indexer,col_indexer] = value instead\n",
      "\n",
      "See the caveats in the documentation: http://pandas.pydata.org/pandas-docs/stable/user_guide/indexing.html#returning-a-view-versus-a-copy\n",
      "  \n"
     ]
    }
   ],
   "source": [
    "# add groundPlane data to the df by referencing the GP value for each image\n",
    "p_data['groundPlane'] = p_data.apply(lambda row: assignGroundPlane(row), axis=1)\n"
   ]
  },
  {
   "cell_type": "code",
   "execution_count": null,
   "metadata": {},
   "outputs": [],
   "source": []
  },
  {
   "cell_type": "code",
   "execution_count": null,
   "metadata": {},
   "outputs": [],
   "source": []
  },
  {
   "cell_type": "code",
   "execution_count": 19,
   "metadata": {},
   "outputs": [
    {
     "data": {
      "text/plain": [
       "20.030651550568866"
      ]
     },
     "execution_count": 19,
     "metadata": {},
     "output_type": "execute_result"
    }
   ],
   "source": [
    "cleaned_gpsize_dict['001808_2014-06-26_20-50-58_260595134347_rgbf000029-resize']"
   ]
  },
  {
   "cell_type": "code",
   "execution_count": 20,
   "metadata": {},
   "outputs": [
    {
     "name": "stderr",
     "output_type": "stream",
     "text": [
      "/Users/prachimahableshwarkar/opt/anaconda3/lib/python3.7/site-packages/ipykernel_launcher.py:1: SettingWithCopyWarning: \n",
      "A value is trying to be set on a copy of a slice from a DataFrame.\n",
      "Try using .loc[row_indexer,col_indexer] = value instead\n",
      "\n",
      "See the caveats in the documentation: http://pandas.pydata.org/pandas-docs/stable/user_guide/indexing.html#returning-a-view-versus-a-copy\n",
      "  \"\"\"Entry point for launching an IPython kernel.\n"
     ]
    }
   ],
   "source": [
    "p_data['duration'] = p_data['duration'].div(100)\n"
   ]
  },
  {
   "cell_type": "code",
   "execution_count": 183,
   "metadata": {},
   "outputs": [],
   "source": [
    "p_data_125 = p_data.loc[p_data['duration'] == 125]\n",
    "p_data_250 = p_data.loc[p_data['duration'] == 250]\n",
    "p_data_1000 = p_data.loc[p_data['duration']== 1000]\n"
   ]
  },
  {
   "cell_type": "code",
   "execution_count": 184,
   "metadata": {},
   "outputs": [],
   "source": [
    "# p_data"
   ]
  },
  {
   "cell_type": "code",
   "execution_count": 185,
   "metadata": {},
   "outputs": [],
   "source": [
    "p_data.to_csv('groundPlane_participantData_for_lme.csv', index=False)\n",
    "\n",
    "p_data_125.to_csv('125_groundPlane_participantData_for_lme.csv', index=False)\n",
    "p_data_250.to_csv('250_groundPlane_participantData_for_lme.csv', index=False)\n",
    "p_data_1000.to_csv('1000_groundPlane_participantData_for_lme.csv', index=False)\n"
   ]
  },
  {
   "cell_type": "code",
   "execution_count": 186,
   "metadata": {},
   "outputs": [],
   "source": [
    "pos_p_data = p_data.loc[p_data['s_residual'] > 0]\n",
    "neg_p_data = p_data.loc[p_data['s_residual'] < 0]\n",
    "\n",
    "pos_p_data.to_csv('pos_groundPlane_participantData_for_lme.csv', index=False)\n",
    "neg_p_data.to_csv('neg_groundPlane_participantData_for_lme.csv', index=False)"
   ]
  },
  {
   "cell_type": "code",
   "execution_count": 187,
   "metadata": {},
   "outputs": [],
   "source": [
    "pos_p_data_125 = pos_p_data.loc[pos_p_data['duration']==125]\n",
    "pos_p_data_250 = pos_p_data.loc[pos_p_data['duration']==250]\n",
    "pos_p_data_1000 = pos_p_data.loc[pos_p_data['duration']==1000]\n",
    "\n",
    "neg_p_data_125 = neg_p_data.loc[neg_p_data['duration']==125]\n",
    "neg_p_data_250 = neg_p_data.loc[neg_p_data['duration']==250]\n",
    "neg_p_data_1000 = neg_p_data.loc[neg_p_data['duration']==1000]\n",
    "\n",
    "\n",
    "pos_p_data_125.to_csv('125_pos_groundPlane_participantData_for_lme.csv', index=False)\n",
    "pos_p_data_250.to_csv('250_pos_groundPlane_participantData_for_lme.csv', index=False)\n",
    "pos_p_data_1000.to_csv('1000_pos_groundPlane_participantData_for_lme.csv', index=False)\n",
    "\n",
    "neg_p_data_125.to_csv('125_neg_groundPlane_participantData_for_lme.csv', index=False)\n",
    "neg_p_data_250.to_csv('250_neg_groundPlane_participantData_for_lme.csv', index=False)\n",
    "neg_p_data_1000.to_csv('1000_neg_groundPlane_participantData_for_lme.csv', index=False)"
   ]
  },
  {
   "cell_type": "code",
   "execution_count": null,
   "metadata": {},
   "outputs": [],
   "source": []
  },
  {
   "cell_type": "code",
   "execution_count": 188,
   "metadata": {},
   "outputs": [],
   "source": [
    "cols = p_data.columns.tolist()\n",
    "cols = ['duration', 'subjID', 'stimulus', 's_residual', 'abs_s_residual', 'abs_error', 'error','groundPlane', 'actual_depth']\n",
    "\n",
    "p_data = p_data[cols]\n"
   ]
  },
  {
   "cell_type": "code",
   "execution_count": 189,
   "metadata": {},
   "outputs": [
    {
     "data": {
      "text/plain": [
       "Index(['duration', 'subjID', 'stimulus', 's_residual', 'abs_s_residual',\n",
       "       'abs_error', 'error', 'groundPlane', 'actual_depth'],\n",
       "      dtype='object')"
      ]
     },
     "execution_count": 189,
     "metadata": {},
     "output_type": "execute_result"
    }
   ],
   "source": [
    "p_data.columns[:]"
   ]
  },
  {
   "cell_type": "code",
   "execution_count": 190,
   "metadata": {},
   "outputs": [],
   "source": [
    "p_data_grouped = p_data.groupby('stimulus')[p_data.columns[2:]].mean()\n",
    "p_data_grouped_125 = p_data_125.groupby('stimulus')[p_data_125.columns[2:]].mean()\n",
    "p_data_grouped_250 = p_data_250.groupby('stimulus')[p_data_250.columns[2:]].mean()\n",
    "p_data_grouped_1000 = p_data_1000.groupby('stimulus')[p_data_1000.columns[2:]].mean()"
   ]
  },
  {
   "cell_type": "code",
   "execution_count": 191,
   "metadata": {},
   "outputs": [],
   "source": [
    "p_data_grouped.to_csv('groundPlane_participantData_grouped_for_lme.csv', index=False)\n",
    "p_data_grouped_125.to_csv('125_groundPlane_participantData_grouped_for_lme.csv', index=False)\n",
    "p_data_grouped_250.to_csv('250_groundPlane_participantData_grouped_for_lme.csv', index=False)\n",
    "p_data_grouped_1000.to_csv('1000_groundPlane_participantData_grouped_for_lme.csv', index=False)"
   ]
  },
  {
   "cell_type": "code",
   "execution_count": 192,
   "metadata": {},
   "outputs": [],
   "source": [
    "pos_p_data_grouped = p_data_grouped.loc[p_data_grouped['s_residual'] > 0]\n",
    "neg_p_data_grouped = p_data_grouped.loc[p_data_grouped['s_residual'] < 0]\n",
    "\n",
    "pos_p_data_grouped.to_csv('pos_groundPlane_participantData_grouped_for_lme.csv', index=False)\n",
    "neg_p_data_grouped.to_csv('neg_groundPlane_participantData_grouped_for_lme.csv', index=False)"
   ]
  },
  {
   "cell_type": "code",
   "execution_count": 193,
   "metadata": {},
   "outputs": [],
   "source": [
    "# p_data_125"
   ]
  },
  {
   "cell_type": "code",
   "execution_count": 194,
   "metadata": {},
   "outputs": [],
   "source": [
    "pos_p_data_grouped_125 = p_data_grouped_125.loc[p_data_grouped_125['s_residual'] > 0]\n",
    "pos_p_data_grouped_250 = p_data_grouped_250.loc[p_data_grouped_250['s_residual'] > 0]\n",
    "pos_p_data_grouped_1000 = p_data_grouped_1000.loc[p_data_grouped_1000['s_residual'] > 0]\n",
    "\n",
    "neg_p_data_grouped_125 = p_data_grouped_125.loc[p_data_grouped_125['s_residual'] < 0]\n",
    "neg_p_data_grouped_250 = p_data_grouped_250.loc[p_data_grouped_250['s_residual'] < 0]\n",
    "neg_p_data_grouped_1000 = p_data_grouped_1000.loc[p_data_grouped_1000['s_residual'] < 0]\n",
    "\n",
    "pos_p_data_grouped_125.to_csv('125_pos_groundPlane_participantData_grouped_for_lme.csv', index=False)\n",
    "pos_p_data_grouped_250.to_csv('250_pos_groundPlane_participantData_grouped_for_lme.csv', index=False)\n",
    "pos_p_data_grouped_1000.to_csv('1000_pos_groundPlane_participantData_grouped_for_lme.csv', index=False)\n",
    "\n",
    "neg_p_data_grouped_125.to_csv('125_neg_groundPlane_participantData_grouped_for_lme.csv', index=False)\n",
    "neg_p_data_grouped_250.to_csv('250_neg_groundPlane_participantData_grouped_for_lme.csv', index=False)\n",
    "neg_p_data_grouped_1000.to_csv('1000_neg_groundPlane_participantData_grouped_for_lme.csv', index=False)"
   ]
  },
  {
   "cell_type": "code",
   "execution_count": 195,
   "metadata": {},
   "outputs": [
    {
     "data": {
      "text/html": [
       "<div>\n",
       "<style scoped>\n",
       "    .dataframe tbody tr th:only-of-type {\n",
       "        vertical-align: middle;\n",
       "    }\n",
       "\n",
       "    .dataframe tbody tr th {\n",
       "        vertical-align: top;\n",
       "    }\n",
       "\n",
       "    .dataframe thead th {\n",
       "        text-align: right;\n",
       "    }\n",
       "</style>\n",
       "<table border=\"1\" class=\"dataframe\">\n",
       "  <thead>\n",
       "    <tr style=\"text-align: right;\">\n",
       "      <th></th>\n",
       "      <th>s_residual</th>\n",
       "      <th>abs_s_residual</th>\n",
       "      <th>abs_error</th>\n",
       "      <th>error</th>\n",
       "      <th>groundPlane</th>\n",
       "      <th>actual_depth</th>\n",
       "    </tr>\n",
       "    <tr>\n",
       "      <th>stimulus</th>\n",
       "      <th></th>\n",
       "      <th></th>\n",
       "      <th></th>\n",
       "      <th></th>\n",
       "      <th></th>\n",
       "      <th></th>\n",
       "    </tr>\n",
       "  </thead>\n",
       "  <tbody>\n",
       "    <tr>\n",
       "      <td>000009_2014-05-26_14-32-05_260595134347_rgbf000034-resize</td>\n",
       "      <td>0.685258</td>\n",
       "      <td>0.883585</td>\n",
       "      <td>2.746895</td>\n",
       "      <td>-2.743163</td>\n",
       "      <td>34.796527</td>\n",
       "      <td>3.8715</td>\n",
       "    </tr>\n",
       "    <tr>\n",
       "      <td>000109_2014-05-14_23-41-52_260595134347_rgbf000035-resize</td>\n",
       "      <td>-0.161136</td>\n",
       "      <td>0.536741</td>\n",
       "      <td>2.451997</td>\n",
       "      <td>-2.441930</td>\n",
       "      <td>6.620498</td>\n",
       "      <td>1.3545</td>\n",
       "    </tr>\n",
       "    <tr>\n",
       "      <td>000137_2014-05-20_17-04-49_260595134347_rgbf000120-resize</td>\n",
       "      <td>0.058863</td>\n",
       "      <td>0.542584</td>\n",
       "      <td>3.330575</td>\n",
       "      <td>-3.330575</td>\n",
       "      <td>14.896111</td>\n",
       "      <td>3.7860</td>\n",
       "    </tr>\n",
       "    <tr>\n",
       "      <td>000191_2014-05-12_17-07-38_260595134347_rgbf000199-resize</td>\n",
       "      <td>0.479210</td>\n",
       "      <td>0.706134</td>\n",
       "      <td>2.916383</td>\n",
       "      <td>-2.916383</td>\n",
       "      <td>12.340757</td>\n",
       "      <td>3.7995</td>\n",
       "    </tr>\n",
       "    <tr>\n",
       "      <td>000368_2014-06-09_15-53-01_260595134347_rgbf000155-resize</td>\n",
       "      <td>-0.437753</td>\n",
       "      <td>0.600985</td>\n",
       "      <td>3.239066</td>\n",
       "      <td>-3.234455</td>\n",
       "      <td>21.090701</td>\n",
       "      <td>2.4860</td>\n",
       "    </tr>\n",
       "    <tr>\n",
       "      <td>...</td>\n",
       "      <td>...</td>\n",
       "      <td>...</td>\n",
       "      <td>...</td>\n",
       "      <td>...</td>\n",
       "      <td>...</td>\n",
       "      <td>...</td>\n",
       "    </tr>\n",
       "    <tr>\n",
       "      <td>003490_2014-05-21_15-50-11_094959634447_rgbf000101-resize</td>\n",
       "      <td>0.076635</td>\n",
       "      <td>0.613997</td>\n",
       "      <td>3.248286</td>\n",
       "      <td>-3.248286</td>\n",
       "      <td>19.999457</td>\n",
       "      <td>3.6445</td>\n",
       "    </tr>\n",
       "    <tr>\n",
       "      <td>003495_2014-05-21_16-01-51_094959634447_rgbf000100-resize</td>\n",
       "      <td>-0.258374</td>\n",
       "      <td>0.551080</td>\n",
       "      <td>2.707563</td>\n",
       "      <td>-2.662730</td>\n",
       "      <td>12.747279</td>\n",
       "      <td>1.6255</td>\n",
       "    </tr>\n",
       "    <tr>\n",
       "      <td>003534_2014-05-22_15-06-10_094959634447_rgbf000102-resize</td>\n",
       "      <td>-0.328349</td>\n",
       "      <td>0.593542</td>\n",
       "      <td>2.647628</td>\n",
       "      <td>-2.641743</td>\n",
       "      <td>12.376994</td>\n",
       "      <td>1.4260</td>\n",
       "    </tr>\n",
       "    <tr>\n",
       "      <td>003587_2014-05-23_16-48-02_094959634447_rgbf002384-resize</td>\n",
       "      <td>-0.287287</td>\n",
       "      <td>0.631076</td>\n",
       "      <td>2.580998</td>\n",
       "      <td>-2.569221</td>\n",
       "      <td>20.788173</td>\n",
       "      <td>1.3570</td>\n",
       "    </tr>\n",
       "    <tr>\n",
       "      <td>003621_2014-05-23_18-06-08_094959634447_rgbf000101-resize</td>\n",
       "      <td>0.277654</td>\n",
       "      <td>0.629281</td>\n",
       "      <td>3.201834</td>\n",
       "      <td>-3.201834</td>\n",
       "      <td>23.071765</td>\n",
       "      <td>3.9835</td>\n",
       "    </tr>\n",
       "  </tbody>\n",
       "</table>\n",
       "<p>149 rows × 6 columns</p>\n",
       "</div>"
      ],
      "text/plain": [
       "                                                    s_residual  \\\n",
       "stimulus                                                         \n",
       "000009_2014-05-26_14-32-05_260595134347_rgbf000...    0.685258   \n",
       "000109_2014-05-14_23-41-52_260595134347_rgbf000...   -0.161136   \n",
       "000137_2014-05-20_17-04-49_260595134347_rgbf000...    0.058863   \n",
       "000191_2014-05-12_17-07-38_260595134347_rgbf000...    0.479210   \n",
       "000368_2014-06-09_15-53-01_260595134347_rgbf000...   -0.437753   \n",
       "...                                                        ...   \n",
       "003490_2014-05-21_15-50-11_094959634447_rgbf000...    0.076635   \n",
       "003495_2014-05-21_16-01-51_094959634447_rgbf000...   -0.258374   \n",
       "003534_2014-05-22_15-06-10_094959634447_rgbf000...   -0.328349   \n",
       "003587_2014-05-23_16-48-02_094959634447_rgbf002...   -0.287287   \n",
       "003621_2014-05-23_18-06-08_094959634447_rgbf000...    0.277654   \n",
       "\n",
       "                                                    abs_s_residual  abs_error  \\\n",
       "stimulus                                                                        \n",
       "000009_2014-05-26_14-32-05_260595134347_rgbf000...        0.883585   2.746895   \n",
       "000109_2014-05-14_23-41-52_260595134347_rgbf000...        0.536741   2.451997   \n",
       "000137_2014-05-20_17-04-49_260595134347_rgbf000...        0.542584   3.330575   \n",
       "000191_2014-05-12_17-07-38_260595134347_rgbf000...        0.706134   2.916383   \n",
       "000368_2014-06-09_15-53-01_260595134347_rgbf000...        0.600985   3.239066   \n",
       "...                                                            ...        ...   \n",
       "003490_2014-05-21_15-50-11_094959634447_rgbf000...        0.613997   3.248286   \n",
       "003495_2014-05-21_16-01-51_094959634447_rgbf000...        0.551080   2.707563   \n",
       "003534_2014-05-22_15-06-10_094959634447_rgbf000...        0.593542   2.647628   \n",
       "003587_2014-05-23_16-48-02_094959634447_rgbf002...        0.631076   2.580998   \n",
       "003621_2014-05-23_18-06-08_094959634447_rgbf000...        0.629281   3.201834   \n",
       "\n",
       "                                                       error  groundPlane  \\\n",
       "stimulus                                                                    \n",
       "000009_2014-05-26_14-32-05_260595134347_rgbf000... -2.743163    34.796527   \n",
       "000109_2014-05-14_23-41-52_260595134347_rgbf000... -2.441930     6.620498   \n",
       "000137_2014-05-20_17-04-49_260595134347_rgbf000... -3.330575    14.896111   \n",
       "000191_2014-05-12_17-07-38_260595134347_rgbf000... -2.916383    12.340757   \n",
       "000368_2014-06-09_15-53-01_260595134347_rgbf000... -3.234455    21.090701   \n",
       "...                                                      ...          ...   \n",
       "003490_2014-05-21_15-50-11_094959634447_rgbf000... -3.248286    19.999457   \n",
       "003495_2014-05-21_16-01-51_094959634447_rgbf000... -2.662730    12.747279   \n",
       "003534_2014-05-22_15-06-10_094959634447_rgbf000... -2.641743    12.376994   \n",
       "003587_2014-05-23_16-48-02_094959634447_rgbf002... -2.569221    20.788173   \n",
       "003621_2014-05-23_18-06-08_094959634447_rgbf000... -3.201834    23.071765   \n",
       "\n",
       "                                                    actual_depth  \n",
       "stimulus                                                          \n",
       "000009_2014-05-26_14-32-05_260595134347_rgbf000...        3.8715  \n",
       "000109_2014-05-14_23-41-52_260595134347_rgbf000...        1.3545  \n",
       "000137_2014-05-20_17-04-49_260595134347_rgbf000...        3.7860  \n",
       "000191_2014-05-12_17-07-38_260595134347_rgbf000...        3.7995  \n",
       "000368_2014-06-09_15-53-01_260595134347_rgbf000...        2.4860  \n",
       "...                                                          ...  \n",
       "003490_2014-05-21_15-50-11_094959634447_rgbf000...        3.6445  \n",
       "003495_2014-05-21_16-01-51_094959634447_rgbf000...        1.6255  \n",
       "003534_2014-05-22_15-06-10_094959634447_rgbf000...        1.4260  \n",
       "003587_2014-05-23_16-48-02_094959634447_rgbf002...        1.3570  \n",
       "003621_2014-05-23_18-06-08_094959634447_rgbf000...        3.9835  \n",
       "\n",
       "[149 rows x 6 columns]"
      ]
     },
     "execution_count": 195,
     "metadata": {},
     "output_type": "execute_result"
    }
   ],
   "source": [
    "p_data_grouped_1000"
   ]
  },
  {
   "cell_type": "markdown",
   "metadata": {},
   "source": [
    "## Plot "
   ]
  },
  {
   "cell_type": "code",
   "execution_count": null,
   "metadata": {},
   "outputs": [],
   "source": [
    "\n"
   ]
  },
  {
   "cell_type": "code",
   "execution_count": 20,
   "metadata": {},
   "outputs": [],
   "source": [
    "pos_df = df.loc[df['residuals'] > 0]\n",
    "neg_df = df.loc[df['residuals'] < 0]\n",
    "\n",
    "\n",
    "pos_df.to_csv('groundPlane_pos.csv', index=False)\n",
    "neg_df.to_csv('groundPlane_neg.csv', index=False)"
   ]
  },
  {
   "cell_type": "code",
   "execution_count": 21,
   "metadata": {},
   "outputs": [
    {
     "name": "stdout",
     "output_type": "stream",
     "text": [
      "Pos residuals x GP:  (0.19798417151270925, 0.0046329665779752775)\n",
      "Neg residuals x GP:  (-0.29964143338414084, 1.8746638582777696e-06)\n"
     ]
    }
   ],
   "source": [
    "print('Pos residuals x GP: ',stats.pearsonr(list(pos_df['groundPlane']), list(pos_df['residuals'])))\n",
    "print('Neg residuals x GP: ',stats.pearsonr(list(neg_df['groundPlane']), list(neg_df['residuals'])))\n"
   ]
  },
  {
   "cell_type": "code",
   "execution_count": null,
   "metadata": {},
   "outputs": [],
   "source": []
  },
  {
   "cell_type": "code",
   "execution_count": 30,
   "metadata": {},
   "outputs": [
    {
     "data": {
      "image/png": "[encoded data removed]",
      "text/plain": [
       "<Figure size 720x720 with 1 Axes>"
      ]
     },
     "metadata": {
      "needs_background": "light"
     },
     "output_type": "display_data"
    }
   ],
   "source": [
    "from sklearn.linear_model import LinearRegression\n",
    "\n",
    "fig, ax = plt.subplots(figsize=[10,10])\n",
    "plt.tight_layout()\n",
    "ax.spines['right'].set_visible(False)\n",
    "ax.spines['top'].set_visible(False)\n",
    "\n",
    "for axis in ['bottom','left']:\n",
    "    ax.spines[axis].set_linewidth(2.3)\n",
    "    \n",
    "#run regression\n",
    "X = np.array(pos_df['groundPlane']).reshape(-1,1)\n",
    "y = list(pos_df['residuals'])\n",
    "reg = LinearRegression().fit(X, y)\n",
    "\n",
    "#Generated Predictions\n",
    "y_predicted = reg.predict(X)\n",
    "#Plot Our Actual and Predicted Values\n",
    "plt.plot(X, y, 'o', color='black', alpha = 1);\n",
    "# plt.plot(X,y_predicted,color='black', label = 'm = ' + str(round(reg.coef_[0], 3))\n",
    "#          + '     r-squared = ' + str(round(float(reg.score(X, y)), 3)))\n",
    "\n",
    "plt.plot(X,y_predicted,color='black', label = 'm_pos = ' + str(round(reg.coef_[0], 3)))\n",
    "\n",
    "X_neg = np.array(neg_df['groundPlane']).reshape(-1,1)\n",
    "y_neg = list(neg_df['residuals'])\n",
    "reg_neg = LinearRegression().fit(X_neg, y_neg)\n",
    "\n",
    "#Generated Predictions\n",
    "y_predicted_neg = reg_neg.predict(X_neg)\n",
    "#Plot Our Actual and Predicted Values\n",
    "plt.plot(X_neg, y_neg, 'o', color='black', alpha = 1);\n",
    "# plt.plot(X_neg,y_predicted_neg,color='black', label = 'm = ' + str(round(reg_neg.coef_[0], 3))\n",
    "#          + '     r-squared = ' + str(round(float(reg_neg.score(X_neg, y_neg)), 3)))\n",
    "\n",
    "plt.plot(X_neg,y_predicted_neg,color='black', label = 'm_neg = ' + str(round(reg_neg.coef_[0], 3)))\n",
    "\n",
    "plt.axhline(y=0, color='black', linestyle='--')\n",
    "\n",
    "\n",
    "# plt.title(\"Complete Ground Plane x Target Depth\", fontsize = 28)\n",
    "plt.xlabel(\"Complete Ground Plane\", fontsize = 22)\n",
    "plt.ylabel(\"Residuals\", fontsize = 22)\n",
    "\n",
    "plt.xticks(fontsize=18)\n",
    "plt.yticks(np.arange(-1,1.5, 0.5), fontsize=18)\n",
    "# plt.ylim(-1.5,1.5)\n",
    "\n",
    "legend = plt.legend(loc = 1, fontsize = 22, borderpad = 0.6, labelspacing = 1, frameon=False)\n",
    "\n",
    "plt.savefig('pos_neg_GP_residuals.png', dpi=300)"
   ]
  },
  {
   "cell_type": "code",
   "execution_count": 67,
   "metadata": {},
   "outputs": [],
   "source": [
    "df_125 = df.loc[df['duration'] == 125]\n",
    "df_250 = df.loc[df['duration'] == 250]\n",
    "df_1000 = df.loc[df['duration']== 1000]\n",
    "\n",
    "pos_df_125 = df_125.loc[df_125['residuals'] > 0]\n",
    "pos_df_250 = df_250.loc[df_250['residuals'] > 0]\n",
    "pos_df_1000 = df_1000.loc[df_1000['residuals'] > 0]\n",
    "\n",
    "neg_df_125 = df_125.loc[df_125['residuals'] < 0]\n",
    "neg_df_250 = df_250.loc[df_250['residuals'] < 0]\n",
    "neg_df_1000 = df_1000.loc[df_1000['residuals'] < 0]"
   ]
  },
  {
   "cell_type": "code",
   "execution_count": 53,
   "metadata": {},
   "outputs": [
    {
     "data": {
      "text/plain": [
       "(149, '000854_2014-06-09_19-43-13_260595134347_rgbf000066-resize')"
      ]
     },
     "execution_count": 53,
     "metadata": {},
     "output_type": "execute_result"
    }
   ],
   "source": [
    "len(df_125.stimulus.unique()), df_125.stimulus.unique()[0]\n",
    "\n",
    "# df.loc[df['stimulus'] =='000854_2014-06-09_19-43-13_260595134347_rgbf000066-resize']"
   ]
  },
  {
   "cell_type": "raw",
   "metadata": {},
   "source": [
    " Lower 95 Percent Confidence Limits\n",
    "groundPlane\n",
    "           3           20           30           40           50 \n",
    " 0.003672452 -0.062006568 -0.150898040 -0.256825479 -0.367468122 \n",
    " \n",
    " groundPlane\n",
    "           3           20           30           40           50 \n",
    " 0.100212360 -0.005880515 -0.068288089 -0.130695663 -0.193103236 \n",
    "\n",
    "\n",
    " Upper 95 Percent Confidence Limits\n",
    "groundPlane\n",
    "           3           20           30           40           50 \n",
    " 0.196752268  0.050245537  0.014321862 -0.004565847 -0.018738350 \n",
    " "
   ]
  },
  {
   "cell_type": "code",
   "execution_count": 90,
   "metadata": {},
   "outputs": [
    {
     "data": {
      "text/plain": [
       "(0.09653990800000001,\n",
       " 0.056126052,\n",
       " 0.082609951,\n",
       " 0.12612981599999998,\n",
       " 0.174364886)"
      ]
     },
     "execution_count": 90,
     "metadata": {},
     "output_type": "execute_result"
    }
   ],
   "source": [
    " 0.196752268 -  0.100212360, 0.050245537 - -0.005880515, 0.014321862- -0.068288089, -0.004565847- -0.130695663,  -0.018738350- -0.193103236"
   ]
  },
  {
   "cell_type": "code",
   "execution_count": 91,
   "metadata": {},
   "outputs": [],
   "source": [
    "civals_125 = [0.09653990800000001,\n",
    " 0.056126052,\n",
    " 0.082609951,\n",
    " 0.12612981599999998,\n",
    " 0.174364886]"
   ]
  },
  {
   "cell_type": "code",
   "execution_count": 75,
   "metadata": {},
   "outputs": [],
   "source": [
    "gpv_125 = [3, 20, 30, 40, 50]\n",
    "resv_125 = [0.100212360, -0.005880515, -0.068288089, -0.130695663, -0.193103236]"
   ]
  },
  {
   "cell_type": "code",
   "execution_count": 99,
   "metadata": {},
   "outputs": [
    {
     "data": {
      "image/png": "[encoded data removed]",
      "text/plain": [
       "<Figure size 648x648 with 1 Axes>"
      ]
     },
     "metadata": {
      "needs_background": "light"
     },
     "output_type": "display_data"
    }
   ],
   "source": [
    "from sklearn.linear_model import LinearRegression\n",
    "\n",
    "fig, ax = plt.subplots(figsize=[9,9])\n",
    "plt.tight_layout()\n",
    "ax.spines['right'].set_visible(False)\n",
    "ax.spines['top'].set_visible(False)\n",
    "\n",
    "for axis in ['bottom','left']:\n",
    "    ax.spines[axis].set_linewidth(2.3)\n",
    "    \n",
    "    \n",
    "#run regression\n",
    "X = np.array(gpv_125).reshape(-1,1)\n",
    "y = resv_125\n",
    "reg = LinearRegression().fit(X, y)\n",
    "\n",
    "#Generated Predictions\n",
    "y_predicted = reg.predict(X)\n",
    "#Plot Our Actual and Predicted Values\n",
    "plt.errorbar(X, y, yerr=civals_125, elinewidth = 1, ecolor = \"black\", fmt = 'or', mfc = \"black\", mec = \"black\", capsize = 3, markersize=8)\n",
    "plt.plot(X,y_predicted,color='darkgreen', label = 'm = ' + str(round(reg.coef_[0], 3)))\n",
    "\n",
    "plt.plot(df_125['groundPlane'], df_125['residuals'], 'o', color='darkgreen')\n",
    "\n",
    "# plt.title(\"Complete Ground Plane x Target Depth\", fontsize = 28)\n",
    "plt.xlabel(\"Complete Ground Plane\", fontsize = 22)\n",
    "plt.ylabel(\"Residuals\", fontsize = 22)\n",
    "\n",
    "plt.xticks(fontsize=18)\n",
    "plt.yticks(np.arange(-1,1.5, 0.5), fontsize=18)\n",
    "# plt.ylim(-1.5,1.5)\n",
    "\n",
    "legend = plt.legend(loc = 0, fontsize = 22, borderpad = 0.6, labelspacing = 1, frameon=False)"
   ]
  },
  {
   "cell_type": "code",
   "execution_count": 76,
   "metadata": {},
   "outputs": [
    {
     "data": {
      "image/png": "[encoded data removed]",
      "text/plain": [
       "<Figure size 648x648 with 1 Axes>"
      ]
     },
     "metadata": {
      "needs_background": "light"
     },
     "output_type": "display_data"
    }
   ],
   "source": [
    "from sklearn.linear_model import LinearRegression\n",
    "\n",
    "fig, ax = plt.subplots(figsize=[9,9])\n",
    "plt.tight_layout()\n",
    "ax.spines['right'].set_visible(False)\n",
    "ax.spines['top'].set_visible(False)\n",
    "\n",
    "for axis in ['bottom','left']:\n",
    "    ax.spines[axis].set_linewidth(2.3)\n",
    "    \n",
    "    \n",
    "    \n",
    "#run regression\n",
    "X = np.array(pos_df_125['groundPlane']).reshape(-1,1)\n",
    "y = list(pos_df_125['residuals'])\n",
    "reg = LinearRegression().fit(X, y)\n",
    "\n",
    "#Generated Predictions\n",
    "y_predicted = reg.predict(X)\n",
    "#Plot Our Actual and Predicted Values\n",
    "plt.plot(X, y, 'o', color='darkgreen', alpha = 1);\n",
    "# plt.plot(X,y_predicted,color='black', label = 'm = ' + str(round(reg.coef_[0], 3))\n",
    "#          + '     r-squared = ' + str(round(float(reg.score(X, y)), 3)))\n",
    "\n",
    "plt.plot(X,y_predicted,color='darkgreen', label = 'm_pos = ' + str(round(reg.coef_[0], 3)))\n",
    "\n",
    "X_neg = np.array(neg_df_125['groundPlane']).reshape(-1,1)\n",
    "y_neg = list(neg_df_125['residuals'])\n",
    "reg_neg = LinearRegression().fit(X_neg, y_neg)\n",
    "\n",
    "#Generated Predictions\n",
    "y_predicted_neg = reg_neg.predict(X_neg)\n",
    "#Plot Our Actual and Predicted Values\n",
    "plt.plot(X_neg, y_neg, 'o', color='darkgreen', alpha = 1);\n",
    "# plt.plot(X_neg,y_predicted_neg,color='black', label = 'm = ' + str(round(reg_neg.coef_[0], 3))\n",
    "#          + '     r-squared = ' + str(round(float(reg_neg.score(X_neg, y_neg)), 3)))\n",
    "\n",
    "plt.plot(X_neg,y_predicted_neg,color='darkgreen', label = 'm_neg = ' + str(round(reg_neg.coef_[0], 3)))\n",
    "\n",
    "plt.axhline(y=0, color='black', linestyle='--')\n",
    "\n",
    "\n",
    "# plt.title(\"Complete Ground Plane x Target Depth\", fontsize = 28)\n",
    "plt.xlabel(\"Complete Ground Plane\", fontsize = 22)\n",
    "plt.ylabel(\"Residuals\", fontsize = 22)\n",
    "\n",
    "plt.xticks(fontsize=18)\n",
    "plt.yticks(np.arange(-1,1.5, 0.5), fontsize=18)\n",
    "# plt.ylim(-1.5,1.5)\n",
    "\n",
    "legend = plt.legend(loc = 0, fontsize = 22, borderpad = 0.6, labelspacing = 1, frameon=False)"
   ]
  },
  {
   "cell_type": "raw",
   "metadata": {},
   "source": [
    "# 250 \n",
    " Lower 95 Percent Confidence Limits\n",
    "groundPlane\n",
    "           3           20           30           40           50 \n",
    "-0.002504611 -0.061912901 -0.145354580 -0.245231061 -0.349654209 \n",
    "\n",
    "groundPlane\n",
    "           3           20           30           40           50 \n",
    " 0.090617177 -0.007793664 -0.065682395 -0.123571125 -0.181459855 \n",
    "\n",
    " Upper 95 Percent Confidence Limits\n",
    "groundPlane\n",
    "           3           20           30           40           50 \n",
    " 0.183738966  0.046325572  0.013989791 -0.001911189 -0.013265501 \n",
    " "
   ]
  },
  {
   "cell_type": "code",
   "execution_count": 100,
   "metadata": {},
   "outputs": [
    {
     "data": {
      "text/plain": [
       "(0.093121788, 0.054119237, 0.079672185, 0.121659936, 0.168194354)"
      ]
     },
     "execution_count": 100,
     "metadata": {},
     "output_type": "execute_result"
    }
   ],
   "source": [
    " 0.090617177 - -0.002504611,  -0.007793664 - -0.061912901, -0.065682395- -0.145354580, -0.123571125 - -0.245231061, -0.181459855- -0.349654209"
   ]
  },
  {
   "cell_type": "code",
   "execution_count": 101,
   "metadata": {},
   "outputs": [],
   "source": [
    "civals_250 = [0.093121788, 0.054119237, 0.079672185, 0.121659936, 0.168194354]"
   ]
  },
  {
   "cell_type": "code",
   "execution_count": 102,
   "metadata": {},
   "outputs": [],
   "source": [
    "gpv_250 = [3, 20, 30, 40, 50]\n",
    "resv_250 = [ 0.090617177, -0.007793664, -0.065682395, -0.123571125, -0.181459855]"
   ]
  },
  {
   "cell_type": "code",
   "execution_count": 104,
   "metadata": {},
   "outputs": [
    {
     "data": {
      "image/png": "[encoded data removed]",
      "text/plain": [
       "<Figure size 648x648 with 1 Axes>"
      ]
     },
     "metadata": {
      "needs_background": "light"
     },
     "output_type": "display_data"
    }
   ],
   "source": [
    "from sklearn.linear_model import LinearRegression\n",
    "\n",
    "fig, ax = plt.subplots(figsize=[9,9])\n",
    "plt.tight_layout()\n",
    "ax.spines['right'].set_visible(False)\n",
    "ax.spines['top'].set_visible(False)\n",
    "\n",
    "for axis in ['bottom','left']:\n",
    "    ax.spines[axis].set_linewidth(2.3)\n",
    "    \n",
    "    \n",
    "#run regression\n",
    "X = np.array(gpv_250).reshape(-1,1)\n",
    "y = resv_250\n",
    "reg = LinearRegression().fit(X, y)\n",
    "\n",
    "#Generated Predictions\n",
    "y_predicted = reg.predict(X)\n",
    "#Plot Our Actual and Predicted Values\n",
    "plt.errorbar(X, y, yerr=civals_250, elinewidth = 1, ecolor = \"black\", fmt = 'or', mfc = \"black\", mec = \"black\", capsize = 3, markersize=8)\n",
    "plt.plot(X,y_predicted,color='chocolate', label = 'm = ' + str(round(reg.coef_[0], 3)))\n",
    "\n",
    "plt.plot(df_250['groundPlane'], df_250['residuals'], 'o', color='chocolate')\n",
    "\n",
    "# plt.title(\"Complete Ground Plane x Target Depth\", fontsize = 28)\n",
    "plt.xlabel(\"Complete Ground Plane\", fontsize = 22)\n",
    "plt.ylabel(\"Residuals\", fontsize = 22)\n",
    "\n",
    "plt.xticks(fontsize=18)\n",
    "plt.yticks(np.arange(-1,1.5, 0.5), fontsize=18)\n",
    "# plt.ylim(-1.5,1.5)\n",
    "\n",
    "legend = plt.legend(loc = 0, fontsize = 22, borderpad = 0.6, labelspacing = 1, frameon=False)"
   ]
  },
  {
   "cell_type": "code",
   "execution_count": 73,
   "metadata": {},
   "outputs": [
    {
     "data": {
      "image/png": "[encoded data removed]",
      "text/plain": [
       "<Figure size 648x648 with 1 Axes>"
      ]
     },
     "metadata": {
      "needs_background": "light"
     },
     "output_type": "display_data"
    }
   ],
   "source": [
    "from sklearn.linear_model import LinearRegression\n",
    "\n",
    "fig, ax = plt.subplots(figsize=[9,9])\n",
    "plt.tight_layout()\n",
    "ax.spines['right'].set_visible(False)\n",
    "ax.spines['top'].set_visible(False)\n",
    "\n",
    "for axis in ['bottom','left']:\n",
    "    ax.spines[axis].set_linewidth(2.3)\n",
    "    \n",
    "#run regression\n",
    "X = np.array(pos_df_250['groundPlane']).reshape(-1,1)\n",
    "y = list(pos_df_250['residuals'])\n",
    "reg = LinearRegression().fit(X, y)\n",
    "\n",
    "#Generated Predictions\n",
    "y_predicted = reg.predict(X)\n",
    "#Plot Our Actual and Predicted Values\n",
    "plt.plot(X, y, 'o', color='chocolate', alpha = 1);\n",
    "# plt.plot(X,y_predicted,color='black', label = 'm = ' + str(round(reg.coef_[0], 3))\n",
    "#          + '     r-squared = ' + str(round(float(reg.score(X, y)), 3)))\n",
    "\n",
    "plt.plot(X,y_predicted,color='chocolate', label = 'm_pos = ' + str(round(reg.coef_[0], 3)))\n",
    "\n",
    "X_neg = np.array(neg_df_250['groundPlane']).reshape(-1,1)\n",
    "y_neg = list(neg_df_250['residuals'])\n",
    "reg_neg = LinearRegression().fit(X_neg, y_neg)\n",
    "\n",
    "#Generated Predictions\n",
    "y_predicted_neg = reg_neg.predict(X_neg)\n",
    "#Plot Our Actual and Predicted Values\n",
    "plt.plot(X_neg, y_neg, 'o', color='chocolate', alpha = 1);\n",
    "# plt.plot(X_neg,y_predicted_neg,color='black', label = 'm = ' + str(round(reg_neg.coef_[0], 3))\n",
    "#          + '     r-squared = ' + str(round(float(reg_neg.score(X_neg, y_neg)), 3)))\n",
    "\n",
    "plt.plot(X_neg,y_predicted_neg,color='chocolate', label = 'm_neg = ' + str(round(reg_neg.coef_[0], 3)))\n",
    "\n",
    "plt.axhline(y=0, color='black', linestyle='--')\n",
    "\n",
    "\n",
    "# plt.title(\"Complete Ground Plane x Target Depth\", fontsize = 28)\n",
    "plt.xlabel(\"Complete Ground Plane\", fontsize = 22)\n",
    "plt.ylabel(\"Residuals\", fontsize = 22)\n",
    "\n",
    "plt.xticks(fontsize=18)\n",
    "plt.yticks(np.arange(-1,1.5, 0.5), fontsize=18)\n",
    "# plt.ylim(-1.5,1.5)\n",
    "\n",
    "legend = plt.legend(loc = 0, fontsize = 22, borderpad = 0.6, labelspacing = 1, frameon=False)"
   ]
  },
  {
   "cell_type": "raw",
   "metadata": {},
   "source": [
    "# 1000\n",
    "\n",
    " Lower 95 Percent Confidence Limits\n",
    "groundPlane\n",
    "          3          20          30          40          50 \n",
    " 0.02339905 -0.06415182 -0.16482979 -0.28221812 -0.40424384 \n",
    " \n",
    " \n",
    "groundPlane\n",
    "           3           20           30           40           50 \n",
    " 0.118103301 -0.009001275 -0.083768673 -0.158536071 -0.233303469 \n",
    "\n",
    "\n",
    " Upper 95 Percent Confidence Limits\n",
    "groundPlane\n",
    "           3           20           30           40           50 \n",
    " 0.212807553  0.046149265 -0.002707555 -0.034854027 -0.062363095 "
   ]
  },
  {
   "cell_type": "code",
   "execution_count": 105,
   "metadata": {},
   "outputs": [
    {
     "data": {
      "text/plain": [
       "(0.09470425099999999,\n",
       " 0.055150544999999995,\n",
       " 0.081061117,\n",
       " 0.12368204900000002,\n",
       " 0.170940371)"
      ]
     },
     "execution_count": 105,
     "metadata": {},
     "output_type": "execute_result"
    }
   ],
   "source": [
    " 0.118103301- 0.02339905, -0.009001275--0.06415182, -0.083768673--0.16482979, -0.158536071--0.28221812, -0.233303469--0.40424384"
   ]
  },
  {
   "cell_type": "code",
   "execution_count": 106,
   "metadata": {},
   "outputs": [],
   "source": [
    "civals_1000 = [0.09470425099999999,\n",
    " 0.055150544999999995,\n",
    " 0.081061117,\n",
    " 0.12368204900000002,\n",
    " 0.170940371]"
   ]
  },
  {
   "cell_type": "code",
   "execution_count": 107,
   "metadata": {},
   "outputs": [],
   "source": [
    "gpv_1000 = [3, 20, 30, 40, 50]\n",
    "resv_1000 = [ 0.118103301, -0.009001275, -0.083768673, -0.158536071, -0.233303469 ]"
   ]
  },
  {
   "cell_type": "code",
   "execution_count": 108,
   "metadata": {},
   "outputs": [
    {
     "data": {
      "image/png": "[encoded data removed]",
      "text/plain": [
       "<Figure size 648x648 with 1 Axes>"
      ]
     },
     "metadata": {
      "needs_background": "light"
     },
     "output_type": "display_data"
    }
   ],
   "source": [
    "from sklearn.linear_model import LinearRegression\n",
    "\n",
    "fig, ax = plt.subplots(figsize=[9,9])\n",
    "plt.tight_layout()\n",
    "ax.spines['right'].set_visible(False)\n",
    "ax.spines['top'].set_visible(False)\n",
    "\n",
    "for axis in ['bottom','left']:\n",
    "    ax.spines[axis].set_linewidth(2.3)\n",
    "    \n",
    "    \n",
    "#run regression\n",
    "X = np.array(gpv_1000).reshape(-1,1)\n",
    "y = resv_1000\n",
    "reg = LinearRegression().fit(X, y)\n",
    "\n",
    "#Generated Predictions\n",
    "y_predicted = reg.predict(X)\n",
    "#Plot Our Actual and Predicted Values\n",
    "plt.errorbar(X, y, yerr=civals_1000, elinewidth = 1, ecolor = \"black\", fmt = 'or', mfc = \"black\", mec = \"black\", capsize = 3, markersize=8)\n",
    "plt.plot(X,y_predicted,color='darkviolet', label = 'm = ' + str(round(reg.coef_[0], 3)))\n",
    "\n",
    "plt.plot(df_1000['groundPlane'], df_1000['residuals'], 'o', color='darkviolet')\n",
    "\n",
    "# plt.title(\"Complete Ground Plane x Target Depth\", fontsize = 28)\n",
    "plt.xlabel(\"Complete Ground Plane\", fontsize = 22)\n",
    "plt.ylabel(\"Residuals\", fontsize = 22)\n",
    "\n",
    "plt.xticks(fontsize=18)\n",
    "plt.yticks(np.arange(-1,1.5, 0.5), fontsize=18)\n",
    "# plt.ylim(-1.5,1.5)\n",
    "\n",
    "legend = plt.legend(loc = 0, fontsize = 22, borderpad = 0.6, labelspacing = 1, frameon=False)"
   ]
  },
  {
   "cell_type": "code",
   "execution_count": 74,
   "metadata": {},
   "outputs": [
    {
     "data": {
      "image/png": "[encoded data removed]",
      "text/plain": [
       "<Figure size 648x648 with 1 Axes>"
      ]
     },
     "metadata": {
      "needs_background": "light"
     },
     "output_type": "display_data"
    }
   ],
   "source": [
    "from sklearn.linear_model import LinearRegression\n",
    "\n",
    "fig, ax = plt.subplots(figsize=[9,9])\n",
    "plt.tight_layout()\n",
    "ax.spines['right'].set_visible(False)\n",
    "ax.spines['top'].set_visible(False)\n",
    "\n",
    "for axis in ['bottom','left']:\n",
    "    ax.spines[axis].set_linewidth(2.3)\n",
    "    \n",
    "#run regression\n",
    "X = np.array(pos_df_1000['groundPlane']).reshape(-1,1)\n",
    "y = list(pos_df_1000['residuals'])\n",
    "reg = LinearRegression().fit(X, y)\n",
    "\n",
    "#Generated Predictions\n",
    "y_predicted = reg.predict(X)\n",
    "#Plot Our Actual and Predicted Values\n",
    "plt.plot(X, y, 'o', color='darkviolet', alpha = 1);\n",
    "# plt.plot(X,y_predicted,color='black', label = 'm = ' + str(round(reg.coef_[0], 3))\n",
    "#          + '     r-squared = ' + str(round(float(reg.score(X, y)), 3)))\n",
    "\n",
    "plt.plot(X,y_predicted,color='darkviolet', label = 'm_pos = ' + str(round(reg.coef_[0], 3)))\n",
    "\n",
    "X_neg = np.array(neg_df_1000['groundPlane']).reshape(-1,1)\n",
    "y_neg = list(neg_df_1000['residuals'])\n",
    "reg_neg = LinearRegression().fit(X_neg, y_neg)\n",
    "\n",
    "#Generated Predictions\n",
    "y_predicted_neg = reg_neg.predict(X_neg)\n",
    "#Plot Our Actual and Predicted Values\n",
    "plt.plot(X_neg, y_neg, 'o', color='darkviolet', alpha = 1);\n",
    "# plt.plot(X_neg,y_predicted_neg,color='black', label = 'm = ' + str(round(reg_neg.coef_[0], 3))\n",
    "#          + '     r-squared = ' + str(round(float(reg_neg.score(X_neg, y_neg)), 3)))\n",
    "\n",
    "plt.plot(X_neg,y_predicted_neg,color='darkviolet', label = 'm_neg = ' + str(round(reg_neg.coef_[0], 3)))\n",
    "\n",
    "plt.axhline(y=0, color='black', linestyle='--')\n",
    "\n",
    "\n",
    "# plt.title(\"Complete Ground Plane x Target Depth\", fontsize = 28)\n",
    "plt.xlabel(\"Complete Ground Plane\", fontsize = 22)\n",
    "plt.ylabel(\"Residuals\", fontsize = 22)\n",
    "\n",
    "plt.xticks(fontsize=18)\n",
    "plt.yticks(np.arange(-1,1.5, 0.5), fontsize=18)\n",
    "# plt.ylim(-1.5,1.5)\n",
    "\n",
    "legend = plt.legend(loc = 0, fontsize = 22, borderpad = 0.6, labelspacing = 1, frameon=False)"
   ]
  },
  {
   "cell_type": "code",
   "execution_count": null,
   "metadata": {},
   "outputs": [],
   "source": []
  }
 ],
 "metadata": {
  "kernelspec": {
   "display_name": "Python 3",
   "language": "python",
   "name": "python3"
  },
  "language_info": {
   "codemirror_mode": {
    "name": "ipython",
    "version": 3
   },
   "file_extension": ".py",
   "mimetype": "text/x-python",
   "name": "python",
   "nbconvert_exporter": "python",
   "pygments_lexer": "ipython3",
   "version": "3.7.4"
  }
 },
 "nbformat": 4,
 "nbformat_minor": 4
}
