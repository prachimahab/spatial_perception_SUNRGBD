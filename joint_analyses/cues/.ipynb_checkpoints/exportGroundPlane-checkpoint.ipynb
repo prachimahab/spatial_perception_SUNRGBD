{
 "cells": [
  {
   "cell_type": "markdown",
   "metadata": {},
   "source": [
    "# Export VE Data as DataFrame for LME Cue Analysis"
   ]
  },
  {
   "cell_type": "code",
   "execution_count": 36,
   "metadata": {},
   "outputs": [],
   "source": [
    "import csv\n",
    "import pandas as pd\n",
    "import numpy as np\n",
    "import os\n",
    "import json\n",
    "import matplotlib.pyplot as plt\n",
    "import seaborn as sns\n",
    "import scipy.stats as stats\n"
   ]
  },
  {
   "cell_type": "code",
   "execution_count": 2,
   "metadata": {},
   "outputs": [],
   "source": [
    "# residuals, complete ground plane, viewing duration, stimulus "
   ]
  },
  {
   "cell_type": "code",
   "execution_count": 3,
   "metadata": {},
   "outputs": [],
   "source": [
    "dpath = '/Users/prachimahableshwarkar/Documents/GW/Depth_MTurk/verbal_judgement_analysis/data/finalVEMatched/z_scored/'\n",
    "\n",
    "# dpath = '/Users/pmahableshwarkar/Documents/Depth_Project/verbal_judgement_analysis/data/finalVEMatched/z_scored/'\n",
    "\n",
    "# stim \n",
    "with open(dpath + 'z_final_stim_125.npy' , 'rb') as f:\n",
    "    stim_125 = np.load(f, allow_pickle=True)\n",
    "    \n",
    "with open(dpath + 'z_final_stim_250.npy' , 'rb') as f:\n",
    "    stim_250 = np.load(f, allow_pickle=True)\n",
    "\n",
    "with open(dpath + 'z_final_stim_1000.npy' , 'rb') as f:\n",
    "    stim_1000 = np.load(f, allow_pickle=True)\n",
    "    \n",
    "# residuals\n",
    "with open(dpath + 'residuals/'+ 'z_residuals_125.npy' , 'rb') as f:\n",
    "    residuals_125 = np.load(f, allow_pickle=True)\n",
    "with open(dpath + 'residuals/'+ 'z_residuals_250.npy' , 'rb') as f:\n",
    "    residuals_250 = np.load(f, allow_pickle=True) \n",
    "with open(dpath + 'residuals/'+ 'z_residuals_1000.npy' , 'rb') as f:\n",
    "    residuals_1000= np.load(f, allow_pickle=True)\n",
    "    \n",
    "# difference between z-scored estimate and z-scored actual depth\n",
    "with open(dpath + '/diff_125.npy' , 'rb') as f:\n",
    "    diff_125 = np.load(f, allow_pickle=True)\n",
    "with open(dpath + '/diff_250.npy' , 'rb') as f:\n",
    "    diff_250 = np.load(f, allow_pickle=True) \n",
    "with open(dpath + '/diff_1000.npy' , 'rb') as f:\n",
    "    diff_1000= np.load(f, allow_pickle=True)\n",
    "    "
   ]
  },
  {
   "cell_type": "code",
   "execution_count": null,
   "metadata": {},
   "outputs": [],
   "source": []
  },
  {
   "cell_type": "code",
   "execution_count": 4,
   "metadata": {},
   "outputs": [
    {
     "name": "stdout",
     "output_type": "stream",
     "text": [
      "002118_2014-06-25_20-32-08_260595134347_rgbf000078-resize excluded\n",
      "002657_2014-06-13_15-29-54_094959634447_rgbf000150-resize excluded\n"
     ]
    }
   ],
   "source": [
    "# path = '/Users/pmahableshwarkar/Documents/Depth_Project/SUN_scene_cue_coding/GP_size_dict.json'\n",
    "path = '/Users/prachimahableshwarkar/Documents/GW/Depth_MTurk/SUN_scene_cue_coding/GP_size_dict.json'\n",
    "\n",
    "gp_size_dict = json.load(open(path))\n",
    "\n",
    "# Find GP or VGP Outliers \n",
    "\n",
    "gpsize_list = [[key, gp_size_dict[key]] for key in gp_size_dict]\n",
    "gpsize_mean = np.mean(np.array([elem[1] for elem in gpsize_list]))\n",
    "gpsize_std = np.std(np.array([elem[1] for elem in gpsize_list]))\n",
    "\n",
    "gpsize_outlierRange = [gpsize_mean - (3*gpsize_std), gpsize_mean + (3*gpsize_std)]\n",
    "\n",
    "cleaned_gpsize_dict = {}\n",
    "for key in gp_size_dict:\n",
    "    if gpsize_outlierRange[0] < gp_size_dict[key] < gpsize_outlierRange[1]:\n",
    "        cleaned_gpsize_dict[key] = gp_size_dict[key]\n",
    "    else:\n",
    "        print(key, 'excluded')\n",
    "        \n",
    "ordered_gp_size = []\n",
    "gp_none = 0\n",
    "\n",
    "\n",
    "for folder in [elem.split('/')[1][:-2] for elem in stim_250]:\n",
    "    try:\n",
    "        ordered_gp_size.append(cleaned_gpsize_dict[folder])\n",
    "    except:\n",
    "        gp_none += 1\n",
    "        ordered_gp_size.append(None)"
   ]
  },
  {
   "cell_type": "code",
   "execution_count": 5,
   "metadata": {},
   "outputs": [
    {
     "data": {
      "text/plain": [
       "149"
      ]
     },
     "execution_count": 5,
     "metadata": {},
     "output_type": "execute_result"
    }
   ],
   "source": [
    "len(cleaned_gpsize_dict)"
   ]
  },
  {
   "cell_type": "code",
   "execution_count": 6,
   "metadata": {},
   "outputs": [
    {
     "data": {
      "text/plain": [
       "(149, 149, 149, 149, 149)"
      ]
     },
     "execution_count": 6,
     "metadata": {},
     "output_type": "execute_result"
    }
   ],
   "source": [
    "\n",
    "completeGP = []\n",
    "\n",
    "trunc_residuals_125 = []\n",
    "trunc_residuals_250 = []\n",
    "trunc_residuals_1000 = []\n",
    "\n",
    "\n",
    "\n",
    "stimulus = []\n",
    "\n",
    "for stim in list(cleaned_gpsize_dict.keys()):\n",
    "    index_125 = [elem.split('/')[1][:-2] for elem in stim_125].index(stim)\n",
    "    index_250 = [elem.split('/')[1][:-2] for elem in stim_250].index(stim)\n",
    "    index_1000 = [elem.split('/')[1][:-2] for elem in stim_1000].index(stim)\n",
    "        \n",
    "    trunc_residuals_125.append(residuals_125[index_125])\n",
    "    trunc_residuals_250.append(residuals_250[index_250])\n",
    "    trunc_residuals_1000.append(residuals_1000[index_1000])\n",
    "        \n",
    "    completeGP.append(cleaned_gpsize_dict[stim])\n",
    "        \n",
    "    stimulus.append(stim)\n",
    "        \n",
    "    \n",
    "len(trunc_residuals_125), len(trunc_residuals_250), len(trunc_residuals_1000), len(completeGP), len(stimulus)"
   ]
  },
  {
   "cell_type": "code",
   "execution_count": 7,
   "metadata": {},
   "outputs": [
    {
     "data": {
      "text/plain": [
       "149"
      ]
     },
     "execution_count": 7,
     "metadata": {},
     "output_type": "execute_result"
    }
   ],
   "source": [
    "len([125] * len(trunc_residuals_125))"
   ]
  },
  {
   "cell_type": "code",
   "execution_count": 8,
   "metadata": {},
   "outputs": [
    {
     "data": {
      "text/plain": [
       "447"
      ]
     },
     "execution_count": 8,
     "metadata": {},
     "output_type": "execute_result"
    }
   ],
   "source": [
    "len(np.concatenate((np.abs(np.array(trunc_residuals_125)), np.abs(np.array(trunc_residuals_250)), np.abs(np.array(trunc_residuals_1000))), axis=0),)"
   ]
  },
  {
   "cell_type": "code",
   "execution_count": 9,
   "metadata": {},
   "outputs": [
    {
     "data": {
      "text/html": [
       "<div>\n",
       "<style scoped>\n",
       "    .dataframe tbody tr th:only-of-type {\n",
       "        vertical-align: middle;\n",
       "    }\n",
       "\n",
       "    .dataframe tbody tr th {\n",
       "        vertical-align: top;\n",
       "    }\n",
       "\n",
       "    .dataframe thead th {\n",
       "        text-align: right;\n",
       "    }\n",
       "</style>\n",
       "<table border=\"1\" class=\"dataframe\">\n",
       "  <thead>\n",
       "    <tr style=\"text-align: right;\">\n",
       "      <th></th>\n",
       "      <th>residuals</th>\n",
       "      <th>abs_residuals</th>\n",
       "      <th>duration</th>\n",
       "      <th>groundPlane</th>\n",
       "      <th>stimulus</th>\n",
       "    </tr>\n",
       "  </thead>\n",
       "  <tbody>\n",
       "    <tr>\n",
       "      <td>0</td>\n",
       "      <td>-0.583161</td>\n",
       "      <td>0.583161</td>\n",
       "      <td>125</td>\n",
       "      <td>11.910828</td>\n",
       "      <td>000854_2014-06-09_19-43-13_260595134347_rgbf00...</td>\n",
       "    </tr>\n",
       "    <tr>\n",
       "      <td>1</td>\n",
       "      <td>0.275925</td>\n",
       "      <td>0.275925</td>\n",
       "      <td>125</td>\n",
       "      <td>11.913177</td>\n",
       "      <td>000758_2014-06-08_22-05-08_260595134347_rgbf00...</td>\n",
       "    </tr>\n",
       "    <tr>\n",
       "      <td>2</td>\n",
       "      <td>-0.327997</td>\n",
       "      <td>0.327997</td>\n",
       "      <td>125</td>\n",
       "      <td>11.598019</td>\n",
       "      <td>002103_2014-06-25_20-00-40_260595134347_rgbf00...</td>\n",
       "    </tr>\n",
       "    <tr>\n",
       "      <td>3</td>\n",
       "      <td>-0.147574</td>\n",
       "      <td>0.147574</td>\n",
       "      <td>125</td>\n",
       "      <td>15.524304</td>\n",
       "      <td>002039_2014-06-24_20-22-38_260595134347_rgbf00...</td>\n",
       "    </tr>\n",
       "    <tr>\n",
       "      <td>4</td>\n",
       "      <td>-0.156264</td>\n",
       "      <td>0.156264</td>\n",
       "      <td>125</td>\n",
       "      <td>18.915500</td>\n",
       "      <td>000742_2014-06-08_18-48-09_260595134347_rgbf00...</td>\n",
       "    </tr>\n",
       "    <tr>\n",
       "      <td>...</td>\n",
       "      <td>...</td>\n",
       "      <td>...</td>\n",
       "      <td>...</td>\n",
       "      <td>...</td>\n",
       "      <td>...</td>\n",
       "    </tr>\n",
       "    <tr>\n",
       "      <td>442</td>\n",
       "      <td>-0.284820</td>\n",
       "      <td>0.284820</td>\n",
       "      <td>1000</td>\n",
       "      <td>28.953813</td>\n",
       "      <td>002964_2014-06-08_17-46-11_094959634447_rgbf00...</td>\n",
       "    </tr>\n",
       "    <tr>\n",
       "      <td>443</td>\n",
       "      <td>0.001737</td>\n",
       "      <td>0.001737</td>\n",
       "      <td>1000</td>\n",
       "      <td>15.893099</td>\n",
       "      <td>000943_2014-06-09_19-31-07_260595134347_rgbf00...</td>\n",
       "    </tr>\n",
       "    <tr>\n",
       "      <td>444</td>\n",
       "      <td>0.078397</td>\n",
       "      <td>0.078397</td>\n",
       "      <td>1000</td>\n",
       "      <td>10.664824</td>\n",
       "      <td>003070_2014-06-15_14-58-27_094959634447_rgbf00...</td>\n",
       "    </tr>\n",
       "    <tr>\n",
       "      <td>445</td>\n",
       "      <td>-0.068851</td>\n",
       "      <td>0.068851</td>\n",
       "      <td>1000</td>\n",
       "      <td>14.398279</td>\n",
       "      <td>001132_2014-06-17_14-48-54_260595134347_rgbf00...</td>\n",
       "    </tr>\n",
       "    <tr>\n",
       "      <td>446</td>\n",
       "      <td>-0.120543</td>\n",
       "      <td>0.120543</td>\n",
       "      <td>1000</td>\n",
       "      <td>26.759918</td>\n",
       "      <td>001133_2014-06-17_14-49-16_260595134347_rgbf00...</td>\n",
       "    </tr>\n",
       "  </tbody>\n",
       "</table>\n",
       "<p>447 rows × 5 columns</p>\n",
       "</div>"
      ],
      "text/plain": [
       "     residuals  abs_residuals  duration  groundPlane  \\\n",
       "0    -0.583161       0.583161       125    11.910828   \n",
       "1     0.275925       0.275925       125    11.913177   \n",
       "2    -0.327997       0.327997       125    11.598019   \n",
       "3    -0.147574       0.147574       125    15.524304   \n",
       "4    -0.156264       0.156264       125    18.915500   \n",
       "..         ...            ...       ...          ...   \n",
       "442  -0.284820       0.284820      1000    28.953813   \n",
       "443   0.001737       0.001737      1000    15.893099   \n",
       "444   0.078397       0.078397      1000    10.664824   \n",
       "445  -0.068851       0.068851      1000    14.398279   \n",
       "446  -0.120543       0.120543      1000    26.759918   \n",
       "\n",
       "                                              stimulus  \n",
       "0    000854_2014-06-09_19-43-13_260595134347_rgbf00...  \n",
       "1    000758_2014-06-08_22-05-08_260595134347_rgbf00...  \n",
       "2    002103_2014-06-25_20-00-40_260595134347_rgbf00...  \n",
       "3    002039_2014-06-24_20-22-38_260595134347_rgbf00...  \n",
       "4    000742_2014-06-08_18-48-09_260595134347_rgbf00...  \n",
       "..                                                 ...  \n",
       "442  002964_2014-06-08_17-46-11_094959634447_rgbf00...  \n",
       "443  000943_2014-06-09_19-31-07_260595134347_rgbf00...  \n",
       "444  003070_2014-06-15_14-58-27_094959634447_rgbf00...  \n",
       "445  001132_2014-06-17_14-48-54_260595134347_rgbf00...  \n",
       "446  001133_2014-06-17_14-49-16_260595134347_rgbf00...  \n",
       "\n",
       "[447 rows x 5 columns]"
      ]
     },
     "execution_count": 9,
     "metadata": {},
     "output_type": "execute_result"
    }
   ],
   "source": [
    "# initialize data of lists.\n",
    "data = {'residuals': trunc_residuals_125+trunc_residuals_250+trunc_residuals_1000,\n",
    "        'abs_residuals': np.concatenate((np.abs(np.array(trunc_residuals_125)), np.abs(np.array(trunc_residuals_250)), np.abs(np.array(trunc_residuals_1000))), axis=0),\n",
    "        'duration': [125] * len(trunc_residuals_125) + [250] * len(trunc_residuals_250) + [1000] * len(trunc_residuals_1000),\n",
    "        'groundPlane': completeGP * 3,\n",
    "        'stimulus': stimulus * 3}\n",
    "  \n",
    "# Create DataFrame\n",
    "df = pd.DataFrame(data)\n",
    "df"
   ]
  },
  {
   "cell_type": "code",
   "execution_count": null,
   "metadata": {},
   "outputs": [],
   "source": []
  },
  {
   "cell_type": "code",
   "execution_count": 10,
   "metadata": {},
   "outputs": [],
   "source": [
    "df.to_csv('groundPlane_data_for_lme.csv', index=False)"
   ]
  },
  {
   "cell_type": "code",
   "execution_count": null,
   "metadata": {},
   "outputs": [],
   "source": [
    "\n",
    "\n"
   ]
  },
  {
   "cell_type": "markdown",
   "metadata": {},
   "source": [
    "# Add Participant Residuals"
   ]
  },
  {
   "cell_type": "code",
   "execution_count": 12,
   "metadata": {},
   "outputs": [],
   "source": [
    "# p = '/Users/pmahableshwarkar/Documents/Depth_Project/verbal_judgement_analysis/data/finalVEMatched/z_scored/residuals/participant_residuals.csv'\n",
    "p = '/Users/prachimahableshwarkar/Documents/GW/Depth_MTurk/verbal_judgement_analysis/data/finalVEMatched/z_scored/residuals/participant_residuals.csv'\n",
    "\n",
    "p_data = pd.read_csv(p) \n",
    "p_stimuli = list(p_data.stimulus.unique())\n"
   ]
  },
  {
   "cell_type": "code",
   "execution_count": 13,
   "metadata": {},
   "outputs": [
    {
     "data": {
      "text/html": [
       "<div>\n",
       "<style scoped>\n",
       "    .dataframe tbody tr th:only-of-type {\n",
       "        vertical-align: middle;\n",
       "    }\n",
       "\n",
       "    .dataframe tbody tr th {\n",
       "        vertical-align: top;\n",
       "    }\n",
       "\n",
       "    .dataframe thead th {\n",
       "        text-align: right;\n",
       "    }\n",
       "</style>\n",
       "<table border=\"1\" class=\"dataframe\">\n",
       "  <thead>\n",
       "    <tr style=\"text-align: right;\">\n",
       "      <th></th>\n",
       "      <th>subjID</th>\n",
       "      <th>duration</th>\n",
       "      <th>s_residual</th>\n",
       "      <th>abs_s_residual</th>\n",
       "      <th>stimulus</th>\n",
       "      <th>error</th>\n",
       "      <th>abs_error</th>\n",
       "      <th>actual_depth</th>\n",
       "    </tr>\n",
       "  </thead>\n",
       "  <tbody>\n",
       "    <tr>\n",
       "      <td>0</td>\n",
       "      <td>541423.0</td>\n",
       "      <td>125</td>\n",
       "      <td>0.906977</td>\n",
       "      <td>0.906977</td>\n",
       "      <td>001808_2014-06-26_20-50-58_260595134347_rgbf00...</td>\n",
       "      <td>-2.759331</td>\n",
       "      <td>2.759331</td>\n",
       "      <td>4.2490</td>\n",
       "    </tr>\n",
       "    <tr>\n",
       "      <td>1</td>\n",
       "      <td>541423.0</td>\n",
       "      <td>125</td>\n",
       "      <td>1.590297</td>\n",
       "      <td>1.590297</td>\n",
       "      <td>001815_2014-06-26_20-52-55_260595134347_rgbf00...</td>\n",
       "      <td>-1.635132</td>\n",
       "      <td>1.635132</td>\n",
       "      <td>3.3865</td>\n",
       "    </tr>\n",
       "    <tr>\n",
       "      <td>2</td>\n",
       "      <td>541423.0</td>\n",
       "      <td>125</td>\n",
       "      <td>-0.355174</td>\n",
       "      <td>0.355174</td>\n",
       "      <td>001029_2014-06-08_13-17-57_260595134347_rgbf00...</td>\n",
       "      <td>-3.425721</td>\n",
       "      <td>3.425721</td>\n",
       "      <td>3.0835</td>\n",
       "    </tr>\n",
       "    <tr>\n",
       "      <td>3</td>\n",
       "      <td>541423.0</td>\n",
       "      <td>125</td>\n",
       "      <td>-0.847848</td>\n",
       "      <td>0.847848</td>\n",
       "      <td>000677_2014-06-08_23-10-32_260595134347_rgbf00...</td>\n",
       "      <td>-4.159920</td>\n",
       "      <td>4.159920</td>\n",
       "      <td>3.5560</td>\n",
       "    </tr>\n",
       "    <tr>\n",
       "      <td>4</td>\n",
       "      <td>541423.0</td>\n",
       "      <td>125</td>\n",
       "      <td>-0.403006</td>\n",
       "      <td>0.403006</td>\n",
       "      <td>002118_2014-06-25_20-32-08_260595134347_rgbf00...</td>\n",
       "      <td>-3.249920</td>\n",
       "      <td>3.249920</td>\n",
       "      <td>2.6460</td>\n",
       "    </tr>\n",
       "    <tr>\n",
       "      <td>...</td>\n",
       "      <td>...</td>\n",
       "      <td>...</td>\n",
       "      <td>...</td>\n",
       "      <td>...</td>\n",
       "      <td>...</td>\n",
       "      <td>...</td>\n",
       "      <td>...</td>\n",
       "      <td>...</td>\n",
       "    </tr>\n",
       "    <tr>\n",
       "      <td>71127</td>\n",
       "      <td>351649.0</td>\n",
       "      <td>250</td>\n",
       "      <td>0.593507</td>\n",
       "      <td>0.593507</td>\n",
       "      <td>002875_2014-06-01_15-19-00_094959634447_rgbf00...</td>\n",
       "      <td>-1.945729</td>\n",
       "      <td>1.945729</td>\n",
       "      <td>1.9675</td>\n",
       "    </tr>\n",
       "    <tr>\n",
       "      <td>71128</td>\n",
       "      <td>351649.0</td>\n",
       "      <td>250</td>\n",
       "      <td>-0.542151</td>\n",
       "      <td>0.542151</td>\n",
       "      <td>001092_2014-06-15_17-34-58_260595134347_rgbf00...</td>\n",
       "      <td>-3.426449</td>\n",
       "      <td>3.426449</td>\n",
       "      <td>2.6935</td>\n",
       "    </tr>\n",
       "    <tr>\n",
       "      <td>71129</td>\n",
       "      <td>351649.0</td>\n",
       "      <td>250</td>\n",
       "      <td>-0.513911</td>\n",
       "      <td>0.513911</td>\n",
       "      <td>002545_2014-06-24_13-38-53_094959634447_rgbf00...</td>\n",
       "      <td>-3.030808</td>\n",
       "      <td>3.030808</td>\n",
       "      <td>1.9205</td>\n",
       "    </tr>\n",
       "    <tr>\n",
       "      <td>71130</td>\n",
       "      <td>351649.0</td>\n",
       "      <td>250</td>\n",
       "      <td>0.277538</td>\n",
       "      <td>0.277538</td>\n",
       "      <td>001167_2014-06-17_15-38-07_260595134347_rgbf00...</td>\n",
       "      <td>-2.206089</td>\n",
       "      <td>2.206089</td>\n",
       "      <td>1.8505</td>\n",
       "    </tr>\n",
       "    <tr>\n",
       "      <td>71131</td>\n",
       "      <td>351649.0</td>\n",
       "      <td>250</td>\n",
       "      <td>-0.972956</td>\n",
       "      <td>0.972956</td>\n",
       "      <td>003587_2014-05-23_16-48-02_094959634447_rgbf00...</td>\n",
       "      <td>-3.222028</td>\n",
       "      <td>3.222028</td>\n",
       "      <td>1.3570</td>\n",
       "    </tr>\n",
       "  </tbody>\n",
       "</table>\n",
       "<p>71132 rows × 8 columns</p>\n",
       "</div>"
      ],
      "text/plain": [
       "         subjID  duration  s_residual  abs_s_residual  \\\n",
       "0      541423.0       125    0.906977        0.906977   \n",
       "1      541423.0       125    1.590297        1.590297   \n",
       "2      541423.0       125   -0.355174        0.355174   \n",
       "3      541423.0       125   -0.847848        0.847848   \n",
       "4      541423.0       125   -0.403006        0.403006   \n",
       "...         ...       ...         ...             ...   \n",
       "71127  351649.0       250    0.593507        0.593507   \n",
       "71128  351649.0       250   -0.542151        0.542151   \n",
       "71129  351649.0       250   -0.513911        0.513911   \n",
       "71130  351649.0       250    0.277538        0.277538   \n",
       "71131  351649.0       250   -0.972956        0.972956   \n",
       "\n",
       "                                                stimulus     error  abs_error  \\\n",
       "0      001808_2014-06-26_20-50-58_260595134347_rgbf00... -2.759331   2.759331   \n",
       "1      001815_2014-06-26_20-52-55_260595134347_rgbf00... -1.635132   1.635132   \n",
       "2      001029_2014-06-08_13-17-57_260595134347_rgbf00... -3.425721   3.425721   \n",
       "3      000677_2014-06-08_23-10-32_260595134347_rgbf00... -4.159920   4.159920   \n",
       "4      002118_2014-06-25_20-32-08_260595134347_rgbf00... -3.249920   3.249920   \n",
       "...                                                  ...       ...        ...   \n",
       "71127  002875_2014-06-01_15-19-00_094959634447_rgbf00... -1.945729   1.945729   \n",
       "71128  001092_2014-06-15_17-34-58_260595134347_rgbf00... -3.426449   3.426449   \n",
       "71129  002545_2014-06-24_13-38-53_094959634447_rgbf00... -3.030808   3.030808   \n",
       "71130  001167_2014-06-17_15-38-07_260595134347_rgbf00... -2.206089   2.206089   \n",
       "71131  003587_2014-05-23_16-48-02_094959634447_rgbf00... -3.222028   3.222028   \n",
       "\n",
       "       actual_depth  \n",
       "0            4.2490  \n",
       "1            3.3865  \n",
       "2            3.0835  \n",
       "3            3.5560  \n",
       "4            2.6460  \n",
       "...             ...  \n",
       "71127        1.9675  \n",
       "71128        2.6935  \n",
       "71129        1.9205  \n",
       "71130        1.8505  \n",
       "71131        1.3570  \n",
       "\n",
       "[71132 rows x 8 columns]"
      ]
     },
     "execution_count": 13,
     "metadata": {},
     "output_type": "execute_result"
    }
   ],
   "source": [
    "p_data"
   ]
  },
  {
   "cell_type": "code",
   "execution_count": 14,
   "metadata": {},
   "outputs": [
    {
     "data": {
      "text/plain": [
       "7"
      ]
     },
     "execution_count": 14,
     "metadata": {},
     "output_type": "execute_result"
    }
   ],
   "source": [
    "incl_stimuli = stimulus\n",
    "\n",
    "# images that we do not have ground plane and/or clutter data for \n",
    "excluded_stimuli = [x for x in p_stimuli if x not in incl_stimuli]\n",
    "\n",
    "len(excluded_stimuli)"
   ]
  },
  {
   "cell_type": "code",
   "execution_count": 15,
   "metadata": {},
   "outputs": [
    {
     "data": {
      "text/plain": [
       "149"
      ]
     },
     "execution_count": 15,
     "metadata": {},
     "output_type": "execute_result"
    }
   ],
   "source": [
    "# remove all rows that have data for images that we do not have ground plane and/or clutter data for\n",
    "p_data = p_data[p_data.stimulus.isin(excluded_stimuli) == False]\n",
    "\n",
    "len(p_data.stimulus.unique())"
   ]
  },
  {
   "cell_type": "markdown",
   "metadata": {},
   "source": [
    "https://towardsdatascience.com/create-new-column-based-on-other-columns-pandas-5586d87de73d\n",
    "\n"
   ]
  },
  {
   "cell_type": "code",
   "execution_count": 16,
   "metadata": {},
   "outputs": [],
   "source": [
    "def assignGroundPlane(row):  \n",
    "    stim = row['stimulus']\n",
    "    groundPlane = cleaned_gpsize_dict[stim]\n",
    "    \n",
    "    return groundPlane\n",
    "\n"
   ]
  },
  {
   "cell_type": "code",
   "execution_count": 17,
   "metadata": {},
   "outputs": [
    {
     "name": "stderr",
     "output_type": "stream",
     "text": [
      "/Users/prachimahableshwarkar/opt/anaconda3/lib/python3.7/site-packages/ipykernel_launcher.py:2: SettingWithCopyWarning: \n",
      "A value is trying to be set on a copy of a slice from a DataFrame.\n",
      "Try using .loc[row_indexer,col_indexer] = value instead\n",
      "\n",
      "See the caveats in the documentation: http://pandas.pydata.org/pandas-docs/stable/user_guide/indexing.html#returning-a-view-versus-a-copy\n",
      "  \n"
     ]
    }
   ],
   "source": [
    "# add groundPlane data to the df by referencing the GP value for each image\n",
    "p_data['groundPlane'] = p_data.apply(lambda row: assignGroundPlane(row), axis=1)\n"
   ]
  },
  {
   "cell_type": "code",
   "execution_count": null,
   "metadata": {},
   "outputs": [],
   "source": []
  },
  {
   "cell_type": "code",
   "execution_count": null,
   "metadata": {},
   "outputs": [],
   "source": []
  },
  {
   "cell_type": "code",
   "execution_count": 18,
   "metadata": {},
   "outputs": [
    {
     "data": {
      "text/plain": [
       "20.030651550568866"
      ]
     },
     "execution_count": 18,
     "metadata": {},
     "output_type": "execute_result"
    }
   ],
   "source": [
    "cleaned_gpsize_dict['001808_2014-06-26_20-50-58_260595134347_rgbf000029-resize']"
   ]
  },
  {
   "cell_type": "code",
   "execution_count": 19,
   "metadata": {},
   "outputs": [
    {
     "name": "stderr",
     "output_type": "stream",
     "text": [
      "/Users/prachimahableshwarkar/opt/anaconda3/lib/python3.7/site-packages/ipykernel_launcher.py:1: SettingWithCopyWarning: \n",
      "A value is trying to be set on a copy of a slice from a DataFrame.\n",
      "Try using .loc[row_indexer,col_indexer] = value instead\n",
      "\n",
      "See the caveats in the documentation: http://pandas.pydata.org/pandas-docs/stable/user_guide/indexing.html#returning-a-view-versus-a-copy\n",
      "  \"\"\"Entry point for launching an IPython kernel.\n"
     ]
    }
   ],
   "source": [
    "p_data['duration'] = p_data['duration'].div(100)\n"
   ]
  },
  {
   "cell_type": "code",
   "execution_count": 20,
   "metadata": {},
   "outputs": [],
   "source": [
    "p_data.to_csv('groundPlane_participantData_for_lme.csv', index=False)"
   ]
  },
  {
   "cell_type": "code",
   "execution_count": 61,
   "metadata": {},
   "outputs": [],
   "source": [
    "pos_p_data = p_data.loc[p_data['s_residual'] > 0]\n",
    "neg_p_data = p_data.loc[p_data['s_residual'] < 0]\n",
    "\n",
    "pos_p_data.to_csv('pos_groundPlane_participantData_for_lme.csv', index=False)\n",
    "neg_p_data.to_csv('neg_groundPlane_participantData_for_lme.csv', index=False)"
   ]
  },
  {
   "cell_type": "code",
   "execution_count": 21,
   "metadata": {},
   "outputs": [],
   "source": [
    "cols = p_data.columns.tolist()\n",
    "cols = ['duration', 'subjID', 'stimulus', 's_residual', 'abs_s_residual', 'abs_error', 'error','groundPlane', 'actual_depth']\n",
    "\n",
    "p_data = p_data[cols]\n"
   ]
  },
  {
   "cell_type": "code",
   "execution_count": 52,
   "metadata": {},
   "outputs": [
    {
     "data": {
      "text/plain": [
       "Index(['duration', 'subjID', 'stimulus', 's_residual', 'abs_s_residual',\n",
       "       'abs_error', 'error', 'groundPlane', 'actual_depth'],\n",
       "      dtype='object')"
      ]
     },
     "execution_count": 52,
     "metadata": {},
     "output_type": "execute_result"
    }
   ],
   "source": [
    "p_data.columns[:]"
   ]
  },
  {
   "cell_type": "code",
   "execution_count": 53,
   "metadata": {},
   "outputs": [],
   "source": [
    "p_data_grouped = p_data.groupby('stimulus')[p_data.columns[2:]].mean()"
   ]
  },
  {
   "cell_type": "code",
   "execution_count": 54,
   "metadata": {},
   "outputs": [],
   "source": [
    "p_data_grouped.to_csv('groundPlane_participantData_grouped_for_lme.csv', index=False)"
   ]
  },
  {
   "cell_type": "code",
   "execution_count": 60,
   "metadata": {},
   "outputs": [],
   "source": [
    "pos_p_data_grouped = p_data_grouped.loc[p_data_grouped['s_residual'] > 0]\n",
    "neg_p_data_grouped = p_data_grouped.loc[p_data_grouped['s_residual'] < 0]\n",
    "\n",
    "pos_p_data_grouped.to_csv('pos_groundPlane_participantData_grouped_for_lme.csv', index=False)\n",
    "neg_p_data_grouped.to_csv('neg_groundPlane_participantData_grouped_for_lme.csv', index=False)"
   ]
  },
  {
   "cell_type": "markdown",
   "metadata": {},
   "source": [
    "## Plot "
   ]
  },
  {
   "cell_type": "code",
   "execution_count": null,
   "metadata": {},
   "outputs": [],
   "source": []
  },
  {
   "cell_type": "code",
   "execution_count": 57,
   "metadata": {},
   "outputs": [],
   "source": [
    "pos_df = df.loc[df['residuals'] > 0]\n",
    "neg_df = df.loc[df['residuals'] < 0]\n",
    "\n",
    "\n",
    "pos_df.to_csv('groundPlane_pos.csv', index=False)\n",
    "neg_df.to_csv('groundPlane_neg.csv', index=False)"
   ]
  },
  {
   "cell_type": "code",
   "execution_count": 38,
   "metadata": {},
   "outputs": [
    {
     "name": "stdout",
     "output_type": "stream",
     "text": [
      "Pos residuals x GP:  (0.19798417151270925, 0.0046329665779752775)\n",
      "Neg residuals x GP:  (-0.29964143338414084, 1.8746638582777696e-06)\n"
     ]
    }
   ],
   "source": [
    "print('Pos residuals x GP: ',stats.pearsonr(list(pos_df['groundPlane']), list(pos_df['residuals'])))\n",
    "print('Neg residuals x GP: ',stats.pearsonr(list(neg_df['groundPlane']), list(neg_df['residuals'])))\n"
   ]
  },
  {
   "cell_type": "code",
   "execution_count": 1,
   "metadata": {},
   "outputs": [
    {
     "ename": "NameError",
     "evalue": "name 'plt' is not defined",
     "output_type": "error",
     "traceback": [
      "\u001b[0;31m---------------------------------------------------------------------------\u001b[0m",
      "\u001b[0;31mNameError\u001b[0m                                 Traceback (most recent call last)",
      "\u001b[0;32m<ipython-input-1-4c553faa29c4>\u001b[0m in \u001b[0;36m<module>\u001b[0;34m\u001b[0m\n\u001b[1;32m      1\u001b[0m \u001b[0;32mfrom\u001b[0m \u001b[0msklearn\u001b[0m\u001b[0;34m.\u001b[0m\u001b[0mlinear_model\u001b[0m \u001b[0;32mimport\u001b[0m \u001b[0mLinearRegression\u001b[0m\u001b[0;34m\u001b[0m\u001b[0;34m\u001b[0m\u001b[0m\n\u001b[1;32m      2\u001b[0m \u001b[0;34m\u001b[0m\u001b[0m\n\u001b[0;32m----> 3\u001b[0;31m \u001b[0mfig\u001b[0m\u001b[0;34m,\u001b[0m \u001b[0max\u001b[0m \u001b[0;34m=\u001b[0m \u001b[0mplt\u001b[0m\u001b[0;34m.\u001b[0m\u001b[0msubplots\u001b[0m\u001b[0;34m(\u001b[0m\u001b[0mfigsize\u001b[0m\u001b[0;34m=\u001b[0m\u001b[0;34m[\u001b[0m\u001b[0;36m8\u001b[0m\u001b[0;34m,\u001b[0m\u001b[0;36m8\u001b[0m\u001b[0;34m]\u001b[0m\u001b[0;34m)\u001b[0m\u001b[0;34m\u001b[0m\u001b[0;34m\u001b[0m\u001b[0m\n\u001b[0m\u001b[1;32m      4\u001b[0m \u001b[0mplt\u001b[0m\u001b[0;34m.\u001b[0m\u001b[0mtight_layout\u001b[0m\u001b[0;34m(\u001b[0m\u001b[0;34m)\u001b[0m\u001b[0;34m\u001b[0m\u001b[0;34m\u001b[0m\u001b[0m\n\u001b[1;32m      5\u001b[0m \u001b[0max\u001b[0m\u001b[0;34m.\u001b[0m\u001b[0mspines\u001b[0m\u001b[0;34m[\u001b[0m\u001b[0;34m'right'\u001b[0m\u001b[0;34m]\u001b[0m\u001b[0;34m.\u001b[0m\u001b[0mset_visible\u001b[0m\u001b[0;34m(\u001b[0m\u001b[0;32mFalse\u001b[0m\u001b[0;34m)\u001b[0m\u001b[0;34m\u001b[0m\u001b[0;34m\u001b[0m\u001b[0m\n",
      "\u001b[0;31mNameError\u001b[0m: name 'plt' is not defined"
     ]
    }
   ],
   "source": [
    "from sklearn.linear_model import LinearRegression\n",
    "\n",
    "fig, ax = plt.subplots(figsize=[8,8])\n",
    "plt.tight_layout()\n",
    "ax.spines['right'].set_visible(False)\n",
    "ax.spines['top'].set_visible(False)\n",
    "\n",
    "for axis in ['bottom','left']:\n",
    "    ax.spines[axis].set_linewidth(2.3)\n",
    "    \n",
    "#run regression\n",
    "X = np.array(pos_df['groundPlane']).reshape(-1,1)\n",
    "y = list(pos_df['residuals'])\n",
    "reg = LinearRegression().fit(X, y)\n",
    "\n",
    "#Generated Predictions\n",
    "y_predicted = reg.predict(X)\n",
    "#Plot Our Actual and Predicted Values\n",
    "plt.plot(X, y, 'o', color='black', alpha = 1);\n",
    "plt.plot(X,y_predicted,color='black', label = 'm = ' + str(round(reg.coef_[0], 3))\n",
    "         + '     r-squared = ' + str(round(float(reg.score(X, y)), 3)))\n",
    "\n",
    "X_neg = np.array(neg_df['groundPlane']).reshape(-1,1)\n",
    "y_neg = list(neg_df['residuals'])\n",
    "reg_neg = LinearRegression().fit(X_neg, y_neg)\n",
    "\n",
    "#Generated Predictions\n",
    "y_predicted_neg = reg_neg.predict(X_neg)\n",
    "#Plot Our Actual and Predicted Values\n",
    "plt.plot(X_neg, y_neg, 'o', color='black', alpha = 1);\n",
    "plt.plot(X_neg,y_predicted_neg,color='black', label = 'm = ' + str(round(reg_neg.coef_[0], 3))\n",
    "         + '     r-squared = ' + str(round(float(reg_neg.score(X_neg, y_neg)), 3)))\n",
    "\n",
    "plt.axhline(y=0, color='r', linestyle='-')\n",
    "\n",
    "\n",
    "# plt.title(\"Complete Ground Plane x Target Depth\", fontsize = 28)\n",
    "plt.xlabel(\"Complete Ground Plane\", fontsize = 22)\n",
    "plt.ylabel(\"Residuals\", fontsize = 22)\n",
    "\n",
    "plt.xticks(fontsize=15)\n",
    "plt.yticks(np.arange(-1,1.5, 0.5), fontsize=15)\n",
    "# plt.ylim(-1.5,1.5)\n",
    "\n",
    "# legend = plt.legend(loc = 0, fontsize = 15, borderpad = 0.6, labelspacing = 1, frameon=False)\n",
    "\n"
   ]
  },
  {
   "cell_type": "code",
   "execution_count": null,
   "metadata": {},
   "outputs": [],
   "source": []
  }
 ],
 "metadata": {
  "kernelspec": {
   "display_name": "Python 3",
   "language": "python",
   "name": "python3"
  },
  "language_info": {
   "codemirror_mode": {
    "name": "ipython",
    "version": 3
   },
   "file_extension": ".py",
   "mimetype": "text/x-python",
   "name": "python",
   "nbconvert_exporter": "python",
   "pygments_lexer": "ipython3",
   "version": "3.7.5"
  }
 },
 "nbformat": 4,
 "nbformat_minor": 4
}
