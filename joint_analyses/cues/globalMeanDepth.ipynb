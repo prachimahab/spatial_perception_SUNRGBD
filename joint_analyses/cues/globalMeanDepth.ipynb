{
 "cells": [
  {
   "cell_type": "markdown",
   "metadata": {},
   "source": [
    "# Global Mean Depth "
   ]
  },
  {
   "cell_type": "code",
   "execution_count": 1,
   "metadata": {},
   "outputs": [],
   "source": [
    "import os\n",
    "import numpy as np\n",
    "import pandas as pd\n",
    "import scipy\n",
    "import path \n",
    "from matplotlib import pyplot as plt\n",
    "import json\n",
    "from PIL import Image, ImageStat\n",
    "from sklearn.linear_model import LinearRegression\n",
    "from scipy import stats\n",
    "import math"
   ]
  },
  {
   "cell_type": "code",
   "execution_count": null,
   "metadata": {},
   "outputs": [],
   "source": []
  },
  {
   "cell_type": "code",
   "execution_count": null,
   "metadata": {},
   "outputs": [],
   "source": []
  },
  {
   "cell_type": "code",
   "execution_count": 15,
   "metadata": {},
   "outputs": [],
   "source": [
    "kinect192_path = '/Users/prachimahableshwarkar/Documents/GW/SUNRGBD/updated/kinect2data_192'\n",
    "# kinect192_path = '/Users/pmahableshwarkar/Documents/Depth_Project/SUNRGBD/kinect2data_192'\n",
    "\n",
    "stimuli_path = '/Users/prachimahableshwarkar/Documents/GW/Depth_MTurk/depth_duration_stimuli'\n",
    "# stimuli_path = '/Users/pmahableshwarkar/Documents/Depth_Project/final_stimuli'"
   ]
  },
  {
   "cell_type": "code",
   "execution_count": 16,
   "metadata": {},
   "outputs": [],
   "source": [
    "globalMeanDepths = []\n",
    "targetDepths = []\n",
    "for stim in os.listdir(stimuli_path):\n",
    "    if 'resize' in stim:\n",
    "        if '.DS_Store' not in stim:\n",
    "            folder = stim[:-2]\n",
    "            for file in os.listdir(kinect192_path + '/' + folder + '/depth_bfx'):\n",
    "                if 'png' in file:\n",
    "                    dm = Image.open(kinect192_path + '/' + folder + '/depth_bfx/' + file)\n",
    "                    dm.load()\n",
    "                    depth_data = np.asarray(dm)/8000\n",
    "                    globalMeanDepths.append(np.mean(depth_data))\n",
    "                    \n",
    "                    p = stimuli_path + '/' + stim + '/data.json'\n",
    "                    data = json.load(open(p))\n",
    "                    target_depth = data['objects'][0]['crossing_point'][0]['depth']\n",
    "                    target_object = data['objects'][0]['name']\n",
    "                    targetDepths.append(target_depth)"
   ]
  },
  {
   "cell_type": "code",
   "execution_count": 17,
   "metadata": {},
   "outputs": [
    {
     "name": "stdout",
     "output_type": "stream",
     "text": [
      "Global Mean Depth x Target Depth  (0.4499885764504463, 5.824265392138924e-11)\n"
     ]
    }
   ],
   "source": [
    "print('Global Mean Depth x Target Depth ',stats.pearsonr(globalMeanDepths, targetDepths))\n"
   ]
  },
  {
   "cell_type": "code",
   "execution_count": null,
   "metadata": {},
   "outputs": [],
   "source": []
  }
 ],
 "metadata": {
  "kernelspec": {
   "display_name": "Python 3",
   "language": "python",
   "name": "python3"
  },
  "language_info": {
   "codemirror_mode": {
    "name": "ipython",
    "version": 3
   },
   "file_extension": ".py",
   "mimetype": "text/x-python",
   "name": "python",
   "nbconvert_exporter": "python",
   "pygments_lexer": "ipython3",
   "version": "3.7.5"
  }
 },
 "nbformat": 4,
 "nbformat_minor": 4
}
