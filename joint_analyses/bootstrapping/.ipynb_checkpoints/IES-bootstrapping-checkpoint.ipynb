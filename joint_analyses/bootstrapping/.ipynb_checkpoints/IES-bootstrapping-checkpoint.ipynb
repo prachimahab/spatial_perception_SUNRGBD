{
 "cells": [
  {
   "cell_type": "markdown",
   "metadata": {},
   "source": [
    "# Bootstrapping: IES Mean-Centered Matrix Comparisons"
   ]
  },
  {
   "cell_type": "code",
   "execution_count": 116,
   "metadata": {},
   "outputs": [],
   "source": [
    "import numpy as np\n",
    "import pandas as pd\n",
    "from scipy.stats import stats\n",
    "from sklearn.linear_model import LinearRegression\n",
    "import random\n",
    "import matplotlib.pyplot as plt\n",
    "import seaborn as sns\n",
    "import scipy.stats\n",
    "from time import process_time\n",
    "import os"
   ]
  },
  {
   "cell_type": "code",
   "execution_count": 117,
   "metadata": {},
   "outputs": [
    {
     "data": {
      "text/html": [
       "<div>\n",
       "<style scoped>\n",
       "    .dataframe tbody tr th:only-of-type {\n",
       "        vertical-align: middle;\n",
       "    }\n",
       "\n",
       "    .dataframe tbody tr th {\n",
       "        vertical-align: top;\n",
       "    }\n",
       "\n",
       "    .dataframe thead th {\n",
       "        text-align: right;\n",
       "    }\n",
       "</style>\n",
       "<table border=\"1\" class=\"dataframe\">\n",
       "  <thead>\n",
       "    <tr style=\"text-align: right;\">\n",
       "      <th></th>\n",
       "      <th>r0_discrim_IES_125</th>\n",
       "      <th>r0_discrim_IES_250</th>\n",
       "      <th>r0_discrim_IES_1000</th>\n",
       "      <th>r1_discrim_IES_125</th>\n",
       "      <th>r1_discrim_IES_250</th>\n",
       "      <th>r1_discrim_IES_1000</th>\n",
       "      <th>r0_VE_IES_125</th>\n",
       "      <th>r0_VE_IES_250</th>\n",
       "      <th>r0_VE_IES_1000</th>\n",
       "      <th>r1_VE_IES_125</th>\n",
       "      <th>r1_VE_IES_250</th>\n",
       "      <th>r1_VE_IES_1000</th>\n",
       "    </tr>\n",
       "  </thead>\n",
       "  <tbody>\n",
       "    <tr>\n",
       "      <th>r0_discrim_IES_125</th>\n",
       "      <td>1.000000</td>\n",
       "      <td>0.741966</td>\n",
       "      <td>0.590268</td>\n",
       "      <td>0.796831</td>\n",
       "      <td>0.701776</td>\n",
       "      <td>0.642354</td>\n",
       "      <td>0.264524</td>\n",
       "      <td>0.147759</td>\n",
       "      <td>0.261998</td>\n",
       "      <td>0.231745</td>\n",
       "      <td>0.318386</td>\n",
       "      <td>0.440677</td>\n",
       "    </tr>\n",
       "    <tr>\n",
       "      <th>r0_discrim_IES_250</th>\n",
       "      <td>0.741966</td>\n",
       "      <td>1.000000</td>\n",
       "      <td>0.573287</td>\n",
       "      <td>0.729237</td>\n",
       "      <td>0.784195</td>\n",
       "      <td>0.616522</td>\n",
       "      <td>0.389172</td>\n",
       "      <td>0.126092</td>\n",
       "      <td>0.246331</td>\n",
       "      <td>0.144098</td>\n",
       "      <td>0.351478</td>\n",
       "      <td>0.278529</td>\n",
       "    </tr>\n",
       "    <tr>\n",
       "      <th>r0_discrim_IES_1000</th>\n",
       "      <td>0.590268</td>\n",
       "      <td>0.573287</td>\n",
       "      <td>1.000000</td>\n",
       "      <td>0.623547</td>\n",
       "      <td>0.658870</td>\n",
       "      <td>0.679601</td>\n",
       "      <td>0.496342</td>\n",
       "      <td>0.310411</td>\n",
       "      <td>0.345925</td>\n",
       "      <td>0.286258</td>\n",
       "      <td>0.526220</td>\n",
       "      <td>0.540918</td>\n",
       "    </tr>\n",
       "    <tr>\n",
       "      <th>r1_discrim_IES_125</th>\n",
       "      <td>0.796831</td>\n",
       "      <td>0.729237</td>\n",
       "      <td>0.623547</td>\n",
       "      <td>1.000000</td>\n",
       "      <td>0.709641</td>\n",
       "      <td>0.634279</td>\n",
       "      <td>0.366280</td>\n",
       "      <td>0.082445</td>\n",
       "      <td>0.212599</td>\n",
       "      <td>0.289469</td>\n",
       "      <td>0.435271</td>\n",
       "      <td>0.410270</td>\n",
       "    </tr>\n",
       "    <tr>\n",
       "      <th>r1_discrim_IES_250</th>\n",
       "      <td>0.701776</td>\n",
       "      <td>0.784195</td>\n",
       "      <td>0.658870</td>\n",
       "      <td>0.709641</td>\n",
       "      <td>1.000000</td>\n",
       "      <td>0.598077</td>\n",
       "      <td>0.342485</td>\n",
       "      <td>0.125803</td>\n",
       "      <td>0.299651</td>\n",
       "      <td>0.146402</td>\n",
       "      <td>0.259698</td>\n",
       "      <td>0.388686</td>\n",
       "    </tr>\n",
       "    <tr>\n",
       "      <th>r1_discrim_IES_1000</th>\n",
       "      <td>0.642354</td>\n",
       "      <td>0.616522</td>\n",
       "      <td>0.679601</td>\n",
       "      <td>0.634279</td>\n",
       "      <td>0.598077</td>\n",
       "      <td>1.000000</td>\n",
       "      <td>0.484566</td>\n",
       "      <td>0.253489</td>\n",
       "      <td>0.313952</td>\n",
       "      <td>0.051926</td>\n",
       "      <td>0.362805</td>\n",
       "      <td>0.379727</td>\n",
       "    </tr>\n",
       "    <tr>\n",
       "      <th>r0_VE_IES_125</th>\n",
       "      <td>0.264524</td>\n",
       "      <td>0.389172</td>\n",
       "      <td>0.496342</td>\n",
       "      <td>0.366280</td>\n",
       "      <td>0.342485</td>\n",
       "      <td>0.484566</td>\n",
       "      <td>1.000000</td>\n",
       "      <td>0.249302</td>\n",
       "      <td>0.531908</td>\n",
       "      <td>0.345086</td>\n",
       "      <td>0.425285</td>\n",
       "      <td>0.410367</td>\n",
       "    </tr>\n",
       "    <tr>\n",
       "      <th>r0_VE_IES_250</th>\n",
       "      <td>0.147759</td>\n",
       "      <td>0.126092</td>\n",
       "      <td>0.310411</td>\n",
       "      <td>0.082445</td>\n",
       "      <td>0.125803</td>\n",
       "      <td>0.253489</td>\n",
       "      <td>0.249302</td>\n",
       "      <td>1.000000</td>\n",
       "      <td>0.398511</td>\n",
       "      <td>0.332161</td>\n",
       "      <td>0.403418</td>\n",
       "      <td>0.228945</td>\n",
       "    </tr>\n",
       "    <tr>\n",
       "      <th>r0_VE_IES_1000</th>\n",
       "      <td>0.261998</td>\n",
       "      <td>0.246331</td>\n",
       "      <td>0.345925</td>\n",
       "      <td>0.212599</td>\n",
       "      <td>0.299651</td>\n",
       "      <td>0.313952</td>\n",
       "      <td>0.531908</td>\n",
       "      <td>0.398511</td>\n",
       "      <td>1.000000</td>\n",
       "      <td>0.374804</td>\n",
       "      <td>0.391860</td>\n",
       "      <td>0.326725</td>\n",
       "    </tr>\n",
       "    <tr>\n",
       "      <th>r1_VE_IES_125</th>\n",
       "      <td>0.231745</td>\n",
       "      <td>0.144098</td>\n",
       "      <td>0.286258</td>\n",
       "      <td>0.289469</td>\n",
       "      <td>0.146402</td>\n",
       "      <td>0.051926</td>\n",
       "      <td>0.345086</td>\n",
       "      <td>0.332161</td>\n",
       "      <td>0.374804</td>\n",
       "      <td>1.000000</td>\n",
       "      <td>0.393518</td>\n",
       "      <td>0.358156</td>\n",
       "    </tr>\n",
       "    <tr>\n",
       "      <th>r1_VE_IES_250</th>\n",
       "      <td>0.318386</td>\n",
       "      <td>0.351478</td>\n",
       "      <td>0.526220</td>\n",
       "      <td>0.435271</td>\n",
       "      <td>0.259698</td>\n",
       "      <td>0.362805</td>\n",
       "      <td>0.425285</td>\n",
       "      <td>0.403418</td>\n",
       "      <td>0.391860</td>\n",
       "      <td>0.393518</td>\n",
       "      <td>1.000000</td>\n",
       "      <td>0.472937</td>\n",
       "    </tr>\n",
       "    <tr>\n",
       "      <th>r1_VE_IES_1000</th>\n",
       "      <td>0.440677</td>\n",
       "      <td>0.278529</td>\n",
       "      <td>0.540918</td>\n",
       "      <td>0.410270</td>\n",
       "      <td>0.388686</td>\n",
       "      <td>0.379727</td>\n",
       "      <td>0.410367</td>\n",
       "      <td>0.228945</td>\n",
       "      <td>0.326725</td>\n",
       "      <td>0.358156</td>\n",
       "      <td>0.472937</td>\n",
       "      <td>1.000000</td>\n",
       "    </tr>\n",
       "  </tbody>\n",
       "</table>\n",
       "</div>"
      ],
      "text/plain": [
       "                     r0_discrim_IES_125  r0_discrim_IES_250  \\\n",
       "r0_discrim_IES_125             1.000000            0.741966   \n",
       "r0_discrim_IES_250             0.741966            1.000000   \n",
       "r0_discrim_IES_1000            0.590268            0.573287   \n",
       "r1_discrim_IES_125             0.796831            0.729237   \n",
       "r1_discrim_IES_250             0.701776            0.784195   \n",
       "r1_discrim_IES_1000            0.642354            0.616522   \n",
       "r0_VE_IES_125                  0.264524            0.389172   \n",
       "r0_VE_IES_250                  0.147759            0.126092   \n",
       "r0_VE_IES_1000                 0.261998            0.246331   \n",
       "r1_VE_IES_125                  0.231745            0.144098   \n",
       "r1_VE_IES_250                  0.318386            0.351478   \n",
       "r1_VE_IES_1000                 0.440677            0.278529   \n",
       "\n",
       "                     r0_discrim_IES_1000  r1_discrim_IES_125  \\\n",
       "r0_discrim_IES_125              0.590268            0.796831   \n",
       "r0_discrim_IES_250              0.573287            0.729237   \n",
       "r0_discrim_IES_1000             1.000000            0.623547   \n",
       "r1_discrim_IES_125              0.623547            1.000000   \n",
       "r1_discrim_IES_250              0.658870            0.709641   \n",
       "r1_discrim_IES_1000             0.679601            0.634279   \n",
       "r0_VE_IES_125                   0.496342            0.366280   \n",
       "r0_VE_IES_250                   0.310411            0.082445   \n",
       "r0_VE_IES_1000                  0.345925            0.212599   \n",
       "r1_VE_IES_125                   0.286258            0.289469   \n",
       "r1_VE_IES_250                   0.526220            0.435271   \n",
       "r1_VE_IES_1000                  0.540918            0.410270   \n",
       "\n",
       "                     r1_discrim_IES_250  r1_discrim_IES_1000  r0_VE_IES_125  \\\n",
       "r0_discrim_IES_125             0.701776             0.642354       0.264524   \n",
       "r0_discrim_IES_250             0.784195             0.616522       0.389172   \n",
       "r0_discrim_IES_1000            0.658870             0.679601       0.496342   \n",
       "r1_discrim_IES_125             0.709641             0.634279       0.366280   \n",
       "r1_discrim_IES_250             1.000000             0.598077       0.342485   \n",
       "r1_discrim_IES_1000            0.598077             1.000000       0.484566   \n",
       "r0_VE_IES_125                  0.342485             0.484566       1.000000   \n",
       "r0_VE_IES_250                  0.125803             0.253489       0.249302   \n",
       "r0_VE_IES_1000                 0.299651             0.313952       0.531908   \n",
       "r1_VE_IES_125                  0.146402             0.051926       0.345086   \n",
       "r1_VE_IES_250                  0.259698             0.362805       0.425285   \n",
       "r1_VE_IES_1000                 0.388686             0.379727       0.410367   \n",
       "\n",
       "                     r0_VE_IES_250  r0_VE_IES_1000  r1_VE_IES_125  \\\n",
       "r0_discrim_IES_125        0.147759        0.261998       0.231745   \n",
       "r0_discrim_IES_250        0.126092        0.246331       0.144098   \n",
       "r0_discrim_IES_1000       0.310411        0.345925       0.286258   \n",
       "r1_discrim_IES_125        0.082445        0.212599       0.289469   \n",
       "r1_discrim_IES_250        0.125803        0.299651       0.146402   \n",
       "r1_discrim_IES_1000       0.253489        0.313952       0.051926   \n",
       "r0_VE_IES_125             0.249302        0.531908       0.345086   \n",
       "r0_VE_IES_250             1.000000        0.398511       0.332161   \n",
       "r0_VE_IES_1000            0.398511        1.000000       0.374804   \n",
       "r1_VE_IES_125             0.332161        0.374804       1.000000   \n",
       "r1_VE_IES_250             0.403418        0.391860       0.393518   \n",
       "r1_VE_IES_1000            0.228945        0.326725       0.358156   \n",
       "\n",
       "                     r1_VE_IES_250  r1_VE_IES_1000  \n",
       "r0_discrim_IES_125        0.318386        0.440677  \n",
       "r0_discrim_IES_250        0.351478        0.278529  \n",
       "r0_discrim_IES_1000       0.526220        0.540918  \n",
       "r1_discrim_IES_125        0.435271        0.410270  \n",
       "r1_discrim_IES_250        0.259698        0.388686  \n",
       "r1_discrim_IES_1000       0.362805        0.379727  \n",
       "r0_VE_IES_125             0.425285        0.410367  \n",
       "r0_VE_IES_250             0.403418        0.228945  \n",
       "r0_VE_IES_1000            0.391860        0.326725  \n",
       "r1_VE_IES_125             0.393518        0.358156  \n",
       "r1_VE_IES_250             1.000000        0.472937  \n",
       "r1_VE_IES_1000            0.472937        1.000000  "
      ]
     },
     "execution_count": 117,
     "metadata": {},
     "output_type": "execute_result"
    }
   ],
   "source": [
    "tp = '/Users/pmahableshwarkar/Documents/Depth_Project/matrices/ies/ies-0.pkl'\n",
    "\n",
    "df = pd.read_pickle(tp)\n",
    "df"
   ]
  },
  {
   "cell_type": "markdown",
   "metadata": {},
   "source": [
    "## Decode viewing duration condition within task "
   ]
  },
  {
   "cell_type": "markdown",
   "metadata": {},
   "source": [
    "### <span style='color:green'> Numerical Estimate </span>"
   ]
  },
  {
   "cell_type": "code",
   "execution_count": 118,
   "metadata": {},
   "outputs": [],
   "source": [
    "def NE_duration_decoding(df):\n",
    "    NE_diagonal_corrs = np.array([df['r0_VE_IES_125']['r1_VE_IES_125'], df['r0_VE_IES_250']['r1_VE_IES_250'], df['r0_VE_IES_1000']['r1_VE_IES_1000']])\n",
    "    NE_off_diagonal_corrs = np.array([df['r0_VE_IES_125']['r1_VE_IES_250'], df['r0_VE_IES_125']['r1_VE_IES_1000'], df['r0_VE_IES_250']['r1_VE_IES_1000'],\n",
    "                                      df['r1_VE_IES_125']['r0_VE_IES_250'], df['r1_VE_IES_125']['r0_VE_IES_1000'], df['r1_VE_IES_250']['r0_VE_IES_1000']])\n",
    "\n",
    "    diff = np.mean(NE_diagonal_corrs) - np.mean(NE_off_diagonal_corrs)\n",
    "    \n",
    "    return diff\n"
   ]
  },
  {
   "cell_type": "code",
   "execution_count": 119,
   "metadata": {},
   "outputs": [
    {
     "data": {
      "text/plain": [
       "-0.0021605267127312033"
      ]
     },
     "execution_count": 119,
     "metadata": {},
     "output_type": "execute_result"
    }
   ],
   "source": [
    "NE_duration_decoding(df)"
   ]
  },
  {
   "cell_type": "markdown",
   "metadata": {},
   "source": [
    "### <span style='color:green'> Distance Discrimination </span>"
   ]
  },
  {
   "cell_type": "code",
   "execution_count": 120,
   "metadata": {},
   "outputs": [],
   "source": [
    "def DD_duration_decoding(df):\n",
    "    DD_diagonal_corrs = np.array([df['r0_discrim_IES_125']['r1_discrim_IES_125'], df['r0_discrim_IES_250']['r1_discrim_IES_250'], df['r0_discrim_IES_1000']['r1_discrim_IES_1000']])\n",
    "    DD_off_diagonal_corrs = np.array([df['r0_discrim_IES_125']['r1_discrim_IES_250'], df['r0_discrim_IES_125']['r1_discrim_IES_1000'], df['r0_discrim_IES_250']['r1_discrim_IES_1000'],\n",
    "                                      df['r1_discrim_IES_125']['r0_discrim_IES_250'], df['r1_discrim_IES_125']['r0_discrim_IES_1000'], df['r1_discrim_IES_250']['r0_discrim_IES_1000']])\n",
    "\n",
    "    diff = np.mean(DD_diagonal_corrs) - np.mean(DD_off_diagonal_corrs)\n",
    "    \n",
    "    return diff\n"
   ]
  },
  {
   "cell_type": "code",
   "execution_count": 121,
   "metadata": {},
   "outputs": [
    {
     "data": {
      "text/plain": [
       "0.09149125082846388"
      ]
     },
     "execution_count": 121,
     "metadata": {},
     "output_type": "execute_result"
    }
   ],
   "source": [
    "DD_duration_decoding(df)"
   ]
  },
  {
   "cell_type": "markdown",
   "metadata": {},
   "source": [
    "## Decode task within viewing duration conditions"
   ]
  },
  {
   "cell_type": "code",
   "execution_count": 122,
   "metadata": {},
   "outputs": [],
   "source": [
    "def decode_task_within_duration(df):\n",
    "    within_task_diagonal_corrs = np.array([df['r0_VE_IES_125']['r1_VE_IES_125'], df['r0_VE_IES_250']['r1_VE_IES_250'], df['r0_VE_IES_1000']['r1_VE_IES_1000'], df['r0_discrim_IES_125']['r1_discrim_IES_125'], df['r0_discrim_IES_250']['r1_discrim_IES_250'], df['r0_discrim_IES_1000']['r1_discrim_IES_1000']])\n",
    "    between_task_diagonal_corrs = np.array([df['r0_VE_IES_125']['r1_discrim_IES_125'], df['r0_VE_IES_250']['r1_discrim_IES_250'], df['r0_VE_IES_1000']['r1_discrim_IES_1000']])\n",
    "\n",
    "    diff = np.mean(within_task_diagonal_corrs) - np.mean(between_task_diagonal_corrs)\n",
    "    \n",
    "    return diff\n"
   ]
  },
  {
   "cell_type": "code",
   "execution_count": 123,
   "metadata": {},
   "outputs": [
    {
     "data": {
      "text/plain": [
       "0.28729764877666136"
      ]
     },
     "execution_count": 123,
     "metadata": {},
     "output_type": "execute_result"
    }
   ],
   "source": [
    "decode_task_within_duration(df)"
   ]
  },
  {
   "cell_type": "markdown",
   "metadata": {},
   "source": [
    "## Decode task across viewing duration conditions\n"
   ]
  },
  {
   "cell_type": "code",
   "execution_count": 124,
   "metadata": {},
   "outputs": [],
   "source": [
    "def decode_task_across_duration(df):\n",
    "    within_task_off_diagonal_corrs = np.array([df['r0_VE_IES_125']['r1_VE_IES_250'], df['r0_VE_IES_125']['r1_VE_IES_1000'], df['r0_VE_IES_250']['r1_VE_IES_1000'], \n",
    "                                               df['r0_discrim_IES_125']['r1_discrim_IES_250'], df['r0_discrim_IES_125']['r1_discrim_IES_1000'], df['r0_discrim_IES_250']['r1_discrim_IES_1000'],\n",
    "                                               df['r1_VE_IES_125']['r0_VE_IES_250'], df['r1_VE_IES_125']['r0_VE_IES_1000'], df['r1_VE_IES_250']['r0_VE_IES_1000'],\n",
    "                                               df['r1_discrim_IES_125']['r0_discrim_IES_250'], df['r1_discrim_IES_125']['r0_discrim_IES_1000'], df['r1_discrim_IES_250']['r0_discrim_IES_1000']])\n",
    "    between_task_off_diagonal_corrs = np.array([df['r0_VE_IES_125']['r1_discrim_IES_250'], df['r0_VE_IES_125']['r1_discrim_IES_1000'], df['r0_VE_IES_250']['r1_discrim_IES_1000'],\n",
    "                                                df['r1_VE_IES_125']['r0_discrim_IES_250'], df['r1_VE_IES_125']['r0_discrim_IES_1000'], df['r1_VE_IES_250']['r0_discrim_IES_1000']])\n",
    "\n",
    "    diff = np.mean(within_task_off_diagonal_corrs) - np.mean(between_task_off_diagonal_corrs)\n",
    "    \n",
    "    return diff"
   ]
  },
  {
   "cell_type": "code",
   "execution_count": 125,
   "metadata": {},
   "outputs": [
    {
     "data": {
      "text/plain": [
       "0.1717911787404835"
      ]
     },
     "execution_count": 125,
     "metadata": {},
     "output_type": "execute_result"
    }
   ],
   "source": [
    "decode_task_across_duration(df)"
   ]
  },
  {
   "cell_type": "markdown",
   "metadata": {},
   "source": [
    "## <span style='color:lightblue'> Calculate differences for each matrix </span>"
   ]
  },
  {
   "cell_type": "code",
   "execution_count": 126,
   "metadata": {},
   "outputs": [],
   "source": [
    "folder_path = '/Users/pmahableshwarkar/Documents/Depth_Project/matrices/ies'\n",
    "\n",
    "# NE_duration_decoding\n",
    "diffs_0 = []\n",
    "# DD_duration_decoding\n",
    "diffs_1 = []\n",
    "# decode_task_within_duration\n",
    "diffs_2 = []\n",
    "# decode_task_across_duration\n",
    "diffs_3 = []\n",
    "\n",
    "for file in os.listdir(folder_path):\n",
    "    if '.pkl' in file:\n",
    "        corr_p = folder_path + '/' + file\n",
    "        df = pd.read_pickle(corr_p)\n",
    "        \n",
    "        diffs_0.append(NE_duration_decoding(df))\n",
    "        diffs_1.append(DD_duration_decoding(df))\n",
    "        diffs_2.append(decode_task_within_duration(df))\n",
    "        diffs_3.append(decode_task_across_duration(df))"
   ]
  },
  {
   "cell_type": "code",
   "execution_count": 128,
   "metadata": {},
   "outputs": [
    {
     "data": {
      "text/plain": [
       "10000"
      ]
     },
     "execution_count": 128,
     "metadata": {},
     "output_type": "execute_result"
    }
   ],
   "source": [
    "len(diffs_0)"
   ]
  },
  {
   "cell_type": "code",
   "execution_count": 228,
   "metadata": {},
   "outputs": [
    {
     "data": {
      "image/png": "[encoded data removed]",
      "text/plain": [
       "<Figure size 360x360 with 1 Axes>"
      ]
     },
     "metadata": {
      "needs_background": "light"
     },
     "output_type": "display_data"
    }
   ],
   "source": [
    "fig, ax = plt.subplots(figsize=[5,5])\n",
    "ax.spines['right'].set_visible(False)\n",
    "ax.spines['top'].set_visible(False)\n",
    "\n",
    "for axis in ['bottom','left']:\n",
    "    ax.spines[axis].set_linewidth(2.3)\n",
    "\n",
    "# plt.hist(diffs_0, bins=180, color='gray')\n",
    "\n",
    "plt.hist(diffs_0, bins=180, color='#8fd1f7')\n",
    "\n",
    "# plt.title('AVG(Numerical estimate diagonal correlations) - AVG(Numerical estimate off-diagonal correlations)')\n",
    "plt.xticks(np.arange(-.2,.3,.1),fontsize=18)\n",
    "plt.yticks(np.arange(0,250,50),fontsize=18)\n",
    "\n",
    "# Add a vertical line at x=0\n",
    "ax.axvline(x=0, color='red', linestyle='--', linewidth=2)\n",
    "\n",
    "\n",
    "\n",
    "plt.show();\n"
   ]
  },
  {
   "cell_type": "code",
   "execution_count": 229,
   "metadata": {},
   "outputs": [
    {
     "data": {
      "image/png": "[encoded data removed]",
      "text/plain": [
       "<Figure size 360x360 with 1 Axes>"
      ]
     },
     "metadata": {
      "needs_background": "light"
     },
     "output_type": "display_data"
    }
   ],
   "source": [
    "fig, ax = plt.subplots(figsize=[5,5])\n",
    "ax.spines['right'].set_visible(False)\n",
    "ax.spines['top'].set_visible(False)\n",
    "\n",
    "for axis in ['bottom','left']:\n",
    "    ax.spines[axis].set_linewidth(2.3)\n",
    "\n",
    "plt.hist(diffs_1, bins=180, color='#c1da98')\n",
    "# plt.title('AVG(Discrimination diagonal correlations) - AVG(Discrimination off-diagonal correlations)')\n",
    "\n",
    "plt.xticks(np.arange(-.05,.3,.05),fontsize=18)\n",
    "plt.yticks(np.arange(0,250,50),fontsize=18)\n",
    "\n",
    "# Add a vertical line at x=0\n",
    "ax.axvline(x=0, color='red', linestyle='--', linewidth=2)\n",
    "\n",
    "\n",
    "\n",
    "plt.show();\n",
    "\n"
   ]
  },
  {
   "cell_type": "code",
   "execution_count": 230,
   "metadata": {},
   "outputs": [
    {
     "data": {
      "image/png": "[encoded data removed]",
      "text/plain": [
       "<Figure size 360x360 with 1 Axes>"
      ]
     },
     "metadata": {
      "needs_background": "light"
     },
     "output_type": "display_data"
    }
   ],
   "source": [
    "fig, ax = plt.subplots(figsize=[5,5])\n",
    "ax.spines['right'].set_visible(False)\n",
    "ax.spines['top'].set_visible(False)\n",
    "\n",
    "for axis in ['bottom','left']:\n",
    "    ax.spines[axis].set_linewidth(2.3)\n",
    "\n",
    "# plt.hist(diffs_2)\n",
    "\n",
    "# plt.title('AVG(Within task diagonal correlations) - AVG(Between task diagonal correlations)')\n",
    "plt.hist(diffs_2, bins=180, color='gray')\n",
    "\n",
    "# plt.title('AVG(Numerical estimate diagonal correlations) - AVG(Numerical estimate off-diagonal correlations)')\n",
    "plt.xticks(np.arange(-.05,.5,.05),fontsize=18)\n",
    "plt.yticks(np.arange(0,250,50),fontsize=18)\n",
    "\n",
    "\n",
    "ax.axvline(x=0, color='red', linestyle='--', linewidth=2)\n",
    "\n",
    "\n",
    "plt.show();\n",
    "\n",
    "plt.show();"
   ]
  },
  {
   "cell_type": "code",
   "execution_count": 231,
   "metadata": {},
   "outputs": [
    {
     "data": {
      "image/png": "[encoded data removed]",
      "text/plain": [
       "<Figure size 360x360 with 1 Axes>"
      ]
     },
     "metadata": {
      "needs_background": "light"
     },
     "output_type": "display_data"
    }
   ],
   "source": [
    "fig, ax = plt.subplots(figsize=[5,5])\n",
    "ax.spines['right'].set_visible(False)\n",
    "ax.spines['top'].set_visible(False)\n",
    "\n",
    "for axis in ['bottom','left']:\n",
    "    ax.spines[axis].set_linewidth(2.3)\n",
    "\n",
    "# plt.hist(diffs_3)\n",
    "\n",
    "# plt.title('AVG(Within task off-diagonal correlations) - AVG(Between task off-diagonal correlations)')\n",
    "\n",
    "plt.hist(diffs_3, bins=180, color='gray')\n",
    "\n",
    "# plt.title('AVG(Numerical estimate diagonal correlations) - AVG(Numerical estimate off-diagonal correlations)')\n",
    "plt.xticks(np.arange(-.05,.4,.05),fontsize=18)\n",
    "plt.yticks(np.arange(0,250,50),fontsize=18)\n",
    "\n",
    "ax.axvline(x=0, color='red', linestyle='--', linewidth=2)\n",
    "\n",
    "\n",
    "\n",
    "plt.show();"
   ]
  },
  {
   "cell_type": "code",
   "execution_count": 93,
   "metadata": {},
   "outputs": [
    {
     "name": "stdout",
     "output_type": "stream",
     "text": [
      "AVG(Numerical estimate diagonal correlations) - AVG(Numerical estimate off-diagonal correlations)\n",
      "neg, pos\n",
      "5573 4427\n",
      "\n",
      "AVG(Discrimination diagonal correlations) - AVG(Discrimination off-diagonal correlations)\n",
      "neg, pos\n",
      "0 10000\n",
      "\n",
      "AVG(Within task diagonal correlations) - AVG(Between task diagonal correlations)\n",
      "neg, pos\n",
      "0 10000\n",
      "\n",
      "AVG(Within task off-diagonal correlations) - AVG(Between task off-diagonal correlations)\n",
      "neg, pos\n",
      "0 10000\n"
     ]
    }
   ],
   "source": [
    "neg_count_diff0 = len(list(filter(lambda x: (x < 0), diffs_0)))\n",
    "print('AVG(Numerical estimate diagonal correlations) - AVG(Numerical estimate off-diagonal correlations)')\n",
    "print('neg, pos')\n",
    "print(neg_count_diff0, len(diffs_0) - neg_count_diff0)\n",
    "\n",
    "print()\n",
    "neg_count_diff1 = len(list(filter(lambda x: (x < 0), diffs_1)))\n",
    "print('AVG(Discrimination diagonal correlations) - AVG(Discrimination off-diagonal correlations)')\n",
    "print('neg, pos')\n",
    "print(neg_count_diff1, len(diffs_1) - neg_count_diff1)\n",
    "\n",
    "print()\n",
    "neg_count_diff2 = len(list(filter(lambda x: (x < 0), diffs_2)))\n",
    "print('AVG(Within task diagonal correlations) - AVG(Between task diagonal correlations)')\n",
    "print('neg, pos')\n",
    "print(neg_count_diff2, len(diffs_2) - neg_count_diff2)\n",
    "\n",
    "\n",
    "print()\n",
    "neg_count_diff3 = len(list(filter(lambda x: (x < 0), diffs_3)))\n",
    "print('AVG(Within task off-diagonal correlations) - AVG(Between task off-diagonal correlations)')\n",
    "print('neg, pos')\n",
    "print(neg_count_diff3, len(diffs_3) - neg_count_diff3)"
   ]
  },
  {
   "cell_type": "code",
   "execution_count": null,
   "metadata": {},
   "outputs": [],
   "source": [
    "# proportion of significant iterations "
   ]
  }
 ],
 "metadata": {
  "kernelspec": {
   "display_name": "Python 3",
   "language": "python",
   "name": "python3"
  },
  "language_info": {
   "codemirror_mode": {
    "name": "ipython",
    "version": 3
   },
   "file_extension": ".py",
   "mimetype": "text/x-python",
   "name": "python",
   "nbconvert_exporter": "python",
   "pygments_lexer": "ipython3",
   "version": "3.7.6"
  }
 },
 "nbformat": 4,
 "nbformat_minor": 4
}
