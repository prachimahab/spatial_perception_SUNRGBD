{
 "cells": [
  {
   "cell_type": "markdown",
   "metadata": {},
   "source": [
    "# Bootstrapping: IES Mean-Centered Matrix Comparisons"
   ]
  },
  {
   "cell_type": "code",
   "execution_count": 58,
   "metadata": {},
   "outputs": [],
   "source": [
    "import numpy as np\n",
    "import pandas as pd\n",
    "from scipy.stats import stats\n",
    "from sklearn.linear_model import LinearRegression\n",
    "import random\n",
    "import matplotlib.pyplot as plt\n",
    "import seaborn as sns\n",
    "import scipy.stats\n",
    "from time import process_time\n",
    "import os"
   ]
  },
  {
   "cell_type": "code",
   "execution_count": 59,
   "metadata": {},
   "outputs": [
    {
     "data": {
      "text/html": [
       "<div>\n",
       "<style scoped>\n",
       "    .dataframe tbody tr th:only-of-type {\n",
       "        vertical-align: middle;\n",
       "    }\n",
       "\n",
       "    .dataframe tbody tr th {\n",
       "        vertical-align: top;\n",
       "    }\n",
       "\n",
       "    .dataframe thead th {\n",
       "        text-align: right;\n",
       "    }\n",
       "</style>\n",
       "<table border=\"1\" class=\"dataframe\">\n",
       "  <thead>\n",
       "    <tr style=\"text-align: right;\">\n",
       "      <th></th>\n",
       "      <th>r0_discrim_IES_125</th>\n",
       "      <th>r0_discrim_IES_250</th>\n",
       "      <th>r0_discrim_IES_1000</th>\n",
       "      <th>r1_discrim_IES_125</th>\n",
       "      <th>r1_discrim_IES_250</th>\n",
       "      <th>r1_discrim_IES_1000</th>\n",
       "      <th>r0_VE_IES_125</th>\n",
       "      <th>r0_VE_IES_250</th>\n",
       "      <th>r0_VE_IES_1000</th>\n",
       "      <th>r1_VE_IES_125</th>\n",
       "      <th>r1_VE_IES_250</th>\n",
       "      <th>r1_VE_IES_1000</th>\n",
       "    </tr>\n",
       "  </thead>\n",
       "  <tbody>\n",
       "    <tr>\n",
       "      <th>r0_discrim_IES_125</th>\n",
       "      <td>1.000000</td>\n",
       "      <td>0.733430</td>\n",
       "      <td>0.604706</td>\n",
       "      <td>0.808983</td>\n",
       "      <td>0.697907</td>\n",
       "      <td>0.601550</td>\n",
       "      <td>0.261074</td>\n",
       "      <td>0.333310</td>\n",
       "      <td>0.426755</td>\n",
       "      <td>0.229499</td>\n",
       "      <td>0.369321</td>\n",
       "      <td>0.212934</td>\n",
       "    </tr>\n",
       "    <tr>\n",
       "      <th>r0_discrim_IES_250</th>\n",
       "      <td>0.733430</td>\n",
       "      <td>1.000000</td>\n",
       "      <td>0.638303</td>\n",
       "      <td>0.713914</td>\n",
       "      <td>0.774566</td>\n",
       "      <td>0.629962</td>\n",
       "      <td>0.224563</td>\n",
       "      <td>0.334408</td>\n",
       "      <td>0.438387</td>\n",
       "      <td>0.126858</td>\n",
       "      <td>0.317753</td>\n",
       "      <td>0.337284</td>\n",
       "    </tr>\n",
       "    <tr>\n",
       "      <th>r0_discrim_IES_1000</th>\n",
       "      <td>0.604706</td>\n",
       "      <td>0.638303</td>\n",
       "      <td>1.000000</td>\n",
       "      <td>0.612746</td>\n",
       "      <td>0.564656</td>\n",
       "      <td>0.687355</td>\n",
       "      <td>0.508567</td>\n",
       "      <td>0.425644</td>\n",
       "      <td>0.508256</td>\n",
       "      <td>0.302664</td>\n",
       "      <td>0.464463</td>\n",
       "      <td>0.346854</td>\n",
       "    </tr>\n",
       "    <tr>\n",
       "      <th>r1_discrim_IES_125</th>\n",
       "      <td>0.808983</td>\n",
       "      <td>0.713914</td>\n",
       "      <td>0.612746</td>\n",
       "      <td>1.000000</td>\n",
       "      <td>0.729997</td>\n",
       "      <td>0.666429</td>\n",
       "      <td>0.278031</td>\n",
       "      <td>0.325664</td>\n",
       "      <td>0.392279</td>\n",
       "      <td>0.158396</td>\n",
       "      <td>0.412624</td>\n",
       "      <td>0.358391</td>\n",
       "    </tr>\n",
       "    <tr>\n",
       "      <th>r1_discrim_IES_250</th>\n",
       "      <td>0.697907</td>\n",
       "      <td>0.774566</td>\n",
       "      <td>0.564656</td>\n",
       "      <td>0.729997</td>\n",
       "      <td>1.000000</td>\n",
       "      <td>0.577768</td>\n",
       "      <td>0.133656</td>\n",
       "      <td>0.208349</td>\n",
       "      <td>0.319842</td>\n",
       "      <td>0.021287</td>\n",
       "      <td>0.319061</td>\n",
       "      <td>0.231347</td>\n",
       "    </tr>\n",
       "    <tr>\n",
       "      <th>r1_discrim_IES_1000</th>\n",
       "      <td>0.601550</td>\n",
       "      <td>0.629962</td>\n",
       "      <td>0.687355</td>\n",
       "      <td>0.666429</td>\n",
       "      <td>0.577768</td>\n",
       "      <td>1.000000</td>\n",
       "      <td>0.256763</td>\n",
       "      <td>0.357620</td>\n",
       "      <td>0.527410</td>\n",
       "      <td>0.270788</td>\n",
       "      <td>0.453667</td>\n",
       "      <td>0.407863</td>\n",
       "    </tr>\n",
       "    <tr>\n",
       "      <th>r0_VE_IES_125</th>\n",
       "      <td>0.261074</td>\n",
       "      <td>0.224563</td>\n",
       "      <td>0.508567</td>\n",
       "      <td>0.278031</td>\n",
       "      <td>0.133656</td>\n",
       "      <td>0.256763</td>\n",
       "      <td>1.000000</td>\n",
       "      <td>0.521791</td>\n",
       "      <td>0.459941</td>\n",
       "      <td>0.390510</td>\n",
       "      <td>0.415938</td>\n",
       "      <td>0.357122</td>\n",
       "    </tr>\n",
       "    <tr>\n",
       "      <th>r0_VE_IES_250</th>\n",
       "      <td>0.333310</td>\n",
       "      <td>0.334408</td>\n",
       "      <td>0.425644</td>\n",
       "      <td>0.325664</td>\n",
       "      <td>0.208349</td>\n",
       "      <td>0.357620</td>\n",
       "      <td>0.521791</td>\n",
       "      <td>1.000000</td>\n",
       "      <td>0.543416</td>\n",
       "      <td>0.498192</td>\n",
       "      <td>0.482275</td>\n",
       "      <td>0.453503</td>\n",
       "    </tr>\n",
       "    <tr>\n",
       "      <th>r0_VE_IES_1000</th>\n",
       "      <td>0.426755</td>\n",
       "      <td>0.438387</td>\n",
       "      <td>0.508256</td>\n",
       "      <td>0.392279</td>\n",
       "      <td>0.319842</td>\n",
       "      <td>0.527410</td>\n",
       "      <td>0.459941</td>\n",
       "      <td>0.543416</td>\n",
       "      <td>1.000000</td>\n",
       "      <td>0.354383</td>\n",
       "      <td>0.413386</td>\n",
       "      <td>0.320095</td>\n",
       "    </tr>\n",
       "    <tr>\n",
       "      <th>r1_VE_IES_125</th>\n",
       "      <td>0.229499</td>\n",
       "      <td>0.126858</td>\n",
       "      <td>0.302664</td>\n",
       "      <td>0.158396</td>\n",
       "      <td>0.021287</td>\n",
       "      <td>0.270788</td>\n",
       "      <td>0.390510</td>\n",
       "      <td>0.498192</td>\n",
       "      <td>0.354383</td>\n",
       "      <td>1.000000</td>\n",
       "      <td>0.533597</td>\n",
       "      <td>0.458590</td>\n",
       "    </tr>\n",
       "    <tr>\n",
       "      <th>r1_VE_IES_250</th>\n",
       "      <td>0.369321</td>\n",
       "      <td>0.317753</td>\n",
       "      <td>0.464463</td>\n",
       "      <td>0.412624</td>\n",
       "      <td>0.319061</td>\n",
       "      <td>0.453667</td>\n",
       "      <td>0.415938</td>\n",
       "      <td>0.482275</td>\n",
       "      <td>0.413386</td>\n",
       "      <td>0.533597</td>\n",
       "      <td>1.000000</td>\n",
       "      <td>0.378252</td>\n",
       "    </tr>\n",
       "    <tr>\n",
       "      <th>r1_VE_IES_1000</th>\n",
       "      <td>0.212934</td>\n",
       "      <td>0.337284</td>\n",
       "      <td>0.346854</td>\n",
       "      <td>0.358391</td>\n",
       "      <td>0.231347</td>\n",
       "      <td>0.407863</td>\n",
       "      <td>0.357122</td>\n",
       "      <td>0.453503</td>\n",
       "      <td>0.320095</td>\n",
       "      <td>0.458590</td>\n",
       "      <td>0.378252</td>\n",
       "      <td>1.000000</td>\n",
       "    </tr>\n",
       "  </tbody>\n",
       "</table>\n",
       "</div>"
      ],
      "text/plain": [
       "                     r0_discrim_IES_125  r0_discrim_IES_250  \\\n",
       "r0_discrim_IES_125             1.000000            0.733430   \n",
       "r0_discrim_IES_250             0.733430            1.000000   \n",
       "r0_discrim_IES_1000            0.604706            0.638303   \n",
       "r1_discrim_IES_125             0.808983            0.713914   \n",
       "r1_discrim_IES_250             0.697907            0.774566   \n",
       "r1_discrim_IES_1000            0.601550            0.629962   \n",
       "r0_VE_IES_125                  0.261074            0.224563   \n",
       "r0_VE_IES_250                  0.333310            0.334408   \n",
       "r0_VE_IES_1000                 0.426755            0.438387   \n",
       "r1_VE_IES_125                  0.229499            0.126858   \n",
       "r1_VE_IES_250                  0.369321            0.317753   \n",
       "r1_VE_IES_1000                 0.212934            0.337284   \n",
       "\n",
       "                     r0_discrim_IES_1000  r1_discrim_IES_125  \\\n",
       "r0_discrim_IES_125              0.604706            0.808983   \n",
       "r0_discrim_IES_250              0.638303            0.713914   \n",
       "r0_discrim_IES_1000             1.000000            0.612746   \n",
       "r1_discrim_IES_125              0.612746            1.000000   \n",
       "r1_discrim_IES_250              0.564656            0.729997   \n",
       "r1_discrim_IES_1000             0.687355            0.666429   \n",
       "r0_VE_IES_125                   0.508567            0.278031   \n",
       "r0_VE_IES_250                   0.425644            0.325664   \n",
       "r0_VE_IES_1000                  0.508256            0.392279   \n",
       "r1_VE_IES_125                   0.302664            0.158396   \n",
       "r1_VE_IES_250                   0.464463            0.412624   \n",
       "r1_VE_IES_1000                  0.346854            0.358391   \n",
       "\n",
       "                     r1_discrim_IES_250  r1_discrim_IES_1000  r0_VE_IES_125  \\\n",
       "r0_discrim_IES_125             0.697907             0.601550       0.261074   \n",
       "r0_discrim_IES_250             0.774566             0.629962       0.224563   \n",
       "r0_discrim_IES_1000            0.564656             0.687355       0.508567   \n",
       "r1_discrim_IES_125             0.729997             0.666429       0.278031   \n",
       "r1_discrim_IES_250             1.000000             0.577768       0.133656   \n",
       "r1_discrim_IES_1000            0.577768             1.000000       0.256763   \n",
       "r0_VE_IES_125                  0.133656             0.256763       1.000000   \n",
       "r0_VE_IES_250                  0.208349             0.357620       0.521791   \n",
       "r0_VE_IES_1000                 0.319842             0.527410       0.459941   \n",
       "r1_VE_IES_125                  0.021287             0.270788       0.390510   \n",
       "r1_VE_IES_250                  0.319061             0.453667       0.415938   \n",
       "r1_VE_IES_1000                 0.231347             0.407863       0.357122   \n",
       "\n",
       "                     r0_VE_IES_250  r0_VE_IES_1000  r1_VE_IES_125  \\\n",
       "r0_discrim_IES_125        0.333310        0.426755       0.229499   \n",
       "r0_discrim_IES_250        0.334408        0.438387       0.126858   \n",
       "r0_discrim_IES_1000       0.425644        0.508256       0.302664   \n",
       "r1_discrim_IES_125        0.325664        0.392279       0.158396   \n",
       "r1_discrim_IES_250        0.208349        0.319842       0.021287   \n",
       "r1_discrim_IES_1000       0.357620        0.527410       0.270788   \n",
       "r0_VE_IES_125             0.521791        0.459941       0.390510   \n",
       "r0_VE_IES_250             1.000000        0.543416       0.498192   \n",
       "r0_VE_IES_1000            0.543416        1.000000       0.354383   \n",
       "r1_VE_IES_125             0.498192        0.354383       1.000000   \n",
       "r1_VE_IES_250             0.482275        0.413386       0.533597   \n",
       "r1_VE_IES_1000            0.453503        0.320095       0.458590   \n",
       "\n",
       "                     r1_VE_IES_250  r1_VE_IES_1000  \n",
       "r0_discrim_IES_125        0.369321        0.212934  \n",
       "r0_discrim_IES_250        0.317753        0.337284  \n",
       "r0_discrim_IES_1000       0.464463        0.346854  \n",
       "r1_discrim_IES_125        0.412624        0.358391  \n",
       "r1_discrim_IES_250        0.319061        0.231347  \n",
       "r1_discrim_IES_1000       0.453667        0.407863  \n",
       "r0_VE_IES_125             0.415938        0.357122  \n",
       "r0_VE_IES_250             0.482275        0.453503  \n",
       "r0_VE_IES_1000            0.413386        0.320095  \n",
       "r1_VE_IES_125             0.533597        0.458590  \n",
       "r1_VE_IES_250             1.000000        0.378252  \n",
       "r1_VE_IES_1000            0.378252        1.000000  "
      ]
     },
     "execution_count": 59,
     "metadata": {},
     "output_type": "execute_result"
    }
   ],
   "source": [
    "tp = '/Users/pmahableshwarkar/Documents/Depth_Project/matrices/ies/ies-0.pkl'\n",
    "\n",
    "df = pd.read_pickle(tp)\n",
    "df"
   ]
  },
  {
   "cell_type": "markdown",
   "metadata": {},
   "source": [
    "## Decode viewing duration condition within task "
   ]
  },
  {
   "cell_type": "markdown",
   "metadata": {},
   "source": [
    "### <span style='color:green'> Numerical Estimate </span>"
   ]
  },
  {
   "cell_type": "code",
   "execution_count": 60,
   "metadata": {},
   "outputs": [],
   "source": [
    "def NE_duration_decoding(df):\n",
    "    NE_diagonal_corrs = np.array([df['r0_VE_IES_125']['r1_VE_IES_125'], df['r0_VE_IES_250']['r1_VE_IES_250'], df['r0_VE_IES_1000']['r1_VE_IES_1000']])\n",
    "    NE_off_diagonal_corrs = np.array([df['r0_VE_IES_125']['r1_VE_IES_250'], df['r0_VE_IES_125']['r1_VE_IES_1000'], df['r0_VE_IES_250']['r1_VE_IES_1000']])\n",
    "\n",
    "    diff = np.mean(NE_diagonal_corrs) - np.mean(NE_off_diagonal_corrs)\n",
    "    \n",
    "    return diff\n"
   ]
  },
  {
   "cell_type": "code",
   "execution_count": 61,
   "metadata": {},
   "outputs": [
    {
     "data": {
      "text/plain": [
       "-0.01122742191386561"
      ]
     },
     "execution_count": 61,
     "metadata": {},
     "output_type": "execute_result"
    }
   ],
   "source": [
    "NE_duration_decoding(df)"
   ]
  },
  {
   "cell_type": "markdown",
   "metadata": {},
   "source": [
    "### <span style='color:green'> Distance Discrimination </span>"
   ]
  },
  {
   "cell_type": "code",
   "execution_count": 62,
   "metadata": {},
   "outputs": [],
   "source": [
    "def DD_duration_decoding(df):\n",
    "    DD_diagonal_corrs = np.array([df['r0_discrim_IES_125']['r1_discrim_IES_125'], df['r0_discrim_IES_250']['r1_discrim_IES_250'], df['r0_discrim_IES_1000']['r1_discrim_IES_1000']])\n",
    "    DD_off_diagonal_corrs = np.array([df['r0_discrim_IES_125']['r1_discrim_IES_250'], df['r0_discrim_IES_125']['r1_discrim_IES_1000'], df['r0_discrim_IES_250']['r1_discrim_IES_1000']])\n",
    "\n",
    "    diff = np.mean(DD_diagonal_corrs) - np.mean(DD_off_diagonal_corrs)\n",
    "    \n",
    "    return diff\n"
   ]
  },
  {
   "cell_type": "code",
   "execution_count": 63,
   "metadata": {},
   "outputs": [
    {
     "data": {
      "text/plain": [
       "0.11382878519346795"
      ]
     },
     "execution_count": 63,
     "metadata": {},
     "output_type": "execute_result"
    }
   ],
   "source": [
    "DD_duration_decoding(df)"
   ]
  },
  {
   "cell_type": "markdown",
   "metadata": {},
   "source": [
    "## Decode task within viewing duration conditions"
   ]
  },
  {
   "cell_type": "code",
   "execution_count": 64,
   "metadata": {},
   "outputs": [],
   "source": [
    "def decode_task_within_duration(df):\n",
    "    within_task_diagonal_corrs = np.array([df['r0_VE_IES_125']['r1_VE_IES_125'], df['r0_VE_IES_250']['r1_VE_IES_250'], df['r0_VE_IES_1000']['r1_VE_IES_1000'], df['r0_discrim_IES_125']['r1_discrim_IES_125'], df['r0_discrim_IES_250']['r1_discrim_IES_250'], df['r0_discrim_IES_1000']['r1_discrim_IES_1000']])\n",
    "    between_task_diagonal_corrs = np.array([df['r0_VE_IES_125']['r1_discrim_IES_125'], df['r0_VE_IES_250']['r1_discrim_IES_250'], df['r0_VE_IES_1000']['r1_discrim_IES_1000']])\n",
    "\n",
    "    diff = np.mean(within_task_diagonal_corrs) - np.mean(between_task_diagonal_corrs)\n",
    "    \n",
    "    return diff\n"
   ]
  },
  {
   "cell_type": "code",
   "execution_count": 65,
   "metadata": {},
   "outputs": [
    {
     "data": {
      "text/plain": [
       "0.23936765871908766"
      ]
     },
     "execution_count": 65,
     "metadata": {},
     "output_type": "execute_result"
    }
   ],
   "source": [
    "decode_task_within_duration(df)"
   ]
  },
  {
   "cell_type": "markdown",
   "metadata": {},
   "source": [
    "## Decode task across viewing duration conditions"
   ]
  },
  {
   "cell_type": "code",
   "execution_count": 66,
   "metadata": {},
   "outputs": [],
   "source": [
    "def decode_task_across_duration(df):\n",
    "    within_task_off_diagonal_corrs = np.array([df['r0_VE_IES_125']['r1_VE_IES_250'], df['r0_VE_IES_125']['r1_VE_IES_1000'], df['r0_VE_IES_250']['r1_VE_IES_1000'], df['r0_discrim_IES_125']['r1_discrim_IES_250'], df['r0_discrim_IES_125']['r1_discrim_IES_1000'], df['r0_discrim_IES_250']['r1_discrim_IES_1000']])\n",
    "    between_task_off_diagonal_corrs = np.array([df['r0_VE_IES_125']['r1_discrim_IES_250'], df['r0_VE_IES_125']['r1_discrim_IES_1000'], df['r0_VE_IES_250']['r1_discrim_IES_1000']])\n",
    "\n",
    "    diff = np.mean(within_task_off_diagonal_corrs) - np.mean(between_task_off_diagonal_corrs)\n",
    "    \n",
    "    return diff"
   ]
  },
  {
   "cell_type": "code",
   "execution_count": 67,
   "metadata": {},
   "outputs": [
    {
     "data": {
      "text/plain": [
       "0.27665033858520893"
      ]
     },
     "execution_count": 67,
     "metadata": {},
     "output_type": "execute_result"
    }
   ],
   "source": [
    "decode_task_across_duration(df)"
   ]
  },
  {
   "cell_type": "markdown",
   "metadata": {},
   "source": [
    "## <span style='color:lightblue'> Calculate differences for each matrix </span>"
   ]
  },
  {
   "cell_type": "code",
   "execution_count": 70,
   "metadata": {},
   "outputs": [],
   "source": [
    "folder_path = '/Users/pmahableshwarkar/Documents/Depth_Project/matrices/ies'\n",
    "\n",
    "# NE_duration_decoding\n",
    "diffs_0 = []\n",
    "# DD_duration_decoding\n",
    "diffs_1 = []\n",
    "# decode_task_within_duration\n",
    "diffs_2 = []\n",
    "# decode_task_across_duration\n",
    "diffs_3 = []\n",
    "\n",
    "for file in os.listdir(folder_path):\n",
    "    if '.pkl' in file:\n",
    "        corr_p = folder_path + '/' + file\n",
    "        df = pd.read_pickle(corr_p)\n",
    "        \n",
    "        diffs_0.append(NE_duration_decoding(df))\n",
    "        diffs_1.append(DD_duration_decoding(df))\n",
    "        diffs_2.append(decode_task_within_duration(df))\n",
    "        diffs_3.append(decode_task_across_duration(df))"
   ]
  },
  {
   "cell_type": "code",
   "execution_count": 71,
   "metadata": {},
   "outputs": [
    {
     "name": "stdout",
     "output_type": "stream",
     "text": [
      "Diff0: neg, pos\n",
      "8 2\n",
      "\n",
      "Diff1: neg, pos\n",
      "0 10\n",
      "\n",
      "Diff2: neg, pos\n",
      "0 10\n",
      "\n",
      "Diff3: neg, pos\n",
      "0 10\n"
     ]
    }
   ],
   "source": [
    "neg_count_diff0 = len(list(filter(lambda x: (x < 0), diffs_0)))\n",
    "print('Diff0: neg, pos')\n",
    "print(neg_count_diff0, len(diffs_0) - neg_count_diff0)\n",
    "\n",
    "print()\n",
    "neg_count_diff1 = len(list(filter(lambda x: (x < 0), diffs_1)))\n",
    "print('Diff1: neg, pos')\n",
    "print(neg_count_diff1, len(diffs_1) - neg_count_diff1)\n",
    "\n",
    "print()\n",
    "neg_count_diff2 = len(list(filter(lambda x: (x < 0), diffs_2)))\n",
    "print('Diff2: neg, pos')\n",
    "print(neg_count_diff2, len(diffs_2) - neg_count_diff2)\n",
    "\n",
    "\n",
    "print()\n",
    "neg_count_diff3 = len(list(filter(lambda x: (x < 0), diffs_3)))\n",
    "print('Diff3: neg, pos')\n",
    "print(neg_count_diff3, len(diffs_3) - neg_count_diff3)"
   ]
  },
  {
   "cell_type": "code",
   "execution_count": null,
   "metadata": {},
   "outputs": [],
   "source": []
  }
 ],
 "metadata": {
  "kernelspec": {
   "display_name": "Python 3",
   "language": "python",
   "name": "python3"
  },
  "language_info": {
   "codemirror_mode": {
    "name": "ipython",
    "version": 3
   },
   "file_extension": ".py",
   "mimetype": "text/x-python",
   "name": "python",
   "nbconvert_exporter": "python",
   "pygments_lexer": "ipython3",
   "version": "3.7.6"
  }
 },
 "nbformat": 4,
 "nbformat_minor": 4
}
