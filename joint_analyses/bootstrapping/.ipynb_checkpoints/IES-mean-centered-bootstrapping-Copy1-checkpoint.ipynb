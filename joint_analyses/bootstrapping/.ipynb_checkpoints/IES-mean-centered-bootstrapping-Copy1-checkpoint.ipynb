{
 "cells": [
  {
   "cell_type": "markdown",
   "metadata": {},
   "source": [
    "# Bootstrapping: IES Mean-Centered Matrix Comparisons"
   ]
  },
  {
   "cell_type": "code",
   "execution_count": 43,
   "metadata": {},
   "outputs": [],
   "source": [
    "import numpy as np\n",
    "import pandas as pd\n",
    "from scipy.stats import stats\n",
    "from sklearn.linear_model import LinearRegression\n",
    "import random\n",
    "import matplotlib.pyplot as plt\n",
    "import seaborn as sns\n",
    "import scipy.stats\n",
    "from time import process_time\n",
    "import os"
   ]
  },
  {
   "cell_type": "code",
   "execution_count": 44,
   "metadata": {},
   "outputs": [
    {
     "data": {
      "text/html": [
       "<div>\n",
       "<style scoped>\n",
       "    .dataframe tbody tr th:only-of-type {\n",
       "        vertical-align: middle;\n",
       "    }\n",
       "\n",
       "    .dataframe tbody tr th {\n",
       "        vertical-align: top;\n",
       "    }\n",
       "\n",
       "    .dataframe thead th {\n",
       "        text-align: right;\n",
       "    }\n",
       "</style>\n",
       "<table border=\"1\" class=\"dataframe\">\n",
       "  <thead>\n",
       "    <tr style=\"text-align: right;\">\n",
       "      <th></th>\n",
       "      <th>r0_discrim_IES_125</th>\n",
       "      <th>r0_discrim_IES_250</th>\n",
       "      <th>r0_discrim_IES_1000</th>\n",
       "      <th>r1_discrim_IES_125</th>\n",
       "      <th>r1_discrim_IES_250</th>\n",
       "      <th>r1_discrim_IES_1000</th>\n",
       "      <th>r0_VE_IES_125</th>\n",
       "      <th>r0_VE_IES_250</th>\n",
       "      <th>r0_VE_IES_1000</th>\n",
       "      <th>r1_VE_IES_125</th>\n",
       "      <th>r1_VE_IES_250</th>\n",
       "      <th>r1_VE_IES_1000</th>\n",
       "    </tr>\n",
       "  </thead>\n",
       "  <tbody>\n",
       "    <tr>\n",
       "      <th>r0_discrim_IES_125</th>\n",
       "      <td>1.000000</td>\n",
       "      <td>0.725364</td>\n",
       "      <td>0.572613</td>\n",
       "      <td>0.817394</td>\n",
       "      <td>0.756304</td>\n",
       "      <td>0.654260</td>\n",
       "      <td>-0.255011</td>\n",
       "      <td>0.430739</td>\n",
       "      <td>-0.311841</td>\n",
       "      <td>-0.301121</td>\n",
       "      <td>-0.217121</td>\n",
       "      <td>-0.424571</td>\n",
       "    </tr>\n",
       "    <tr>\n",
       "      <th>r0_discrim_IES_250</th>\n",
       "      <td>0.725364</td>\n",
       "      <td>1.000000</td>\n",
       "      <td>0.465203</td>\n",
       "      <td>0.690515</td>\n",
       "      <td>0.787677</td>\n",
       "      <td>0.612570</td>\n",
       "      <td>-0.200674</td>\n",
       "      <td>0.395570</td>\n",
       "      <td>-0.283572</td>\n",
       "      <td>-0.131745</td>\n",
       "      <td>-0.106813</td>\n",
       "      <td>-0.368123</td>\n",
       "    </tr>\n",
       "    <tr>\n",
       "      <th>r0_discrim_IES_1000</th>\n",
       "      <td>0.572613</td>\n",
       "      <td>0.465203</td>\n",
       "      <td>1.000000</td>\n",
       "      <td>0.567649</td>\n",
       "      <td>0.549795</td>\n",
       "      <td>0.627170</td>\n",
       "      <td>-0.264481</td>\n",
       "      <td>0.418085</td>\n",
       "      <td>-0.244664</td>\n",
       "      <td>-0.410411</td>\n",
       "      <td>-0.464157</td>\n",
       "      <td>-0.545470</td>\n",
       "    </tr>\n",
       "    <tr>\n",
       "      <th>r1_discrim_IES_125</th>\n",
       "      <td>0.817394</td>\n",
       "      <td>0.690515</td>\n",
       "      <td>0.567649</td>\n",
       "      <td>1.000000</td>\n",
       "      <td>0.702745</td>\n",
       "      <td>0.635543</td>\n",
       "      <td>-0.260388</td>\n",
       "      <td>0.324225</td>\n",
       "      <td>-0.219330</td>\n",
       "      <td>-0.281445</td>\n",
       "      <td>-0.251916</td>\n",
       "      <td>-0.361374</td>\n",
       "    </tr>\n",
       "    <tr>\n",
       "      <th>r1_discrim_IES_250</th>\n",
       "      <td>0.756304</td>\n",
       "      <td>0.787677</td>\n",
       "      <td>0.549795</td>\n",
       "      <td>0.702745</td>\n",
       "      <td>1.000000</td>\n",
       "      <td>0.661583</td>\n",
       "      <td>-0.184838</td>\n",
       "      <td>0.464170</td>\n",
       "      <td>-0.323239</td>\n",
       "      <td>-0.198431</td>\n",
       "      <td>-0.140065</td>\n",
       "      <td>-0.400817</td>\n",
       "    </tr>\n",
       "    <tr>\n",
       "      <th>r1_discrim_IES_1000</th>\n",
       "      <td>0.654260</td>\n",
       "      <td>0.612570</td>\n",
       "      <td>0.627170</td>\n",
       "      <td>0.635543</td>\n",
       "      <td>0.661583</td>\n",
       "      <td>1.000000</td>\n",
       "      <td>-0.240009</td>\n",
       "      <td>0.490045</td>\n",
       "      <td>-0.316786</td>\n",
       "      <td>-0.133441</td>\n",
       "      <td>-0.280430</td>\n",
       "      <td>-0.665598</td>\n",
       "    </tr>\n",
       "    <tr>\n",
       "      <th>r0_VE_IES_125</th>\n",
       "      <td>-0.255011</td>\n",
       "      <td>-0.200674</td>\n",
       "      <td>-0.264481</td>\n",
       "      <td>-0.260388</td>\n",
       "      <td>-0.184838</td>\n",
       "      <td>-0.240009</td>\n",
       "      <td>1.000000</td>\n",
       "      <td>-0.396271</td>\n",
       "      <td>0.390249</td>\n",
       "      <td>0.265478</td>\n",
       "      <td>0.367575</td>\n",
       "      <td>0.435616</td>\n",
       "    </tr>\n",
       "    <tr>\n",
       "      <th>r0_VE_IES_250</th>\n",
       "      <td>0.430739</td>\n",
       "      <td>0.395570</td>\n",
       "      <td>0.418085</td>\n",
       "      <td>0.324225</td>\n",
       "      <td>0.464170</td>\n",
       "      <td>0.490045</td>\n",
       "      <td>-0.396271</td>\n",
       "      <td>1.000000</td>\n",
       "      <td>-0.524744</td>\n",
       "      <td>-0.299026</td>\n",
       "      <td>-0.430326</td>\n",
       "      <td>-0.572786</td>\n",
       "    </tr>\n",
       "    <tr>\n",
       "      <th>r0_VE_IES_1000</th>\n",
       "      <td>-0.311841</td>\n",
       "      <td>-0.283572</td>\n",
       "      <td>-0.244664</td>\n",
       "      <td>-0.219330</td>\n",
       "      <td>-0.323239</td>\n",
       "      <td>-0.316786</td>\n",
       "      <td>0.390249</td>\n",
       "      <td>-0.524744</td>\n",
       "      <td>1.000000</td>\n",
       "      <td>0.202606</td>\n",
       "      <td>0.420290</td>\n",
       "      <td>0.547608</td>\n",
       "    </tr>\n",
       "    <tr>\n",
       "      <th>r1_VE_IES_125</th>\n",
       "      <td>-0.301121</td>\n",
       "      <td>-0.131745</td>\n",
       "      <td>-0.410411</td>\n",
       "      <td>-0.281445</td>\n",
       "      <td>-0.198431</td>\n",
       "      <td>-0.133441</td>\n",
       "      <td>0.265478</td>\n",
       "      <td>-0.299026</td>\n",
       "      <td>0.202606</td>\n",
       "      <td>1.000000</td>\n",
       "      <td>0.459507</td>\n",
       "      <td>0.364713</td>\n",
       "    </tr>\n",
       "    <tr>\n",
       "      <th>r1_VE_IES_250</th>\n",
       "      <td>-0.217121</td>\n",
       "      <td>-0.106813</td>\n",
       "      <td>-0.464157</td>\n",
       "      <td>-0.251916</td>\n",
       "      <td>-0.140065</td>\n",
       "      <td>-0.280430</td>\n",
       "      <td>0.367575</td>\n",
       "      <td>-0.430326</td>\n",
       "      <td>0.420290</td>\n",
       "      <td>0.459507</td>\n",
       "      <td>1.000000</td>\n",
       "      <td>0.512953</td>\n",
       "    </tr>\n",
       "    <tr>\n",
       "      <th>r1_VE_IES_1000</th>\n",
       "      <td>-0.424571</td>\n",
       "      <td>-0.368123</td>\n",
       "      <td>-0.545470</td>\n",
       "      <td>-0.361374</td>\n",
       "      <td>-0.400817</td>\n",
       "      <td>-0.665598</td>\n",
       "      <td>0.435616</td>\n",
       "      <td>-0.572786</td>\n",
       "      <td>0.547608</td>\n",
       "      <td>0.364713</td>\n",
       "      <td>0.512953</td>\n",
       "      <td>1.000000</td>\n",
       "    </tr>\n",
       "  </tbody>\n",
       "</table>\n",
       "</div>"
      ],
      "text/plain": [
       "                     r0_discrim_IES_125  r0_discrim_IES_250  \\\n",
       "r0_discrim_IES_125             1.000000            0.725364   \n",
       "r0_discrim_IES_250             0.725364            1.000000   \n",
       "r0_discrim_IES_1000            0.572613            0.465203   \n",
       "r1_discrim_IES_125             0.817394            0.690515   \n",
       "r1_discrim_IES_250             0.756304            0.787677   \n",
       "r1_discrim_IES_1000            0.654260            0.612570   \n",
       "r0_VE_IES_125                 -0.255011           -0.200674   \n",
       "r0_VE_IES_250                  0.430739            0.395570   \n",
       "r0_VE_IES_1000                -0.311841           -0.283572   \n",
       "r1_VE_IES_125                 -0.301121           -0.131745   \n",
       "r1_VE_IES_250                 -0.217121           -0.106813   \n",
       "r1_VE_IES_1000                -0.424571           -0.368123   \n",
       "\n",
       "                     r0_discrim_IES_1000  r1_discrim_IES_125  \\\n",
       "r0_discrim_IES_125              0.572613            0.817394   \n",
       "r0_discrim_IES_250              0.465203            0.690515   \n",
       "r0_discrim_IES_1000             1.000000            0.567649   \n",
       "r1_discrim_IES_125              0.567649            1.000000   \n",
       "r1_discrim_IES_250              0.549795            0.702745   \n",
       "r1_discrim_IES_1000             0.627170            0.635543   \n",
       "r0_VE_IES_125                  -0.264481           -0.260388   \n",
       "r0_VE_IES_250                   0.418085            0.324225   \n",
       "r0_VE_IES_1000                 -0.244664           -0.219330   \n",
       "r1_VE_IES_125                  -0.410411           -0.281445   \n",
       "r1_VE_IES_250                  -0.464157           -0.251916   \n",
       "r1_VE_IES_1000                 -0.545470           -0.361374   \n",
       "\n",
       "                     r1_discrim_IES_250  r1_discrim_IES_1000  r0_VE_IES_125  \\\n",
       "r0_discrim_IES_125             0.756304             0.654260      -0.255011   \n",
       "r0_discrim_IES_250             0.787677             0.612570      -0.200674   \n",
       "r0_discrim_IES_1000            0.549795             0.627170      -0.264481   \n",
       "r1_discrim_IES_125             0.702745             0.635543      -0.260388   \n",
       "r1_discrim_IES_250             1.000000             0.661583      -0.184838   \n",
       "r1_discrim_IES_1000            0.661583             1.000000      -0.240009   \n",
       "r0_VE_IES_125                 -0.184838            -0.240009       1.000000   \n",
       "r0_VE_IES_250                  0.464170             0.490045      -0.396271   \n",
       "r0_VE_IES_1000                -0.323239            -0.316786       0.390249   \n",
       "r1_VE_IES_125                 -0.198431            -0.133441       0.265478   \n",
       "r1_VE_IES_250                 -0.140065            -0.280430       0.367575   \n",
       "r1_VE_IES_1000                -0.400817            -0.665598       0.435616   \n",
       "\n",
       "                     r0_VE_IES_250  r0_VE_IES_1000  r1_VE_IES_125  \\\n",
       "r0_discrim_IES_125        0.430739       -0.311841      -0.301121   \n",
       "r0_discrim_IES_250        0.395570       -0.283572      -0.131745   \n",
       "r0_discrim_IES_1000       0.418085       -0.244664      -0.410411   \n",
       "r1_discrim_IES_125        0.324225       -0.219330      -0.281445   \n",
       "r1_discrim_IES_250        0.464170       -0.323239      -0.198431   \n",
       "r1_discrim_IES_1000       0.490045       -0.316786      -0.133441   \n",
       "r0_VE_IES_125            -0.396271        0.390249       0.265478   \n",
       "r0_VE_IES_250             1.000000       -0.524744      -0.299026   \n",
       "r0_VE_IES_1000           -0.524744        1.000000       0.202606   \n",
       "r1_VE_IES_125            -0.299026        0.202606       1.000000   \n",
       "r1_VE_IES_250            -0.430326        0.420290       0.459507   \n",
       "r1_VE_IES_1000           -0.572786        0.547608       0.364713   \n",
       "\n",
       "                     r1_VE_IES_250  r1_VE_IES_1000  \n",
       "r0_discrim_IES_125       -0.217121       -0.424571  \n",
       "r0_discrim_IES_250       -0.106813       -0.368123  \n",
       "r0_discrim_IES_1000      -0.464157       -0.545470  \n",
       "r1_discrim_IES_125       -0.251916       -0.361374  \n",
       "r1_discrim_IES_250       -0.140065       -0.400817  \n",
       "r1_discrim_IES_1000      -0.280430       -0.665598  \n",
       "r0_VE_IES_125             0.367575        0.435616  \n",
       "r0_VE_IES_250            -0.430326       -0.572786  \n",
       "r0_VE_IES_1000            0.420290        0.547608  \n",
       "r1_VE_IES_125             0.459507        0.364713  \n",
       "r1_VE_IES_250             1.000000        0.512953  \n",
       "r1_VE_IES_1000            0.512953        1.000000  "
      ]
     },
     "execution_count": 44,
     "metadata": {},
     "output_type": "execute_result"
    }
   ],
   "source": [
    "tp = '/Users/pmahableshwarkar/Documents/Depth_Project/matrices/ies-mean-centered/ies-mc-0.pkl'\n",
    "\n",
    "df = pd.read_pickle(tp)\n",
    "df"
   ]
  },
  {
   "cell_type": "markdown",
   "metadata": {},
   "source": [
    "## Decode viewing duration condition within task "
   ]
  },
  {
   "cell_type": "markdown",
   "metadata": {},
   "source": [
    "### <span style='color:green'> Numerical Estimate </span>"
   ]
  },
  {
   "cell_type": "code",
   "execution_count": 33,
   "metadata": {},
   "outputs": [],
   "source": [
    "def NE_duration_decoding(df):\n",
    "    NE_diagonal_corrs = np.array([df['r0_VE_IES_125']['r1_VE_IES_125'], df['r0_VE_IES_250']['r1_VE_IES_250'], df['r0_VE_IES_1000']['r1_VE_IES_1000']])\n",
    "    NE_off_diagonal_corrs = np.array([df['r0_VE_IES_125']['r1_VE_IES_250'], df['r0_VE_IES_125']['r1_VE_IES_1000'], df['r0_VE_IES_250']['r1_VE_IES_1000']])\n",
    "\n",
    "    diff = np.mean(NE_diagonal_corrs) - np.mean(NE_off_diagonal_corrs)\n",
    "    \n",
    "    return diff\n"
   ]
  },
  {
   "cell_type": "code",
   "execution_count": 34,
   "metadata": {},
   "outputs": [
    {
     "data": {
      "text/plain": [
       "0.12017002291197379"
      ]
     },
     "execution_count": 34,
     "metadata": {},
     "output_type": "execute_result"
    }
   ],
   "source": [
    "NE_duration_decoding(df)"
   ]
  },
  {
   "cell_type": "markdown",
   "metadata": {},
   "source": [
    "### <span style='color:green'> Distance Discrimination </span>"
   ]
  },
  {
   "cell_type": "code",
   "execution_count": 35,
   "metadata": {},
   "outputs": [],
   "source": [
    "def DD_duration_decoding(df):\n",
    "    DD_diagonal_corrs = np.array([df['r0_discrim_IES_125']['r1_discrim_IES_125'], df['r0_discrim_IES_250']['r1_discrim_IES_250'], df['r0_discrim_IES_1000']['r1_discrim_IES_1000']])\n",
    "    DD_off_diagonal_corrs = np.array([df['r0_discrim_IES_125']['r1_discrim_IES_250'], df['r0_discrim_IES_125']['r1_discrim_IES_1000'], df['r0_discrim_IES_250']['r1_discrim_IES_1000']])\n",
    "\n",
    "    diff = np.mean(DD_diagonal_corrs) - np.mean(DD_off_diagonal_corrs)\n",
    "    \n",
    "    return diff\n"
   ]
  },
  {
   "cell_type": "code",
   "execution_count": 36,
   "metadata": {},
   "outputs": [
    {
     "data": {
      "text/plain": [
       "0.07359149264583242"
      ]
     },
     "execution_count": 36,
     "metadata": {},
     "output_type": "execute_result"
    }
   ],
   "source": [
    "DD_duration_decoding(df)"
   ]
  },
  {
   "cell_type": "markdown",
   "metadata": {},
   "source": [
    "## Decode task within viewing duration conditions"
   ]
  },
  {
   "cell_type": "code",
   "execution_count": 38,
   "metadata": {},
   "outputs": [],
   "source": [
    "def decode_task_within_duration(df):\n",
    "    within_task_diagonal_corrs = np.array([df['r0_VE_IES_125']['r1_VE_IES_125'], df['r0_VE_IES_250']['r1_VE_IES_250'], df['r0_VE_IES_1000']['r1_VE_IES_1000'], df['r0_discrim_IES_125']['r1_discrim_IES_125'], df['r0_discrim_IES_250']['r1_discrim_IES_250'], df['r0_discrim_IES_1000']['r1_discrim_IES_1000']])\n",
    "    between_task_diagonal_corrs = np.array([df['r0_VE_IES_125']['r1_discrim_IES_125'], df['r0_VE_IES_250']['r1_discrim_IES_250'], df['r0_VE_IES_1000']['r1_discrim_IES_1000']])\n",
    "\n",
    "    diff = np.mean(within_task_diagonal_corrs) - np.mean(between_task_diagonal_corrs)\n",
    "    \n",
    "    return diff\n"
   ]
  },
  {
   "cell_type": "code",
   "execution_count": 39,
   "metadata": {},
   "outputs": [
    {
     "data": {
      "text/plain": [
       "0.4334142503928396"
      ]
     },
     "execution_count": 39,
     "metadata": {},
     "output_type": "execute_result"
    }
   ],
   "source": [
    "decode_task_within_duration(df)"
   ]
  },
  {
   "cell_type": "markdown",
   "metadata": {},
   "source": [
    "## Decode task across viewing duration conditions"
   ]
  },
  {
   "cell_type": "code",
   "execution_count": 40,
   "metadata": {},
   "outputs": [],
   "source": [
    "def decode_task_across_duration(df):\n",
    "    within_task_off_diagonal_corrs = np.array([df['r0_VE_IES_125']['r1_VE_IES_250'], df['r0_VE_IES_125']['r1_VE_IES_1000'], df['r0_VE_IES_250']['r1_VE_IES_1000'], df['r0_discrim_IES_125']['r1_discrim_IES_250'], df['r0_discrim_IES_125']['r1_discrim_IES_1000'], df['r0_discrim_IES_250']['r1_discrim_IES_1000']])\n",
    "    between_task_off_diagonal_corrs = np.array([df['r0_VE_IES_125']['r1_discrim_IES_250'], df['r0_VE_IES_125']['r1_discrim_IES_1000'], df['r0_VE_IES_250']['r1_discrim_IES_1000']])\n",
    "\n",
    "    diff = np.mean(within_task_off_diagonal_corrs) - np.mean(between_task_off_diagonal_corrs)\n",
    "    \n",
    "    return diff"
   ]
  },
  {
   "cell_type": "code",
   "execution_count": 41,
   "metadata": {},
   "outputs": [
    {
     "data": {
      "text/plain": [
       "0.1814933994945752"
      ]
     },
     "execution_count": 41,
     "metadata": {},
     "output_type": "execute_result"
    }
   ],
   "source": [
    "decode_task_across_duration(df)"
   ]
  },
  {
   "cell_type": "markdown",
   "metadata": {},
   "source": [
    "## <span style='color:lightblue'> Calculate differences for each matrix </span>"
   ]
  },
  {
   "cell_type": "code",
   "execution_count": 49,
   "metadata": {},
   "outputs": [],
   "source": [
    "folder_path = '/Users/pmahableshwarkar/Documents/Depth_Project/matrices/ies-mean-centered'\n",
    "\n",
    "# NE_duration_decoding\n",
    "diffs_0 = []\n",
    "# DD_duration_decoding\n",
    "diffs_1 = []\n",
    "# decode_task_within_duration\n",
    "diffs_2 = []\n",
    "# decode_task_across_duration\n",
    "diffs_3 = []\n",
    "\n",
    "for file in os.listdir(folder_path):\n",
    "    if '.pkl' in file:\n",
    "        corr_p = folder_path + '/' + file\n",
    "        df = pd.read_pickle(corr_p)\n",
    "        \n",
    "        diffs_0.append(NE_duration_decoding(df))\n",
    "        diffs_1.append(DD_duration_decoding(df))\n",
    "        diffs_2.append(decode_task_within_duration(df))\n",
    "        diffs_3.append(decode_task_across_duration(df))"
   ]
  },
  {
   "cell_type": "code",
   "execution_count": 57,
   "metadata": {},
   "outputs": [
    {
     "name": "stdout",
     "output_type": "stream",
     "text": [
      "Diff0: neg, pos\n",
      "26 24\n",
      "\n",
      "Diff1: neg, pos\n",
      "0 50\n",
      "\n",
      "Diff2: neg, pos\n",
      "1 49\n",
      "\n",
      "Diff3: neg, pos\n",
      "2 48\n"
     ]
    }
   ],
   "source": [
    "neg_count_diff0 = len(list(filter(lambda x: (x < 0), diffs_0)))\n",
    "print('Diff0: neg, pos')\n",
    "print(neg_count_diff0, len(diffs_0) - neg_count_diff0)\n",
    "\n",
    "print()\n",
    "neg_count_diff1 = len(list(filter(lambda x: (x < 0), diffs_1)))\n",
    "print('Diff1: neg, pos')\n",
    "print(neg_count_diff1, len(diffs_1) - neg_count_diff1)\n",
    "\n",
    "print()\n",
    "neg_count_diff2 = len(list(filter(lambda x: (x < 0), diffs_2)))\n",
    "print('Diff2: neg, pos')\n",
    "print(neg_count_diff2, len(diffs_2) - neg_count_diff2)\n",
    "\n",
    "\n",
    "print()\n",
    "neg_count_diff3 = len(list(filter(lambda x: (x < 0), diffs_3)))\n",
    "print('Diff3: neg, pos')\n",
    "print(neg_count_diff3, len(diffs_3) - neg_count_diff3)"
   ]
  },
  {
   "cell_type": "code",
   "execution_count": null,
   "metadata": {},
   "outputs": [],
   "source": []
  }
 ],
 "metadata": {
  "kernelspec": {
   "display_name": "Python 3",
   "language": "python",
   "name": "python3"
  },
  "language_info": {
   "codemirror_mode": {
    "name": "ipython",
    "version": 3
   },
   "file_extension": ".py",
   "mimetype": "text/x-python",
   "name": "python",
   "nbconvert_exporter": "python",
   "pygments_lexer": "ipython3",
   "version": "3.7.6"
  }
 },
 "nbformat": 4,
 "nbformat_minor": 4
}
